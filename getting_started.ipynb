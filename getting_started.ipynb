{
 "cells": [
  {
   "cell_type": "markdown",
   "metadata": {},
   "source": [
    "# Task 1\n",
    "\n",
    "---\n",
    "\n",
    "## Web scraping and analysis\n",
    "\n",
    "This Jupyter notebook includes some code to get you started with web scraping. We will use a package called `BeautifulSoup` to collect the data from the web. Once you've collected your data and saved it into a local `.csv` file you should start with your analysis.\n",
    "\n",
    "### Scraping data from Skytrax\n",
    "\n",
    "If you visit [https://www.airlinequality.com] you can see that there is a lot of data there. For this task, we are only interested in reviews related to British Airways and the Airline itself.\n",
    "\n",
    "If you navigate to this link: [https://www.airlinequality.com/airline-reviews/british-airways] you will see this data. Now, we can use `Python` and `BeautifulSoup` to collect all the links to the reviews and then to collect the text data on each of the individual review links."
   ]
  },
  {
   "cell_type": "code",
   "execution_count": 3,
   "metadata": {},
   "outputs": [],
   "source": [
    "import requests\n",
    "from bs4 import BeautifulSoup\n",
    "import pandas as pd"
   ]
  },
  {
   "cell_type": "code",
   "execution_count": 4,
   "metadata": {},
   "outputs": [
    {
     "name": "stdout",
     "output_type": "stream",
     "text": [
      "Scraping page 1\n",
      "   ---> 100 total reviews\n",
      "Scraping page 2\n",
      "   ---> 200 total reviews\n",
      "Scraping page 3\n",
      "   ---> 300 total reviews\n",
      "Scraping page 4\n",
      "   ---> 400 total reviews\n",
      "Scraping page 5\n",
      "   ---> 500 total reviews\n",
      "Scraping page 6\n",
      "   ---> 600 total reviews\n",
      "Scraping page 7\n",
      "   ---> 700 total reviews\n",
      "Scraping page 8\n",
      "   ---> 800 total reviews\n",
      "Scraping page 9\n",
      "   ---> 900 total reviews\n",
      "Scraping page 10\n",
      "   ---> 1000 total reviews\n"
     ]
    }
   ],
   "source": [
    "base_url = \"https://www.airlinequality.com/airline-reviews/british-airways\"\n",
    "pages = 10\n",
    "page_size = 100\n",
    "\n",
    "reviews = []\n",
    "\n",
    "# for i in range(1, pages + 1):\n",
    "for i in range(1, pages + 1):\n",
    "\n",
    "    print(f\"Scraping page {i}\")\n",
    "\n",
    "    # Create URL to collect links from paginated data\n",
    "    url = f\"{base_url}/page/{i}/?sortby=post_date%3ADesc&pagesize={page_size}\"\n",
    "\n",
    "    # Collect HTML data from this page\n",
    "    response = requests.get(url)\n",
    "\n",
    "    # Parse content\n",
    "    content = response.content\n",
    "    parsed_content = BeautifulSoup(content, 'html.parser')\n",
    "    for para in parsed_content.find_all(\"div\", {\"class\": \"text_content\"}):\n",
    "        reviews.append(para.get_text())\n",
    "    \n",
    "    print(f\"   ---> {len(reviews)} total reviews\")"
   ]
  },
  {
   "cell_type": "code",
   "execution_count": 6,
   "metadata": {},
   "outputs": [
    {
     "data": {
      "text/html": [
       "<div>\n",
       "<style scoped>\n",
       "    .dataframe tbody tr th:only-of-type {\n",
       "        vertical-align: middle;\n",
       "    }\n",
       "\n",
       "    .dataframe tbody tr th {\n",
       "        vertical-align: top;\n",
       "    }\n",
       "\n",
       "    .dataframe thead th {\n",
       "        text-align: right;\n",
       "    }\n",
       "</style>\n",
       "<table border=\"1\" class=\"dataframe\">\n",
       "  <thead>\n",
       "    <tr style=\"text-align: right;\">\n",
       "      <th></th>\n",
       "      <th>reviews</th>\n",
       "    </tr>\n",
       "  </thead>\n",
       "  <tbody>\n",
       "    <tr>\n",
       "      <th>0</th>\n",
       "      <td>Not Verified | Overall journey wasn’t bad howe...</td>\n",
       "    </tr>\n",
       "    <tr>\n",
       "      <th>1</th>\n",
       "      <td>✅ Trip Verified |  Overall very satisfied. Gro...</td>\n",
       "    </tr>\n",
       "    <tr>\n",
       "      <th>2</th>\n",
       "      <td>✅ Trip Verified |  As always when I fly BA it ...</td>\n",
       "    </tr>\n",
       "    <tr>\n",
       "      <th>3</th>\n",
       "      <td>✅ Trip Verified |  First time using BA busines...</td>\n",
       "    </tr>\n",
       "    <tr>\n",
       "      <th>4</th>\n",
       "      <td>Not Verified |  Extremely rude ground service....</td>\n",
       "    </tr>\n",
       "  </tbody>\n",
       "</table>\n",
       "</div>"
      ],
      "text/plain": [
       "                                             reviews\n",
       "0  Not Verified | Overall journey wasn’t bad howe...\n",
       "1  ✅ Trip Verified |  Overall very satisfied. Gro...\n",
       "2  ✅ Trip Verified |  As always when I fly BA it ...\n",
       "3  ✅ Trip Verified |  First time using BA busines...\n",
       "4  Not Verified |  Extremely rude ground service...."
      ]
     },
     "execution_count": 6,
     "metadata": {},
     "output_type": "execute_result"
    }
   ],
   "source": [
    "df = pd.DataFrame()\n",
    "df[\"reviews\"] = reviews\n",
    "df.head()"
   ]
  },
  {
   "cell_type": "code",
   "execution_count": 7,
   "metadata": {},
   "outputs": [],
   "source": [
    "df.to_csv(\"BA_reviews.csv\")"
   ]
  },
  {
   "cell_type": "markdown",
   "metadata": {},
   "source": [
    "Congratulations! Now you have your dataset for this task! The loops above collected 1000 reviews by iterating through the paginated pages on the website. However, if you want to collect more data, try increasing the number of pages!\n",
    "\n",
    " The next thing that you should do is clean this data to remove any unnecessary text from each of the rows. For example, \"✅ Trip Verified\" can be removed from each row if it exists, as it's not relevant to what we want to investigate."
   ]
  },
  {
   "cell_type": "code",
   "execution_count": 8,
   "metadata": {},
   "outputs": [],
   "source": [
    "import re\n",
    "import nltk\n",
    "from nltk.tokenize import word_tokenize\n",
    "from nltk.corpus import stopwords\n",
    "from nltk.stem import WordNetLemmatizer\n",
    "from textblob import Word"
   ]
  },
  {
   "cell_type": "code",
   "execution_count": 10,
   "metadata": {},
   "outputs": [
    {
     "name": "stderr",
     "output_type": "stream",
     "text": [
      "[nltk_data] Downloading package stopwords to\n",
      "[nltk_data]     C:\\Users\\PAVILION\\AppData\\Roaming\\nltk_data...\n",
      "[nltk_data]   Package stopwords is already up-to-date!\n",
      "[nltk_data] Downloading package punkt to\n",
      "[nltk_data]     C:\\Users\\PAVILION\\AppData\\Roaming\\nltk_data...\n",
      "[nltk_data]   Package punkt is already up-to-date!\n",
      "[nltk_data] Downloading package wordnet to\n",
      "[nltk_data]     C:\\Users\\PAVILION\\AppData\\Roaming\\nltk_data...\n",
      "[nltk_data]   Package wordnet is already up-to-date!\n"
     ]
    }
   ],
   "source": [
    "# Download NLTK stop words data\n",
    "nltk.download('stopwords')\n",
    "nltk.download('punkt')\n",
    "nltk.download('wordnet')\n",
    "\n",
    "lemmatizer = WordNetLemmatizer()"
   ]
  },
  {
   "cell_type": "code",
   "execution_count": 11,
   "metadata": {},
   "outputs": [],
   "source": [
    "from tqdm import tqdm\n",
    "\n",
    "def handle_negations(tokens):\n",
    "    negation_words = set([\"not\", \"no\", \"never\", \"none\"])\n",
    "\n",
    "    negation_flag = False\n",
    "    negated_tokens = []\n",
    "\n",
    "    # Wrap tokens with tqdm to create a progress bar\n",
    "    for token in tqdm(tokens, desc=\"Handling Negations\", unit=\"token\"):\n",
    "        if token.lower() in negation_words:\n",
    "            negation_flag = True\n",
    "        elif negation_flag:\n",
    "            # If a word is within the scope of negation, reverse its sentiment\n",
    "            negated_tokens.append(\"not_\" + token)\n",
    "            negation_flag = False\n",
    "        else:\n",
    "            negated_tokens.append(token)\n",
    "\n",
    "    return negated_tokens\n"
   ]
  },
  {
   "cell_type": "code",
   "execution_count": 12,
   "metadata": {},
   "outputs": [],
   "source": [
    "from tqdm.notebook import tqdm  # Use tqdm.notebook for Jupyter Notebooks\n",
    "def clean_review(review):\n",
    "    # Remove \"✅ Trip Verified\" and any other unnecessary data\n",
    "    cleaned_review = re.sub(r'^\\d+\\s*[,.-]*\\s*', '', review)\n",
    "    cleaned_review = re.sub(r'✅ Trip Verified\\s*\\|\\s*', '', cleaned_review)\n",
    "    cleaned_review = re.sub(r'not verified\\s*\\|\\s*', '', cleaned_review)\n",
    "    \n",
    "    # Remove special characters, numbers, and non-alphabetic characters\n",
    "    cleaned_review = re.sub(r'[^a-zA-Z0-9\\s]', '', cleaned_review) \n",
    "\n",
    "    # Tokenize and lemmatize\n",
    "    stop_words = set(stopwords.words('english'))\n",
    "    word_tokens = word_tokenize(cleaned_review)\n",
    "    lemmatized_tokens = [lemmatizer.lemmatize(word) for word in word_tokens if word not in stop_words]\n",
    "\n",
    "    # Spell correction using TextBlob\n",
    "    corrected_tokens = [Word(word).correct() for word in lemmatized_tokens]\n",
    "\n",
    "    # Handle negations\n",
    "    negated_tokens = handle_negations(corrected_tokens)\n",
    "\n",
    "    # Join the negated tokens into a string\n",
    "    cleaned_review = ' '.join(negated_tokens)\n",
    "\n",
    "    # Convert text to lowercase\n",
    "    cleaned_review = cleaned_review.lower().strip()\n",
    "\n",
    "    return cleaned_review"
   ]
  },
  {
   "cell_type": "code",
   "execution_count": 13,
   "metadata": {},
   "outputs": [
    {
     "data": {
      "application/vnd.jupyter.widget-view+json": {
       "model_id": "e764024f7209486fa14cd5c8f8047a42",
       "version_major": 2,
       "version_minor": 0
      },
      "text/plain": [
       "Handling Negations:   0%|          | 0/42 [00:00<?, ?token/s]"
      ]
     },
     "metadata": {},
     "output_type": "display_data"
    },
    {
     "data": {
      "application/vnd.jupyter.widget-view+json": {
       "model_id": "e8008953aa84435ba858e33cbab030c1",
       "version_major": 2,
       "version_minor": 0
      },
      "text/plain": [
       "Handling Negations:   0%|          | 0/75 [00:00<?, ?token/s]"
      ]
     },
     "metadata": {},
     "output_type": "display_data"
    },
    {
     "data": {
      "application/vnd.jupyter.widget-view+json": {
       "model_id": "37b91d9111bc4e71847d6402c1dfe845",
       "version_major": 2,
       "version_minor": 0
      },
      "text/plain": [
       "Handling Negations:   0%|          | 0/92 [00:00<?, ?token/s]"
      ]
     },
     "metadata": {},
     "output_type": "display_data"
    },
    {
     "data": {
      "application/vnd.jupyter.widget-view+json": {
       "model_id": "24add59b851c4b2d8ac1fd99836b64bd",
       "version_major": 2,
       "version_minor": 0
      },
      "text/plain": [
       "Handling Negations:   0%|          | 0/82 [00:00<?, ?token/s]"
      ]
     },
     "metadata": {},
     "output_type": "display_data"
    },
    {
     "data": {
      "application/vnd.jupyter.widget-view+json": {
       "model_id": "bafff51f5bdb46c99d4a1de0d3e7c588",
       "version_major": 2,
       "version_minor": 0
      },
      "text/plain": [
       "Handling Negations:   0%|          | 0/86 [00:00<?, ?token/s]"
      ]
     },
     "metadata": {},
     "output_type": "display_data"
    },
    {
     "data": {
      "application/vnd.jupyter.widget-view+json": {
       "model_id": "0f5ccccbb94640a2ad2d1588bf8db678",
       "version_major": 2,
       "version_minor": 0
      },
      "text/plain": [
       "Handling Negations:   0%|          | 0/136 [00:00<?, ?token/s]"
      ]
     },
     "metadata": {},
     "output_type": "display_data"
    },
    {
     "data": {
      "application/vnd.jupyter.widget-view+json": {
       "model_id": "8fe6d290d5124fc7afe76e716423b217",
       "version_major": 2,
       "version_minor": 0
      },
      "text/plain": [
       "Handling Negations:   0%|          | 0/74 [00:00<?, ?token/s]"
      ]
     },
     "metadata": {},
     "output_type": "display_data"
    },
    {
     "data": {
      "application/vnd.jupyter.widget-view+json": {
       "model_id": "88ba38f4d02e482d88196cf67702a966",
       "version_major": 2,
       "version_minor": 0
      },
      "text/plain": [
       "Handling Negations:   0%|          | 0/76 [00:00<?, ?token/s]"
      ]
     },
     "metadata": {},
     "output_type": "display_data"
    },
    {
     "data": {
      "application/vnd.jupyter.widget-view+json": {
       "model_id": "c00fe994db0642818a4a116185f69468",
       "version_major": 2,
       "version_minor": 0
      },
      "text/plain": [
       "Handling Negations:   0%|          | 0/60 [00:00<?, ?token/s]"
      ]
     },
     "metadata": {},
     "output_type": "display_data"
    },
    {
     "data": {
      "application/vnd.jupyter.widget-view+json": {
       "model_id": "8e375f84ff404cffb227eb5428d87c45",
       "version_major": 2,
       "version_minor": 0
      },
      "text/plain": [
       "Handling Negations:   0%|          | 0/148 [00:00<?, ?token/s]"
      ]
     },
     "metadata": {},
     "output_type": "display_data"
    },
    {
     "data": {
      "application/vnd.jupyter.widget-view+json": {
       "model_id": "22a3dc84699647af8d9b6c4db7d4576a",
       "version_major": 2,
       "version_minor": 0
      },
      "text/plain": [
       "Handling Negations:   0%|          | 0/228 [00:00<?, ?token/s]"
      ]
     },
     "metadata": {},
     "output_type": "display_data"
    },
    {
     "data": {
      "application/vnd.jupyter.widget-view+json": {
       "model_id": "b1f632f9ae0d4cfc9567defa78b63ea0",
       "version_major": 2,
       "version_minor": 0
      },
      "text/plain": [
       "Handling Negations:   0%|          | 0/149 [00:00<?, ?token/s]"
      ]
     },
     "metadata": {},
     "output_type": "display_data"
    },
    {
     "data": {
      "application/vnd.jupyter.widget-view+json": {
       "model_id": "d783d8cd3c534764af232ae80ab78800",
       "version_major": 2,
       "version_minor": 0
      },
      "text/plain": [
       "Handling Negations:   0%|          | 0/61 [00:00<?, ?token/s]"
      ]
     },
     "metadata": {},
     "output_type": "display_data"
    },
    {
     "data": {
      "application/vnd.jupyter.widget-view+json": {
       "model_id": "a45cde56e08e4a979967ecb7768ece7c",
       "version_major": 2,
       "version_minor": 0
      },
      "text/plain": [
       "Handling Negations:   0%|          | 0/145 [00:00<?, ?token/s]"
      ]
     },
     "metadata": {},
     "output_type": "display_data"
    },
    {
     "data": {
      "application/vnd.jupyter.widget-view+json": {
       "model_id": "dd39646136c8487296acfe248708140e",
       "version_major": 2,
       "version_minor": 0
      },
      "text/plain": [
       "Handling Negations:   0%|          | 0/90 [00:00<?, ?token/s]"
      ]
     },
     "metadata": {},
     "output_type": "display_data"
    },
    {
     "data": {
      "application/vnd.jupyter.widget-view+json": {
       "model_id": "b631e13500a34c279670ebfa49b3850a",
       "version_major": 2,
       "version_minor": 0
      },
      "text/plain": [
       "Handling Negations:   0%|          | 0/232 [00:00<?, ?token/s]"
      ]
     },
     "metadata": {},
     "output_type": "display_data"
    },
    {
     "data": {
      "application/vnd.jupyter.widget-view+json": {
       "model_id": "550812825d494f2b9d65897a108ad4b0",
       "version_major": 2,
       "version_minor": 0
      },
      "text/plain": [
       "Handling Negations:   0%|          | 0/64 [00:00<?, ?token/s]"
      ]
     },
     "metadata": {},
     "output_type": "display_data"
    },
    {
     "data": {
      "application/vnd.jupyter.widget-view+json": {
       "model_id": "831d92ca282543f692dce2e4a1d91629",
       "version_major": 2,
       "version_minor": 0
      },
      "text/plain": [
       "Handling Negations:   0%|          | 0/152 [00:00<?, ?token/s]"
      ]
     },
     "metadata": {},
     "output_type": "display_data"
    },
    {
     "data": {
      "application/vnd.jupyter.widget-view+json": {
       "model_id": "84eb1aa420f24f6d8a7b4abf579d9045",
       "version_major": 2,
       "version_minor": 0
      },
      "text/plain": [
       "Handling Negations:   0%|          | 0/130 [00:00<?, ?token/s]"
      ]
     },
     "metadata": {},
     "output_type": "display_data"
    },
    {
     "data": {
      "application/vnd.jupyter.widget-view+json": {
       "model_id": "8834a8e8137d49488e48224e8770e301",
       "version_major": 2,
       "version_minor": 0
      },
      "text/plain": [
       "Handling Negations:   0%|          | 0/325 [00:00<?, ?token/s]"
      ]
     },
     "metadata": {},
     "output_type": "display_data"
    },
    {
     "data": {
      "application/vnd.jupyter.widget-view+json": {
       "model_id": "d409f3772b1e448f955cd63adf68e895",
       "version_major": 2,
       "version_minor": 0
      },
      "text/plain": [
       "Handling Negations:   0%|          | 0/88 [00:00<?, ?token/s]"
      ]
     },
     "metadata": {},
     "output_type": "display_data"
    },
    {
     "data": {
      "application/vnd.jupyter.widget-view+json": {
       "model_id": "089b77a493e44527b4378b3d138d71d3",
       "version_major": 2,
       "version_minor": 0
      },
      "text/plain": [
       "Handling Negations:   0%|          | 0/48 [00:00<?, ?token/s]"
      ]
     },
     "metadata": {},
     "output_type": "display_data"
    },
    {
     "data": {
      "application/vnd.jupyter.widget-view+json": {
       "model_id": "9b49aa6742044efd8a25f3810308ea0a",
       "version_major": 2,
       "version_minor": 0
      },
      "text/plain": [
       "Handling Negations:   0%|          | 0/46 [00:00<?, ?token/s]"
      ]
     },
     "metadata": {},
     "output_type": "display_data"
    },
    {
     "data": {
      "application/vnd.jupyter.widget-view+json": {
       "model_id": "cd0db5c25e824fa4b8e7f06529208ab7",
       "version_major": 2,
       "version_minor": 0
      },
      "text/plain": [
       "Handling Negations:   0%|          | 0/252 [00:00<?, ?token/s]"
      ]
     },
     "metadata": {},
     "output_type": "display_data"
    },
    {
     "data": {
      "application/vnd.jupyter.widget-view+json": {
       "model_id": "875e437adda7454eb6626fb67ce1230c",
       "version_major": 2,
       "version_minor": 0
      },
      "text/plain": [
       "Handling Negations:   0%|          | 0/36 [00:00<?, ?token/s]"
      ]
     },
     "metadata": {},
     "output_type": "display_data"
    },
    {
     "data": {
      "application/vnd.jupyter.widget-view+json": {
       "model_id": "6c689ef058ca43d9800cacae18cb5d18",
       "version_major": 2,
       "version_minor": 0
      },
      "text/plain": [
       "Handling Negations:   0%|          | 0/57 [00:00<?, ?token/s]"
      ]
     },
     "metadata": {},
     "output_type": "display_data"
    },
    {
     "data": {
      "application/vnd.jupyter.widget-view+json": {
       "model_id": "1b23607feb8549f294e481dbdf16ae79",
       "version_major": 2,
       "version_minor": 0
      },
      "text/plain": [
       "Handling Negations:   0%|          | 0/123 [00:00<?, ?token/s]"
      ]
     },
     "metadata": {},
     "output_type": "display_data"
    },
    {
     "data": {
      "application/vnd.jupyter.widget-view+json": {
       "model_id": "c049647f71054d37a1882d06778c76c0",
       "version_major": 2,
       "version_minor": 0
      },
      "text/plain": [
       "Handling Negations:   0%|          | 0/50 [00:00<?, ?token/s]"
      ]
     },
     "metadata": {},
     "output_type": "display_data"
    },
    {
     "data": {
      "application/vnd.jupyter.widget-view+json": {
       "model_id": "584dc6a44aec4c99b2f3a87748c26e5e",
       "version_major": 2,
       "version_minor": 0
      },
      "text/plain": [
       "Handling Negations:   0%|          | 0/44 [00:00<?, ?token/s]"
      ]
     },
     "metadata": {},
     "output_type": "display_data"
    },
    {
     "data": {
      "application/vnd.jupyter.widget-view+json": {
       "model_id": "47dd14bbc57c4adbb4ee8f948008665d",
       "version_major": 2,
       "version_minor": 0
      },
      "text/plain": [
       "Handling Negations:   0%|          | 0/63 [00:00<?, ?token/s]"
      ]
     },
     "metadata": {},
     "output_type": "display_data"
    },
    {
     "data": {
      "application/vnd.jupyter.widget-view+json": {
       "model_id": "67c090737cc842c0ad48d8a862228f44",
       "version_major": 2,
       "version_minor": 0
      },
      "text/plain": [
       "Handling Negations:   0%|          | 0/229 [00:00<?, ?token/s]"
      ]
     },
     "metadata": {},
     "output_type": "display_data"
    },
    {
     "data": {
      "application/vnd.jupyter.widget-view+json": {
       "model_id": "681d9cb177af40ff80f7da31aeb6d1d0",
       "version_major": 2,
       "version_minor": 0
      },
      "text/plain": [
       "Handling Negations:   0%|          | 0/67 [00:00<?, ?token/s]"
      ]
     },
     "metadata": {},
     "output_type": "display_data"
    },
    {
     "data": {
      "application/vnd.jupyter.widget-view+json": {
       "model_id": "7d6ee70ca9f54f56a26375d12a534460",
       "version_major": 2,
       "version_minor": 0
      },
      "text/plain": [
       "Handling Negations:   0%|          | 0/67 [00:00<?, ?token/s]"
      ]
     },
     "metadata": {},
     "output_type": "display_data"
    },
    {
     "data": {
      "application/vnd.jupyter.widget-view+json": {
       "model_id": "2f1d0dd410bd4a53b6168f4e3b5a2d1f",
       "version_major": 2,
       "version_minor": 0
      },
      "text/plain": [
       "Handling Negations:   0%|          | 0/123 [00:00<?, ?token/s]"
      ]
     },
     "metadata": {},
     "output_type": "display_data"
    },
    {
     "data": {
      "application/vnd.jupyter.widget-view+json": {
       "model_id": "cd472d2ddc91412e922e32ef5b5601a7",
       "version_major": 2,
       "version_minor": 0
      },
      "text/plain": [
       "Handling Negations:   0%|          | 0/34 [00:00<?, ?token/s]"
      ]
     },
     "metadata": {},
     "output_type": "display_data"
    },
    {
     "data": {
      "application/vnd.jupyter.widget-view+json": {
       "model_id": "bce5b643641d40398b35cb4dbdaaa246",
       "version_major": 2,
       "version_minor": 0
      },
      "text/plain": [
       "Handling Negations:   0%|          | 0/135 [00:00<?, ?token/s]"
      ]
     },
     "metadata": {},
     "output_type": "display_data"
    },
    {
     "data": {
      "application/vnd.jupyter.widget-view+json": {
       "model_id": "459556d362374193a6b9d4d946ae361b",
       "version_major": 2,
       "version_minor": 0
      },
      "text/plain": [
       "Handling Negations:   0%|          | 0/96 [00:00<?, ?token/s]"
      ]
     },
     "metadata": {},
     "output_type": "display_data"
    },
    {
     "data": {
      "application/vnd.jupyter.widget-view+json": {
       "model_id": "56c29b6b5c214755ad2dfb8a638ebb42",
       "version_major": 2,
       "version_minor": 0
      },
      "text/plain": [
       "Handling Negations:   0%|          | 0/107 [00:00<?, ?token/s]"
      ]
     },
     "metadata": {},
     "output_type": "display_data"
    },
    {
     "data": {
      "application/vnd.jupyter.widget-view+json": {
       "model_id": "c3dcb1f3e7ba4a089d9f502ac016c80f",
       "version_major": 2,
       "version_minor": 0
      },
      "text/plain": [
       "Handling Negations:   0%|          | 0/96 [00:00<?, ?token/s]"
      ]
     },
     "metadata": {},
     "output_type": "display_data"
    },
    {
     "data": {
      "application/vnd.jupyter.widget-view+json": {
       "model_id": "173e1c7f2a684861a28c1d12f7c12dbe",
       "version_major": 2,
       "version_minor": 0
      },
      "text/plain": [
       "Handling Negations:   0%|          | 0/43 [00:00<?, ?token/s]"
      ]
     },
     "metadata": {},
     "output_type": "display_data"
    },
    {
     "data": {
      "application/vnd.jupyter.widget-view+json": {
       "model_id": "7961e3d3584e4b7da0aebee866b16d76",
       "version_major": 2,
       "version_minor": 0
      },
      "text/plain": [
       "Handling Negations:   0%|          | 0/73 [00:00<?, ?token/s]"
      ]
     },
     "metadata": {},
     "output_type": "display_data"
    },
    {
     "data": {
      "application/vnd.jupyter.widget-view+json": {
       "model_id": "48bb2125ef634d4a9e0fcbdbda6d1493",
       "version_major": 2,
       "version_minor": 0
      },
      "text/plain": [
       "Handling Negations:   0%|          | 0/139 [00:00<?, ?token/s]"
      ]
     },
     "metadata": {},
     "output_type": "display_data"
    },
    {
     "data": {
      "application/vnd.jupyter.widget-view+json": {
       "model_id": "132c9cefa403496e9e85e9db1261449e",
       "version_major": 2,
       "version_minor": 0
      },
      "text/plain": [
       "Handling Negations:   0%|          | 0/29 [00:00<?, ?token/s]"
      ]
     },
     "metadata": {},
     "output_type": "display_data"
    },
    {
     "data": {
      "application/vnd.jupyter.widget-view+json": {
       "model_id": "5e6b0422a36b4ab4a8273f2c10734563",
       "version_major": 2,
       "version_minor": 0
      },
      "text/plain": [
       "Handling Negations:   0%|          | 0/147 [00:00<?, ?token/s]"
      ]
     },
     "metadata": {},
     "output_type": "display_data"
    },
    {
     "data": {
      "application/vnd.jupyter.widget-view+json": {
       "model_id": "e01283b89c904f9ba0c05d5f3664588e",
       "version_major": 2,
       "version_minor": 0
      },
      "text/plain": [
       "Handling Negations:   0%|          | 0/168 [00:00<?, ?token/s]"
      ]
     },
     "metadata": {},
     "output_type": "display_data"
    },
    {
     "data": {
      "application/vnd.jupyter.widget-view+json": {
       "model_id": "f3affc4fa959418f868cec0dc548e6bb",
       "version_major": 2,
       "version_minor": 0
      },
      "text/plain": [
       "Handling Negations:   0%|          | 0/25 [00:00<?, ?token/s]"
      ]
     },
     "metadata": {},
     "output_type": "display_data"
    },
    {
     "data": {
      "application/vnd.jupyter.widget-view+json": {
       "model_id": "b417eebe131849ec981908ed8dc844ac",
       "version_major": 2,
       "version_minor": 0
      },
      "text/plain": [
       "Handling Negations:   0%|          | 0/85 [00:00<?, ?token/s]"
      ]
     },
     "metadata": {},
     "output_type": "display_data"
    },
    {
     "data": {
      "application/vnd.jupyter.widget-view+json": {
       "model_id": "cc54219703904bbfb604afbf8d8bd268",
       "version_major": 2,
       "version_minor": 0
      },
      "text/plain": [
       "Handling Negations:   0%|          | 0/133 [00:00<?, ?token/s]"
      ]
     },
     "metadata": {},
     "output_type": "display_data"
    },
    {
     "data": {
      "application/vnd.jupyter.widget-view+json": {
       "model_id": "39838e43754345e88f0969c202117d96",
       "version_major": 2,
       "version_minor": 0
      },
      "text/plain": [
       "Handling Negations:   0%|          | 0/66 [00:00<?, ?token/s]"
      ]
     },
     "metadata": {},
     "output_type": "display_data"
    },
    {
     "data": {
      "application/vnd.jupyter.widget-view+json": {
       "model_id": "923f8be841c54d1bbda02c587d0f4634",
       "version_major": 2,
       "version_minor": 0
      },
      "text/plain": [
       "Handling Negations:   0%|          | 0/29 [00:00<?, ?token/s]"
      ]
     },
     "metadata": {},
     "output_type": "display_data"
    },
    {
     "data": {
      "application/vnd.jupyter.widget-view+json": {
       "model_id": "a2f6f17af4af46bcb23c88659b2b2296",
       "version_major": 2,
       "version_minor": 0
      },
      "text/plain": [
       "Handling Negations:   0%|          | 0/77 [00:00<?, ?token/s]"
      ]
     },
     "metadata": {},
     "output_type": "display_data"
    },
    {
     "data": {
      "application/vnd.jupyter.widget-view+json": {
       "model_id": "81099a91c68245959121e767b189a030",
       "version_major": 2,
       "version_minor": 0
      },
      "text/plain": [
       "Handling Negations:   0%|          | 0/68 [00:00<?, ?token/s]"
      ]
     },
     "metadata": {},
     "output_type": "display_data"
    },
    {
     "data": {
      "application/vnd.jupyter.widget-view+json": {
       "model_id": "48c7551e825a4b2782b426480f7bac93",
       "version_major": 2,
       "version_minor": 0
      },
      "text/plain": [
       "Handling Negations:   0%|          | 0/125 [00:00<?, ?token/s]"
      ]
     },
     "metadata": {},
     "output_type": "display_data"
    },
    {
     "data": {
      "application/vnd.jupyter.widget-view+json": {
       "model_id": "3691192559ed452bac5e8a4c2bb2fe7f",
       "version_major": 2,
       "version_minor": 0
      },
      "text/plain": [
       "Handling Negations:   0%|          | 0/77 [00:00<?, ?token/s]"
      ]
     },
     "metadata": {},
     "output_type": "display_data"
    },
    {
     "data": {
      "application/vnd.jupyter.widget-view+json": {
       "model_id": "f1fb6a255ff94131ad6f21f8d3d8a08e",
       "version_major": 2,
       "version_minor": 0
      },
      "text/plain": [
       "Handling Negations:   0%|          | 0/61 [00:00<?, ?token/s]"
      ]
     },
     "metadata": {},
     "output_type": "display_data"
    },
    {
     "data": {
      "application/vnd.jupyter.widget-view+json": {
       "model_id": "bb360c6cb16c4b9cbf91f05e095e75e2",
       "version_major": 2,
       "version_minor": 0
      },
      "text/plain": [
       "Handling Negations:   0%|          | 0/127 [00:00<?, ?token/s]"
      ]
     },
     "metadata": {},
     "output_type": "display_data"
    },
    {
     "data": {
      "application/vnd.jupyter.widget-view+json": {
       "model_id": "de6b31e974bc4d009306c9ab66fe0525",
       "version_major": 2,
       "version_minor": 0
      },
      "text/plain": [
       "Handling Negations:   0%|          | 0/138 [00:00<?, ?token/s]"
      ]
     },
     "metadata": {},
     "output_type": "display_data"
    },
    {
     "data": {
      "application/vnd.jupyter.widget-view+json": {
       "model_id": "cf65ba5e110f40a0b345c4345d658d20",
       "version_major": 2,
       "version_minor": 0
      },
      "text/plain": [
       "Handling Negations:   0%|          | 0/179 [00:00<?, ?token/s]"
      ]
     },
     "metadata": {},
     "output_type": "display_data"
    },
    {
     "data": {
      "application/vnd.jupyter.widget-view+json": {
       "model_id": "f074673a6ac44a1db78ee5411813b91b",
       "version_major": 2,
       "version_minor": 0
      },
      "text/plain": [
       "Handling Negations:   0%|          | 0/89 [00:00<?, ?token/s]"
      ]
     },
     "metadata": {},
     "output_type": "display_data"
    },
    {
     "data": {
      "application/vnd.jupyter.widget-view+json": {
       "model_id": "6dfce20af377435288a914f021e31235",
       "version_major": 2,
       "version_minor": 0
      },
      "text/plain": [
       "Handling Negations:   0%|          | 0/92 [00:00<?, ?token/s]"
      ]
     },
     "metadata": {},
     "output_type": "display_data"
    },
    {
     "data": {
      "application/vnd.jupyter.widget-view+json": {
       "model_id": "2662fe2ae67a44d08c22ea2724047a72",
       "version_major": 2,
       "version_minor": 0
      },
      "text/plain": [
       "Handling Negations:   0%|          | 0/119 [00:00<?, ?token/s]"
      ]
     },
     "metadata": {},
     "output_type": "display_data"
    },
    {
     "data": {
      "application/vnd.jupyter.widget-view+json": {
       "model_id": "b89fe48ced424051a123c3f15da0219a",
       "version_major": 2,
       "version_minor": 0
      },
      "text/plain": [
       "Handling Negations:   0%|          | 0/76 [00:00<?, ?token/s]"
      ]
     },
     "metadata": {},
     "output_type": "display_data"
    },
    {
     "data": {
      "application/vnd.jupyter.widget-view+json": {
       "model_id": "7281fde614f94617a52f854052decb0e",
       "version_major": 2,
       "version_minor": 0
      },
      "text/plain": [
       "Handling Negations:   0%|          | 0/47 [00:00<?, ?token/s]"
      ]
     },
     "metadata": {},
     "output_type": "display_data"
    },
    {
     "data": {
      "application/vnd.jupyter.widget-view+json": {
       "model_id": "3709ccefb6174cfcbb4648c35ea84378",
       "version_major": 2,
       "version_minor": 0
      },
      "text/plain": [
       "Handling Negations:   0%|          | 0/28 [00:00<?, ?token/s]"
      ]
     },
     "metadata": {},
     "output_type": "display_data"
    },
    {
     "data": {
      "application/vnd.jupyter.widget-view+json": {
       "model_id": "beb0fed86e8e46f385d3678ec287a4d5",
       "version_major": 2,
       "version_minor": 0
      },
      "text/plain": [
       "Handling Negations:   0%|          | 0/40 [00:00<?, ?token/s]"
      ]
     },
     "metadata": {},
     "output_type": "display_data"
    },
    {
     "data": {
      "application/vnd.jupyter.widget-view+json": {
       "model_id": "4658a13b7a74493585a54762b142392e",
       "version_major": 2,
       "version_minor": 0
      },
      "text/plain": [
       "Handling Negations:   0%|          | 0/88 [00:00<?, ?token/s]"
      ]
     },
     "metadata": {},
     "output_type": "display_data"
    },
    {
     "data": {
      "application/vnd.jupyter.widget-view+json": {
       "model_id": "b81c040044e54fccb1a6f0a7fa6f2bdc",
       "version_major": 2,
       "version_minor": 0
      },
      "text/plain": [
       "Handling Negations:   0%|          | 0/263 [00:00<?, ?token/s]"
      ]
     },
     "metadata": {},
     "output_type": "display_data"
    },
    {
     "data": {
      "application/vnd.jupyter.widget-view+json": {
       "model_id": "22fa81fd92ce4e2cbd7f62696df628ba",
       "version_major": 2,
       "version_minor": 0
      },
      "text/plain": [
       "Handling Negations:   0%|          | 0/69 [00:00<?, ?token/s]"
      ]
     },
     "metadata": {},
     "output_type": "display_data"
    },
    {
     "data": {
      "application/vnd.jupyter.widget-view+json": {
       "model_id": "93d1bdfedc684d0abcc8adf1e12bd230",
       "version_major": 2,
       "version_minor": 0
      },
      "text/plain": [
       "Handling Negations:   0%|          | 0/124 [00:00<?, ?token/s]"
      ]
     },
     "metadata": {},
     "output_type": "display_data"
    },
    {
     "data": {
      "application/vnd.jupyter.widget-view+json": {
       "model_id": "a9d19d5a9bd744f1af73adfe30ad09f6",
       "version_major": 2,
       "version_minor": 0
      },
      "text/plain": [
       "Handling Negations:   0%|          | 0/54 [00:00<?, ?token/s]"
      ]
     },
     "metadata": {},
     "output_type": "display_data"
    },
    {
     "data": {
      "application/vnd.jupyter.widget-view+json": {
       "model_id": "41520fdd9c7148dbbbe10d7fd1d1705e",
       "version_major": 2,
       "version_minor": 0
      },
      "text/plain": [
       "Handling Negations:   0%|          | 0/97 [00:00<?, ?token/s]"
      ]
     },
     "metadata": {},
     "output_type": "display_data"
    },
    {
     "data": {
      "application/vnd.jupyter.widget-view+json": {
       "model_id": "ba88756248934ad1a9546018363c3751",
       "version_major": 2,
       "version_minor": 0
      },
      "text/plain": [
       "Handling Negations:   0%|          | 0/78 [00:00<?, ?token/s]"
      ]
     },
     "metadata": {},
     "output_type": "display_data"
    },
    {
     "data": {
      "application/vnd.jupyter.widget-view+json": {
       "model_id": "cf3ae749bd9e4dc2b9629c19331eac1c",
       "version_major": 2,
       "version_minor": 0
      },
      "text/plain": [
       "Handling Negations:   0%|          | 0/118 [00:00<?, ?token/s]"
      ]
     },
     "metadata": {},
     "output_type": "display_data"
    },
    {
     "data": {
      "application/vnd.jupyter.widget-view+json": {
       "model_id": "39c23419fdea4325bbb82d21285e7e67",
       "version_major": 2,
       "version_minor": 0
      },
      "text/plain": [
       "Handling Negations:   0%|          | 0/34 [00:00<?, ?token/s]"
      ]
     },
     "metadata": {},
     "output_type": "display_data"
    },
    {
     "data": {
      "application/vnd.jupyter.widget-view+json": {
       "model_id": "ea220767d5904664982b768eb75b0bab",
       "version_major": 2,
       "version_minor": 0
      },
      "text/plain": [
       "Handling Negations:   0%|          | 0/132 [00:00<?, ?token/s]"
      ]
     },
     "metadata": {},
     "output_type": "display_data"
    },
    {
     "data": {
      "application/vnd.jupyter.widget-view+json": {
       "model_id": "cf5698c5a1924e49b36c0d1335548ecf",
       "version_major": 2,
       "version_minor": 0
      },
      "text/plain": [
       "Handling Negations:   0%|          | 0/93 [00:00<?, ?token/s]"
      ]
     },
     "metadata": {},
     "output_type": "display_data"
    },
    {
     "data": {
      "application/vnd.jupyter.widget-view+json": {
       "model_id": "6159695780ab49d291a4f40027d24119",
       "version_major": 2,
       "version_minor": 0
      },
      "text/plain": [
       "Handling Negations:   0%|          | 0/153 [00:00<?, ?token/s]"
      ]
     },
     "metadata": {},
     "output_type": "display_data"
    },
    {
     "data": {
      "application/vnd.jupyter.widget-view+json": {
       "model_id": "ea8f739d768c45eebe5c2b8c3821427b",
       "version_major": 2,
       "version_minor": 0
      },
      "text/plain": [
       "Handling Negations:   0%|          | 0/164 [00:00<?, ?token/s]"
      ]
     },
     "metadata": {},
     "output_type": "display_data"
    },
    {
     "data": {
      "application/vnd.jupyter.widget-view+json": {
       "model_id": "59580b2ab3d347289075e2625c85e4a1",
       "version_major": 2,
       "version_minor": 0
      },
      "text/plain": [
       "Handling Negations:   0%|          | 0/75 [00:00<?, ?token/s]"
      ]
     },
     "metadata": {},
     "output_type": "display_data"
    },
    {
     "data": {
      "application/vnd.jupyter.widget-view+json": {
       "model_id": "feb4bb273e8f4bd0a940ad48cfd3fb36",
       "version_major": 2,
       "version_minor": 0
      },
      "text/plain": [
       "Handling Negations:   0%|          | 0/192 [00:00<?, ?token/s]"
      ]
     },
     "metadata": {},
     "output_type": "display_data"
    },
    {
     "data": {
      "application/vnd.jupyter.widget-view+json": {
       "model_id": "d3b1be65b6b047edb522b79d43842d1e",
       "version_major": 2,
       "version_minor": 0
      },
      "text/plain": [
       "Handling Negations:   0%|          | 0/85 [00:00<?, ?token/s]"
      ]
     },
     "metadata": {},
     "output_type": "display_data"
    },
    {
     "data": {
      "application/vnd.jupyter.widget-view+json": {
       "model_id": "fbb6b73e2c6840b39e353dc9b7ac70a1",
       "version_major": 2,
       "version_minor": 0
      },
      "text/plain": [
       "Handling Negations:   0%|          | 0/33 [00:00<?, ?token/s]"
      ]
     },
     "metadata": {},
     "output_type": "display_data"
    },
    {
     "data": {
      "application/vnd.jupyter.widget-view+json": {
       "model_id": "65c4698618184c89b533218ca0960188",
       "version_major": 2,
       "version_minor": 0
      },
      "text/plain": [
       "Handling Negations:   0%|          | 0/68 [00:00<?, ?token/s]"
      ]
     },
     "metadata": {},
     "output_type": "display_data"
    },
    {
     "data": {
      "application/vnd.jupyter.widget-view+json": {
       "model_id": "37476914c6164ab48ec7c9f5c4d0e73f",
       "version_major": 2,
       "version_minor": 0
      },
      "text/plain": [
       "Handling Negations:   0%|          | 0/23 [00:00<?, ?token/s]"
      ]
     },
     "metadata": {},
     "output_type": "display_data"
    },
    {
     "data": {
      "application/vnd.jupyter.widget-view+json": {
       "model_id": "f0bd078d97994f978098fade5dba74d0",
       "version_major": 2,
       "version_minor": 0
      },
      "text/plain": [
       "Handling Negations:   0%|          | 0/150 [00:00<?, ?token/s]"
      ]
     },
     "metadata": {},
     "output_type": "display_data"
    },
    {
     "data": {
      "application/vnd.jupyter.widget-view+json": {
       "model_id": "a5c28d273ccb4a30922c69ee5887525f",
       "version_major": 2,
       "version_minor": 0
      },
      "text/plain": [
       "Handling Negations:   0%|          | 0/203 [00:00<?, ?token/s]"
      ]
     },
     "metadata": {},
     "output_type": "display_data"
    },
    {
     "data": {
      "application/vnd.jupyter.widget-view+json": {
       "model_id": "bb67eb09ae9f411db133a271dbec5963",
       "version_major": 2,
       "version_minor": 0
      },
      "text/plain": [
       "Handling Negations:   0%|          | 0/61 [00:00<?, ?token/s]"
      ]
     },
     "metadata": {},
     "output_type": "display_data"
    },
    {
     "data": {
      "application/vnd.jupyter.widget-view+json": {
       "model_id": "93e513dba14647739bea5e28d3dbb1e2",
       "version_major": 2,
       "version_minor": 0
      },
      "text/plain": [
       "Handling Negations:   0%|          | 0/31 [00:00<?, ?token/s]"
      ]
     },
     "metadata": {},
     "output_type": "display_data"
    },
    {
     "data": {
      "application/vnd.jupyter.widget-view+json": {
       "model_id": "b6529c12bbc1446687d87035a6200602",
       "version_major": 2,
       "version_minor": 0
      },
      "text/plain": [
       "Handling Negations:   0%|          | 0/19 [00:00<?, ?token/s]"
      ]
     },
     "metadata": {},
     "output_type": "display_data"
    },
    {
     "data": {
      "application/vnd.jupyter.widget-view+json": {
       "model_id": "826f025bda73497595504334c53b5739",
       "version_major": 2,
       "version_minor": 0
      },
      "text/plain": [
       "Handling Negations:   0%|          | 0/19 [00:00<?, ?token/s]"
      ]
     },
     "metadata": {},
     "output_type": "display_data"
    },
    {
     "data": {
      "application/vnd.jupyter.widget-view+json": {
       "model_id": "5ad9c430c23348eab84c1d76a57cfaf1",
       "version_major": 2,
       "version_minor": 0
      },
      "text/plain": [
       "Handling Negations:   0%|          | 0/236 [00:00<?, ?token/s]"
      ]
     },
     "metadata": {},
     "output_type": "display_data"
    },
    {
     "data": {
      "application/vnd.jupyter.widget-view+json": {
       "model_id": "7bf7dd63f2934deb83f2d7dbb716f85c",
       "version_major": 2,
       "version_minor": 0
      },
      "text/plain": [
       "Handling Negations:   0%|          | 0/60 [00:00<?, ?token/s]"
      ]
     },
     "metadata": {},
     "output_type": "display_data"
    },
    {
     "data": {
      "application/vnd.jupyter.widget-view+json": {
       "model_id": "919bc557f15742c094c235a0b4d8c3dd",
       "version_major": 2,
       "version_minor": 0
      },
      "text/plain": [
       "Handling Negations:   0%|          | 0/111 [00:00<?, ?token/s]"
      ]
     },
     "metadata": {},
     "output_type": "display_data"
    },
    {
     "data": {
      "application/vnd.jupyter.widget-view+json": {
       "model_id": "d0e0f237ad704a1eb225b8f201073332",
       "version_major": 2,
       "version_minor": 0
      },
      "text/plain": [
       "Handling Negations:   0%|          | 0/66 [00:00<?, ?token/s]"
      ]
     },
     "metadata": {},
     "output_type": "display_data"
    },
    {
     "data": {
      "application/vnd.jupyter.widget-view+json": {
       "model_id": "53136122379e4a24991b051590ea9081",
       "version_major": 2,
       "version_minor": 0
      },
      "text/plain": [
       "Handling Negations:   0%|          | 0/106 [00:00<?, ?token/s]"
      ]
     },
     "metadata": {},
     "output_type": "display_data"
    },
    {
     "data": {
      "application/vnd.jupyter.widget-view+json": {
       "model_id": "7bf26ab7099948809e34dcabd239962d",
       "version_major": 2,
       "version_minor": 0
      },
      "text/plain": [
       "Handling Negations:   0%|          | 0/94 [00:00<?, ?token/s]"
      ]
     },
     "metadata": {},
     "output_type": "display_data"
    },
    {
     "data": {
      "application/vnd.jupyter.widget-view+json": {
       "model_id": "88c519256f824abd92f853cc98e8cc6a",
       "version_major": 2,
       "version_minor": 0
      },
      "text/plain": [
       "Handling Negations:   0%|          | 0/143 [00:00<?, ?token/s]"
      ]
     },
     "metadata": {},
     "output_type": "display_data"
    },
    {
     "data": {
      "application/vnd.jupyter.widget-view+json": {
       "model_id": "831383a5990c467fb29ff25383bf79af",
       "version_major": 2,
       "version_minor": 0
      },
      "text/plain": [
       "Handling Negations:   0%|          | 0/234 [00:00<?, ?token/s]"
      ]
     },
     "metadata": {},
     "output_type": "display_data"
    },
    {
     "data": {
      "application/vnd.jupyter.widget-view+json": {
       "model_id": "7becc118ff1c408bb02413f2852040e2",
       "version_major": 2,
       "version_minor": 0
      },
      "text/plain": [
       "Handling Negations:   0%|          | 0/116 [00:00<?, ?token/s]"
      ]
     },
     "metadata": {},
     "output_type": "display_data"
    },
    {
     "data": {
      "application/vnd.jupyter.widget-view+json": {
       "model_id": "2b808758c39943f5b4936e5fc259e1c7",
       "version_major": 2,
       "version_minor": 0
      },
      "text/plain": [
       "Handling Negations:   0%|          | 0/305 [00:00<?, ?token/s]"
      ]
     },
     "metadata": {},
     "output_type": "display_data"
    },
    {
     "data": {
      "application/vnd.jupyter.widget-view+json": {
       "model_id": "2be3ccd4aa97459d873b1b5cac0b66de",
       "version_major": 2,
       "version_minor": 0
      },
      "text/plain": [
       "Handling Negations:   0%|          | 0/44 [00:00<?, ?token/s]"
      ]
     },
     "metadata": {},
     "output_type": "display_data"
    },
    {
     "data": {
      "application/vnd.jupyter.widget-view+json": {
       "model_id": "674e0915c4444ba199af8f13efd69f19",
       "version_major": 2,
       "version_minor": 0
      },
      "text/plain": [
       "Handling Negations:   0%|          | 0/57 [00:00<?, ?token/s]"
      ]
     },
     "metadata": {},
     "output_type": "display_data"
    },
    {
     "data": {
      "application/vnd.jupyter.widget-view+json": {
       "model_id": "8706446c29a4458c9e74b2bbb3e3af35",
       "version_major": 2,
       "version_minor": 0
      },
      "text/plain": [
       "Handling Negations:   0%|          | 0/51 [00:00<?, ?token/s]"
      ]
     },
     "metadata": {},
     "output_type": "display_data"
    },
    {
     "data": {
      "application/vnd.jupyter.widget-view+json": {
       "model_id": "bd787cbf19d047c6b57f306e8ab70052",
       "version_major": 2,
       "version_minor": 0
      },
      "text/plain": [
       "Handling Negations:   0%|          | 0/112 [00:00<?, ?token/s]"
      ]
     },
     "metadata": {},
     "output_type": "display_data"
    },
    {
     "data": {
      "application/vnd.jupyter.widget-view+json": {
       "model_id": "5fe33b8a51794815bdc8f88c25310b2c",
       "version_major": 2,
       "version_minor": 0
      },
      "text/plain": [
       "Handling Negations:   0%|          | 0/110 [00:00<?, ?token/s]"
      ]
     },
     "metadata": {},
     "output_type": "display_data"
    },
    {
     "data": {
      "application/vnd.jupyter.widget-view+json": {
       "model_id": "15a75c20f30b4312855a12e916299da1",
       "version_major": 2,
       "version_minor": 0
      },
      "text/plain": [
       "Handling Negations:   0%|          | 0/51 [00:00<?, ?token/s]"
      ]
     },
     "metadata": {},
     "output_type": "display_data"
    },
    {
     "data": {
      "application/vnd.jupyter.widget-view+json": {
       "model_id": "383c917bd6f744a3ac039b996249d22d",
       "version_major": 2,
       "version_minor": 0
      },
      "text/plain": [
       "Handling Negations:   0%|          | 0/38 [00:00<?, ?token/s]"
      ]
     },
     "metadata": {},
     "output_type": "display_data"
    },
    {
     "data": {
      "application/vnd.jupyter.widget-view+json": {
       "model_id": "ce10ad7f81d148c980dd8c695bf44b1a",
       "version_major": 2,
       "version_minor": 0
      },
      "text/plain": [
       "Handling Negations:   0%|          | 0/60 [00:00<?, ?token/s]"
      ]
     },
     "metadata": {},
     "output_type": "display_data"
    },
    {
     "data": {
      "application/vnd.jupyter.widget-view+json": {
       "model_id": "4625e11ab6244bbfba1091f035070c0c",
       "version_major": 2,
       "version_minor": 0
      },
      "text/plain": [
       "Handling Negations:   0%|          | 0/116 [00:00<?, ?token/s]"
      ]
     },
     "metadata": {},
     "output_type": "display_data"
    },
    {
     "data": {
      "application/vnd.jupyter.widget-view+json": {
       "model_id": "6fdad62e7cf7432cb370f4ec0637b0b8",
       "version_major": 2,
       "version_minor": 0
      },
      "text/plain": [
       "Handling Negations:   0%|          | 0/65 [00:00<?, ?token/s]"
      ]
     },
     "metadata": {},
     "output_type": "display_data"
    },
    {
     "data": {
      "application/vnd.jupyter.widget-view+json": {
       "model_id": "dac0e05b4ef04439a6cc6a1d73790ddc",
       "version_major": 2,
       "version_minor": 0
      },
      "text/plain": [
       "Handling Negations:   0%|          | 0/40 [00:00<?, ?token/s]"
      ]
     },
     "metadata": {},
     "output_type": "display_data"
    },
    {
     "data": {
      "application/vnd.jupyter.widget-view+json": {
       "model_id": "abc3f140110c44a6bd755e8d271da12f",
       "version_major": 2,
       "version_minor": 0
      },
      "text/plain": [
       "Handling Negations:   0%|          | 0/23 [00:00<?, ?token/s]"
      ]
     },
     "metadata": {},
     "output_type": "display_data"
    },
    {
     "data": {
      "application/vnd.jupyter.widget-view+json": {
       "model_id": "d46fe3d1a5254ad8b7c0e09de6689cbe",
       "version_major": 2,
       "version_minor": 0
      },
      "text/plain": [
       "Handling Negations:   0%|          | 0/38 [00:00<?, ?token/s]"
      ]
     },
     "metadata": {},
     "output_type": "display_data"
    },
    {
     "data": {
      "application/vnd.jupyter.widget-view+json": {
       "model_id": "e31ccd5695754e4382e1477028b09806",
       "version_major": 2,
       "version_minor": 0
      },
      "text/plain": [
       "Handling Negations:   0%|          | 0/32 [00:00<?, ?token/s]"
      ]
     },
     "metadata": {},
     "output_type": "display_data"
    },
    {
     "data": {
      "application/vnd.jupyter.widget-view+json": {
       "model_id": "74a54f3027b3426cb8576e76dbc75b39",
       "version_major": 2,
       "version_minor": 0
      },
      "text/plain": [
       "Handling Negations:   0%|          | 0/59 [00:00<?, ?token/s]"
      ]
     },
     "metadata": {},
     "output_type": "display_data"
    },
    {
     "data": {
      "application/vnd.jupyter.widget-view+json": {
       "model_id": "4d0c4950b59a4414a024b1c8b7951db5",
       "version_major": 2,
       "version_minor": 0
      },
      "text/plain": [
       "Handling Negations:   0%|          | 0/43 [00:00<?, ?token/s]"
      ]
     },
     "metadata": {},
     "output_type": "display_data"
    },
    {
     "data": {
      "application/vnd.jupyter.widget-view+json": {
       "model_id": "8881daee3ef148feae43ed952113a355",
       "version_major": 2,
       "version_minor": 0
      },
      "text/plain": [
       "Handling Negations:   0%|          | 0/20 [00:00<?, ?token/s]"
      ]
     },
     "metadata": {},
     "output_type": "display_data"
    },
    {
     "data": {
      "application/vnd.jupyter.widget-view+json": {
       "model_id": "a530ffbbfe4f43eb84ca83a92e06e0b9",
       "version_major": 2,
       "version_minor": 0
      },
      "text/plain": [
       "Handling Negations:   0%|          | 0/111 [00:00<?, ?token/s]"
      ]
     },
     "metadata": {},
     "output_type": "display_data"
    },
    {
     "data": {
      "application/vnd.jupyter.widget-view+json": {
       "model_id": "732c4db8763147209c5fbba9c172430f",
       "version_major": 2,
       "version_minor": 0
      },
      "text/plain": [
       "Handling Negations:   0%|          | 0/42 [00:00<?, ?token/s]"
      ]
     },
     "metadata": {},
     "output_type": "display_data"
    },
    {
     "data": {
      "application/vnd.jupyter.widget-view+json": {
       "model_id": "48907d9bf05947809eebca61d19ed622",
       "version_major": 2,
       "version_minor": 0
      },
      "text/plain": [
       "Handling Negations:   0%|          | 0/75 [00:00<?, ?token/s]"
      ]
     },
     "metadata": {},
     "output_type": "display_data"
    },
    {
     "data": {
      "application/vnd.jupyter.widget-view+json": {
       "model_id": "44638af7e1c446a1b9e0a54070120d1d",
       "version_major": 2,
       "version_minor": 0
      },
      "text/plain": [
       "Handling Negations:   0%|          | 0/75 [00:00<?, ?token/s]"
      ]
     },
     "metadata": {},
     "output_type": "display_data"
    },
    {
     "data": {
      "application/vnd.jupyter.widget-view+json": {
       "model_id": "962e4a805d1a4372ace6929eb3a690a9",
       "version_major": 2,
       "version_minor": 0
      },
      "text/plain": [
       "Handling Negations:   0%|          | 0/345 [00:00<?, ?token/s]"
      ]
     },
     "metadata": {},
     "output_type": "display_data"
    },
    {
     "data": {
      "application/vnd.jupyter.widget-view+json": {
       "model_id": "ce7f26a6ec9e44a192ef06c36be1feb4",
       "version_major": 2,
       "version_minor": 0
      },
      "text/plain": [
       "Handling Negations:   0%|          | 0/30 [00:00<?, ?token/s]"
      ]
     },
     "metadata": {},
     "output_type": "display_data"
    },
    {
     "data": {
      "application/vnd.jupyter.widget-view+json": {
       "model_id": "01f5f584a50343b685fe2f98fc31239f",
       "version_major": 2,
       "version_minor": 0
      },
      "text/plain": [
       "Handling Negations:   0%|          | 0/26 [00:00<?, ?token/s]"
      ]
     },
     "metadata": {},
     "output_type": "display_data"
    },
    {
     "data": {
      "application/vnd.jupyter.widget-view+json": {
       "model_id": "7a78e9aa14f54cf3b1e81a8f675513b3",
       "version_major": 2,
       "version_minor": 0
      },
      "text/plain": [
       "Handling Negations:   0%|          | 0/125 [00:00<?, ?token/s]"
      ]
     },
     "metadata": {},
     "output_type": "display_data"
    },
    {
     "data": {
      "application/vnd.jupyter.widget-view+json": {
       "model_id": "81d2e51f2a764650b988674647321211",
       "version_major": 2,
       "version_minor": 0
      },
      "text/plain": [
       "Handling Negations:   0%|          | 0/112 [00:00<?, ?token/s]"
      ]
     },
     "metadata": {},
     "output_type": "display_data"
    },
    {
     "data": {
      "application/vnd.jupyter.widget-view+json": {
       "model_id": "de039cf615f14abc9a0e441e907f7664",
       "version_major": 2,
       "version_minor": 0
      },
      "text/plain": [
       "Handling Negations:   0%|          | 0/218 [00:00<?, ?token/s]"
      ]
     },
     "metadata": {},
     "output_type": "display_data"
    },
    {
     "data": {
      "application/vnd.jupyter.widget-view+json": {
       "model_id": "3ab2b618f9cf44e0988b257e29740139",
       "version_major": 2,
       "version_minor": 0
      },
      "text/plain": [
       "Handling Negations:   0%|          | 0/87 [00:00<?, ?token/s]"
      ]
     },
     "metadata": {},
     "output_type": "display_data"
    },
    {
     "data": {
      "application/vnd.jupyter.widget-view+json": {
       "model_id": "edd2ac4381f041d3b7512c21321414f1",
       "version_major": 2,
       "version_minor": 0
      },
      "text/plain": [
       "Handling Negations:   0%|          | 0/71 [00:00<?, ?token/s]"
      ]
     },
     "metadata": {},
     "output_type": "display_data"
    },
    {
     "data": {
      "application/vnd.jupyter.widget-view+json": {
       "model_id": "779ba88d7e604db4913d395280ae8cd0",
       "version_major": 2,
       "version_minor": 0
      },
      "text/plain": [
       "Handling Negations:   0%|          | 0/63 [00:00<?, ?token/s]"
      ]
     },
     "metadata": {},
     "output_type": "display_data"
    },
    {
     "data": {
      "application/vnd.jupyter.widget-view+json": {
       "model_id": "25a36a1c4bc1420aa1d95472cee22daf",
       "version_major": 2,
       "version_minor": 0
      },
      "text/plain": [
       "Handling Negations:   0%|          | 0/94 [00:00<?, ?token/s]"
      ]
     },
     "metadata": {},
     "output_type": "display_data"
    },
    {
     "data": {
      "application/vnd.jupyter.widget-view+json": {
       "model_id": "67d6f1bbb31c4826967002a703b36585",
       "version_major": 2,
       "version_minor": 0
      },
      "text/plain": [
       "Handling Negations:   0%|          | 0/114 [00:00<?, ?token/s]"
      ]
     },
     "metadata": {},
     "output_type": "display_data"
    },
    {
     "data": {
      "application/vnd.jupyter.widget-view+json": {
       "model_id": "8c8ca1f1520043518c76acac21fb75c8",
       "version_major": 2,
       "version_minor": 0
      },
      "text/plain": [
       "Handling Negations:   0%|          | 0/31 [00:00<?, ?token/s]"
      ]
     },
     "metadata": {},
     "output_type": "display_data"
    },
    {
     "data": {
      "application/vnd.jupyter.widget-view+json": {
       "model_id": "5ebfc64d272d429381d2bfdc3925478a",
       "version_major": 2,
       "version_minor": 0
      },
      "text/plain": [
       "Handling Negations:   0%|          | 0/105 [00:00<?, ?token/s]"
      ]
     },
     "metadata": {},
     "output_type": "display_data"
    },
    {
     "data": {
      "application/vnd.jupyter.widget-view+json": {
       "model_id": "c1617d35fa2444838d1da6be5524a748",
       "version_major": 2,
       "version_minor": 0
      },
      "text/plain": [
       "Handling Negations:   0%|          | 0/34 [00:00<?, ?token/s]"
      ]
     },
     "metadata": {},
     "output_type": "display_data"
    },
    {
     "data": {
      "application/vnd.jupyter.widget-view+json": {
       "model_id": "ec5a05d1b3404bd99d2cce3661b86ebb",
       "version_major": 2,
       "version_minor": 0
      },
      "text/plain": [
       "Handling Negations:   0%|          | 0/171 [00:00<?, ?token/s]"
      ]
     },
     "metadata": {},
     "output_type": "display_data"
    },
    {
     "data": {
      "application/vnd.jupyter.widget-view+json": {
       "model_id": "e129658e1a4e4cfd8248650cb470c00f",
       "version_major": 2,
       "version_minor": 0
      },
      "text/plain": [
       "Handling Negations:   0%|          | 0/65 [00:00<?, ?token/s]"
      ]
     },
     "metadata": {},
     "output_type": "display_data"
    },
    {
     "data": {
      "application/vnd.jupyter.widget-view+json": {
       "model_id": "4162986e5ff84860ba5c30843c3eed5d",
       "version_major": 2,
       "version_minor": 0
      },
      "text/plain": [
       "Handling Negations:   0%|          | 0/108 [00:00<?, ?token/s]"
      ]
     },
     "metadata": {},
     "output_type": "display_data"
    },
    {
     "data": {
      "application/vnd.jupyter.widget-view+json": {
       "model_id": "7386e4906ac5454295fc868362cbe171",
       "version_major": 2,
       "version_minor": 0
      },
      "text/plain": [
       "Handling Negations:   0%|          | 0/22 [00:00<?, ?token/s]"
      ]
     },
     "metadata": {},
     "output_type": "display_data"
    },
    {
     "data": {
      "application/vnd.jupyter.widget-view+json": {
       "model_id": "e69df81c4a944f7a95fd814975a51056",
       "version_major": 2,
       "version_minor": 0
      },
      "text/plain": [
       "Handling Negations:   0%|          | 0/164 [00:00<?, ?token/s]"
      ]
     },
     "metadata": {},
     "output_type": "display_data"
    },
    {
     "data": {
      "application/vnd.jupyter.widget-view+json": {
       "model_id": "bca60a6a388e4e76b97f4a53ecf4d3b7",
       "version_major": 2,
       "version_minor": 0
      },
      "text/plain": [
       "Handling Negations:   0%|          | 0/58 [00:00<?, ?token/s]"
      ]
     },
     "metadata": {},
     "output_type": "display_data"
    },
    {
     "data": {
      "application/vnd.jupyter.widget-view+json": {
       "model_id": "9007dfe8c9b84c0a8d879a4739c1e0e2",
       "version_major": 2,
       "version_minor": 0
      },
      "text/plain": [
       "Handling Negations:   0%|          | 0/40 [00:00<?, ?token/s]"
      ]
     },
     "metadata": {},
     "output_type": "display_data"
    },
    {
     "data": {
      "application/vnd.jupyter.widget-view+json": {
       "model_id": "77d5821bb5b7486ea13403632759592d",
       "version_major": 2,
       "version_minor": 0
      },
      "text/plain": [
       "Handling Negations:   0%|          | 0/72 [00:00<?, ?token/s]"
      ]
     },
     "metadata": {},
     "output_type": "display_data"
    },
    {
     "data": {
      "application/vnd.jupyter.widget-view+json": {
       "model_id": "1238bd8aec4e4e3c84fbcf9257217add",
       "version_major": 2,
       "version_minor": 0
      },
      "text/plain": [
       "Handling Negations:   0%|          | 0/19 [00:00<?, ?token/s]"
      ]
     },
     "metadata": {},
     "output_type": "display_data"
    },
    {
     "data": {
      "application/vnd.jupyter.widget-view+json": {
       "model_id": "45167cf9b4c24b4b8d72735d84f2d62a",
       "version_major": 2,
       "version_minor": 0
      },
      "text/plain": [
       "Handling Negations:   0%|          | 0/30 [00:00<?, ?token/s]"
      ]
     },
     "metadata": {},
     "output_type": "display_data"
    },
    {
     "data": {
      "application/vnd.jupyter.widget-view+json": {
       "model_id": "62130315cda046b4b5bd7d56126a1937",
       "version_major": 2,
       "version_minor": 0
      },
      "text/plain": [
       "Handling Negations:   0%|          | 0/169 [00:00<?, ?token/s]"
      ]
     },
     "metadata": {},
     "output_type": "display_data"
    },
    {
     "data": {
      "application/vnd.jupyter.widget-view+json": {
       "model_id": "13e6a319d1ef417db008028e584bb493",
       "version_major": 2,
       "version_minor": 0
      },
      "text/plain": [
       "Handling Negations:   0%|          | 0/177 [00:00<?, ?token/s]"
      ]
     },
     "metadata": {},
     "output_type": "display_data"
    },
    {
     "data": {
      "application/vnd.jupyter.widget-view+json": {
       "model_id": "81c6ac40a53c45c4aa8829d52103b77e",
       "version_major": 2,
       "version_minor": 0
      },
      "text/plain": [
       "Handling Negations:   0%|          | 0/69 [00:00<?, ?token/s]"
      ]
     },
     "metadata": {},
     "output_type": "display_data"
    },
    {
     "data": {
      "application/vnd.jupyter.widget-view+json": {
       "model_id": "fd6a216e33dd48d2bc88926f52a1ad43",
       "version_major": 2,
       "version_minor": 0
      },
      "text/plain": [
       "Handling Negations:   0%|          | 0/58 [00:00<?, ?token/s]"
      ]
     },
     "metadata": {},
     "output_type": "display_data"
    },
    {
     "data": {
      "application/vnd.jupyter.widget-view+json": {
       "model_id": "065a8ba7ed894258b3afcba612703dc0",
       "version_major": 2,
       "version_minor": 0
      },
      "text/plain": [
       "Handling Negations:   0%|          | 0/78 [00:00<?, ?token/s]"
      ]
     },
     "metadata": {},
     "output_type": "display_data"
    },
    {
     "data": {
      "application/vnd.jupyter.widget-view+json": {
       "model_id": "89f027af122f4db2bcea0055bdd71564",
       "version_major": 2,
       "version_minor": 0
      },
      "text/plain": [
       "Handling Negations:   0%|          | 0/178 [00:00<?, ?token/s]"
      ]
     },
     "metadata": {},
     "output_type": "display_data"
    },
    {
     "data": {
      "application/vnd.jupyter.widget-view+json": {
       "model_id": "50a2f070a04a4b7db1db4719057c3604",
       "version_major": 2,
       "version_minor": 0
      },
      "text/plain": [
       "Handling Negations:   0%|          | 0/32 [00:00<?, ?token/s]"
      ]
     },
     "metadata": {},
     "output_type": "display_data"
    },
    {
     "data": {
      "application/vnd.jupyter.widget-view+json": {
       "model_id": "15f0f88a69f345a48efff9b8b04f4eab",
       "version_major": 2,
       "version_minor": 0
      },
      "text/plain": [
       "Handling Negations:   0%|          | 0/31 [00:00<?, ?token/s]"
      ]
     },
     "metadata": {},
     "output_type": "display_data"
    },
    {
     "data": {
      "application/vnd.jupyter.widget-view+json": {
       "model_id": "bbddc70c562d4a9bbfa4b111888286e8",
       "version_major": 2,
       "version_minor": 0
      },
      "text/plain": [
       "Handling Negations:   0%|          | 0/113 [00:00<?, ?token/s]"
      ]
     },
     "metadata": {},
     "output_type": "display_data"
    },
    {
     "data": {
      "application/vnd.jupyter.widget-view+json": {
       "model_id": "80c9aaf1393d473e932a7d5bf5961121",
       "version_major": 2,
       "version_minor": 0
      },
      "text/plain": [
       "Handling Negations:   0%|          | 0/25 [00:00<?, ?token/s]"
      ]
     },
     "metadata": {},
     "output_type": "display_data"
    },
    {
     "data": {
      "application/vnd.jupyter.widget-view+json": {
       "model_id": "10a6edd8a7b041beb3e97ef9f4303348",
       "version_major": 2,
       "version_minor": 0
      },
      "text/plain": [
       "Handling Negations:   0%|          | 0/29 [00:00<?, ?token/s]"
      ]
     },
     "metadata": {},
     "output_type": "display_data"
    },
    {
     "data": {
      "application/vnd.jupyter.widget-view+json": {
       "model_id": "f5bea7b8ecf24257a0adbb1df2bd6087",
       "version_major": 2,
       "version_minor": 0
      },
      "text/plain": [
       "Handling Negations:   0%|          | 0/64 [00:00<?, ?token/s]"
      ]
     },
     "metadata": {},
     "output_type": "display_data"
    },
    {
     "data": {
      "application/vnd.jupyter.widget-view+json": {
       "model_id": "ee97d7cf876c4733ae8274911d1fb9df",
       "version_major": 2,
       "version_minor": 0
      },
      "text/plain": [
       "Handling Negations:   0%|          | 0/95 [00:00<?, ?token/s]"
      ]
     },
     "metadata": {},
     "output_type": "display_data"
    },
    {
     "data": {
      "application/vnd.jupyter.widget-view+json": {
       "model_id": "83b1876fe0164824be595554580463f3",
       "version_major": 2,
       "version_minor": 0
      },
      "text/plain": [
       "Handling Negations:   0%|          | 0/143 [00:00<?, ?token/s]"
      ]
     },
     "metadata": {},
     "output_type": "display_data"
    },
    {
     "data": {
      "application/vnd.jupyter.widget-view+json": {
       "model_id": "86c5443dfaf242eca1c0fcfceaadc265",
       "version_major": 2,
       "version_minor": 0
      },
      "text/plain": [
       "Handling Negations:   0%|          | 0/47 [00:00<?, ?token/s]"
      ]
     },
     "metadata": {},
     "output_type": "display_data"
    },
    {
     "data": {
      "application/vnd.jupyter.widget-view+json": {
       "model_id": "6c33108120694bb9a7c01e3598f54438",
       "version_major": 2,
       "version_minor": 0
      },
      "text/plain": [
       "Handling Negations:   0%|          | 0/61 [00:00<?, ?token/s]"
      ]
     },
     "metadata": {},
     "output_type": "display_data"
    },
    {
     "data": {
      "application/vnd.jupyter.widget-view+json": {
       "model_id": "111d1e70a6114a2e9cf7762ef5f5f913",
       "version_major": 2,
       "version_minor": 0
      },
      "text/plain": [
       "Handling Negations:   0%|          | 0/73 [00:00<?, ?token/s]"
      ]
     },
     "metadata": {},
     "output_type": "display_data"
    },
    {
     "data": {
      "application/vnd.jupyter.widget-view+json": {
       "model_id": "89481973f7a841e895cd1c33a8289a64",
       "version_major": 2,
       "version_minor": 0
      },
      "text/plain": [
       "Handling Negations:   0%|          | 0/212 [00:00<?, ?token/s]"
      ]
     },
     "metadata": {},
     "output_type": "display_data"
    },
    {
     "data": {
      "application/vnd.jupyter.widget-view+json": {
       "model_id": "c2e9d8e165d04b8395bbdb89de9ab466",
       "version_major": 2,
       "version_minor": 0
      },
      "text/plain": [
       "Handling Negations:   0%|          | 0/35 [00:00<?, ?token/s]"
      ]
     },
     "metadata": {},
     "output_type": "display_data"
    },
    {
     "data": {
      "application/vnd.jupyter.widget-view+json": {
       "model_id": "caed44eb624b455c88cb6784cd989337",
       "version_major": 2,
       "version_minor": 0
      },
      "text/plain": [
       "Handling Negations:   0%|          | 0/33 [00:00<?, ?token/s]"
      ]
     },
     "metadata": {},
     "output_type": "display_data"
    },
    {
     "data": {
      "application/vnd.jupyter.widget-view+json": {
       "model_id": "11d79efeab1445a6981e3829b96b14d9",
       "version_major": 2,
       "version_minor": 0
      },
      "text/plain": [
       "Handling Negations:   0%|          | 0/71 [00:00<?, ?token/s]"
      ]
     },
     "metadata": {},
     "output_type": "display_data"
    },
    {
     "data": {
      "application/vnd.jupyter.widget-view+json": {
       "model_id": "60ecc38d63714311ba5253b8e79c03cd",
       "version_major": 2,
       "version_minor": 0
      },
      "text/plain": [
       "Handling Negations:   0%|          | 0/264 [00:00<?, ?token/s]"
      ]
     },
     "metadata": {},
     "output_type": "display_data"
    },
    {
     "data": {
      "application/vnd.jupyter.widget-view+json": {
       "model_id": "9948506e3e4f4b46a49c7ba7b4a2a44b",
       "version_major": 2,
       "version_minor": 0
      },
      "text/plain": [
       "Handling Negations:   0%|          | 0/52 [00:00<?, ?token/s]"
      ]
     },
     "metadata": {},
     "output_type": "display_data"
    },
    {
     "data": {
      "application/vnd.jupyter.widget-view+json": {
       "model_id": "ad7349cf25574db2a6268c8a9a99b688",
       "version_major": 2,
       "version_minor": 0
      },
      "text/plain": [
       "Handling Negations:   0%|          | 0/98 [00:00<?, ?token/s]"
      ]
     },
     "metadata": {},
     "output_type": "display_data"
    },
    {
     "data": {
      "application/vnd.jupyter.widget-view+json": {
       "model_id": "401724e705e94ad7816247d1343bf51a",
       "version_major": 2,
       "version_minor": 0
      },
      "text/plain": [
       "Handling Negations:   0%|          | 0/100 [00:00<?, ?token/s]"
      ]
     },
     "metadata": {},
     "output_type": "display_data"
    },
    {
     "data": {
      "application/vnd.jupyter.widget-view+json": {
       "model_id": "08abe28e80a140679f71492fec43ab1f",
       "version_major": 2,
       "version_minor": 0
      },
      "text/plain": [
       "Handling Negations:   0%|          | 0/64 [00:00<?, ?token/s]"
      ]
     },
     "metadata": {},
     "output_type": "display_data"
    },
    {
     "data": {
      "application/vnd.jupyter.widget-view+json": {
       "model_id": "b693ae9ad9f44ed9b81009edc35d0794",
       "version_major": 2,
       "version_minor": 0
      },
      "text/plain": [
       "Handling Negations:   0%|          | 0/64 [00:00<?, ?token/s]"
      ]
     },
     "metadata": {},
     "output_type": "display_data"
    },
    {
     "data": {
      "application/vnd.jupyter.widget-view+json": {
       "model_id": "c61e7e1400344e3c9e82df1e78f75e68",
       "version_major": 2,
       "version_minor": 0
      },
      "text/plain": [
       "Handling Negations:   0%|          | 0/49 [00:00<?, ?token/s]"
      ]
     },
     "metadata": {},
     "output_type": "display_data"
    },
    {
     "data": {
      "application/vnd.jupyter.widget-view+json": {
       "model_id": "97f81a07104346e0bba798e9829d7ee4",
       "version_major": 2,
       "version_minor": 0
      },
      "text/plain": [
       "Handling Negations:   0%|          | 0/38 [00:00<?, ?token/s]"
      ]
     },
     "metadata": {},
     "output_type": "display_data"
    },
    {
     "data": {
      "application/vnd.jupyter.widget-view+json": {
       "model_id": "7109047d7c844ca7a58bbe46c447f026",
       "version_major": 2,
       "version_minor": 0
      },
      "text/plain": [
       "Handling Negations:   0%|          | 0/29 [00:00<?, ?token/s]"
      ]
     },
     "metadata": {},
     "output_type": "display_data"
    },
    {
     "data": {
      "application/vnd.jupyter.widget-view+json": {
       "model_id": "f3ac8dffb3aa4ca18d8ecd7d5a88642d",
       "version_major": 2,
       "version_minor": 0
      },
      "text/plain": [
       "Handling Negations:   0%|          | 0/47 [00:00<?, ?token/s]"
      ]
     },
     "metadata": {},
     "output_type": "display_data"
    },
    {
     "data": {
      "application/vnd.jupyter.widget-view+json": {
       "model_id": "29f302692ce84705afbafc0498875b26",
       "version_major": 2,
       "version_minor": 0
      },
      "text/plain": [
       "Handling Negations:   0%|          | 0/54 [00:00<?, ?token/s]"
      ]
     },
     "metadata": {},
     "output_type": "display_data"
    },
    {
     "data": {
      "application/vnd.jupyter.widget-view+json": {
       "model_id": "30cfe8576c2549fcb937142cf6fdc7d6",
       "version_major": 2,
       "version_minor": 0
      },
      "text/plain": [
       "Handling Negations:   0%|          | 0/244 [00:00<?, ?token/s]"
      ]
     },
     "metadata": {},
     "output_type": "display_data"
    },
    {
     "data": {
      "application/vnd.jupyter.widget-view+json": {
       "model_id": "8dad3cd93e064b488fca3e80059bcac9",
       "version_major": 2,
       "version_minor": 0
      },
      "text/plain": [
       "Handling Negations:   0%|          | 0/41 [00:00<?, ?token/s]"
      ]
     },
     "metadata": {},
     "output_type": "display_data"
    },
    {
     "data": {
      "application/vnd.jupyter.widget-view+json": {
       "model_id": "7666305f1da94897b2455b2bf76caf3f",
       "version_major": 2,
       "version_minor": 0
      },
      "text/plain": [
       "Handling Negations:   0%|          | 0/54 [00:00<?, ?token/s]"
      ]
     },
     "metadata": {},
     "output_type": "display_data"
    },
    {
     "data": {
      "application/vnd.jupyter.widget-view+json": {
       "model_id": "5704915b45af489f99d807c4e8b1c886",
       "version_major": 2,
       "version_minor": 0
      },
      "text/plain": [
       "Handling Negations:   0%|          | 0/243 [00:00<?, ?token/s]"
      ]
     },
     "metadata": {},
     "output_type": "display_data"
    },
    {
     "data": {
      "application/vnd.jupyter.widget-view+json": {
       "model_id": "8e8251c11423402ca929b22d2cb1d081",
       "version_major": 2,
       "version_minor": 0
      },
      "text/plain": [
       "Handling Negations:   0%|          | 0/57 [00:00<?, ?token/s]"
      ]
     },
     "metadata": {},
     "output_type": "display_data"
    },
    {
     "data": {
      "application/vnd.jupyter.widget-view+json": {
       "model_id": "41bd7a0d77ab4d74a4a1cba46386e53f",
       "version_major": 2,
       "version_minor": 0
      },
      "text/plain": [
       "Handling Negations:   0%|          | 0/20 [00:00<?, ?token/s]"
      ]
     },
     "metadata": {},
     "output_type": "display_data"
    },
    {
     "data": {
      "application/vnd.jupyter.widget-view+json": {
       "model_id": "f88392d1eafc4293a8a40c59c3e9f058",
       "version_major": 2,
       "version_minor": 0
      },
      "text/plain": [
       "Handling Negations:   0%|          | 0/99 [00:00<?, ?token/s]"
      ]
     },
     "metadata": {},
     "output_type": "display_data"
    },
    {
     "data": {
      "application/vnd.jupyter.widget-view+json": {
       "model_id": "9ce56c864bf442eea7ad90c941ecf821",
       "version_major": 2,
       "version_minor": 0
      },
      "text/plain": [
       "Handling Negations:   0%|          | 0/143 [00:00<?, ?token/s]"
      ]
     },
     "metadata": {},
     "output_type": "display_data"
    },
    {
     "data": {
      "application/vnd.jupyter.widget-view+json": {
       "model_id": "0cbd18e763454340beec2000b5d9cc3c",
       "version_major": 2,
       "version_minor": 0
      },
      "text/plain": [
       "Handling Negations:   0%|          | 0/93 [00:00<?, ?token/s]"
      ]
     },
     "metadata": {},
     "output_type": "display_data"
    },
    {
     "data": {
      "application/vnd.jupyter.widget-view+json": {
       "model_id": "9d9c58e9540842e2a98b383372037bcd",
       "version_major": 2,
       "version_minor": 0
      },
      "text/plain": [
       "Handling Negations:   0%|          | 0/74 [00:00<?, ?token/s]"
      ]
     },
     "metadata": {},
     "output_type": "display_data"
    },
    {
     "data": {
      "application/vnd.jupyter.widget-view+json": {
       "model_id": "9cfd9e83ad214103a8d5b9cb1fdc4487",
       "version_major": 2,
       "version_minor": 0
      },
      "text/plain": [
       "Handling Negations:   0%|          | 0/52 [00:00<?, ?token/s]"
      ]
     },
     "metadata": {},
     "output_type": "display_data"
    },
    {
     "data": {
      "application/vnd.jupyter.widget-view+json": {
       "model_id": "19799be015f645e298e2953ce8a433e3",
       "version_major": 2,
       "version_minor": 0
      },
      "text/plain": [
       "Handling Negations:   0%|          | 0/63 [00:00<?, ?token/s]"
      ]
     },
     "metadata": {},
     "output_type": "display_data"
    },
    {
     "data": {
      "application/vnd.jupyter.widget-view+json": {
       "model_id": "8abc5a9a21e04a90b6b97f2d806094eb",
       "version_major": 2,
       "version_minor": 0
      },
      "text/plain": [
       "Handling Negations:   0%|          | 0/70 [00:00<?, ?token/s]"
      ]
     },
     "metadata": {},
     "output_type": "display_data"
    },
    {
     "data": {
      "application/vnd.jupyter.widget-view+json": {
       "model_id": "bc9f8f8cbbbb441a8a86870a49c81cae",
       "version_major": 2,
       "version_minor": 0
      },
      "text/plain": [
       "Handling Negations:   0%|          | 0/95 [00:00<?, ?token/s]"
      ]
     },
     "metadata": {},
     "output_type": "display_data"
    },
    {
     "data": {
      "application/vnd.jupyter.widget-view+json": {
       "model_id": "1af31bf23dd0482d88607e1e8afdc032",
       "version_major": 2,
       "version_minor": 0
      },
      "text/plain": [
       "Handling Negations:   0%|          | 0/73 [00:00<?, ?token/s]"
      ]
     },
     "metadata": {},
     "output_type": "display_data"
    },
    {
     "data": {
      "application/vnd.jupyter.widget-view+json": {
       "model_id": "36cf5937bbe54d53a82f333c520d467b",
       "version_major": 2,
       "version_minor": 0
      },
      "text/plain": [
       "Handling Negations:   0%|          | 0/170 [00:00<?, ?token/s]"
      ]
     },
     "metadata": {},
     "output_type": "display_data"
    },
    {
     "data": {
      "application/vnd.jupyter.widget-view+json": {
       "model_id": "dc55b96b136646988e827040d2c40ea6",
       "version_major": 2,
       "version_minor": 0
      },
      "text/plain": [
       "Handling Negations:   0%|          | 0/34 [00:00<?, ?token/s]"
      ]
     },
     "metadata": {},
     "output_type": "display_data"
    },
    {
     "data": {
      "application/vnd.jupyter.widget-view+json": {
       "model_id": "db8e0746eee341c5aecb0bfa4ff01164",
       "version_major": 2,
       "version_minor": 0
      },
      "text/plain": [
       "Handling Negations:   0%|          | 0/31 [00:00<?, ?token/s]"
      ]
     },
     "metadata": {},
     "output_type": "display_data"
    },
    {
     "data": {
      "application/vnd.jupyter.widget-view+json": {
       "model_id": "4a0a72e7b6c64c9f8b0bc7d385e937aa",
       "version_major": 2,
       "version_minor": 0
      },
      "text/plain": [
       "Handling Negations:   0%|          | 0/63 [00:00<?, ?token/s]"
      ]
     },
     "metadata": {},
     "output_type": "display_data"
    },
    {
     "data": {
      "application/vnd.jupyter.widget-view+json": {
       "model_id": "c30a9499406049b59c2bbe6689c3cc52",
       "version_major": 2,
       "version_minor": 0
      },
      "text/plain": [
       "Handling Negations:   0%|          | 0/229 [00:00<?, ?token/s]"
      ]
     },
     "metadata": {},
     "output_type": "display_data"
    },
    {
     "data": {
      "application/vnd.jupyter.widget-view+json": {
       "model_id": "a28a6f7a833c4bcd94ee8f39585f8e8f",
       "version_major": 2,
       "version_minor": 0
      },
      "text/plain": [
       "Handling Negations:   0%|          | 0/221 [00:00<?, ?token/s]"
      ]
     },
     "metadata": {},
     "output_type": "display_data"
    },
    {
     "data": {
      "application/vnd.jupyter.widget-view+json": {
       "model_id": "68160226261440ffa86c2e07960b5e2e",
       "version_major": 2,
       "version_minor": 0
      },
      "text/plain": [
       "Handling Negations:   0%|          | 0/62 [00:00<?, ?token/s]"
      ]
     },
     "metadata": {},
     "output_type": "display_data"
    },
    {
     "data": {
      "application/vnd.jupyter.widget-view+json": {
       "model_id": "8f7131de7498424bae971677355799ec",
       "version_major": 2,
       "version_minor": 0
      },
      "text/plain": [
       "Handling Negations:   0%|          | 0/64 [00:00<?, ?token/s]"
      ]
     },
     "metadata": {},
     "output_type": "display_data"
    },
    {
     "data": {
      "application/vnd.jupyter.widget-view+json": {
       "model_id": "25fedc39cb744591972c616abb9f48f7",
       "version_major": 2,
       "version_minor": 0
      },
      "text/plain": [
       "Handling Negations:   0%|          | 0/35 [00:00<?, ?token/s]"
      ]
     },
     "metadata": {},
     "output_type": "display_data"
    },
    {
     "data": {
      "application/vnd.jupyter.widget-view+json": {
       "model_id": "5ba2f84c65c24d92b5400eacd9e915a8",
       "version_major": 2,
       "version_minor": 0
      },
      "text/plain": [
       "Handling Negations:   0%|          | 0/54 [00:00<?, ?token/s]"
      ]
     },
     "metadata": {},
     "output_type": "display_data"
    },
    {
     "data": {
      "application/vnd.jupyter.widget-view+json": {
       "model_id": "a99adabf66384151b0bea2dfa5bd5059",
       "version_major": 2,
       "version_minor": 0
      },
      "text/plain": [
       "Handling Negations:   0%|          | 0/82 [00:00<?, ?token/s]"
      ]
     },
     "metadata": {},
     "output_type": "display_data"
    },
    {
     "data": {
      "application/vnd.jupyter.widget-view+json": {
       "model_id": "bf457d9e04244d34815a1ff303d4d8b5",
       "version_major": 2,
       "version_minor": 0
      },
      "text/plain": [
       "Handling Negations:   0%|          | 0/22 [00:00<?, ?token/s]"
      ]
     },
     "metadata": {},
     "output_type": "display_data"
    },
    {
     "data": {
      "application/vnd.jupyter.widget-view+json": {
       "model_id": "901bf717281144139d576eec3dc4bcd4",
       "version_major": 2,
       "version_minor": 0
      },
      "text/plain": [
       "Handling Negations:   0%|          | 0/95 [00:00<?, ?token/s]"
      ]
     },
     "metadata": {},
     "output_type": "display_data"
    },
    {
     "data": {
      "application/vnd.jupyter.widget-view+json": {
       "model_id": "8925a84348ba4ebf93e05c2592725f96",
       "version_major": 2,
       "version_minor": 0
      },
      "text/plain": [
       "Handling Negations:   0%|          | 0/124 [00:00<?, ?token/s]"
      ]
     },
     "metadata": {},
     "output_type": "display_data"
    },
    {
     "data": {
      "application/vnd.jupyter.widget-view+json": {
       "model_id": "fe4c6917f4744a588666749f25be5944",
       "version_major": 2,
       "version_minor": 0
      },
      "text/plain": [
       "Handling Negations:   0%|          | 0/185 [00:00<?, ?token/s]"
      ]
     },
     "metadata": {},
     "output_type": "display_data"
    },
    {
     "data": {
      "application/vnd.jupyter.widget-view+json": {
       "model_id": "4bdeb2337ee7499b8f101f70fbc0d66e",
       "version_major": 2,
       "version_minor": 0
      },
      "text/plain": [
       "Handling Negations:   0%|          | 0/106 [00:00<?, ?token/s]"
      ]
     },
     "metadata": {},
     "output_type": "display_data"
    },
    {
     "data": {
      "application/vnd.jupyter.widget-view+json": {
       "model_id": "e05da2c8d7fc404d914b205d16f24b8b",
       "version_major": 2,
       "version_minor": 0
      },
      "text/plain": [
       "Handling Negations:   0%|          | 0/143 [00:00<?, ?token/s]"
      ]
     },
     "metadata": {},
     "output_type": "display_data"
    },
    {
     "data": {
      "application/vnd.jupyter.widget-view+json": {
       "model_id": "6c69115c98884125952e82f480262043",
       "version_major": 2,
       "version_minor": 0
      },
      "text/plain": [
       "Handling Negations:   0%|          | 0/25 [00:00<?, ?token/s]"
      ]
     },
     "metadata": {},
     "output_type": "display_data"
    },
    {
     "data": {
      "application/vnd.jupyter.widget-view+json": {
       "model_id": "03154fb3daca48ec88a9469d280181d5",
       "version_major": 2,
       "version_minor": 0
      },
      "text/plain": [
       "Handling Negations:   0%|          | 0/54 [00:00<?, ?token/s]"
      ]
     },
     "metadata": {},
     "output_type": "display_data"
    },
    {
     "data": {
      "application/vnd.jupyter.widget-view+json": {
       "model_id": "6291b950addd48fd9fe3e4c0a7586494",
       "version_major": 2,
       "version_minor": 0
      },
      "text/plain": [
       "Handling Negations:   0%|          | 0/51 [00:00<?, ?token/s]"
      ]
     },
     "metadata": {},
     "output_type": "display_data"
    },
    {
     "data": {
      "application/vnd.jupyter.widget-view+json": {
       "model_id": "986048a0b5134d3b8c66a0886294a699",
       "version_major": 2,
       "version_minor": 0
      },
      "text/plain": [
       "Handling Negations:   0%|          | 0/40 [00:00<?, ?token/s]"
      ]
     },
     "metadata": {},
     "output_type": "display_data"
    },
    {
     "data": {
      "application/vnd.jupyter.widget-view+json": {
       "model_id": "2f50248e99c24ab5bfa18daf5d8a7dc2",
       "version_major": 2,
       "version_minor": 0
      },
      "text/plain": [
       "Handling Negations:   0%|          | 0/55 [00:00<?, ?token/s]"
      ]
     },
     "metadata": {},
     "output_type": "display_data"
    },
    {
     "data": {
      "application/vnd.jupyter.widget-view+json": {
       "model_id": "ddb57fd279514f1e8d9a238a8d5d9c1e",
       "version_major": 2,
       "version_minor": 0
      },
      "text/plain": [
       "Handling Negations:   0%|          | 0/50 [00:00<?, ?token/s]"
      ]
     },
     "metadata": {},
     "output_type": "display_data"
    },
    {
     "data": {
      "application/vnd.jupyter.widget-view+json": {
       "model_id": "5265380cf98a4ccda69e3ad625342841",
       "version_major": 2,
       "version_minor": 0
      },
      "text/plain": [
       "Handling Negations:   0%|          | 0/58 [00:00<?, ?token/s]"
      ]
     },
     "metadata": {},
     "output_type": "display_data"
    },
    {
     "data": {
      "application/vnd.jupyter.widget-view+json": {
       "model_id": "0afd40cf7cfb43b08719007e9912c16e",
       "version_major": 2,
       "version_minor": 0
      },
      "text/plain": [
       "Handling Negations:   0%|          | 0/53 [00:00<?, ?token/s]"
      ]
     },
     "metadata": {},
     "output_type": "display_data"
    },
    {
     "data": {
      "application/vnd.jupyter.widget-view+json": {
       "model_id": "b050f0c8623541648ad8171af74f23d1",
       "version_major": 2,
       "version_minor": 0
      },
      "text/plain": [
       "Handling Negations:   0%|          | 0/68 [00:00<?, ?token/s]"
      ]
     },
     "metadata": {},
     "output_type": "display_data"
    },
    {
     "data": {
      "application/vnd.jupyter.widget-view+json": {
       "model_id": "f78f55c8305c4fd7b96018e635bed2e2",
       "version_major": 2,
       "version_minor": 0
      },
      "text/plain": [
       "Handling Negations:   0%|          | 0/75 [00:00<?, ?token/s]"
      ]
     },
     "metadata": {},
     "output_type": "display_data"
    },
    {
     "data": {
      "application/vnd.jupyter.widget-view+json": {
       "model_id": "6141b4569cc941418ef60259694fa5b8",
       "version_major": 2,
       "version_minor": 0
      },
      "text/plain": [
       "Handling Negations:   0%|          | 0/80 [00:00<?, ?token/s]"
      ]
     },
     "metadata": {},
     "output_type": "display_data"
    },
    {
     "data": {
      "application/vnd.jupyter.widget-view+json": {
       "model_id": "c8fed265fabd4dc2b304a8b40b15181a",
       "version_major": 2,
       "version_minor": 0
      },
      "text/plain": [
       "Handling Negations:   0%|          | 0/128 [00:00<?, ?token/s]"
      ]
     },
     "metadata": {},
     "output_type": "display_data"
    },
    {
     "data": {
      "application/vnd.jupyter.widget-view+json": {
       "model_id": "d578aa977ad14333988fe3229b3288ac",
       "version_major": 2,
       "version_minor": 0
      },
      "text/plain": [
       "Handling Negations:   0%|          | 0/250 [00:00<?, ?token/s]"
      ]
     },
     "metadata": {},
     "output_type": "display_data"
    },
    {
     "data": {
      "application/vnd.jupyter.widget-view+json": {
       "model_id": "f334d818123b4a5bb7f95ae4b21b4a61",
       "version_major": 2,
       "version_minor": 0
      },
      "text/plain": [
       "Handling Negations:   0%|          | 0/114 [00:00<?, ?token/s]"
      ]
     },
     "metadata": {},
     "output_type": "display_data"
    },
    {
     "data": {
      "application/vnd.jupyter.widget-view+json": {
       "model_id": "3acd96d857ca4119b11f8cfb2ca2f1f8",
       "version_major": 2,
       "version_minor": 0
      },
      "text/plain": [
       "Handling Negations:   0%|          | 0/67 [00:00<?, ?token/s]"
      ]
     },
     "metadata": {},
     "output_type": "display_data"
    },
    {
     "data": {
      "application/vnd.jupyter.widget-view+json": {
       "model_id": "cd44be9b636e487eae543183e130e603",
       "version_major": 2,
       "version_minor": 0
      },
      "text/plain": [
       "Handling Negations:   0%|          | 0/47 [00:00<?, ?token/s]"
      ]
     },
     "metadata": {},
     "output_type": "display_data"
    },
    {
     "data": {
      "application/vnd.jupyter.widget-view+json": {
       "model_id": "f197bb2d4f2b4d569095c29f7debabe7",
       "version_major": 2,
       "version_minor": 0
      },
      "text/plain": [
       "Handling Negations:   0%|          | 0/57 [00:00<?, ?token/s]"
      ]
     },
     "metadata": {},
     "output_type": "display_data"
    },
    {
     "data": {
      "application/vnd.jupyter.widget-view+json": {
       "model_id": "e6cca4fcaa0e44c2ad059399e4a5ccde",
       "version_major": 2,
       "version_minor": 0
      },
      "text/plain": [
       "Handling Negations:   0%|          | 0/106 [00:00<?, ?token/s]"
      ]
     },
     "metadata": {},
     "output_type": "display_data"
    },
    {
     "data": {
      "application/vnd.jupyter.widget-view+json": {
       "model_id": "4c6ee1d927a9420181bf41d840f263df",
       "version_major": 2,
       "version_minor": 0
      },
      "text/plain": [
       "Handling Negations:   0%|          | 0/158 [00:00<?, ?token/s]"
      ]
     },
     "metadata": {},
     "output_type": "display_data"
    },
    {
     "data": {
      "application/vnd.jupyter.widget-view+json": {
       "model_id": "3b6023296ea648bda08891b10b50ece3",
       "version_major": 2,
       "version_minor": 0
      },
      "text/plain": [
       "Handling Negations:   0%|          | 0/108 [00:00<?, ?token/s]"
      ]
     },
     "metadata": {},
     "output_type": "display_data"
    },
    {
     "data": {
      "application/vnd.jupyter.widget-view+json": {
       "model_id": "a9ee368b2fc542049465b98cc6c4317f",
       "version_major": 2,
       "version_minor": 0
      },
      "text/plain": [
       "Handling Negations:   0%|          | 0/32 [00:00<?, ?token/s]"
      ]
     },
     "metadata": {},
     "output_type": "display_data"
    },
    {
     "data": {
      "application/vnd.jupyter.widget-view+json": {
       "model_id": "1a0961fe192c4d808136ec1f00b4a8e6",
       "version_major": 2,
       "version_minor": 0
      },
      "text/plain": [
       "Handling Negations:   0%|          | 0/140 [00:00<?, ?token/s]"
      ]
     },
     "metadata": {},
     "output_type": "display_data"
    },
    {
     "data": {
      "application/vnd.jupyter.widget-view+json": {
       "model_id": "e57f66ff14734a21abaa4a9d26b68849",
       "version_major": 2,
       "version_minor": 0
      },
      "text/plain": [
       "Handling Negations:   0%|          | 0/33 [00:00<?, ?token/s]"
      ]
     },
     "metadata": {},
     "output_type": "display_data"
    },
    {
     "data": {
      "application/vnd.jupyter.widget-view+json": {
       "model_id": "dc63eb540a8d4f09a2a59ac30224bbdb",
       "version_major": 2,
       "version_minor": 0
      },
      "text/plain": [
       "Handling Negations:   0%|          | 0/112 [00:00<?, ?token/s]"
      ]
     },
     "metadata": {},
     "output_type": "display_data"
    },
    {
     "data": {
      "application/vnd.jupyter.widget-view+json": {
       "model_id": "afc4fee17f6c436cb5239ac8802bd2e1",
       "version_major": 2,
       "version_minor": 0
      },
      "text/plain": [
       "Handling Negations:   0%|          | 0/42 [00:00<?, ?token/s]"
      ]
     },
     "metadata": {},
     "output_type": "display_data"
    },
    {
     "data": {
      "application/vnd.jupyter.widget-view+json": {
       "model_id": "e1831812ac5b47859a6efc54960f175c",
       "version_major": 2,
       "version_minor": 0
      },
      "text/plain": [
       "Handling Negations:   0%|          | 0/69 [00:00<?, ?token/s]"
      ]
     },
     "metadata": {},
     "output_type": "display_data"
    },
    {
     "data": {
      "application/vnd.jupyter.widget-view+json": {
       "model_id": "f00016d32cc349f4894962553ab9e2fa",
       "version_major": 2,
       "version_minor": 0
      },
      "text/plain": [
       "Handling Negations:   0%|          | 0/330 [00:00<?, ?token/s]"
      ]
     },
     "metadata": {},
     "output_type": "display_data"
    },
    {
     "data": {
      "application/vnd.jupyter.widget-view+json": {
       "model_id": "06c0328d50d344d69782c17017a1df0a",
       "version_major": 2,
       "version_minor": 0
      },
      "text/plain": [
       "Handling Negations:   0%|          | 0/150 [00:00<?, ?token/s]"
      ]
     },
     "metadata": {},
     "output_type": "display_data"
    },
    {
     "data": {
      "application/vnd.jupyter.widget-view+json": {
       "model_id": "065000652ca1456ab46e5207f314c6aa",
       "version_major": 2,
       "version_minor": 0
      },
      "text/plain": [
       "Handling Negations:   0%|          | 0/32 [00:00<?, ?token/s]"
      ]
     },
     "metadata": {},
     "output_type": "display_data"
    },
    {
     "data": {
      "application/vnd.jupyter.widget-view+json": {
       "model_id": "611e765bdc9e48fd9a88ceb28bb61d3b",
       "version_major": 2,
       "version_minor": 0
      },
      "text/plain": [
       "Handling Negations:   0%|          | 0/79 [00:00<?, ?token/s]"
      ]
     },
     "metadata": {},
     "output_type": "display_data"
    },
    {
     "data": {
      "application/vnd.jupyter.widget-view+json": {
       "model_id": "65c9e4a9c2bd487b976ed3e5db1d1395",
       "version_major": 2,
       "version_minor": 0
      },
      "text/plain": [
       "Handling Negations:   0%|          | 0/89 [00:00<?, ?token/s]"
      ]
     },
     "metadata": {},
     "output_type": "display_data"
    },
    {
     "data": {
      "application/vnd.jupyter.widget-view+json": {
       "model_id": "1202deaf0238424f9b4a38696304946b",
       "version_major": 2,
       "version_minor": 0
      },
      "text/plain": [
       "Handling Negations:   0%|          | 0/353 [00:00<?, ?token/s]"
      ]
     },
     "metadata": {},
     "output_type": "display_data"
    },
    {
     "data": {
      "application/vnd.jupyter.widget-view+json": {
       "model_id": "4ac0babd8b9f4320a395134d84a9fc77",
       "version_major": 2,
       "version_minor": 0
      },
      "text/plain": [
       "Handling Negations:   0%|          | 0/180 [00:00<?, ?token/s]"
      ]
     },
     "metadata": {},
     "output_type": "display_data"
    },
    {
     "data": {
      "application/vnd.jupyter.widget-view+json": {
       "model_id": "eba908b6844d4374ad09caed72588d3c",
       "version_major": 2,
       "version_minor": 0
      },
      "text/plain": [
       "Handling Negations:   0%|          | 0/58 [00:00<?, ?token/s]"
      ]
     },
     "metadata": {},
     "output_type": "display_data"
    },
    {
     "data": {
      "application/vnd.jupyter.widget-view+json": {
       "model_id": "9b6ab77882084c049b769fc910fb72ae",
       "version_major": 2,
       "version_minor": 0
      },
      "text/plain": [
       "Handling Negations:   0%|          | 0/148 [00:00<?, ?token/s]"
      ]
     },
     "metadata": {},
     "output_type": "display_data"
    },
    {
     "data": {
      "application/vnd.jupyter.widget-view+json": {
       "model_id": "550f08221c6847929cf3e0459152835e",
       "version_major": 2,
       "version_minor": 0
      },
      "text/plain": [
       "Handling Negations:   0%|          | 0/35 [00:00<?, ?token/s]"
      ]
     },
     "metadata": {},
     "output_type": "display_data"
    },
    {
     "data": {
      "application/vnd.jupyter.widget-view+json": {
       "model_id": "cca058de29164cd69873599994ca53be",
       "version_major": 2,
       "version_minor": 0
      },
      "text/plain": [
       "Handling Negations:   0%|          | 0/46 [00:00<?, ?token/s]"
      ]
     },
     "metadata": {},
     "output_type": "display_data"
    },
    {
     "data": {
      "application/vnd.jupyter.widget-view+json": {
       "model_id": "ebfa761372fc4700a07dca4c40d58412",
       "version_major": 2,
       "version_minor": 0
      },
      "text/plain": [
       "Handling Negations:   0%|          | 0/58 [00:00<?, ?token/s]"
      ]
     },
     "metadata": {},
     "output_type": "display_data"
    },
    {
     "data": {
      "application/vnd.jupyter.widget-view+json": {
       "model_id": "1f1bb8a410a64bfca90892ceb56e4a3e",
       "version_major": 2,
       "version_minor": 0
      },
      "text/plain": [
       "Handling Negations:   0%|          | 0/76 [00:00<?, ?token/s]"
      ]
     },
     "metadata": {},
     "output_type": "display_data"
    },
    {
     "data": {
      "application/vnd.jupyter.widget-view+json": {
       "model_id": "3eeb0842dd944c25a68feeed12f4a1aa",
       "version_major": 2,
       "version_minor": 0
      },
      "text/plain": [
       "Handling Negations:   0%|          | 0/93 [00:00<?, ?token/s]"
      ]
     },
     "metadata": {},
     "output_type": "display_data"
    },
    {
     "data": {
      "application/vnd.jupyter.widget-view+json": {
       "model_id": "2a002d632adc491eb99caf98057b5938",
       "version_major": 2,
       "version_minor": 0
      },
      "text/plain": [
       "Handling Negations:   0%|          | 0/35 [00:00<?, ?token/s]"
      ]
     },
     "metadata": {},
     "output_type": "display_data"
    },
    {
     "data": {
      "application/vnd.jupyter.widget-view+json": {
       "model_id": "846f875485c6481e82570cbd4b1a4783",
       "version_major": 2,
       "version_minor": 0
      },
      "text/plain": [
       "Handling Negations:   0%|          | 0/74 [00:00<?, ?token/s]"
      ]
     },
     "metadata": {},
     "output_type": "display_data"
    },
    {
     "data": {
      "application/vnd.jupyter.widget-view+json": {
       "model_id": "601e32a46b514857a1e936d04b98c4b3",
       "version_major": 2,
       "version_minor": 0
      },
      "text/plain": [
       "Handling Negations:   0%|          | 0/63 [00:00<?, ?token/s]"
      ]
     },
     "metadata": {},
     "output_type": "display_data"
    },
    {
     "data": {
      "application/vnd.jupyter.widget-view+json": {
       "model_id": "099847786f9940aeba726e4173a63a4a",
       "version_major": 2,
       "version_minor": 0
      },
      "text/plain": [
       "Handling Negations:   0%|          | 0/20 [00:00<?, ?token/s]"
      ]
     },
     "metadata": {},
     "output_type": "display_data"
    },
    {
     "data": {
      "application/vnd.jupyter.widget-view+json": {
       "model_id": "8b1fa05b44b341a4ad2de209a11666b0",
       "version_major": 2,
       "version_minor": 0
      },
      "text/plain": [
       "Handling Negations:   0%|          | 0/72 [00:00<?, ?token/s]"
      ]
     },
     "metadata": {},
     "output_type": "display_data"
    },
    {
     "data": {
      "application/vnd.jupyter.widget-view+json": {
       "model_id": "cda469aebf0a4eed8475925b7791e016",
       "version_major": 2,
       "version_minor": 0
      },
      "text/plain": [
       "Handling Negations:   0%|          | 0/30 [00:00<?, ?token/s]"
      ]
     },
     "metadata": {},
     "output_type": "display_data"
    },
    {
     "data": {
      "application/vnd.jupyter.widget-view+json": {
       "model_id": "88af5d8fc1784b42b489d481daed93b8",
       "version_major": 2,
       "version_minor": 0
      },
      "text/plain": [
       "Handling Negations:   0%|          | 0/28 [00:00<?, ?token/s]"
      ]
     },
     "metadata": {},
     "output_type": "display_data"
    },
    {
     "data": {
      "application/vnd.jupyter.widget-view+json": {
       "model_id": "f5e22b9b85254a55adac79de2b25171a",
       "version_major": 2,
       "version_minor": 0
      },
      "text/plain": [
       "Handling Negations:   0%|          | 0/30 [00:00<?, ?token/s]"
      ]
     },
     "metadata": {},
     "output_type": "display_data"
    },
    {
     "data": {
      "application/vnd.jupyter.widget-view+json": {
       "model_id": "50180eee7f894737ab5f6273f6f19078",
       "version_major": 2,
       "version_minor": 0
      },
      "text/plain": [
       "Handling Negations:   0%|          | 0/72 [00:00<?, ?token/s]"
      ]
     },
     "metadata": {},
     "output_type": "display_data"
    },
    {
     "data": {
      "application/vnd.jupyter.widget-view+json": {
       "model_id": "3ecc0570a5de4cdb881f18dce14950eb",
       "version_major": 2,
       "version_minor": 0
      },
      "text/plain": [
       "Handling Negations:   0%|          | 0/72 [00:00<?, ?token/s]"
      ]
     },
     "metadata": {},
     "output_type": "display_data"
    },
    {
     "data": {
      "application/vnd.jupyter.widget-view+json": {
       "model_id": "16a0f670c0e647d2ba41d035cd7ec55b",
       "version_major": 2,
       "version_minor": 0
      },
      "text/plain": [
       "Handling Negations:   0%|          | 0/268 [00:00<?, ?token/s]"
      ]
     },
     "metadata": {},
     "output_type": "display_data"
    },
    {
     "data": {
      "application/vnd.jupyter.widget-view+json": {
       "model_id": "aed2cf569a624295875bb9dfa1d6d309",
       "version_major": 2,
       "version_minor": 0
      },
      "text/plain": [
       "Handling Negations:   0%|          | 0/56 [00:00<?, ?token/s]"
      ]
     },
     "metadata": {},
     "output_type": "display_data"
    },
    {
     "data": {
      "application/vnd.jupyter.widget-view+json": {
       "model_id": "2f628b42937b44c5ad6d064422e835ef",
       "version_major": 2,
       "version_minor": 0
      },
      "text/plain": [
       "Handling Negations:   0%|          | 0/32 [00:00<?, ?token/s]"
      ]
     },
     "metadata": {},
     "output_type": "display_data"
    },
    {
     "data": {
      "application/vnd.jupyter.widget-view+json": {
       "model_id": "370507f4ed114c99bec18eff731b51b8",
       "version_major": 2,
       "version_minor": 0
      },
      "text/plain": [
       "Handling Negations:   0%|          | 0/28 [00:00<?, ?token/s]"
      ]
     },
     "metadata": {},
     "output_type": "display_data"
    },
    {
     "data": {
      "application/vnd.jupyter.widget-view+json": {
       "model_id": "c9b517a5c4b54f2cbae12758851ea026",
       "version_major": 2,
       "version_minor": 0
      },
      "text/plain": [
       "Handling Negations:   0%|          | 0/141 [00:00<?, ?token/s]"
      ]
     },
     "metadata": {},
     "output_type": "display_data"
    },
    {
     "data": {
      "application/vnd.jupyter.widget-view+json": {
       "model_id": "0a4e9742072648429d07e934630d80df",
       "version_major": 2,
       "version_minor": 0
      },
      "text/plain": [
       "Handling Negations:   0%|          | 0/159 [00:00<?, ?token/s]"
      ]
     },
     "metadata": {},
     "output_type": "display_data"
    },
    {
     "data": {
      "application/vnd.jupyter.widget-view+json": {
       "model_id": "0e96a588644b415eb8934848c26bad68",
       "version_major": 2,
       "version_minor": 0
      },
      "text/plain": [
       "Handling Negations:   0%|          | 0/20 [00:00<?, ?token/s]"
      ]
     },
     "metadata": {},
     "output_type": "display_data"
    },
    {
     "data": {
      "application/vnd.jupyter.widget-view+json": {
       "model_id": "f66ed52fa17d45d69917d873940c5cf9",
       "version_major": 2,
       "version_minor": 0
      },
      "text/plain": [
       "Handling Negations:   0%|          | 0/186 [00:00<?, ?token/s]"
      ]
     },
     "metadata": {},
     "output_type": "display_data"
    },
    {
     "data": {
      "application/vnd.jupyter.widget-view+json": {
       "model_id": "3c344c90fc2d4f059efbb501011f59d5",
       "version_major": 2,
       "version_minor": 0
      },
      "text/plain": [
       "Handling Negations:   0%|          | 0/42 [00:00<?, ?token/s]"
      ]
     },
     "metadata": {},
     "output_type": "display_data"
    },
    {
     "data": {
      "application/vnd.jupyter.widget-view+json": {
       "model_id": "4584a86858b24c8a9fd6ac94b1b9803f",
       "version_major": 2,
       "version_minor": 0
      },
      "text/plain": [
       "Handling Negations:   0%|          | 0/60 [00:00<?, ?token/s]"
      ]
     },
     "metadata": {},
     "output_type": "display_data"
    },
    {
     "data": {
      "application/vnd.jupyter.widget-view+json": {
       "model_id": "f69e092ad63b409483b1bffad98f36d5",
       "version_major": 2,
       "version_minor": 0
      },
      "text/plain": [
       "Handling Negations:   0%|          | 0/36 [00:00<?, ?token/s]"
      ]
     },
     "metadata": {},
     "output_type": "display_data"
    },
    {
     "data": {
      "application/vnd.jupyter.widget-view+json": {
       "model_id": "1a90e45be1274a219a9e63ee56641ad0",
       "version_major": 2,
       "version_minor": 0
      },
      "text/plain": [
       "Handling Negations:   0%|          | 0/20 [00:00<?, ?token/s]"
      ]
     },
     "metadata": {},
     "output_type": "display_data"
    },
    {
     "data": {
      "application/vnd.jupyter.widget-view+json": {
       "model_id": "abe4262b593741b2af481c50a2fb26ec",
       "version_major": 2,
       "version_minor": 0
      },
      "text/plain": [
       "Handling Negations:   0%|          | 0/82 [00:00<?, ?token/s]"
      ]
     },
     "metadata": {},
     "output_type": "display_data"
    },
    {
     "data": {
      "application/vnd.jupyter.widget-view+json": {
       "model_id": "f82edaf073ed49d2adf9ff0228dac529",
       "version_major": 2,
       "version_minor": 0
      },
      "text/plain": [
       "Handling Negations:   0%|          | 0/120 [00:00<?, ?token/s]"
      ]
     },
     "metadata": {},
     "output_type": "display_data"
    },
    {
     "data": {
      "application/vnd.jupyter.widget-view+json": {
       "model_id": "3e1e45df835a4851bc38223b2d143a63",
       "version_major": 2,
       "version_minor": 0
      },
      "text/plain": [
       "Handling Negations:   0%|          | 0/66 [00:00<?, ?token/s]"
      ]
     },
     "metadata": {},
     "output_type": "display_data"
    },
    {
     "data": {
      "application/vnd.jupyter.widget-view+json": {
       "model_id": "4e3b54cfe8244242b731562c3558019e",
       "version_major": 2,
       "version_minor": 0
      },
      "text/plain": [
       "Handling Negations:   0%|          | 0/180 [00:00<?, ?token/s]"
      ]
     },
     "metadata": {},
     "output_type": "display_data"
    },
    {
     "data": {
      "application/vnd.jupyter.widget-view+json": {
       "model_id": "1c7335b4fc7b4c22bf69494762c9d825",
       "version_major": 2,
       "version_minor": 0
      },
      "text/plain": [
       "Handling Negations:   0%|          | 0/49 [00:00<?, ?token/s]"
      ]
     },
     "metadata": {},
     "output_type": "display_data"
    },
    {
     "data": {
      "application/vnd.jupyter.widget-view+json": {
       "model_id": "6cda11555ef44b65bdef1c0ff0027234",
       "version_major": 2,
       "version_minor": 0
      },
      "text/plain": [
       "Handling Negations:   0%|          | 0/57 [00:00<?, ?token/s]"
      ]
     },
     "metadata": {},
     "output_type": "display_data"
    },
    {
     "data": {
      "application/vnd.jupyter.widget-view+json": {
       "model_id": "e657dbe61c3341e6b2d2e29b3e72db21",
       "version_major": 2,
       "version_minor": 0
      },
      "text/plain": [
       "Handling Negations:   0%|          | 0/64 [00:00<?, ?token/s]"
      ]
     },
     "metadata": {},
     "output_type": "display_data"
    },
    {
     "data": {
      "application/vnd.jupyter.widget-view+json": {
       "model_id": "7fcac88becd2467b800e474e02de8f69",
       "version_major": 2,
       "version_minor": 0
      },
      "text/plain": [
       "Handling Negations:   0%|          | 0/92 [00:00<?, ?token/s]"
      ]
     },
     "metadata": {},
     "output_type": "display_data"
    },
    {
     "data": {
      "application/vnd.jupyter.widget-view+json": {
       "model_id": "2738d62f52ab4fd6b86b3e38064236db",
       "version_major": 2,
       "version_minor": 0
      },
      "text/plain": [
       "Handling Negations:   0%|          | 0/165 [00:00<?, ?token/s]"
      ]
     },
     "metadata": {},
     "output_type": "display_data"
    },
    {
     "data": {
      "application/vnd.jupyter.widget-view+json": {
       "model_id": "6682c6eabbc542a28fa7fa95bae1a46f",
       "version_major": 2,
       "version_minor": 0
      },
      "text/plain": [
       "Handling Negations:   0%|          | 0/100 [00:00<?, ?token/s]"
      ]
     },
     "metadata": {},
     "output_type": "display_data"
    },
    {
     "data": {
      "application/vnd.jupyter.widget-view+json": {
       "model_id": "222d7d88c3a84b26862aebd51f74f705",
       "version_major": 2,
       "version_minor": 0
      },
      "text/plain": [
       "Handling Negations:   0%|          | 0/67 [00:00<?, ?token/s]"
      ]
     },
     "metadata": {},
     "output_type": "display_data"
    },
    {
     "data": {
      "application/vnd.jupyter.widget-view+json": {
       "model_id": "67821287d4be43dcb5e6cbb7f3c71a0e",
       "version_major": 2,
       "version_minor": 0
      },
      "text/plain": [
       "Handling Negations:   0%|          | 0/345 [00:00<?, ?token/s]"
      ]
     },
     "metadata": {},
     "output_type": "display_data"
    },
    {
     "data": {
      "application/vnd.jupyter.widget-view+json": {
       "model_id": "1c477f5f22d24277a117341f148b9a23",
       "version_major": 2,
       "version_minor": 0
      },
      "text/plain": [
       "Handling Negations:   0%|          | 0/84 [00:00<?, ?token/s]"
      ]
     },
     "metadata": {},
     "output_type": "display_data"
    },
    {
     "data": {
      "application/vnd.jupyter.widget-view+json": {
       "model_id": "2fc982e8a693422087a797599f9f52ee",
       "version_major": 2,
       "version_minor": 0
      },
      "text/plain": [
       "Handling Negations:   0%|          | 0/59 [00:00<?, ?token/s]"
      ]
     },
     "metadata": {},
     "output_type": "display_data"
    },
    {
     "data": {
      "application/vnd.jupyter.widget-view+json": {
       "model_id": "6a30ed5e77ee464995e29def326e076f",
       "version_major": 2,
       "version_minor": 0
      },
      "text/plain": [
       "Handling Negations:   0%|          | 0/95 [00:00<?, ?token/s]"
      ]
     },
     "metadata": {},
     "output_type": "display_data"
    },
    {
     "data": {
      "application/vnd.jupyter.widget-view+json": {
       "model_id": "ec203c79cad841c19d92fcade6e6e09e",
       "version_major": 2,
       "version_minor": 0
      },
      "text/plain": [
       "Handling Negations:   0%|          | 0/64 [00:00<?, ?token/s]"
      ]
     },
     "metadata": {},
     "output_type": "display_data"
    },
    {
     "data": {
      "application/vnd.jupyter.widget-view+json": {
       "model_id": "484e4a78a3e842b698d96fc5b90b7fe4",
       "version_major": 2,
       "version_minor": 0
      },
      "text/plain": [
       "Handling Negations:   0%|          | 0/101 [00:00<?, ?token/s]"
      ]
     },
     "metadata": {},
     "output_type": "display_data"
    },
    {
     "data": {
      "application/vnd.jupyter.widget-view+json": {
       "model_id": "85f027784ef0467aaed49f00f4fad474",
       "version_major": 2,
       "version_minor": 0
      },
      "text/plain": [
       "Handling Negations:   0%|          | 0/86 [00:00<?, ?token/s]"
      ]
     },
     "metadata": {},
     "output_type": "display_data"
    },
    {
     "data": {
      "application/vnd.jupyter.widget-view+json": {
       "model_id": "9ff12224535e4b5d9920f7b1aa1e360c",
       "version_major": 2,
       "version_minor": 0
      },
      "text/plain": [
       "Handling Negations:   0%|          | 0/68 [00:00<?, ?token/s]"
      ]
     },
     "metadata": {},
     "output_type": "display_data"
    },
    {
     "data": {
      "application/vnd.jupyter.widget-view+json": {
       "model_id": "4ce1b76a902c4dd7baf2c5d55ac86aaf",
       "version_major": 2,
       "version_minor": 0
      },
      "text/plain": [
       "Handling Negations:   0%|          | 0/301 [00:00<?, ?token/s]"
      ]
     },
     "metadata": {},
     "output_type": "display_data"
    },
    {
     "data": {
      "application/vnd.jupyter.widget-view+json": {
       "model_id": "384bee1903a84cb39e647afa902734ee",
       "version_major": 2,
       "version_minor": 0
      },
      "text/plain": [
       "Handling Negations:   0%|          | 0/19 [00:00<?, ?token/s]"
      ]
     },
     "metadata": {},
     "output_type": "display_data"
    },
    {
     "data": {
      "application/vnd.jupyter.widget-view+json": {
       "model_id": "08bb56ea3d554b7f8087e1c544472071",
       "version_major": 2,
       "version_minor": 0
      },
      "text/plain": [
       "Handling Negations:   0%|          | 0/160 [00:00<?, ?token/s]"
      ]
     },
     "metadata": {},
     "output_type": "display_data"
    },
    {
     "data": {
      "application/vnd.jupyter.widget-view+json": {
       "model_id": "cd8f48b50fef4f2dafe1b15780367372",
       "version_major": 2,
       "version_minor": 0
      },
      "text/plain": [
       "Handling Negations:   0%|          | 0/78 [00:00<?, ?token/s]"
      ]
     },
     "metadata": {},
     "output_type": "display_data"
    },
    {
     "data": {
      "application/vnd.jupyter.widget-view+json": {
       "model_id": "c7e40b27527146b48e5e49900ef3308c",
       "version_major": 2,
       "version_minor": 0
      },
      "text/plain": [
       "Handling Negations:   0%|          | 0/95 [00:00<?, ?token/s]"
      ]
     },
     "metadata": {},
     "output_type": "display_data"
    },
    {
     "data": {
      "application/vnd.jupyter.widget-view+json": {
       "model_id": "a682a7320a7b4f1e9f3fb7a6cff34978",
       "version_major": 2,
       "version_minor": 0
      },
      "text/plain": [
       "Handling Negations:   0%|          | 0/112 [00:00<?, ?token/s]"
      ]
     },
     "metadata": {},
     "output_type": "display_data"
    },
    {
     "data": {
      "application/vnd.jupyter.widget-view+json": {
       "model_id": "643d54ed55604627a9a23764bc303f79",
       "version_major": 2,
       "version_minor": 0
      },
      "text/plain": [
       "Handling Negations:   0%|          | 0/241 [00:00<?, ?token/s]"
      ]
     },
     "metadata": {},
     "output_type": "display_data"
    },
    {
     "data": {
      "application/vnd.jupyter.widget-view+json": {
       "model_id": "2f2cf8884040411bba5950da4e19e75e",
       "version_major": 2,
       "version_minor": 0
      },
      "text/plain": [
       "Handling Negations:   0%|          | 0/105 [00:00<?, ?token/s]"
      ]
     },
     "metadata": {},
     "output_type": "display_data"
    },
    {
     "data": {
      "application/vnd.jupyter.widget-view+json": {
       "model_id": "4e973783c41249cc98f804fcd5c4fdc6",
       "version_major": 2,
       "version_minor": 0
      },
      "text/plain": [
       "Handling Negations:   0%|          | 0/198 [00:00<?, ?token/s]"
      ]
     },
     "metadata": {},
     "output_type": "display_data"
    },
    {
     "data": {
      "application/vnd.jupyter.widget-view+json": {
       "model_id": "2cb97c74a11543bb92d9bbde4fe4393e",
       "version_major": 2,
       "version_minor": 0
      },
      "text/plain": [
       "Handling Negations:   0%|          | 0/55 [00:00<?, ?token/s]"
      ]
     },
     "metadata": {},
     "output_type": "display_data"
    },
    {
     "data": {
      "application/vnd.jupyter.widget-view+json": {
       "model_id": "376d56796c4f4dd7a0651753781b3e85",
       "version_major": 2,
       "version_minor": 0
      },
      "text/plain": [
       "Handling Negations:   0%|          | 0/34 [00:00<?, ?token/s]"
      ]
     },
     "metadata": {},
     "output_type": "display_data"
    },
    {
     "data": {
      "application/vnd.jupyter.widget-view+json": {
       "model_id": "f2aaa53167544233a6b541baa1f669fb",
       "version_major": 2,
       "version_minor": 0
      },
      "text/plain": [
       "Handling Negations:   0%|          | 0/34 [00:00<?, ?token/s]"
      ]
     },
     "metadata": {},
     "output_type": "display_data"
    },
    {
     "data": {
      "application/vnd.jupyter.widget-view+json": {
       "model_id": "fad5ff336adc409890807cf719d989cb",
       "version_major": 2,
       "version_minor": 0
      },
      "text/plain": [
       "Handling Negations:   0%|          | 0/122 [00:00<?, ?token/s]"
      ]
     },
     "metadata": {},
     "output_type": "display_data"
    },
    {
     "data": {
      "application/vnd.jupyter.widget-view+json": {
       "model_id": "d53438b1b47146809909d5d28e8d5024",
       "version_major": 2,
       "version_minor": 0
      },
      "text/plain": [
       "Handling Negations:   0%|          | 0/129 [00:00<?, ?token/s]"
      ]
     },
     "metadata": {},
     "output_type": "display_data"
    },
    {
     "data": {
      "application/vnd.jupyter.widget-view+json": {
       "model_id": "4af663df10f940a0bc403d3984f4d825",
       "version_major": 2,
       "version_minor": 0
      },
      "text/plain": [
       "Handling Negations:   0%|          | 0/19 [00:00<?, ?token/s]"
      ]
     },
     "metadata": {},
     "output_type": "display_data"
    },
    {
     "data": {
      "application/vnd.jupyter.widget-view+json": {
       "model_id": "8504eeafe414444b8c396aa5cf527cea",
       "version_major": 2,
       "version_minor": 0
      },
      "text/plain": [
       "Handling Negations:   0%|          | 0/36 [00:00<?, ?token/s]"
      ]
     },
     "metadata": {},
     "output_type": "display_data"
    },
    {
     "data": {
      "application/vnd.jupyter.widget-view+json": {
       "model_id": "8f955822b3b54f75a38322ae9a00fbfc",
       "version_major": 2,
       "version_minor": 0
      },
      "text/plain": [
       "Handling Negations:   0%|          | 0/148 [00:00<?, ?token/s]"
      ]
     },
     "metadata": {},
     "output_type": "display_data"
    },
    {
     "data": {
      "application/vnd.jupyter.widget-view+json": {
       "model_id": "e6e3dff97f6e42778ba74425a196bb4e",
       "version_major": 2,
       "version_minor": 0
      },
      "text/plain": [
       "Handling Negations:   0%|          | 0/52 [00:00<?, ?token/s]"
      ]
     },
     "metadata": {},
     "output_type": "display_data"
    },
    {
     "data": {
      "application/vnd.jupyter.widget-view+json": {
       "model_id": "83127b5c7626427faea5f3f62c9d9104",
       "version_major": 2,
       "version_minor": 0
      },
      "text/plain": [
       "Handling Negations:   0%|          | 0/78 [00:00<?, ?token/s]"
      ]
     },
     "metadata": {},
     "output_type": "display_data"
    },
    {
     "data": {
      "application/vnd.jupyter.widget-view+json": {
       "model_id": "30fc2f3f285f40b794476d713b42fa95",
       "version_major": 2,
       "version_minor": 0
      },
      "text/plain": [
       "Handling Negations:   0%|          | 0/45 [00:00<?, ?token/s]"
      ]
     },
     "metadata": {},
     "output_type": "display_data"
    },
    {
     "data": {
      "application/vnd.jupyter.widget-view+json": {
       "model_id": "462b0d0b01114d6dbd90d37307e95de6",
       "version_major": 2,
       "version_minor": 0
      },
      "text/plain": [
       "Handling Negations:   0%|          | 0/66 [00:00<?, ?token/s]"
      ]
     },
     "metadata": {},
     "output_type": "display_data"
    },
    {
     "data": {
      "application/vnd.jupyter.widget-view+json": {
       "model_id": "d61a11af6e5b41889a10e75c17415ab2",
       "version_major": 2,
       "version_minor": 0
      },
      "text/plain": [
       "Handling Negations:   0%|          | 0/31 [00:00<?, ?token/s]"
      ]
     },
     "metadata": {},
     "output_type": "display_data"
    },
    {
     "data": {
      "application/vnd.jupyter.widget-view+json": {
       "model_id": "3c63a6dbda914d53b81d6078dcc50108",
       "version_major": 2,
       "version_minor": 0
      },
      "text/plain": [
       "Handling Negations:   0%|          | 0/59 [00:00<?, ?token/s]"
      ]
     },
     "metadata": {},
     "output_type": "display_data"
    },
    {
     "data": {
      "application/vnd.jupyter.widget-view+json": {
       "model_id": "84ca0b7964b240cbbf3b7bfb68ff39fa",
       "version_major": 2,
       "version_minor": 0
      },
      "text/plain": [
       "Handling Negations:   0%|          | 0/130 [00:00<?, ?token/s]"
      ]
     },
     "metadata": {},
     "output_type": "display_data"
    },
    {
     "data": {
      "application/vnd.jupyter.widget-view+json": {
       "model_id": "be8e02dc94f44f11a7d5d6b3e8621ba0",
       "version_major": 2,
       "version_minor": 0
      },
      "text/plain": [
       "Handling Negations:   0%|          | 0/155 [00:00<?, ?token/s]"
      ]
     },
     "metadata": {},
     "output_type": "display_data"
    },
    {
     "data": {
      "application/vnd.jupyter.widget-view+json": {
       "model_id": "9e628632b0b34420baa4566cca0e82c9",
       "version_major": 2,
       "version_minor": 0
      },
      "text/plain": [
       "Handling Negations:   0%|          | 0/33 [00:00<?, ?token/s]"
      ]
     },
     "metadata": {},
     "output_type": "display_data"
    },
    {
     "data": {
      "application/vnd.jupyter.widget-view+json": {
       "model_id": "9ac09128111f44e2a3a5f2e48d8f152b",
       "version_major": 2,
       "version_minor": 0
      },
      "text/plain": [
       "Handling Negations:   0%|          | 0/92 [00:00<?, ?token/s]"
      ]
     },
     "metadata": {},
     "output_type": "display_data"
    },
    {
     "data": {
      "application/vnd.jupyter.widget-view+json": {
       "model_id": "ffad994feca74101839838c033caaa2f",
       "version_major": 2,
       "version_minor": 0
      },
      "text/plain": [
       "Handling Negations:   0%|          | 0/41 [00:00<?, ?token/s]"
      ]
     },
     "metadata": {},
     "output_type": "display_data"
    },
    {
     "data": {
      "application/vnd.jupyter.widget-view+json": {
       "model_id": "05e2f6d801314cfb99605435c56c6d03",
       "version_major": 2,
       "version_minor": 0
      },
      "text/plain": [
       "Handling Negations:   0%|          | 0/54 [00:00<?, ?token/s]"
      ]
     },
     "metadata": {},
     "output_type": "display_data"
    },
    {
     "data": {
      "application/vnd.jupyter.widget-view+json": {
       "model_id": "84edcacca8a744a3b6e6dea3643920d8",
       "version_major": 2,
       "version_minor": 0
      },
      "text/plain": [
       "Handling Negations:   0%|          | 0/104 [00:00<?, ?token/s]"
      ]
     },
     "metadata": {},
     "output_type": "display_data"
    },
    {
     "data": {
      "application/vnd.jupyter.widget-view+json": {
       "model_id": "fd14911d19f04036b4be4a8708b949eb",
       "version_major": 2,
       "version_minor": 0
      },
      "text/plain": [
       "Handling Negations:   0%|          | 0/55 [00:00<?, ?token/s]"
      ]
     },
     "metadata": {},
     "output_type": "display_data"
    },
    {
     "data": {
      "application/vnd.jupyter.widget-view+json": {
       "model_id": "1f315f5d26604824a2b014d979a6a9a2",
       "version_major": 2,
       "version_minor": 0
      },
      "text/plain": [
       "Handling Negations:   0%|          | 0/104 [00:00<?, ?token/s]"
      ]
     },
     "metadata": {},
     "output_type": "display_data"
    },
    {
     "data": {
      "application/vnd.jupyter.widget-view+json": {
       "model_id": "90d2c1a2c76b4764a67dc79bea36f9e9",
       "version_major": 2,
       "version_minor": 0
      },
      "text/plain": [
       "Handling Negations:   0%|          | 0/67 [00:00<?, ?token/s]"
      ]
     },
     "metadata": {},
     "output_type": "display_data"
    },
    {
     "data": {
      "application/vnd.jupyter.widget-view+json": {
       "model_id": "d1890fe97f4e4cf4bb94c7b7eab2d119",
       "version_major": 2,
       "version_minor": 0
      },
      "text/plain": [
       "Handling Negations:   0%|          | 0/37 [00:00<?, ?token/s]"
      ]
     },
     "metadata": {},
     "output_type": "display_data"
    },
    {
     "data": {
      "application/vnd.jupyter.widget-view+json": {
       "model_id": "1fd271a8a69d4f64af39872adf65bf79",
       "version_major": 2,
       "version_minor": 0
      },
      "text/plain": [
       "Handling Negations:   0%|          | 0/165 [00:00<?, ?token/s]"
      ]
     },
     "metadata": {},
     "output_type": "display_data"
    },
    {
     "data": {
      "application/vnd.jupyter.widget-view+json": {
       "model_id": "e5f0fba8078b4063974bcc9315c6818d",
       "version_major": 2,
       "version_minor": 0
      },
      "text/plain": [
       "Handling Negations:   0%|          | 0/39 [00:00<?, ?token/s]"
      ]
     },
     "metadata": {},
     "output_type": "display_data"
    },
    {
     "data": {
      "application/vnd.jupyter.widget-view+json": {
       "model_id": "5d4ff55d974348028ee35d254f9faeb0",
       "version_major": 2,
       "version_minor": 0
      },
      "text/plain": [
       "Handling Negations:   0%|          | 0/74 [00:00<?, ?token/s]"
      ]
     },
     "metadata": {},
     "output_type": "display_data"
    },
    {
     "data": {
      "application/vnd.jupyter.widget-view+json": {
       "model_id": "89e265c1ed23407c869972365afaab4d",
       "version_major": 2,
       "version_minor": 0
      },
      "text/plain": [
       "Handling Negations:   0%|          | 0/105 [00:00<?, ?token/s]"
      ]
     },
     "metadata": {},
     "output_type": "display_data"
    },
    {
     "data": {
      "application/vnd.jupyter.widget-view+json": {
       "model_id": "baf4421ac9034300a193a3de3fb63fbf",
       "version_major": 2,
       "version_minor": 0
      },
      "text/plain": [
       "Handling Negations:   0%|          | 0/227 [00:00<?, ?token/s]"
      ]
     },
     "metadata": {},
     "output_type": "display_data"
    },
    {
     "data": {
      "application/vnd.jupyter.widget-view+json": {
       "model_id": "f8468ef9928d4a99905f1a6cef30773d",
       "version_major": 2,
       "version_minor": 0
      },
      "text/plain": [
       "Handling Negations:   0%|          | 0/38 [00:00<?, ?token/s]"
      ]
     },
     "metadata": {},
     "output_type": "display_data"
    },
    {
     "data": {
      "application/vnd.jupyter.widget-view+json": {
       "model_id": "b2100f2987e0423bbd9eada23b93508c",
       "version_major": 2,
       "version_minor": 0
      },
      "text/plain": [
       "Handling Negations:   0%|          | 0/76 [00:00<?, ?token/s]"
      ]
     },
     "metadata": {},
     "output_type": "display_data"
    },
    {
     "data": {
      "application/vnd.jupyter.widget-view+json": {
       "model_id": "14a4c1d6636e4173a22c5129e96b7933",
       "version_major": 2,
       "version_minor": 0
      },
      "text/plain": [
       "Handling Negations:   0%|          | 0/102 [00:00<?, ?token/s]"
      ]
     },
     "metadata": {},
     "output_type": "display_data"
    },
    {
     "data": {
      "application/vnd.jupyter.widget-view+json": {
       "model_id": "00c814810a7b49eaa6ddc6e612573bfc",
       "version_major": 2,
       "version_minor": 0
      },
      "text/plain": [
       "Handling Negations:   0%|          | 0/37 [00:00<?, ?token/s]"
      ]
     },
     "metadata": {},
     "output_type": "display_data"
    },
    {
     "data": {
      "application/vnd.jupyter.widget-view+json": {
       "model_id": "f2bee5f8f270417f82470484d06e9cf1",
       "version_major": 2,
       "version_minor": 0
      },
      "text/plain": [
       "Handling Negations:   0%|          | 0/52 [00:00<?, ?token/s]"
      ]
     },
     "metadata": {},
     "output_type": "display_data"
    },
    {
     "data": {
      "application/vnd.jupyter.widget-view+json": {
       "model_id": "9b3c8e3d93744218a971568776f2f4ee",
       "version_major": 2,
       "version_minor": 0
      },
      "text/plain": [
       "Handling Negations:   0%|          | 0/23 [00:00<?, ?token/s]"
      ]
     },
     "metadata": {},
     "output_type": "display_data"
    },
    {
     "data": {
      "application/vnd.jupyter.widget-view+json": {
       "model_id": "624cf53823694e5891073e7a61561cdb",
       "version_major": 2,
       "version_minor": 0
      },
      "text/plain": [
       "Handling Negations:   0%|          | 0/21 [00:00<?, ?token/s]"
      ]
     },
     "metadata": {},
     "output_type": "display_data"
    },
    {
     "data": {
      "application/vnd.jupyter.widget-view+json": {
       "model_id": "1d4eb0761844499b9f12f7320d2a5a22",
       "version_major": 2,
       "version_minor": 0
      },
      "text/plain": [
       "Handling Negations:   0%|          | 0/123 [00:00<?, ?token/s]"
      ]
     },
     "metadata": {},
     "output_type": "display_data"
    },
    {
     "data": {
      "application/vnd.jupyter.widget-view+json": {
       "model_id": "d70c61d82e0b49618b6acf0a5d1da653",
       "version_major": 2,
       "version_minor": 0
      },
      "text/plain": [
       "Handling Negations:   0%|          | 0/54 [00:00<?, ?token/s]"
      ]
     },
     "metadata": {},
     "output_type": "display_data"
    },
    {
     "data": {
      "application/vnd.jupyter.widget-view+json": {
       "model_id": "85c6f6fb1e074bdba215910094326a74",
       "version_major": 2,
       "version_minor": 0
      },
      "text/plain": [
       "Handling Negations:   0%|          | 0/59 [00:00<?, ?token/s]"
      ]
     },
     "metadata": {},
     "output_type": "display_data"
    },
    {
     "data": {
      "application/vnd.jupyter.widget-view+json": {
       "model_id": "af20e4ea15884ab2901bfc28dc183be3",
       "version_major": 2,
       "version_minor": 0
      },
      "text/plain": [
       "Handling Negations:   0%|          | 0/137 [00:00<?, ?token/s]"
      ]
     },
     "metadata": {},
     "output_type": "display_data"
    },
    {
     "data": {
      "application/vnd.jupyter.widget-view+json": {
       "model_id": "5ed9759bf2314195be32f33d662cc77e",
       "version_major": 2,
       "version_minor": 0
      },
      "text/plain": [
       "Handling Negations:   0%|          | 0/67 [00:00<?, ?token/s]"
      ]
     },
     "metadata": {},
     "output_type": "display_data"
    },
    {
     "data": {
      "application/vnd.jupyter.widget-view+json": {
       "model_id": "c0729a557ba445f2b234d7c87c97bc2d",
       "version_major": 2,
       "version_minor": 0
      },
      "text/plain": [
       "Handling Negations:   0%|          | 0/151 [00:00<?, ?token/s]"
      ]
     },
     "metadata": {},
     "output_type": "display_data"
    },
    {
     "data": {
      "application/vnd.jupyter.widget-view+json": {
       "model_id": "c339b28bcd934a0983da600839eb97f1",
       "version_major": 2,
       "version_minor": 0
      },
      "text/plain": [
       "Handling Negations:   0%|          | 0/34 [00:00<?, ?token/s]"
      ]
     },
     "metadata": {},
     "output_type": "display_data"
    },
    {
     "data": {
      "application/vnd.jupyter.widget-view+json": {
       "model_id": "d98e6bfe213649bfa122d6f64e0e2131",
       "version_major": 2,
       "version_minor": 0
      },
      "text/plain": [
       "Handling Negations:   0%|          | 0/77 [00:00<?, ?token/s]"
      ]
     },
     "metadata": {},
     "output_type": "display_data"
    },
    {
     "data": {
      "application/vnd.jupyter.widget-view+json": {
       "model_id": "7b6175dd8cd84ae1b7f12ffd13fa2172",
       "version_major": 2,
       "version_minor": 0
      },
      "text/plain": [
       "Handling Negations:   0%|          | 0/28 [00:00<?, ?token/s]"
      ]
     },
     "metadata": {},
     "output_type": "display_data"
    },
    {
     "data": {
      "application/vnd.jupyter.widget-view+json": {
       "model_id": "90bca8dba8d145529c511cb074f32b03",
       "version_major": 2,
       "version_minor": 0
      },
      "text/plain": [
       "Handling Negations:   0%|          | 0/18 [00:00<?, ?token/s]"
      ]
     },
     "metadata": {},
     "output_type": "display_data"
    },
    {
     "data": {
      "application/vnd.jupyter.widget-view+json": {
       "model_id": "922fbd9404a44a8fbc85d64549cad0ac",
       "version_major": 2,
       "version_minor": 0
      },
      "text/plain": [
       "Handling Negations:   0%|          | 0/37 [00:00<?, ?token/s]"
      ]
     },
     "metadata": {},
     "output_type": "display_data"
    },
    {
     "data": {
      "application/vnd.jupyter.widget-view+json": {
       "model_id": "9235708d9f0c40c1b074d4a6a00e5180",
       "version_major": 2,
       "version_minor": 0
      },
      "text/plain": [
       "Handling Negations:   0%|          | 0/26 [00:00<?, ?token/s]"
      ]
     },
     "metadata": {},
     "output_type": "display_data"
    },
    {
     "data": {
      "application/vnd.jupyter.widget-view+json": {
       "model_id": "af0ce3aef92346d8a959b7e421ccc009",
       "version_major": 2,
       "version_minor": 0
      },
      "text/plain": [
       "Handling Negations:   0%|          | 0/39 [00:00<?, ?token/s]"
      ]
     },
     "metadata": {},
     "output_type": "display_data"
    },
    {
     "data": {
      "application/vnd.jupyter.widget-view+json": {
       "model_id": "32546429c4844822a995a44f20b12ccf",
       "version_major": 2,
       "version_minor": 0
      },
      "text/plain": [
       "Handling Negations:   0%|          | 0/73 [00:00<?, ?token/s]"
      ]
     },
     "metadata": {},
     "output_type": "display_data"
    },
    {
     "data": {
      "application/vnd.jupyter.widget-view+json": {
       "model_id": "7443ae5a6fb34a1595697e2cc0a1a916",
       "version_major": 2,
       "version_minor": 0
      },
      "text/plain": [
       "Handling Negations:   0%|          | 0/84 [00:00<?, ?token/s]"
      ]
     },
     "metadata": {},
     "output_type": "display_data"
    },
    {
     "data": {
      "application/vnd.jupyter.widget-view+json": {
       "model_id": "58b2091177fb49a7af9ad4d278c14d59",
       "version_major": 2,
       "version_minor": 0
      },
      "text/plain": [
       "Handling Negations:   0%|          | 0/47 [00:00<?, ?token/s]"
      ]
     },
     "metadata": {},
     "output_type": "display_data"
    },
    {
     "data": {
      "application/vnd.jupyter.widget-view+json": {
       "model_id": "0784fd4de5d4421a9c32c0b91cde13d4",
       "version_major": 2,
       "version_minor": 0
      },
      "text/plain": [
       "Handling Negations:   0%|          | 0/113 [00:00<?, ?token/s]"
      ]
     },
     "metadata": {},
     "output_type": "display_data"
    },
    {
     "data": {
      "application/vnd.jupyter.widget-view+json": {
       "model_id": "3ec00776e19f4fd0b46dc79e6b26f1f5",
       "version_major": 2,
       "version_minor": 0
      },
      "text/plain": [
       "Handling Negations:   0%|          | 0/57 [00:00<?, ?token/s]"
      ]
     },
     "metadata": {},
     "output_type": "display_data"
    },
    {
     "data": {
      "application/vnd.jupyter.widget-view+json": {
       "model_id": "fa6e1685c8ef460aa509ce32f0b91092",
       "version_major": 2,
       "version_minor": 0
      },
      "text/plain": [
       "Handling Negations:   0%|          | 0/32 [00:00<?, ?token/s]"
      ]
     },
     "metadata": {},
     "output_type": "display_data"
    },
    {
     "data": {
      "application/vnd.jupyter.widget-view+json": {
       "model_id": "f5aec52425914d539c5388efd6c8b0bf",
       "version_major": 2,
       "version_minor": 0
      },
      "text/plain": [
       "Handling Negations:   0%|          | 0/99 [00:00<?, ?token/s]"
      ]
     },
     "metadata": {},
     "output_type": "display_data"
    },
    {
     "data": {
      "application/vnd.jupyter.widget-view+json": {
       "model_id": "3fd7443e16564dd5b0a85190da149f6a",
       "version_major": 2,
       "version_minor": 0
      },
      "text/plain": [
       "Handling Negations:   0%|          | 0/111 [00:00<?, ?token/s]"
      ]
     },
     "metadata": {},
     "output_type": "display_data"
    },
    {
     "data": {
      "application/vnd.jupyter.widget-view+json": {
       "model_id": "aa0c4e6cf91f447388ae101a846039df",
       "version_major": 2,
       "version_minor": 0
      },
      "text/plain": [
       "Handling Negations:   0%|          | 0/39 [00:00<?, ?token/s]"
      ]
     },
     "metadata": {},
     "output_type": "display_data"
    },
    {
     "data": {
      "application/vnd.jupyter.widget-view+json": {
       "model_id": "4387f4dbdce74423999ffac4f06dcc53",
       "version_major": 2,
       "version_minor": 0
      },
      "text/plain": [
       "Handling Negations:   0%|          | 0/48 [00:00<?, ?token/s]"
      ]
     },
     "metadata": {},
     "output_type": "display_data"
    },
    {
     "data": {
      "application/vnd.jupyter.widget-view+json": {
       "model_id": "26a228efd9cc4540b925329864436ad8",
       "version_major": 2,
       "version_minor": 0
      },
      "text/plain": [
       "Handling Negations:   0%|          | 0/56 [00:00<?, ?token/s]"
      ]
     },
     "metadata": {},
     "output_type": "display_data"
    },
    {
     "data": {
      "application/vnd.jupyter.widget-view+json": {
       "model_id": "f2006607db2741cc825250436b15f0a5",
       "version_major": 2,
       "version_minor": 0
      },
      "text/plain": [
       "Handling Negations:   0%|          | 0/105 [00:00<?, ?token/s]"
      ]
     },
     "metadata": {},
     "output_type": "display_data"
    },
    {
     "data": {
      "application/vnd.jupyter.widget-view+json": {
       "model_id": "e01595d9c7ee44bfb01ada2538220972",
       "version_major": 2,
       "version_minor": 0
      },
      "text/plain": [
       "Handling Negations:   0%|          | 0/52 [00:00<?, ?token/s]"
      ]
     },
     "metadata": {},
     "output_type": "display_data"
    },
    {
     "data": {
      "application/vnd.jupyter.widget-view+json": {
       "model_id": "a55b177161d643e0ac474d66ba152426",
       "version_major": 2,
       "version_minor": 0
      },
      "text/plain": [
       "Handling Negations:   0%|          | 0/102 [00:00<?, ?token/s]"
      ]
     },
     "metadata": {},
     "output_type": "display_data"
    },
    {
     "data": {
      "application/vnd.jupyter.widget-view+json": {
       "model_id": "9fcefa6de4a648f98f0d8f41cd7e8de2",
       "version_major": 2,
       "version_minor": 0
      },
      "text/plain": [
       "Handling Negations:   0%|          | 0/35 [00:00<?, ?token/s]"
      ]
     },
     "metadata": {},
     "output_type": "display_data"
    },
    {
     "data": {
      "application/vnd.jupyter.widget-view+json": {
       "model_id": "52279fe780494d7186cb338d33edb9b0",
       "version_major": 2,
       "version_minor": 0
      },
      "text/plain": [
       "Handling Negations:   0%|          | 0/40 [00:00<?, ?token/s]"
      ]
     },
     "metadata": {},
     "output_type": "display_data"
    },
    {
     "data": {
      "application/vnd.jupyter.widget-view+json": {
       "model_id": "2fd3d98245b0401d833e37bbe8af18fb",
       "version_major": 2,
       "version_minor": 0
      },
      "text/plain": [
       "Handling Negations:   0%|          | 0/137 [00:00<?, ?token/s]"
      ]
     },
     "metadata": {},
     "output_type": "display_data"
    },
    {
     "data": {
      "application/vnd.jupyter.widget-view+json": {
       "model_id": "e1541c3a986848efaacc58bb002f9e0b",
       "version_major": 2,
       "version_minor": 0
      },
      "text/plain": [
       "Handling Negations:   0%|          | 0/62 [00:00<?, ?token/s]"
      ]
     },
     "metadata": {},
     "output_type": "display_data"
    },
    {
     "data": {
      "application/vnd.jupyter.widget-view+json": {
       "model_id": "c2bafe8de0ec488fb84d07b8ef129826",
       "version_major": 2,
       "version_minor": 0
      },
      "text/plain": [
       "Handling Negations:   0%|          | 0/53 [00:00<?, ?token/s]"
      ]
     },
     "metadata": {},
     "output_type": "display_data"
    },
    {
     "data": {
      "application/vnd.jupyter.widget-view+json": {
       "model_id": "7a3ca374498441a7b1be0d8341c4ec37",
       "version_major": 2,
       "version_minor": 0
      },
      "text/plain": [
       "Handling Negations:   0%|          | 0/255 [00:00<?, ?token/s]"
      ]
     },
     "metadata": {},
     "output_type": "display_data"
    },
    {
     "data": {
      "application/vnd.jupyter.widget-view+json": {
       "model_id": "323b0a4ec15e4f7fa8b2f6452d27c477",
       "version_major": 2,
       "version_minor": 0
      },
      "text/plain": [
       "Handling Negations:   0%|          | 0/203 [00:00<?, ?token/s]"
      ]
     },
     "metadata": {},
     "output_type": "display_data"
    },
    {
     "data": {
      "application/vnd.jupyter.widget-view+json": {
       "model_id": "01f491fa7bc243bd9fc73f3d54297ebb",
       "version_major": 2,
       "version_minor": 0
      },
      "text/plain": [
       "Handling Negations:   0%|          | 0/48 [00:00<?, ?token/s]"
      ]
     },
     "metadata": {},
     "output_type": "display_data"
    },
    {
     "data": {
      "application/vnd.jupyter.widget-view+json": {
       "model_id": "444b03a3d5e34e7b8faddb1db447dd87",
       "version_major": 2,
       "version_minor": 0
      },
      "text/plain": [
       "Handling Negations:   0%|          | 0/151 [00:00<?, ?token/s]"
      ]
     },
     "metadata": {},
     "output_type": "display_data"
    },
    {
     "data": {
      "application/vnd.jupyter.widget-view+json": {
       "model_id": "d79c12a514434e80b31af53291af6c2b",
       "version_major": 2,
       "version_minor": 0
      },
      "text/plain": [
       "Handling Negations:   0%|          | 0/32 [00:00<?, ?token/s]"
      ]
     },
     "metadata": {},
     "output_type": "display_data"
    },
    {
     "data": {
      "application/vnd.jupyter.widget-view+json": {
       "model_id": "06dfb3201c4e415f88b1f640bd6204e8",
       "version_major": 2,
       "version_minor": 0
      },
      "text/plain": [
       "Handling Negations:   0%|          | 0/69 [00:00<?, ?token/s]"
      ]
     },
     "metadata": {},
     "output_type": "display_data"
    },
    {
     "data": {
      "application/vnd.jupyter.widget-view+json": {
       "model_id": "90ca2c52385b4c2b914a63aa9172966c",
       "version_major": 2,
       "version_minor": 0
      },
      "text/plain": [
       "Handling Negations:   0%|          | 0/38 [00:00<?, ?token/s]"
      ]
     },
     "metadata": {},
     "output_type": "display_data"
    },
    {
     "data": {
      "application/vnd.jupyter.widget-view+json": {
       "model_id": "a16dc3b8bfe04355ba489ad873da1ef2",
       "version_major": 2,
       "version_minor": 0
      },
      "text/plain": [
       "Handling Negations:   0%|          | 0/146 [00:00<?, ?token/s]"
      ]
     },
     "metadata": {},
     "output_type": "display_data"
    },
    {
     "data": {
      "application/vnd.jupyter.widget-view+json": {
       "model_id": "3c97c29e9eef4f9f9612f831e19da77c",
       "version_major": 2,
       "version_minor": 0
      },
      "text/plain": [
       "Handling Negations:   0%|          | 0/69 [00:00<?, ?token/s]"
      ]
     },
     "metadata": {},
     "output_type": "display_data"
    },
    {
     "data": {
      "application/vnd.jupyter.widget-view+json": {
       "model_id": "98f259cc4ff44a6cbba8f1edabf56d0c",
       "version_major": 2,
       "version_minor": 0
      },
      "text/plain": [
       "Handling Negations:   0%|          | 0/100 [00:00<?, ?token/s]"
      ]
     },
     "metadata": {},
     "output_type": "display_data"
    },
    {
     "data": {
      "application/vnd.jupyter.widget-view+json": {
       "model_id": "70cb3030331043a99c2ca64c45f9a9d0",
       "version_major": 2,
       "version_minor": 0
      },
      "text/plain": [
       "Handling Negations:   0%|          | 0/141 [00:00<?, ?token/s]"
      ]
     },
     "metadata": {},
     "output_type": "display_data"
    },
    {
     "data": {
      "application/vnd.jupyter.widget-view+json": {
       "model_id": "16bdf628d20e4dc8b6fd736be3fcd4de",
       "version_major": 2,
       "version_minor": 0
      },
      "text/plain": [
       "Handling Negations:   0%|          | 0/45 [00:00<?, ?token/s]"
      ]
     },
     "metadata": {},
     "output_type": "display_data"
    },
    {
     "data": {
      "application/vnd.jupyter.widget-view+json": {
       "model_id": "f3d651452377465b8addcb294fabcb20",
       "version_major": 2,
       "version_minor": 0
      },
      "text/plain": [
       "Handling Negations:   0%|          | 0/109 [00:00<?, ?token/s]"
      ]
     },
     "metadata": {},
     "output_type": "display_data"
    },
    {
     "data": {
      "application/vnd.jupyter.widget-view+json": {
       "model_id": "a1560979ea1545758b1e846c714e2d0e",
       "version_major": 2,
       "version_minor": 0
      },
      "text/plain": [
       "Handling Negations:   0%|          | 0/118 [00:00<?, ?token/s]"
      ]
     },
     "metadata": {},
     "output_type": "display_data"
    },
    {
     "data": {
      "application/vnd.jupyter.widget-view+json": {
       "model_id": "893bdea1c4c54c239962ff27f801cd2d",
       "version_major": 2,
       "version_minor": 0
      },
      "text/plain": [
       "Handling Negations:   0%|          | 0/28 [00:00<?, ?token/s]"
      ]
     },
     "metadata": {},
     "output_type": "display_data"
    },
    {
     "data": {
      "application/vnd.jupyter.widget-view+json": {
       "model_id": "727ddbaabc40419f85631bb5d774f468",
       "version_major": 2,
       "version_minor": 0
      },
      "text/plain": [
       "Handling Negations:   0%|          | 0/55 [00:00<?, ?token/s]"
      ]
     },
     "metadata": {},
     "output_type": "display_data"
    },
    {
     "data": {
      "application/vnd.jupyter.widget-view+json": {
       "model_id": "8c2cad72274c4566a51cea4a303214f1",
       "version_major": 2,
       "version_minor": 0
      },
      "text/plain": [
       "Handling Negations:   0%|          | 0/65 [00:00<?, ?token/s]"
      ]
     },
     "metadata": {},
     "output_type": "display_data"
    },
    {
     "data": {
      "application/vnd.jupyter.widget-view+json": {
       "model_id": "fbb9b036ee28406fae2f6a6f4e72f88d",
       "version_major": 2,
       "version_minor": 0
      },
      "text/plain": [
       "Handling Negations:   0%|          | 0/115 [00:00<?, ?token/s]"
      ]
     },
     "metadata": {},
     "output_type": "display_data"
    },
    {
     "data": {
      "application/vnd.jupyter.widget-view+json": {
       "model_id": "0fd7465403a04c15bfe0f2478b21846b",
       "version_major": 2,
       "version_minor": 0
      },
      "text/plain": [
       "Handling Negations:   0%|          | 0/27 [00:00<?, ?token/s]"
      ]
     },
     "metadata": {},
     "output_type": "display_data"
    },
    {
     "data": {
      "application/vnd.jupyter.widget-view+json": {
       "model_id": "1205d4a9cfa543679bac38c9a6c4cc83",
       "version_major": 2,
       "version_minor": 0
      },
      "text/plain": [
       "Handling Negations:   0%|          | 0/68 [00:00<?, ?token/s]"
      ]
     },
     "metadata": {},
     "output_type": "display_data"
    },
    {
     "data": {
      "application/vnd.jupyter.widget-view+json": {
       "model_id": "0fa5613e3f4f4ac2abec582ed7f70a7e",
       "version_major": 2,
       "version_minor": 0
      },
      "text/plain": [
       "Handling Negations:   0%|          | 0/266 [00:00<?, ?token/s]"
      ]
     },
     "metadata": {},
     "output_type": "display_data"
    },
    {
     "data": {
      "application/vnd.jupyter.widget-view+json": {
       "model_id": "01a628eda04e45ac824588ed0af89644",
       "version_major": 2,
       "version_minor": 0
      },
      "text/plain": [
       "Handling Negations:   0%|          | 0/116 [00:00<?, ?token/s]"
      ]
     },
     "metadata": {},
     "output_type": "display_data"
    },
    {
     "data": {
      "application/vnd.jupyter.widget-view+json": {
       "model_id": "0021249e8ede4b68a7675801c15a8188",
       "version_major": 2,
       "version_minor": 0
      },
      "text/plain": [
       "Handling Negations:   0%|          | 0/73 [00:00<?, ?token/s]"
      ]
     },
     "metadata": {},
     "output_type": "display_data"
    },
    {
     "data": {
      "application/vnd.jupyter.widget-view+json": {
       "model_id": "dffd947ce04746aaaabd4c61d81850cf",
       "version_major": 2,
       "version_minor": 0
      },
      "text/plain": [
       "Handling Negations:   0%|          | 0/68 [00:00<?, ?token/s]"
      ]
     },
     "metadata": {},
     "output_type": "display_data"
    },
    {
     "data": {
      "application/vnd.jupyter.widget-view+json": {
       "model_id": "76cc6013719d40e1a85cd56bcacea1c1",
       "version_major": 2,
       "version_minor": 0
      },
      "text/plain": [
       "Handling Negations:   0%|          | 0/107 [00:00<?, ?token/s]"
      ]
     },
     "metadata": {},
     "output_type": "display_data"
    },
    {
     "data": {
      "application/vnd.jupyter.widget-view+json": {
       "model_id": "60a46ce26c67443494cfc4c91fd881dd",
       "version_major": 2,
       "version_minor": 0
      },
      "text/plain": [
       "Handling Negations:   0%|          | 0/158 [00:00<?, ?token/s]"
      ]
     },
     "metadata": {},
     "output_type": "display_data"
    },
    {
     "data": {
      "application/vnd.jupyter.widget-view+json": {
       "model_id": "dc21784b78464aa785dca9338848ac83",
       "version_major": 2,
       "version_minor": 0
      },
      "text/plain": [
       "Handling Negations:   0%|          | 0/66 [00:00<?, ?token/s]"
      ]
     },
     "metadata": {},
     "output_type": "display_data"
    },
    {
     "data": {
      "application/vnd.jupyter.widget-view+json": {
       "model_id": "a7143aff6eff4df4936f7c34979a4887",
       "version_major": 2,
       "version_minor": 0
      },
      "text/plain": [
       "Handling Negations:   0%|          | 0/111 [00:00<?, ?token/s]"
      ]
     },
     "metadata": {},
     "output_type": "display_data"
    },
    {
     "data": {
      "application/vnd.jupyter.widget-view+json": {
       "model_id": "065f8b38e7834e498b782908178e66cd",
       "version_major": 2,
       "version_minor": 0
      },
      "text/plain": [
       "Handling Negations:   0%|          | 0/83 [00:00<?, ?token/s]"
      ]
     },
     "metadata": {},
     "output_type": "display_data"
    },
    {
     "data": {
      "application/vnd.jupyter.widget-view+json": {
       "model_id": "746681f5f71249119efdaa7a4f1b7afd",
       "version_major": 2,
       "version_minor": 0
      },
      "text/plain": [
       "Handling Negations:   0%|          | 0/53 [00:00<?, ?token/s]"
      ]
     },
     "metadata": {},
     "output_type": "display_data"
    },
    {
     "data": {
      "application/vnd.jupyter.widget-view+json": {
       "model_id": "81990adfac6e4caa90ac339c01278e2e",
       "version_major": 2,
       "version_minor": 0
      },
      "text/plain": [
       "Handling Negations:   0%|          | 0/60 [00:00<?, ?token/s]"
      ]
     },
     "metadata": {},
     "output_type": "display_data"
    },
    {
     "data": {
      "application/vnd.jupyter.widget-view+json": {
       "model_id": "549c0d0328c44ede8e8b156404ab4f03",
       "version_major": 2,
       "version_minor": 0
      },
      "text/plain": [
       "Handling Negations:   0%|          | 0/190 [00:00<?, ?token/s]"
      ]
     },
     "metadata": {},
     "output_type": "display_data"
    },
    {
     "data": {
      "application/vnd.jupyter.widget-view+json": {
       "model_id": "db8eb0d4f65d4cad9e9e72931d98d0d0",
       "version_major": 2,
       "version_minor": 0
      },
      "text/plain": [
       "Handling Negations:   0%|          | 0/85 [00:00<?, ?token/s]"
      ]
     },
     "metadata": {},
     "output_type": "display_data"
    },
    {
     "data": {
      "application/vnd.jupyter.widget-view+json": {
       "model_id": "fe527f22756b4d279e5c9d5f00324df1",
       "version_major": 2,
       "version_minor": 0
      },
      "text/plain": [
       "Handling Negations:   0%|          | 0/82 [00:00<?, ?token/s]"
      ]
     },
     "metadata": {},
     "output_type": "display_data"
    },
    {
     "data": {
      "application/vnd.jupyter.widget-view+json": {
       "model_id": "ff8fceec87fd455797e73b061765d91a",
       "version_major": 2,
       "version_minor": 0
      },
      "text/plain": [
       "Handling Negations:   0%|          | 0/18 [00:00<?, ?token/s]"
      ]
     },
     "metadata": {},
     "output_type": "display_data"
    },
    {
     "data": {
      "application/vnd.jupyter.widget-view+json": {
       "model_id": "d154ac94023c4a299d3ffaf0d579d833",
       "version_major": 2,
       "version_minor": 0
      },
      "text/plain": [
       "Handling Negations:   0%|          | 0/79 [00:00<?, ?token/s]"
      ]
     },
     "metadata": {},
     "output_type": "display_data"
    },
    {
     "data": {
      "application/vnd.jupyter.widget-view+json": {
       "model_id": "5c412a74f2f14b98b2e2a4e72def6a87",
       "version_major": 2,
       "version_minor": 0
      },
      "text/plain": [
       "Handling Negations:   0%|          | 0/27 [00:00<?, ?token/s]"
      ]
     },
     "metadata": {},
     "output_type": "display_data"
    },
    {
     "data": {
      "application/vnd.jupyter.widget-view+json": {
       "model_id": "32716dcf85bb48e8be4f44b29651c8f0",
       "version_major": 2,
       "version_minor": 0
      },
      "text/plain": [
       "Handling Negations:   0%|          | 0/170 [00:00<?, ?token/s]"
      ]
     },
     "metadata": {},
     "output_type": "display_data"
    },
    {
     "data": {
      "application/vnd.jupyter.widget-view+json": {
       "model_id": "c5b7cbd42a854479a1a112b904a88d39",
       "version_major": 2,
       "version_minor": 0
      },
      "text/plain": [
       "Handling Negations:   0%|          | 0/64 [00:00<?, ?token/s]"
      ]
     },
     "metadata": {},
     "output_type": "display_data"
    },
    {
     "data": {
      "application/vnd.jupyter.widget-view+json": {
       "model_id": "90220c1c4ceb4eee9865c4a5bef1b228",
       "version_major": 2,
       "version_minor": 0
      },
      "text/plain": [
       "Handling Negations:   0%|          | 0/131 [00:00<?, ?token/s]"
      ]
     },
     "metadata": {},
     "output_type": "display_data"
    },
    {
     "data": {
      "application/vnd.jupyter.widget-view+json": {
       "model_id": "0038db1d59fc4b7f80482c1b77cb4260",
       "version_major": 2,
       "version_minor": 0
      },
      "text/plain": [
       "Handling Negations:   0%|          | 0/54 [00:00<?, ?token/s]"
      ]
     },
     "metadata": {},
     "output_type": "display_data"
    },
    {
     "data": {
      "application/vnd.jupyter.widget-view+json": {
       "model_id": "14bfeb2d4c42420caed2850371078e75",
       "version_major": 2,
       "version_minor": 0
      },
      "text/plain": [
       "Handling Negations:   0%|          | 0/42 [00:00<?, ?token/s]"
      ]
     },
     "metadata": {},
     "output_type": "display_data"
    },
    {
     "data": {
      "application/vnd.jupyter.widget-view+json": {
       "model_id": "5142ea2dd764484c8a72c8233f93f5ef",
       "version_major": 2,
       "version_minor": 0
      },
      "text/plain": [
       "Handling Negations:   0%|          | 0/116 [00:00<?, ?token/s]"
      ]
     },
     "metadata": {},
     "output_type": "display_data"
    },
    {
     "data": {
      "application/vnd.jupyter.widget-view+json": {
       "model_id": "5f22cc60a0ba447299212cfbfcc07fbb",
       "version_major": 2,
       "version_minor": 0
      },
      "text/plain": [
       "Handling Negations:   0%|          | 0/82 [00:00<?, ?token/s]"
      ]
     },
     "metadata": {},
     "output_type": "display_data"
    },
    {
     "data": {
      "application/vnd.jupyter.widget-view+json": {
       "model_id": "db9aa1f4d98e4ee4bdc3c13173c40dc3",
       "version_major": 2,
       "version_minor": 0
      },
      "text/plain": [
       "Handling Negations:   0%|          | 0/42 [00:00<?, ?token/s]"
      ]
     },
     "metadata": {},
     "output_type": "display_data"
    },
    {
     "data": {
      "application/vnd.jupyter.widget-view+json": {
       "model_id": "0663a64c1fc14399890499f0457cc599",
       "version_major": 2,
       "version_minor": 0
      },
      "text/plain": [
       "Handling Negations:   0%|          | 0/44 [00:00<?, ?token/s]"
      ]
     },
     "metadata": {},
     "output_type": "display_data"
    },
    {
     "data": {
      "application/vnd.jupyter.widget-view+json": {
       "model_id": "03fd9756e64f40bc8aa85395f5559c1d",
       "version_major": 2,
       "version_minor": 0
      },
      "text/plain": [
       "Handling Negations:   0%|          | 0/133 [00:00<?, ?token/s]"
      ]
     },
     "metadata": {},
     "output_type": "display_data"
    },
    {
     "data": {
      "application/vnd.jupyter.widget-view+json": {
       "model_id": "582265b689f740e4b751f0311165b457",
       "version_major": 2,
       "version_minor": 0
      },
      "text/plain": [
       "Handling Negations:   0%|          | 0/136 [00:00<?, ?token/s]"
      ]
     },
     "metadata": {},
     "output_type": "display_data"
    },
    {
     "data": {
      "application/vnd.jupyter.widget-view+json": {
       "model_id": "f59f0bffbdf04e1e885d885db3f8d411",
       "version_major": 2,
       "version_minor": 0
      },
      "text/plain": [
       "Handling Negations:   0%|          | 0/142 [00:00<?, ?token/s]"
      ]
     },
     "metadata": {},
     "output_type": "display_data"
    },
    {
     "data": {
      "application/vnd.jupyter.widget-view+json": {
       "model_id": "6f280ccb8458465ead93ffa0dccfebb9",
       "version_major": 2,
       "version_minor": 0
      },
      "text/plain": [
       "Handling Negations:   0%|          | 0/51 [00:00<?, ?token/s]"
      ]
     },
     "metadata": {},
     "output_type": "display_data"
    },
    {
     "data": {
      "application/vnd.jupyter.widget-view+json": {
       "model_id": "a70c0d93acdb43fea4772815b046108f",
       "version_major": 2,
       "version_minor": 0
      },
      "text/plain": [
       "Handling Negations:   0%|          | 0/39 [00:00<?, ?token/s]"
      ]
     },
     "metadata": {},
     "output_type": "display_data"
    },
    {
     "data": {
      "application/vnd.jupyter.widget-view+json": {
       "model_id": "f5c975ce1fe34490add9a4a2802b9e9f",
       "version_major": 2,
       "version_minor": 0
      },
      "text/plain": [
       "Handling Negations:   0%|          | 0/38 [00:00<?, ?token/s]"
      ]
     },
     "metadata": {},
     "output_type": "display_data"
    },
    {
     "data": {
      "application/vnd.jupyter.widget-view+json": {
       "model_id": "f0f4ce92d6b94141a3f5367f68aafe57",
       "version_major": 2,
       "version_minor": 0
      },
      "text/plain": [
       "Handling Negations:   0%|          | 0/58 [00:00<?, ?token/s]"
      ]
     },
     "metadata": {},
     "output_type": "display_data"
    },
    {
     "data": {
      "application/vnd.jupyter.widget-view+json": {
       "model_id": "29d1b9061e2f4ad195a679af27957bfc",
       "version_major": 2,
       "version_minor": 0
      },
      "text/plain": [
       "Handling Negations:   0%|          | 0/61 [00:00<?, ?token/s]"
      ]
     },
     "metadata": {},
     "output_type": "display_data"
    },
    {
     "data": {
      "application/vnd.jupyter.widget-view+json": {
       "model_id": "f3d91bbd883c435e9ce971b4a06448f0",
       "version_major": 2,
       "version_minor": 0
      },
      "text/plain": [
       "Handling Negations:   0%|          | 0/176 [00:00<?, ?token/s]"
      ]
     },
     "metadata": {},
     "output_type": "display_data"
    },
    {
     "data": {
      "application/vnd.jupyter.widget-view+json": {
       "model_id": "304fbcef39634bd69cac80bdc68b5875",
       "version_major": 2,
       "version_minor": 0
      },
      "text/plain": [
       "Handling Negations:   0%|          | 0/20 [00:00<?, ?token/s]"
      ]
     },
     "metadata": {},
     "output_type": "display_data"
    },
    {
     "data": {
      "application/vnd.jupyter.widget-view+json": {
       "model_id": "1171f407468d4842bb77c85bc660888f",
       "version_major": 2,
       "version_minor": 0
      },
      "text/plain": [
       "Handling Negations:   0%|          | 0/113 [00:00<?, ?token/s]"
      ]
     },
     "metadata": {},
     "output_type": "display_data"
    },
    {
     "data": {
      "application/vnd.jupyter.widget-view+json": {
       "model_id": "911bbbdf37ba4ddda106a04c50c65b9b",
       "version_major": 2,
       "version_minor": 0
      },
      "text/plain": [
       "Handling Negations:   0%|          | 0/165 [00:00<?, ?token/s]"
      ]
     },
     "metadata": {},
     "output_type": "display_data"
    },
    {
     "data": {
      "application/vnd.jupyter.widget-view+json": {
       "model_id": "9450a4c0a80242be89eeb9fb91cf8472",
       "version_major": 2,
       "version_minor": 0
      },
      "text/plain": [
       "Handling Negations:   0%|          | 0/38 [00:00<?, ?token/s]"
      ]
     },
     "metadata": {},
     "output_type": "display_data"
    },
    {
     "data": {
      "application/vnd.jupyter.widget-view+json": {
       "model_id": "202894d59bfd42e99ed30dc229591e29",
       "version_major": 2,
       "version_minor": 0
      },
      "text/plain": [
       "Handling Negations:   0%|          | 0/96 [00:00<?, ?token/s]"
      ]
     },
     "metadata": {},
     "output_type": "display_data"
    },
    {
     "data": {
      "application/vnd.jupyter.widget-view+json": {
       "model_id": "e7c3e063dee54c9890095a77e4c45a2c",
       "version_major": 2,
       "version_minor": 0
      },
      "text/plain": [
       "Handling Negations:   0%|          | 0/76 [00:00<?, ?token/s]"
      ]
     },
     "metadata": {},
     "output_type": "display_data"
    },
    {
     "data": {
      "application/vnd.jupyter.widget-view+json": {
       "model_id": "1c5f8d5b311c4750bf210b99877142e1",
       "version_major": 2,
       "version_minor": 0
      },
      "text/plain": [
       "Handling Negations:   0%|          | 0/90 [00:00<?, ?token/s]"
      ]
     },
     "metadata": {},
     "output_type": "display_data"
    },
    {
     "data": {
      "application/vnd.jupyter.widget-view+json": {
       "model_id": "56a7514dafd34af5bb95d58da1a662ab",
       "version_major": 2,
       "version_minor": 0
      },
      "text/plain": [
       "Handling Negations:   0%|          | 0/106 [00:00<?, ?token/s]"
      ]
     },
     "metadata": {},
     "output_type": "display_data"
    },
    {
     "data": {
      "application/vnd.jupyter.widget-view+json": {
       "model_id": "ad741b847db5406e8f28e52b30566a09",
       "version_major": 2,
       "version_minor": 0
      },
      "text/plain": [
       "Handling Negations:   0%|          | 0/49 [00:00<?, ?token/s]"
      ]
     },
     "metadata": {},
     "output_type": "display_data"
    },
    {
     "data": {
      "application/vnd.jupyter.widget-view+json": {
       "model_id": "3a865205600e468096e74bf64c2886c9",
       "version_major": 2,
       "version_minor": 0
      },
      "text/plain": [
       "Handling Negations:   0%|          | 0/52 [00:00<?, ?token/s]"
      ]
     },
     "metadata": {},
     "output_type": "display_data"
    },
    {
     "data": {
      "application/vnd.jupyter.widget-view+json": {
       "model_id": "d1afa4fd35f2426b8dfcb1f28202cbdf",
       "version_major": 2,
       "version_minor": 0
      },
      "text/plain": [
       "Handling Negations:   0%|          | 0/29 [00:00<?, ?token/s]"
      ]
     },
     "metadata": {},
     "output_type": "display_data"
    },
    {
     "data": {
      "application/vnd.jupyter.widget-view+json": {
       "model_id": "1cb8f52bc095412281c3ee1628ce8b74",
       "version_major": 2,
       "version_minor": 0
      },
      "text/plain": [
       "Handling Negations:   0%|          | 0/95 [00:00<?, ?token/s]"
      ]
     },
     "metadata": {},
     "output_type": "display_data"
    },
    {
     "data": {
      "application/vnd.jupyter.widget-view+json": {
       "model_id": "adfae26140a24c79a4aed2b2c7a92095",
       "version_major": 2,
       "version_minor": 0
      },
      "text/plain": [
       "Handling Negations:   0%|          | 0/147 [00:00<?, ?token/s]"
      ]
     },
     "metadata": {},
     "output_type": "display_data"
    },
    {
     "data": {
      "application/vnd.jupyter.widget-view+json": {
       "model_id": "0f1fe49c83a2490892470238d7c59e57",
       "version_major": 2,
       "version_minor": 0
      },
      "text/plain": [
       "Handling Negations:   0%|          | 0/46 [00:00<?, ?token/s]"
      ]
     },
     "metadata": {},
     "output_type": "display_data"
    },
    {
     "data": {
      "application/vnd.jupyter.widget-view+json": {
       "model_id": "9fe7850dacbe4ccdb430139e257c63fc",
       "version_major": 2,
       "version_minor": 0
      },
      "text/plain": [
       "Handling Negations:   0%|          | 0/93 [00:00<?, ?token/s]"
      ]
     },
     "metadata": {},
     "output_type": "display_data"
    },
    {
     "data": {
      "application/vnd.jupyter.widget-view+json": {
       "model_id": "baa16951d1ce4f57aaf3f0a814335272",
       "version_major": 2,
       "version_minor": 0
      },
      "text/plain": [
       "Handling Negations:   0%|          | 0/30 [00:00<?, ?token/s]"
      ]
     },
     "metadata": {},
     "output_type": "display_data"
    },
    {
     "data": {
      "application/vnd.jupyter.widget-view+json": {
       "model_id": "dd36e308d9dc4a09a47c0da4a556b5cc",
       "version_major": 2,
       "version_minor": 0
      },
      "text/plain": [
       "Handling Negations:   0%|          | 0/103 [00:00<?, ?token/s]"
      ]
     },
     "metadata": {},
     "output_type": "display_data"
    },
    {
     "data": {
      "application/vnd.jupyter.widget-view+json": {
       "model_id": "94fc97fcbd30402c8c966a2264664668",
       "version_major": 2,
       "version_minor": 0
      },
      "text/plain": [
       "Handling Negations:   0%|          | 0/192 [00:00<?, ?token/s]"
      ]
     },
     "metadata": {},
     "output_type": "display_data"
    },
    {
     "data": {
      "application/vnd.jupyter.widget-view+json": {
       "model_id": "0c932efe756b4d649b799f8b0eb96928",
       "version_major": 2,
       "version_minor": 0
      },
      "text/plain": [
       "Handling Negations:   0%|          | 0/29 [00:00<?, ?token/s]"
      ]
     },
     "metadata": {},
     "output_type": "display_data"
    },
    {
     "data": {
      "application/vnd.jupyter.widget-view+json": {
       "model_id": "5658e74cbc8a45609e0c5b801e7b6cc9",
       "version_major": 2,
       "version_minor": 0
      },
      "text/plain": [
       "Handling Negations:   0%|          | 0/96 [00:00<?, ?token/s]"
      ]
     },
     "metadata": {},
     "output_type": "display_data"
    },
    {
     "data": {
      "application/vnd.jupyter.widget-view+json": {
       "model_id": "ec9c2e6ff099404985b2ac109bd8770c",
       "version_major": 2,
       "version_minor": 0
      },
      "text/plain": [
       "Handling Negations:   0%|          | 0/60 [00:00<?, ?token/s]"
      ]
     },
     "metadata": {},
     "output_type": "display_data"
    },
    {
     "data": {
      "application/vnd.jupyter.widget-view+json": {
       "model_id": "818087222db44e57b1e7badf9da069ca",
       "version_major": 2,
       "version_minor": 0
      },
      "text/plain": [
       "Handling Negations:   0%|          | 0/80 [00:00<?, ?token/s]"
      ]
     },
     "metadata": {},
     "output_type": "display_data"
    },
    {
     "data": {
      "application/vnd.jupyter.widget-view+json": {
       "model_id": "e3f5dd4131ba48a18888d11400adf9b6",
       "version_major": 2,
       "version_minor": 0
      },
      "text/plain": [
       "Handling Negations:   0%|          | 0/63 [00:00<?, ?token/s]"
      ]
     },
     "metadata": {},
     "output_type": "display_data"
    },
    {
     "data": {
      "application/vnd.jupyter.widget-view+json": {
       "model_id": "47dc161a4b3d442587226c04b24163d5",
       "version_major": 2,
       "version_minor": 0
      },
      "text/plain": [
       "Handling Negations:   0%|          | 0/19 [00:00<?, ?token/s]"
      ]
     },
     "metadata": {},
     "output_type": "display_data"
    },
    {
     "data": {
      "application/vnd.jupyter.widget-view+json": {
       "model_id": "672c0b37588c4f068347e65c4c921723",
       "version_major": 2,
       "version_minor": 0
      },
      "text/plain": [
       "Handling Negations:   0%|          | 0/49 [00:00<?, ?token/s]"
      ]
     },
     "metadata": {},
     "output_type": "display_data"
    },
    {
     "data": {
      "application/vnd.jupyter.widget-view+json": {
       "model_id": "54df6b4d22c547f7a511a4cce3d6ed60",
       "version_major": 2,
       "version_minor": 0
      },
      "text/plain": [
       "Handling Negations:   0%|          | 0/128 [00:00<?, ?token/s]"
      ]
     },
     "metadata": {},
     "output_type": "display_data"
    },
    {
     "data": {
      "application/vnd.jupyter.widget-view+json": {
       "model_id": "cfad6b33cdd24d24b4926de30a4635f7",
       "version_major": 2,
       "version_minor": 0
      },
      "text/plain": [
       "Handling Negations:   0%|          | 0/93 [00:00<?, ?token/s]"
      ]
     },
     "metadata": {},
     "output_type": "display_data"
    },
    {
     "data": {
      "application/vnd.jupyter.widget-view+json": {
       "model_id": "4d1e92eecbc144498f9cff865e519e73",
       "version_major": 2,
       "version_minor": 0
      },
      "text/plain": [
       "Handling Negations:   0%|          | 0/78 [00:00<?, ?token/s]"
      ]
     },
     "metadata": {},
     "output_type": "display_data"
    },
    {
     "data": {
      "application/vnd.jupyter.widget-view+json": {
       "model_id": "9df516fd76144ee5a8bd559716a609b2",
       "version_major": 2,
       "version_minor": 0
      },
      "text/plain": [
       "Handling Negations:   0%|          | 0/64 [00:00<?, ?token/s]"
      ]
     },
     "metadata": {},
     "output_type": "display_data"
    },
    {
     "data": {
      "application/vnd.jupyter.widget-view+json": {
       "model_id": "f4dd8e1a7b95450ea7a833030241b871",
       "version_major": 2,
       "version_minor": 0
      },
      "text/plain": [
       "Handling Negations:   0%|          | 0/101 [00:00<?, ?token/s]"
      ]
     },
     "metadata": {},
     "output_type": "display_data"
    },
    {
     "data": {
      "application/vnd.jupyter.widget-view+json": {
       "model_id": "e971b52ecfef47acb8ecbe851824ea26",
       "version_major": 2,
       "version_minor": 0
      },
      "text/plain": [
       "Handling Negations:   0%|          | 0/296 [00:00<?, ?token/s]"
      ]
     },
     "metadata": {},
     "output_type": "display_data"
    },
    {
     "data": {
      "application/vnd.jupyter.widget-view+json": {
       "model_id": "53c8b98456024166a4a6c7c17c55887d",
       "version_major": 2,
       "version_minor": 0
      },
      "text/plain": [
       "Handling Negations:   0%|          | 0/70 [00:00<?, ?token/s]"
      ]
     },
     "metadata": {},
     "output_type": "display_data"
    },
    {
     "data": {
      "application/vnd.jupyter.widget-view+json": {
       "model_id": "1517fe40a87a4b9ebd002546427a768b",
       "version_major": 2,
       "version_minor": 0
      },
      "text/plain": [
       "Handling Negations:   0%|          | 0/70 [00:00<?, ?token/s]"
      ]
     },
     "metadata": {},
     "output_type": "display_data"
    },
    {
     "data": {
      "application/vnd.jupyter.widget-view+json": {
       "model_id": "d1f8fa834e1e4e98b4a40c5be102344a",
       "version_major": 2,
       "version_minor": 0
      },
      "text/plain": [
       "Handling Negations:   0%|          | 0/189 [00:00<?, ?token/s]"
      ]
     },
     "metadata": {},
     "output_type": "display_data"
    },
    {
     "data": {
      "application/vnd.jupyter.widget-view+json": {
       "model_id": "6edb45e569df4f0d931df91d09f47801",
       "version_major": 2,
       "version_minor": 0
      },
      "text/plain": [
       "Handling Negations:   0%|          | 0/99 [00:00<?, ?token/s]"
      ]
     },
     "metadata": {},
     "output_type": "display_data"
    },
    {
     "data": {
      "application/vnd.jupyter.widget-view+json": {
       "model_id": "8309e734b54c48a1ac08cb9da259ff52",
       "version_major": 2,
       "version_minor": 0
      },
      "text/plain": [
       "Handling Negations:   0%|          | 0/206 [00:00<?, ?token/s]"
      ]
     },
     "metadata": {},
     "output_type": "display_data"
    },
    {
     "data": {
      "application/vnd.jupyter.widget-view+json": {
       "model_id": "598648dd88a146b4b9a694778c28addb",
       "version_major": 2,
       "version_minor": 0
      },
      "text/plain": [
       "Handling Negations:   0%|          | 0/37 [00:00<?, ?token/s]"
      ]
     },
     "metadata": {},
     "output_type": "display_data"
    },
    {
     "data": {
      "application/vnd.jupyter.widget-view+json": {
       "model_id": "7b1a2c16edbd4b5982e9098c80816912",
       "version_major": 2,
       "version_minor": 0
      },
      "text/plain": [
       "Handling Negations:   0%|          | 0/149 [00:00<?, ?token/s]"
      ]
     },
     "metadata": {},
     "output_type": "display_data"
    },
    {
     "data": {
      "application/vnd.jupyter.widget-view+json": {
       "model_id": "6c27f527d4134adc8de1b08aaa35f1c7",
       "version_major": 2,
       "version_minor": 0
      },
      "text/plain": [
       "Handling Negations:   0%|          | 0/29 [00:00<?, ?token/s]"
      ]
     },
     "metadata": {},
     "output_type": "display_data"
    },
    {
     "data": {
      "application/vnd.jupyter.widget-view+json": {
       "model_id": "1abbcb94f7934b67b013a73330102432",
       "version_major": 2,
       "version_minor": 0
      },
      "text/plain": [
       "Handling Negations:   0%|          | 0/149 [00:00<?, ?token/s]"
      ]
     },
     "metadata": {},
     "output_type": "display_data"
    },
    {
     "data": {
      "application/vnd.jupyter.widget-view+json": {
       "model_id": "fda7731c046940b68b100e95423e06eb",
       "version_major": 2,
       "version_minor": 0
      },
      "text/plain": [
       "Handling Negations:   0%|          | 0/70 [00:00<?, ?token/s]"
      ]
     },
     "metadata": {},
     "output_type": "display_data"
    },
    {
     "data": {
      "application/vnd.jupyter.widget-view+json": {
       "model_id": "5f6fbadfdba347f8820cd0656c839d39",
       "version_major": 2,
       "version_minor": 0
      },
      "text/plain": [
       "Handling Negations:   0%|          | 0/225 [00:00<?, ?token/s]"
      ]
     },
     "metadata": {},
     "output_type": "display_data"
    },
    {
     "data": {
      "application/vnd.jupyter.widget-view+json": {
       "model_id": "bacf82ab30be4786a1edaec9bbdfdb83",
       "version_major": 2,
       "version_minor": 0
      },
      "text/plain": [
       "Handling Negations:   0%|          | 0/99 [00:00<?, ?token/s]"
      ]
     },
     "metadata": {},
     "output_type": "display_data"
    },
    {
     "data": {
      "application/vnd.jupyter.widget-view+json": {
       "model_id": "3135baca35cf46b1b92dee12116649d4",
       "version_major": 2,
       "version_minor": 0
      },
      "text/plain": [
       "Handling Negations:   0%|          | 0/39 [00:00<?, ?token/s]"
      ]
     },
     "metadata": {},
     "output_type": "display_data"
    },
    {
     "data": {
      "application/vnd.jupyter.widget-view+json": {
       "model_id": "a367457a0582464f900c53b4fc1da1ab",
       "version_major": 2,
       "version_minor": 0
      },
      "text/plain": [
       "Handling Negations:   0%|          | 0/30 [00:00<?, ?token/s]"
      ]
     },
     "metadata": {},
     "output_type": "display_data"
    },
    {
     "data": {
      "application/vnd.jupyter.widget-view+json": {
       "model_id": "24d2947941ec4883900b4ceeb27c37f5",
       "version_major": 2,
       "version_minor": 0
      },
      "text/plain": [
       "Handling Negations:   0%|          | 0/23 [00:00<?, ?token/s]"
      ]
     },
     "metadata": {},
     "output_type": "display_data"
    },
    {
     "data": {
      "application/vnd.jupyter.widget-view+json": {
       "model_id": "01f9228bd49143ef8167a4b82d38e444",
       "version_major": 2,
       "version_minor": 0
      },
      "text/plain": [
       "Handling Negations:   0%|          | 0/68 [00:00<?, ?token/s]"
      ]
     },
     "metadata": {},
     "output_type": "display_data"
    },
    {
     "data": {
      "application/vnd.jupyter.widget-view+json": {
       "model_id": "91a7b1d881bc48be918ae2e2ac79b7c9",
       "version_major": 2,
       "version_minor": 0
      },
      "text/plain": [
       "Handling Negations:   0%|          | 0/99 [00:00<?, ?token/s]"
      ]
     },
     "metadata": {},
     "output_type": "display_data"
    },
    {
     "data": {
      "application/vnd.jupyter.widget-view+json": {
       "model_id": "2cc051f841b64563b633c74d1e27673f",
       "version_major": 2,
       "version_minor": 0
      },
      "text/plain": [
       "Handling Negations:   0%|          | 0/36 [00:00<?, ?token/s]"
      ]
     },
     "metadata": {},
     "output_type": "display_data"
    },
    {
     "data": {
      "application/vnd.jupyter.widget-view+json": {
       "model_id": "6979c6bd33254d64a3ba819271989be5",
       "version_major": 2,
       "version_minor": 0
      },
      "text/plain": [
       "Handling Negations:   0%|          | 0/107 [00:00<?, ?token/s]"
      ]
     },
     "metadata": {},
     "output_type": "display_data"
    },
    {
     "data": {
      "application/vnd.jupyter.widget-view+json": {
       "model_id": "0b852e0ea32f4af8ae8e17de22ca170b",
       "version_major": 2,
       "version_minor": 0
      },
      "text/plain": [
       "Handling Negations:   0%|          | 0/115 [00:00<?, ?token/s]"
      ]
     },
     "metadata": {},
     "output_type": "display_data"
    },
    {
     "data": {
      "application/vnd.jupyter.widget-view+json": {
       "model_id": "5f23364d8bd24a649d10b415bada9403",
       "version_major": 2,
       "version_minor": 0
      },
      "text/plain": [
       "Handling Negations:   0%|          | 0/42 [00:00<?, ?token/s]"
      ]
     },
     "metadata": {},
     "output_type": "display_data"
    },
    {
     "data": {
      "application/vnd.jupyter.widget-view+json": {
       "model_id": "0348a20c75844fde83abfeac0003dfc4",
       "version_major": 2,
       "version_minor": 0
      },
      "text/plain": [
       "Handling Negations:   0%|          | 0/63 [00:00<?, ?token/s]"
      ]
     },
     "metadata": {},
     "output_type": "display_data"
    },
    {
     "data": {
      "application/vnd.jupyter.widget-view+json": {
       "model_id": "7d2cc10d8ffd4deca338992a05755bb8",
       "version_major": 2,
       "version_minor": 0
      },
      "text/plain": [
       "Handling Negations:   0%|          | 0/25 [00:00<?, ?token/s]"
      ]
     },
     "metadata": {},
     "output_type": "display_data"
    },
    {
     "data": {
      "application/vnd.jupyter.widget-view+json": {
       "model_id": "97a79370d6084f008492e15b97ec3cf6",
       "version_major": 2,
       "version_minor": 0
      },
      "text/plain": [
       "Handling Negations:   0%|          | 0/77 [00:00<?, ?token/s]"
      ]
     },
     "metadata": {},
     "output_type": "display_data"
    },
    {
     "data": {
      "application/vnd.jupyter.widget-view+json": {
       "model_id": "cc673f91a4d54e338e4235013ac310b6",
       "version_major": 2,
       "version_minor": 0
      },
      "text/plain": [
       "Handling Negations:   0%|          | 0/42 [00:00<?, ?token/s]"
      ]
     },
     "metadata": {},
     "output_type": "display_data"
    },
    {
     "data": {
      "application/vnd.jupyter.widget-view+json": {
       "model_id": "388584dd3b6e4b83901d62783c319fd5",
       "version_major": 2,
       "version_minor": 0
      },
      "text/plain": [
       "Handling Negations:   0%|          | 0/65 [00:00<?, ?token/s]"
      ]
     },
     "metadata": {},
     "output_type": "display_data"
    },
    {
     "data": {
      "application/vnd.jupyter.widget-view+json": {
       "model_id": "1befe08d6f884ccd80e6e2659eeb54f6",
       "version_major": 2,
       "version_minor": 0
      },
      "text/plain": [
       "Handling Negations:   0%|          | 0/35 [00:00<?, ?token/s]"
      ]
     },
     "metadata": {},
     "output_type": "display_data"
    },
    {
     "data": {
      "application/vnd.jupyter.widget-view+json": {
       "model_id": "ce95be7576ac459882d1476e9f117c7f",
       "version_major": 2,
       "version_minor": 0
      },
      "text/plain": [
       "Handling Negations:   0%|          | 0/102 [00:00<?, ?token/s]"
      ]
     },
     "metadata": {},
     "output_type": "display_data"
    },
    {
     "data": {
      "application/vnd.jupyter.widget-view+json": {
       "model_id": "f9130de3374544a289ca6635914ac61d",
       "version_major": 2,
       "version_minor": 0
      },
      "text/plain": [
       "Handling Negations:   0%|          | 0/32 [00:00<?, ?token/s]"
      ]
     },
     "metadata": {},
     "output_type": "display_data"
    },
    {
     "data": {
      "application/vnd.jupyter.widget-view+json": {
       "model_id": "a3f7b5137579448b806e00b8e1d4691a",
       "version_major": 2,
       "version_minor": 0
      },
      "text/plain": [
       "Handling Negations:   0%|          | 0/90 [00:00<?, ?token/s]"
      ]
     },
     "metadata": {},
     "output_type": "display_data"
    },
    {
     "data": {
      "application/vnd.jupyter.widget-view+json": {
       "model_id": "8f8e27ac2dfa44af99d57e4625fbde8b",
       "version_major": 2,
       "version_minor": 0
      },
      "text/plain": [
       "Handling Negations:   0%|          | 0/87 [00:00<?, ?token/s]"
      ]
     },
     "metadata": {},
     "output_type": "display_data"
    },
    {
     "data": {
      "application/vnd.jupyter.widget-view+json": {
       "model_id": "48670c57919b4f4bb722dbef571615a1",
       "version_major": 2,
       "version_minor": 0
      },
      "text/plain": [
       "Handling Negations:   0%|          | 0/65 [00:00<?, ?token/s]"
      ]
     },
     "metadata": {},
     "output_type": "display_data"
    },
    {
     "data": {
      "application/vnd.jupyter.widget-view+json": {
       "model_id": "6cb0c11af73a4b83a63fa9e60ca5f9b8",
       "version_major": 2,
       "version_minor": 0
      },
      "text/plain": [
       "Handling Negations:   0%|          | 0/154 [00:00<?, ?token/s]"
      ]
     },
     "metadata": {},
     "output_type": "display_data"
    },
    {
     "data": {
      "application/vnd.jupyter.widget-view+json": {
       "model_id": "9de3490bdc53476a8a2833f1562617e9",
       "version_major": 2,
       "version_minor": 0
      },
      "text/plain": [
       "Handling Negations:   0%|          | 0/57 [00:00<?, ?token/s]"
      ]
     },
     "metadata": {},
     "output_type": "display_data"
    },
    {
     "data": {
      "application/vnd.jupyter.widget-view+json": {
       "model_id": "e73d5ef459874be49613d50a7346d663",
       "version_major": 2,
       "version_minor": 0
      },
      "text/plain": [
       "Handling Negations:   0%|          | 0/162 [00:00<?, ?token/s]"
      ]
     },
     "metadata": {},
     "output_type": "display_data"
    },
    {
     "data": {
      "application/vnd.jupyter.widget-view+json": {
       "model_id": "19971bae5e18491eb75d2bf506b67d0b",
       "version_major": 2,
       "version_minor": 0
      },
      "text/plain": [
       "Handling Negations:   0%|          | 0/243 [00:00<?, ?token/s]"
      ]
     },
     "metadata": {},
     "output_type": "display_data"
    },
    {
     "data": {
      "application/vnd.jupyter.widget-view+json": {
       "model_id": "830d03a948894abbbd0e24e301811391",
       "version_major": 2,
       "version_minor": 0
      },
      "text/plain": [
       "Handling Negations:   0%|          | 0/165 [00:00<?, ?token/s]"
      ]
     },
     "metadata": {},
     "output_type": "display_data"
    },
    {
     "data": {
      "application/vnd.jupyter.widget-view+json": {
       "model_id": "25203c1b6d0146e4a5821be3f3cff85c",
       "version_major": 2,
       "version_minor": 0
      },
      "text/plain": [
       "Handling Negations:   0%|          | 0/130 [00:00<?, ?token/s]"
      ]
     },
     "metadata": {},
     "output_type": "display_data"
    },
    {
     "data": {
      "application/vnd.jupyter.widget-view+json": {
       "model_id": "75c78039038c4a07bc1ab487d7a5ce2e",
       "version_major": 2,
       "version_minor": 0
      },
      "text/plain": [
       "Handling Negations:   0%|          | 0/142 [00:00<?, ?token/s]"
      ]
     },
     "metadata": {},
     "output_type": "display_data"
    },
    {
     "data": {
      "application/vnd.jupyter.widget-view+json": {
       "model_id": "5e1003a417fa4743a53aab3ce2debc61",
       "version_major": 2,
       "version_minor": 0
      },
      "text/plain": [
       "Handling Negations:   0%|          | 0/154 [00:00<?, ?token/s]"
      ]
     },
     "metadata": {},
     "output_type": "display_data"
    },
    {
     "data": {
      "application/vnd.jupyter.widget-view+json": {
       "model_id": "6408f6c680694198a3f8333e7020b2d3",
       "version_major": 2,
       "version_minor": 0
      },
      "text/plain": [
       "Handling Negations:   0%|          | 0/37 [00:00<?, ?token/s]"
      ]
     },
     "metadata": {},
     "output_type": "display_data"
    },
    {
     "data": {
      "application/vnd.jupyter.widget-view+json": {
       "model_id": "cf0783532e9f49d290f2d2e554a4258a",
       "version_major": 2,
       "version_minor": 0
      },
      "text/plain": [
       "Handling Negations:   0%|          | 0/176 [00:00<?, ?token/s]"
      ]
     },
     "metadata": {},
     "output_type": "display_data"
    },
    {
     "data": {
      "application/vnd.jupyter.widget-view+json": {
       "model_id": "f0587eb5ba43482ba6e1cb4f74c7f8c2",
       "version_major": 2,
       "version_minor": 0
      },
      "text/plain": [
       "Handling Negations:   0%|          | 0/95 [00:00<?, ?token/s]"
      ]
     },
     "metadata": {},
     "output_type": "display_data"
    },
    {
     "data": {
      "application/vnd.jupyter.widget-view+json": {
       "model_id": "c249bf8344bd4565a1f7be2cb16e64ce",
       "version_major": 2,
       "version_minor": 0
      },
      "text/plain": [
       "Handling Negations:   0%|          | 0/193 [00:00<?, ?token/s]"
      ]
     },
     "metadata": {},
     "output_type": "display_data"
    },
    {
     "data": {
      "application/vnd.jupyter.widget-view+json": {
       "model_id": "c33a1cfd399c4174b79670ac95356633",
       "version_major": 2,
       "version_minor": 0
      },
      "text/plain": [
       "Handling Negations:   0%|          | 0/107 [00:00<?, ?token/s]"
      ]
     },
     "metadata": {},
     "output_type": "display_data"
    },
    {
     "data": {
      "application/vnd.jupyter.widget-view+json": {
       "model_id": "5439c9ef18024ce7971d9293de6d19c8",
       "version_major": 2,
       "version_minor": 0
      },
      "text/plain": [
       "Handling Negations:   0%|          | 0/100 [00:00<?, ?token/s]"
      ]
     },
     "metadata": {},
     "output_type": "display_data"
    },
    {
     "data": {
      "application/vnd.jupyter.widget-view+json": {
       "model_id": "949c941774e54650959779c68eca56fe",
       "version_major": 2,
       "version_minor": 0
      },
      "text/plain": [
       "Handling Negations:   0%|          | 0/86 [00:00<?, ?token/s]"
      ]
     },
     "metadata": {},
     "output_type": "display_data"
    },
    {
     "data": {
      "application/vnd.jupyter.widget-view+json": {
       "model_id": "2b5e14c51c6d4d45bcb17d204435d2e0",
       "version_major": 2,
       "version_minor": 0
      },
      "text/plain": [
       "Handling Negations:   0%|          | 0/193 [00:00<?, ?token/s]"
      ]
     },
     "metadata": {},
     "output_type": "display_data"
    },
    {
     "data": {
      "application/vnd.jupyter.widget-view+json": {
       "model_id": "eec5140e1fa44712a64f8d9822dde958",
       "version_major": 2,
       "version_minor": 0
      },
      "text/plain": [
       "Handling Negations:   0%|          | 0/62 [00:00<?, ?token/s]"
      ]
     },
     "metadata": {},
     "output_type": "display_data"
    },
    {
     "data": {
      "application/vnd.jupyter.widget-view+json": {
       "model_id": "8c749aa88d92437da2d60a3b19ed96c1",
       "version_major": 2,
       "version_minor": 0
      },
      "text/plain": [
       "Handling Negations:   0%|          | 0/62 [00:00<?, ?token/s]"
      ]
     },
     "metadata": {},
     "output_type": "display_data"
    },
    {
     "data": {
      "application/vnd.jupyter.widget-view+json": {
       "model_id": "6ac69a1c76144a4c8232d6a2b55ef7db",
       "version_major": 2,
       "version_minor": 0
      },
      "text/plain": [
       "Handling Negations:   0%|          | 0/42 [00:00<?, ?token/s]"
      ]
     },
     "metadata": {},
     "output_type": "display_data"
    },
    {
     "data": {
      "application/vnd.jupyter.widget-view+json": {
       "model_id": "3fb388d54a964ce8a3ca491f8152dd29",
       "version_major": 2,
       "version_minor": 0
      },
      "text/plain": [
       "Handling Negations:   0%|          | 0/124 [00:00<?, ?token/s]"
      ]
     },
     "metadata": {},
     "output_type": "display_data"
    },
    {
     "data": {
      "application/vnd.jupyter.widget-view+json": {
       "model_id": "0e8629a467334cff84f80fdc978752f2",
       "version_major": 2,
       "version_minor": 0
      },
      "text/plain": [
       "Handling Negations:   0%|          | 0/62 [00:00<?, ?token/s]"
      ]
     },
     "metadata": {},
     "output_type": "display_data"
    },
    {
     "data": {
      "application/vnd.jupyter.widget-view+json": {
       "model_id": "4d641553dec34c35a1c85b8734f32168",
       "version_major": 2,
       "version_minor": 0
      },
      "text/plain": [
       "Handling Negations:   0%|          | 0/126 [00:00<?, ?token/s]"
      ]
     },
     "metadata": {},
     "output_type": "display_data"
    },
    {
     "data": {
      "application/vnd.jupyter.widget-view+json": {
       "model_id": "a3f3166d7e3045f79027dbcb95954d2f",
       "version_major": 2,
       "version_minor": 0
      },
      "text/plain": [
       "Handling Negations:   0%|          | 0/178 [00:00<?, ?token/s]"
      ]
     },
     "metadata": {},
     "output_type": "display_data"
    },
    {
     "data": {
      "application/vnd.jupyter.widget-view+json": {
       "model_id": "4ff5dc8365b2418fb3d43f7fda924ddf",
       "version_major": 2,
       "version_minor": 0
      },
      "text/plain": [
       "Handling Negations:   0%|          | 0/61 [00:00<?, ?token/s]"
      ]
     },
     "metadata": {},
     "output_type": "display_data"
    },
    {
     "data": {
      "application/vnd.jupyter.widget-view+json": {
       "model_id": "563b0a01542d48dcb42fe373018ab6e9",
       "version_major": 2,
       "version_minor": 0
      },
      "text/plain": [
       "Handling Negations:   0%|          | 0/30 [00:00<?, ?token/s]"
      ]
     },
     "metadata": {},
     "output_type": "display_data"
    },
    {
     "data": {
      "application/vnd.jupyter.widget-view+json": {
       "model_id": "deec4857d16449d2b0bf27ba8e4415c7",
       "version_major": 2,
       "version_minor": 0
      },
      "text/plain": [
       "Handling Negations:   0%|          | 0/53 [00:00<?, ?token/s]"
      ]
     },
     "metadata": {},
     "output_type": "display_data"
    },
    {
     "data": {
      "application/vnd.jupyter.widget-view+json": {
       "model_id": "a5b6290c99c34eeeb87ad1df41b3a68a",
       "version_major": 2,
       "version_minor": 0
      },
      "text/plain": [
       "Handling Negations:   0%|          | 0/299 [00:00<?, ?token/s]"
      ]
     },
     "metadata": {},
     "output_type": "display_data"
    },
    {
     "data": {
      "application/vnd.jupyter.widget-view+json": {
       "model_id": "0e564b1d15a74308900073d2f615e94c",
       "version_major": 2,
       "version_minor": 0
      },
      "text/plain": [
       "Handling Negations:   0%|          | 0/111 [00:00<?, ?token/s]"
      ]
     },
     "metadata": {},
     "output_type": "display_data"
    },
    {
     "data": {
      "application/vnd.jupyter.widget-view+json": {
       "model_id": "e062320ef7554d89870ff8a3598f8d02",
       "version_major": 2,
       "version_minor": 0
      },
      "text/plain": [
       "Handling Negations:   0%|          | 0/107 [00:00<?, ?token/s]"
      ]
     },
     "metadata": {},
     "output_type": "display_data"
    },
    {
     "data": {
      "application/vnd.jupyter.widget-view+json": {
       "model_id": "90699bf42cab4df1a7f254a877a1c854",
       "version_major": 2,
       "version_minor": 0
      },
      "text/plain": [
       "Handling Negations:   0%|          | 0/22 [00:00<?, ?token/s]"
      ]
     },
     "metadata": {},
     "output_type": "display_data"
    },
    {
     "data": {
      "application/vnd.jupyter.widget-view+json": {
       "model_id": "9e08157148a841619122020d633ab002",
       "version_major": 2,
       "version_minor": 0
      },
      "text/plain": [
       "Handling Negations:   0%|          | 0/97 [00:00<?, ?token/s]"
      ]
     },
     "metadata": {},
     "output_type": "display_data"
    },
    {
     "data": {
      "application/vnd.jupyter.widget-view+json": {
       "model_id": "6e01629617f44981a8c8f3ee03edee49",
       "version_major": 2,
       "version_minor": 0
      },
      "text/plain": [
       "Handling Negations:   0%|          | 0/101 [00:00<?, ?token/s]"
      ]
     },
     "metadata": {},
     "output_type": "display_data"
    },
    {
     "data": {
      "application/vnd.jupyter.widget-view+json": {
       "model_id": "5717861654b744bfbc7b72192c13750e",
       "version_major": 2,
       "version_minor": 0
      },
      "text/plain": [
       "Handling Negations:   0%|          | 0/85 [00:00<?, ?token/s]"
      ]
     },
     "metadata": {},
     "output_type": "display_data"
    },
    {
     "data": {
      "application/vnd.jupyter.widget-view+json": {
       "model_id": "3a20cdaafaca4f61a41256cad32f2372",
       "version_major": 2,
       "version_minor": 0
      },
      "text/plain": [
       "Handling Negations:   0%|          | 0/13 [00:00<?, ?token/s]"
      ]
     },
     "metadata": {},
     "output_type": "display_data"
    },
    {
     "data": {
      "application/vnd.jupyter.widget-view+json": {
       "model_id": "1097160104784253863d7c9b1b01c86d",
       "version_major": 2,
       "version_minor": 0
      },
      "text/plain": [
       "Handling Negations:   0%|          | 0/57 [00:00<?, ?token/s]"
      ]
     },
     "metadata": {},
     "output_type": "display_data"
    },
    {
     "data": {
      "application/vnd.jupyter.widget-view+json": {
       "model_id": "8fcb6b4658584269994915c5fb5bcb47",
       "version_major": 2,
       "version_minor": 0
      },
      "text/plain": [
       "Handling Negations:   0%|          | 0/122 [00:00<?, ?token/s]"
      ]
     },
     "metadata": {},
     "output_type": "display_data"
    },
    {
     "data": {
      "application/vnd.jupyter.widget-view+json": {
       "model_id": "5a14b4462d004598850dfb354e5a3ba0",
       "version_major": 2,
       "version_minor": 0
      },
      "text/plain": [
       "Handling Negations:   0%|          | 0/52 [00:00<?, ?token/s]"
      ]
     },
     "metadata": {},
     "output_type": "display_data"
    },
    {
     "data": {
      "application/vnd.jupyter.widget-view+json": {
       "model_id": "3ac70a13fef64b27b574cf2cf1c2e650",
       "version_major": 2,
       "version_minor": 0
      },
      "text/plain": [
       "Handling Negations:   0%|          | 0/92 [00:00<?, ?token/s]"
      ]
     },
     "metadata": {},
     "output_type": "display_data"
    },
    {
     "data": {
      "application/vnd.jupyter.widget-view+json": {
       "model_id": "c963efe8f6ef42869bd80a8c1eed9947",
       "version_major": 2,
       "version_minor": 0
      },
      "text/plain": [
       "Handling Negations:   0%|          | 0/100 [00:00<?, ?token/s]"
      ]
     },
     "metadata": {},
     "output_type": "display_data"
    },
    {
     "data": {
      "application/vnd.jupyter.widget-view+json": {
       "model_id": "a72cc63c1ab6497ab19077f3c6d7df52",
       "version_major": 2,
       "version_minor": 0
      },
      "text/plain": [
       "Handling Negations:   0%|          | 0/56 [00:00<?, ?token/s]"
      ]
     },
     "metadata": {},
     "output_type": "display_data"
    },
    {
     "data": {
      "application/vnd.jupyter.widget-view+json": {
       "model_id": "369efd6bc7134c0c825f723080923a59",
       "version_major": 2,
       "version_minor": 0
      },
      "text/plain": [
       "Handling Negations:   0%|          | 0/112 [00:00<?, ?token/s]"
      ]
     },
     "metadata": {},
     "output_type": "display_data"
    },
    {
     "data": {
      "application/vnd.jupyter.widget-view+json": {
       "model_id": "579c665e162b4b8bb34d411d9ad8952a",
       "version_major": 2,
       "version_minor": 0
      },
      "text/plain": [
       "Handling Negations:   0%|          | 0/42 [00:00<?, ?token/s]"
      ]
     },
     "metadata": {},
     "output_type": "display_data"
    },
    {
     "data": {
      "application/vnd.jupyter.widget-view+json": {
       "model_id": "7fe23e6c48374dbe9fe528eeff5c24f9",
       "version_major": 2,
       "version_minor": 0
      },
      "text/plain": [
       "Handling Negations:   0%|          | 0/75 [00:00<?, ?token/s]"
      ]
     },
     "metadata": {},
     "output_type": "display_data"
    },
    {
     "data": {
      "application/vnd.jupyter.widget-view+json": {
       "model_id": "f5f459247d2443d28957764fb6b8181a",
       "version_major": 2,
       "version_minor": 0
      },
      "text/plain": [
       "Handling Negations:   0%|          | 0/82 [00:00<?, ?token/s]"
      ]
     },
     "metadata": {},
     "output_type": "display_data"
    },
    {
     "data": {
      "application/vnd.jupyter.widget-view+json": {
       "model_id": "0f8d0dbaa150447da1a48bb1abad2843",
       "version_major": 2,
       "version_minor": 0
      },
      "text/plain": [
       "Handling Negations:   0%|          | 0/38 [00:00<?, ?token/s]"
      ]
     },
     "metadata": {},
     "output_type": "display_data"
    },
    {
     "data": {
      "application/vnd.jupyter.widget-view+json": {
       "model_id": "b5120e3c4da9481f8f3eea3202bae1ce",
       "version_major": 2,
       "version_minor": 0
      },
      "text/plain": [
       "Handling Negations:   0%|          | 0/47 [00:00<?, ?token/s]"
      ]
     },
     "metadata": {},
     "output_type": "display_data"
    },
    {
     "data": {
      "application/vnd.jupyter.widget-view+json": {
       "model_id": "bf95370aedec46c783ff50c5010ef7b4",
       "version_major": 2,
       "version_minor": 0
      },
      "text/plain": [
       "Handling Negations:   0%|          | 0/65 [00:00<?, ?token/s]"
      ]
     },
     "metadata": {},
     "output_type": "display_data"
    },
    {
     "data": {
      "application/vnd.jupyter.widget-view+json": {
       "model_id": "eeead573c28c40a98adef8c46c492c91",
       "version_major": 2,
       "version_minor": 0
      },
      "text/plain": [
       "Handling Negations:   0%|          | 0/51 [00:00<?, ?token/s]"
      ]
     },
     "metadata": {},
     "output_type": "display_data"
    },
    {
     "data": {
      "application/vnd.jupyter.widget-view+json": {
       "model_id": "4c07822b9ebc44279b12370ec0970afa",
       "version_major": 2,
       "version_minor": 0
      },
      "text/plain": [
       "Handling Negations:   0%|          | 0/311 [00:00<?, ?token/s]"
      ]
     },
     "metadata": {},
     "output_type": "display_data"
    },
    {
     "data": {
      "application/vnd.jupyter.widget-view+json": {
       "model_id": "c0958988a8554cf4ae75a7aa21fc4246",
       "version_major": 2,
       "version_minor": 0
      },
      "text/plain": [
       "Handling Negations:   0%|          | 0/57 [00:00<?, ?token/s]"
      ]
     },
     "metadata": {},
     "output_type": "display_data"
    },
    {
     "data": {
      "application/vnd.jupyter.widget-view+json": {
       "model_id": "64cff87bc72d46a182079e7468638e7e",
       "version_major": 2,
       "version_minor": 0
      },
      "text/plain": [
       "Handling Negations:   0%|          | 0/72 [00:00<?, ?token/s]"
      ]
     },
     "metadata": {},
     "output_type": "display_data"
    },
    {
     "data": {
      "application/vnd.jupyter.widget-view+json": {
       "model_id": "51a903337f7c42d889e95d7d65bd2dea",
       "version_major": 2,
       "version_minor": 0
      },
      "text/plain": [
       "Handling Negations:   0%|          | 0/25 [00:00<?, ?token/s]"
      ]
     },
     "metadata": {},
     "output_type": "display_data"
    },
    {
     "data": {
      "application/vnd.jupyter.widget-view+json": {
       "model_id": "a84d3a7613a34c7095824184e3a7dba4",
       "version_major": 2,
       "version_minor": 0
      },
      "text/plain": [
       "Handling Negations:   0%|          | 0/105 [00:00<?, ?token/s]"
      ]
     },
     "metadata": {},
     "output_type": "display_data"
    },
    {
     "data": {
      "application/vnd.jupyter.widget-view+json": {
       "model_id": "108e95c051c24231aebacff4e918b2ee",
       "version_major": 2,
       "version_minor": 0
      },
      "text/plain": [
       "Handling Negations:   0%|          | 0/73 [00:00<?, ?token/s]"
      ]
     },
     "metadata": {},
     "output_type": "display_data"
    },
    {
     "data": {
      "application/vnd.jupyter.widget-view+json": {
       "model_id": "11947e7c55de48bb9076bc345ae6e172",
       "version_major": 2,
       "version_minor": 0
      },
      "text/plain": [
       "Handling Negations:   0%|          | 0/107 [00:00<?, ?token/s]"
      ]
     },
     "metadata": {},
     "output_type": "display_data"
    },
    {
     "data": {
      "application/vnd.jupyter.widget-view+json": {
       "model_id": "44c95980758d436f847f834dc256ea67",
       "version_major": 2,
       "version_minor": 0
      },
      "text/plain": [
       "Handling Negations:   0%|          | 0/73 [00:00<?, ?token/s]"
      ]
     },
     "metadata": {},
     "output_type": "display_data"
    },
    {
     "data": {
      "application/vnd.jupyter.widget-view+json": {
       "model_id": "3bcd338c576341a7af46c80dc41bbc28",
       "version_major": 2,
       "version_minor": 0
      },
      "text/plain": [
       "Handling Negations:   0%|          | 0/141 [00:00<?, ?token/s]"
      ]
     },
     "metadata": {},
     "output_type": "display_data"
    },
    {
     "data": {
      "application/vnd.jupyter.widget-view+json": {
       "model_id": "7d538b4df76a4cf18fd400f2bea077b7",
       "version_major": 2,
       "version_minor": 0
      },
      "text/plain": [
       "Handling Negations:   0%|          | 0/71 [00:00<?, ?token/s]"
      ]
     },
     "metadata": {},
     "output_type": "display_data"
    },
    {
     "data": {
      "application/vnd.jupyter.widget-view+json": {
       "model_id": "c5424b9d1219456bb8bb3cf13efb8532",
       "version_major": 2,
       "version_minor": 0
      },
      "text/plain": [
       "Handling Negations:   0%|          | 0/15 [00:00<?, ?token/s]"
      ]
     },
     "metadata": {},
     "output_type": "display_data"
    },
    {
     "data": {
      "application/vnd.jupyter.widget-view+json": {
       "model_id": "85883d21796c4a90a313c40e2e08051f",
       "version_major": 2,
       "version_minor": 0
      },
      "text/plain": [
       "Handling Negations:   0%|          | 0/77 [00:00<?, ?token/s]"
      ]
     },
     "metadata": {},
     "output_type": "display_data"
    },
    {
     "data": {
      "application/vnd.jupyter.widget-view+json": {
       "model_id": "b676499c51504e699fcb8b26164824d6",
       "version_major": 2,
       "version_minor": 0
      },
      "text/plain": [
       "Handling Negations:   0%|          | 0/84 [00:00<?, ?token/s]"
      ]
     },
     "metadata": {},
     "output_type": "display_data"
    },
    {
     "data": {
      "application/vnd.jupyter.widget-view+json": {
       "model_id": "33a831952caf4c70a505bd263a66ad0d",
       "version_major": 2,
       "version_minor": 0
      },
      "text/plain": [
       "Handling Negations:   0%|          | 0/120 [00:00<?, ?token/s]"
      ]
     },
     "metadata": {},
     "output_type": "display_data"
    },
    {
     "data": {
      "application/vnd.jupyter.widget-view+json": {
       "model_id": "d0b6b5bf8c764b4c904a91fa84b238ad",
       "version_major": 2,
       "version_minor": 0
      },
      "text/plain": [
       "Handling Negations:   0%|          | 0/57 [00:00<?, ?token/s]"
      ]
     },
     "metadata": {},
     "output_type": "display_data"
    },
    {
     "data": {
      "application/vnd.jupyter.widget-view+json": {
       "model_id": "6967ab70fc6942bdb6d4b0a60953d0f0",
       "version_major": 2,
       "version_minor": 0
      },
      "text/plain": [
       "Handling Negations:   0%|          | 0/83 [00:00<?, ?token/s]"
      ]
     },
     "metadata": {},
     "output_type": "display_data"
    },
    {
     "data": {
      "application/vnd.jupyter.widget-view+json": {
       "model_id": "92df3614712d4116802cf74a21090db9",
       "version_major": 2,
       "version_minor": 0
      },
      "text/plain": [
       "Handling Negations:   0%|          | 0/50 [00:00<?, ?token/s]"
      ]
     },
     "metadata": {},
     "output_type": "display_data"
    },
    {
     "data": {
      "application/vnd.jupyter.widget-view+json": {
       "model_id": "66db84317e5f41d8abb6c16fc5e515f0",
       "version_major": 2,
       "version_minor": 0
      },
      "text/plain": [
       "Handling Negations:   0%|          | 0/17 [00:00<?, ?token/s]"
      ]
     },
     "metadata": {},
     "output_type": "display_data"
    },
    {
     "data": {
      "application/vnd.jupyter.widget-view+json": {
       "model_id": "e3c59a2254b74d0dad635aa8fdef0f27",
       "version_major": 2,
       "version_minor": 0
      },
      "text/plain": [
       "Handling Negations:   0%|          | 0/52 [00:00<?, ?token/s]"
      ]
     },
     "metadata": {},
     "output_type": "display_data"
    },
    {
     "data": {
      "application/vnd.jupyter.widget-view+json": {
       "model_id": "672f7369d4634e9ea598f5f06d3693a3",
       "version_major": 2,
       "version_minor": 0
      },
      "text/plain": [
       "Handling Negations:   0%|          | 0/28 [00:00<?, ?token/s]"
      ]
     },
     "metadata": {},
     "output_type": "display_data"
    },
    {
     "data": {
      "application/vnd.jupyter.widget-view+json": {
       "model_id": "18fe4682566d47029da3de42755728c0",
       "version_major": 2,
       "version_minor": 0
      },
      "text/plain": [
       "Handling Negations:   0%|          | 0/198 [00:00<?, ?token/s]"
      ]
     },
     "metadata": {},
     "output_type": "display_data"
    },
    {
     "data": {
      "application/vnd.jupyter.widget-view+json": {
       "model_id": "1f879ce741d94e3b9f7b8a032a82a7a3",
       "version_major": 2,
       "version_minor": 0
      },
      "text/plain": [
       "Handling Negations:   0%|          | 0/80 [00:00<?, ?token/s]"
      ]
     },
     "metadata": {},
     "output_type": "display_data"
    },
    {
     "data": {
      "application/vnd.jupyter.widget-view+json": {
       "model_id": "32392efc782f4774a3e6358ce0f6de18",
       "version_major": 2,
       "version_minor": 0
      },
      "text/plain": [
       "Handling Negations:   0%|          | 0/140 [00:00<?, ?token/s]"
      ]
     },
     "metadata": {},
     "output_type": "display_data"
    },
    {
     "data": {
      "application/vnd.jupyter.widget-view+json": {
       "model_id": "cc16e7aaa9f94da6ba47031107c67d36",
       "version_major": 2,
       "version_minor": 0
      },
      "text/plain": [
       "Handling Negations:   0%|          | 0/64 [00:00<?, ?token/s]"
      ]
     },
     "metadata": {},
     "output_type": "display_data"
    },
    {
     "data": {
      "application/vnd.jupyter.widget-view+json": {
       "model_id": "2c57a9cf862a4dccba48c38f5fc28f93",
       "version_major": 2,
       "version_minor": 0
      },
      "text/plain": [
       "Handling Negations:   0%|          | 0/83 [00:00<?, ?token/s]"
      ]
     },
     "metadata": {},
     "output_type": "display_data"
    },
    {
     "data": {
      "application/vnd.jupyter.widget-view+json": {
       "model_id": "6a503290a6c444ab82fed36fcc1f41b4",
       "version_major": 2,
       "version_minor": 0
      },
      "text/plain": [
       "Handling Negations:   0%|          | 0/96 [00:00<?, ?token/s]"
      ]
     },
     "metadata": {},
     "output_type": "display_data"
    },
    {
     "data": {
      "application/vnd.jupyter.widget-view+json": {
       "model_id": "4cf773c416374958868ae41236efb886",
       "version_major": 2,
       "version_minor": 0
      },
      "text/plain": [
       "Handling Negations:   0%|          | 0/30 [00:00<?, ?token/s]"
      ]
     },
     "metadata": {},
     "output_type": "display_data"
    },
    {
     "data": {
      "application/vnd.jupyter.widget-view+json": {
       "model_id": "2a82c7ffce9a4e6c8614a95c4d13c942",
       "version_major": 2,
       "version_minor": 0
      },
      "text/plain": [
       "Handling Negations:   0%|          | 0/127 [00:00<?, ?token/s]"
      ]
     },
     "metadata": {},
     "output_type": "display_data"
    },
    {
     "data": {
      "application/vnd.jupyter.widget-view+json": {
       "model_id": "9c05452b4a224f788b2b458d861efac3",
       "version_major": 2,
       "version_minor": 0
      },
      "text/plain": [
       "Handling Negations:   0%|          | 0/53 [00:00<?, ?token/s]"
      ]
     },
     "metadata": {},
     "output_type": "display_data"
    },
    {
     "data": {
      "application/vnd.jupyter.widget-view+json": {
       "model_id": "c3731ad1c57346b680cfe8dc17391f9b",
       "version_major": 2,
       "version_minor": 0
      },
      "text/plain": [
       "Handling Negations:   0%|          | 0/64 [00:00<?, ?token/s]"
      ]
     },
     "metadata": {},
     "output_type": "display_data"
    },
    {
     "data": {
      "application/vnd.jupyter.widget-view+json": {
       "model_id": "e346e5510812465c81eb524bd286d6e0",
       "version_major": 2,
       "version_minor": 0
      },
      "text/plain": [
       "Handling Negations:   0%|          | 0/20 [00:00<?, ?token/s]"
      ]
     },
     "metadata": {},
     "output_type": "display_data"
    },
    {
     "data": {
      "application/vnd.jupyter.widget-view+json": {
       "model_id": "6d850a47116e4dc885a6516fe03363cd",
       "version_major": 2,
       "version_minor": 0
      },
      "text/plain": [
       "Handling Negations:   0%|          | 0/236 [00:00<?, ?token/s]"
      ]
     },
     "metadata": {},
     "output_type": "display_data"
    },
    {
     "data": {
      "application/vnd.jupyter.widget-view+json": {
       "model_id": "ef47a6457bbd4bb0aad2d836f21adc9a",
       "version_major": 2,
       "version_minor": 0
      },
      "text/plain": [
       "Handling Negations:   0%|          | 0/50 [00:00<?, ?token/s]"
      ]
     },
     "metadata": {},
     "output_type": "display_data"
    },
    {
     "data": {
      "application/vnd.jupyter.widget-view+json": {
       "model_id": "326e9afe402948c285940d7c27260404",
       "version_major": 2,
       "version_minor": 0
      },
      "text/plain": [
       "Handling Negations:   0%|          | 0/53 [00:00<?, ?token/s]"
      ]
     },
     "metadata": {},
     "output_type": "display_data"
    },
    {
     "data": {
      "application/vnd.jupyter.widget-view+json": {
       "model_id": "8f9f773a326341af92de5773ee5740b7",
       "version_major": 2,
       "version_minor": 0
      },
      "text/plain": [
       "Handling Negations:   0%|          | 0/73 [00:00<?, ?token/s]"
      ]
     },
     "metadata": {},
     "output_type": "display_data"
    },
    {
     "data": {
      "application/vnd.jupyter.widget-view+json": {
       "model_id": "f7cd4088a65b42efbad9511a5e576599",
       "version_major": 2,
       "version_minor": 0
      },
      "text/plain": [
       "Handling Negations:   0%|          | 0/77 [00:00<?, ?token/s]"
      ]
     },
     "metadata": {},
     "output_type": "display_data"
    },
    {
     "data": {
      "application/vnd.jupyter.widget-view+json": {
       "model_id": "32f7932c0d64423590eb8dacdc997c59",
       "version_major": 2,
       "version_minor": 0
      },
      "text/plain": [
       "Handling Negations:   0%|          | 0/56 [00:00<?, ?token/s]"
      ]
     },
     "metadata": {},
     "output_type": "display_data"
    },
    {
     "data": {
      "application/vnd.jupyter.widget-view+json": {
       "model_id": "8cffe5228cb4439f9a3ce59028819532",
       "version_major": 2,
       "version_minor": 0
      },
      "text/plain": [
       "Handling Negations:   0%|          | 0/159 [00:00<?, ?token/s]"
      ]
     },
     "metadata": {},
     "output_type": "display_data"
    },
    {
     "data": {
      "application/vnd.jupyter.widget-view+json": {
       "model_id": "08cf1b2c9efb49b18f7485d75eb0d9cf",
       "version_major": 2,
       "version_minor": 0
      },
      "text/plain": [
       "Handling Negations:   0%|          | 0/76 [00:00<?, ?token/s]"
      ]
     },
     "metadata": {},
     "output_type": "display_data"
    },
    {
     "data": {
      "application/vnd.jupyter.widget-view+json": {
       "model_id": "82f014f388cc4174b981533fe681c036",
       "version_major": 2,
       "version_minor": 0
      },
      "text/plain": [
       "Handling Negations:   0%|          | 0/27 [00:00<?, ?token/s]"
      ]
     },
     "metadata": {},
     "output_type": "display_data"
    },
    {
     "data": {
      "application/vnd.jupyter.widget-view+json": {
       "model_id": "1433caee42a14d75ac7b57473f3d43cf",
       "version_major": 2,
       "version_minor": 0
      },
      "text/plain": [
       "Handling Negations:   0%|          | 0/97 [00:00<?, ?token/s]"
      ]
     },
     "metadata": {},
     "output_type": "display_data"
    },
    {
     "data": {
      "application/vnd.jupyter.widget-view+json": {
       "model_id": "e7aef0c0b985452696e1923b7df86001",
       "version_major": 2,
       "version_minor": 0
      },
      "text/plain": [
       "Handling Negations:   0%|          | 0/36 [00:00<?, ?token/s]"
      ]
     },
     "metadata": {},
     "output_type": "display_data"
    },
    {
     "data": {
      "application/vnd.jupyter.widget-view+json": {
       "model_id": "6f87471d7137493a81849edb264e69c4",
       "version_major": 2,
       "version_minor": 0
      },
      "text/plain": [
       "Handling Negations:   0%|          | 0/18 [00:00<?, ?token/s]"
      ]
     },
     "metadata": {},
     "output_type": "display_data"
    },
    {
     "data": {
      "application/vnd.jupyter.widget-view+json": {
       "model_id": "ee12589d19ff40629aedc9867b13eb27",
       "version_major": 2,
       "version_minor": 0
      },
      "text/plain": [
       "Handling Negations:   0%|          | 0/67 [00:00<?, ?token/s]"
      ]
     },
     "metadata": {},
     "output_type": "display_data"
    },
    {
     "data": {
      "application/vnd.jupyter.widget-view+json": {
       "model_id": "b22bf584c6e7442083d23ea9f5efcba9",
       "version_major": 2,
       "version_minor": 0
      },
      "text/plain": [
       "Handling Negations:   0%|          | 0/67 [00:00<?, ?token/s]"
      ]
     },
     "metadata": {},
     "output_type": "display_data"
    },
    {
     "data": {
      "application/vnd.jupyter.widget-view+json": {
       "model_id": "b0c2bd94b9d9464ea750a3e54d5384dd",
       "version_major": 2,
       "version_minor": 0
      },
      "text/plain": [
       "Handling Negations:   0%|          | 0/56 [00:00<?, ?token/s]"
      ]
     },
     "metadata": {},
     "output_type": "display_data"
    },
    {
     "data": {
      "application/vnd.jupyter.widget-view+json": {
       "model_id": "f5c7512a40494a428840d11cdc8aae75",
       "version_major": 2,
       "version_minor": 0
      },
      "text/plain": [
       "Handling Negations:   0%|          | 0/38 [00:00<?, ?token/s]"
      ]
     },
     "metadata": {},
     "output_type": "display_data"
    },
    {
     "data": {
      "application/vnd.jupyter.widget-view+json": {
       "model_id": "f2fca7733ffc46db8e9beb1332da428e",
       "version_major": 2,
       "version_minor": 0
      },
      "text/plain": [
       "Handling Negations:   0%|          | 0/124 [00:00<?, ?token/s]"
      ]
     },
     "metadata": {},
     "output_type": "display_data"
    },
    {
     "data": {
      "application/vnd.jupyter.widget-view+json": {
       "model_id": "2e1e839f45ca499eb0eec8aa91090833",
       "version_major": 2,
       "version_minor": 0
      },
      "text/plain": [
       "Handling Negations:   0%|          | 0/71 [00:00<?, ?token/s]"
      ]
     },
     "metadata": {},
     "output_type": "display_data"
    },
    {
     "data": {
      "application/vnd.jupyter.widget-view+json": {
       "model_id": "3d9ec3292b474c86b944e07d5efc41b6",
       "version_major": 2,
       "version_minor": 0
      },
      "text/plain": [
       "Handling Negations:   0%|          | 0/20 [00:00<?, ?token/s]"
      ]
     },
     "metadata": {},
     "output_type": "display_data"
    },
    {
     "data": {
      "application/vnd.jupyter.widget-view+json": {
       "model_id": "b92e8ab9d959436b95fe8380b3383d14",
       "version_major": 2,
       "version_minor": 0
      },
      "text/plain": [
       "Handling Negations:   0%|          | 0/51 [00:00<?, ?token/s]"
      ]
     },
     "metadata": {},
     "output_type": "display_data"
    },
    {
     "data": {
      "application/vnd.jupyter.widget-view+json": {
       "model_id": "ef30141819c0407e87ea3d62678da5b6",
       "version_major": 2,
       "version_minor": 0
      },
      "text/plain": [
       "Handling Negations:   0%|          | 0/179 [00:00<?, ?token/s]"
      ]
     },
     "metadata": {},
     "output_type": "display_data"
    },
    {
     "data": {
      "application/vnd.jupyter.widget-view+json": {
       "model_id": "e47f53914973462b8e491e06b8f19063",
       "version_major": 2,
       "version_minor": 0
      },
      "text/plain": [
       "Handling Negations:   0%|          | 0/41 [00:00<?, ?token/s]"
      ]
     },
     "metadata": {},
     "output_type": "display_data"
    },
    {
     "data": {
      "application/vnd.jupyter.widget-view+json": {
       "model_id": "9807eb1b841548e8bbc0623bd67e7925",
       "version_major": 2,
       "version_minor": 0
      },
      "text/plain": [
       "Handling Negations:   0%|          | 0/81 [00:00<?, ?token/s]"
      ]
     },
     "metadata": {},
     "output_type": "display_data"
    },
    {
     "data": {
      "application/vnd.jupyter.widget-view+json": {
       "model_id": "f0f6665f1be94edeb42697c1b32dcd70",
       "version_major": 2,
       "version_minor": 0
      },
      "text/plain": [
       "Handling Negations:   0%|          | 0/30 [00:00<?, ?token/s]"
      ]
     },
     "metadata": {},
     "output_type": "display_data"
    },
    {
     "data": {
      "application/vnd.jupyter.widget-view+json": {
       "model_id": "96f47ca5460a449db021e68fa847f968",
       "version_major": 2,
       "version_minor": 0
      },
      "text/plain": [
       "Handling Negations:   0%|          | 0/311 [00:00<?, ?token/s]"
      ]
     },
     "metadata": {},
     "output_type": "display_data"
    },
    {
     "data": {
      "application/vnd.jupyter.widget-view+json": {
       "model_id": "60a16ede46b541c3840ee47c6aeb6d9d",
       "version_major": 2,
       "version_minor": 0
      },
      "text/plain": [
       "Handling Negations:   0%|          | 0/108 [00:00<?, ?token/s]"
      ]
     },
     "metadata": {},
     "output_type": "display_data"
    },
    {
     "data": {
      "application/vnd.jupyter.widget-view+json": {
       "model_id": "deb75b055e3743cabb470734481c9465",
       "version_major": 2,
       "version_minor": 0
      },
      "text/plain": [
       "Handling Negations:   0%|          | 0/71 [00:00<?, ?token/s]"
      ]
     },
     "metadata": {},
     "output_type": "display_data"
    },
    {
     "data": {
      "application/vnd.jupyter.widget-view+json": {
       "model_id": "7bc2561d1f17465eb97a8496920aa74a",
       "version_major": 2,
       "version_minor": 0
      },
      "text/plain": [
       "Handling Negations:   0%|          | 0/60 [00:00<?, ?token/s]"
      ]
     },
     "metadata": {},
     "output_type": "display_data"
    },
    {
     "data": {
      "application/vnd.jupyter.widget-view+json": {
       "model_id": "a9f185257d23412f93c3cedb8ff3debd",
       "version_major": 2,
       "version_minor": 0
      },
      "text/plain": [
       "Handling Negations:   0%|          | 0/176 [00:00<?, ?token/s]"
      ]
     },
     "metadata": {},
     "output_type": "display_data"
    },
    {
     "data": {
      "application/vnd.jupyter.widget-view+json": {
       "model_id": "3770588533ff44168d1c80dd0da6e20c",
       "version_major": 2,
       "version_minor": 0
      },
      "text/plain": [
       "Handling Negations:   0%|          | 0/42 [00:00<?, ?token/s]"
      ]
     },
     "metadata": {},
     "output_type": "display_data"
    },
    {
     "data": {
      "application/vnd.jupyter.widget-view+json": {
       "model_id": "1b61d79fe07a40ffa934f82e04291d16",
       "version_major": 2,
       "version_minor": 0
      },
      "text/plain": [
       "Handling Negations:   0%|          | 0/29 [00:00<?, ?token/s]"
      ]
     },
     "metadata": {},
     "output_type": "display_data"
    },
    {
     "data": {
      "application/vnd.jupyter.widget-view+json": {
       "model_id": "bde606fefccc47df840b6c93010bae76",
       "version_major": 2,
       "version_minor": 0
      },
      "text/plain": [
       "Handling Negations:   0%|          | 0/138 [00:00<?, ?token/s]"
      ]
     },
     "metadata": {},
     "output_type": "display_data"
    },
    {
     "data": {
      "application/vnd.jupyter.widget-view+json": {
       "model_id": "30a81eabd4db4ee9a858ee64a38cfdda",
       "version_major": 2,
       "version_minor": 0
      },
      "text/plain": [
       "Handling Negations:   0%|          | 0/77 [00:00<?, ?token/s]"
      ]
     },
     "metadata": {},
     "output_type": "display_data"
    },
    {
     "data": {
      "application/vnd.jupyter.widget-view+json": {
       "model_id": "2fe2075ee3ef48a6b0a6d51aa65bfb8e",
       "version_major": 2,
       "version_minor": 0
      },
      "text/plain": [
       "Handling Negations:   0%|          | 0/125 [00:00<?, ?token/s]"
      ]
     },
     "metadata": {},
     "output_type": "display_data"
    },
    {
     "data": {
      "application/vnd.jupyter.widget-view+json": {
       "model_id": "ad68df91fb4a40c48969cac5831f272b",
       "version_major": 2,
       "version_minor": 0
      },
      "text/plain": [
       "Handling Negations:   0%|          | 0/102 [00:00<?, ?token/s]"
      ]
     },
     "metadata": {},
     "output_type": "display_data"
    },
    {
     "data": {
      "application/vnd.jupyter.widget-view+json": {
       "model_id": "0ef83abb965948158114f947ab96d08c",
       "version_major": 2,
       "version_minor": 0
      },
      "text/plain": [
       "Handling Negations:   0%|          | 0/28 [00:00<?, ?token/s]"
      ]
     },
     "metadata": {},
     "output_type": "display_data"
    },
    {
     "data": {
      "application/vnd.jupyter.widget-view+json": {
       "model_id": "e25e2fd514d74bca818322239ea8d09d",
       "version_major": 2,
       "version_minor": 0
      },
      "text/plain": [
       "Handling Negations:   0%|          | 0/88 [00:00<?, ?token/s]"
      ]
     },
     "metadata": {},
     "output_type": "display_data"
    },
    {
     "data": {
      "application/vnd.jupyter.widget-view+json": {
       "model_id": "8cf9791aeed54ab5b0c57e17a3e75f8f",
       "version_major": 2,
       "version_minor": 0
      },
      "text/plain": [
       "Handling Negations:   0%|          | 0/47 [00:00<?, ?token/s]"
      ]
     },
     "metadata": {},
     "output_type": "display_data"
    },
    {
     "data": {
      "application/vnd.jupyter.widget-view+json": {
       "model_id": "e5c56b85abb84112a87a94fbeda79e90",
       "version_major": 2,
       "version_minor": 0
      },
      "text/plain": [
       "Handling Negations:   0%|          | 0/123 [00:00<?, ?token/s]"
      ]
     },
     "metadata": {},
     "output_type": "display_data"
    },
    {
     "data": {
      "application/vnd.jupyter.widget-view+json": {
       "model_id": "3b95cb287f074de389b97fed3eb77d77",
       "version_major": 2,
       "version_minor": 0
      },
      "text/plain": [
       "Handling Negations:   0%|          | 0/94 [00:00<?, ?token/s]"
      ]
     },
     "metadata": {},
     "output_type": "display_data"
    },
    {
     "data": {
      "application/vnd.jupyter.widget-view+json": {
       "model_id": "688a771c413f4687b1e34851147973ce",
       "version_major": 2,
       "version_minor": 0
      },
      "text/plain": [
       "Handling Negations:   0%|          | 0/37 [00:00<?, ?token/s]"
      ]
     },
     "metadata": {},
     "output_type": "display_data"
    },
    {
     "data": {
      "application/vnd.jupyter.widget-view+json": {
       "model_id": "11c81b2690414f9a923ccdd6f20ffe6f",
       "version_major": 2,
       "version_minor": 0
      },
      "text/plain": [
       "Handling Negations:   0%|          | 0/29 [00:00<?, ?token/s]"
      ]
     },
     "metadata": {},
     "output_type": "display_data"
    },
    {
     "data": {
      "application/vnd.jupyter.widget-view+json": {
       "model_id": "7b452b4bcdff4b3daac83e1ebb6cb8e5",
       "version_major": 2,
       "version_minor": 0
      },
      "text/plain": [
       "Handling Negations:   0%|          | 0/221 [00:00<?, ?token/s]"
      ]
     },
     "metadata": {},
     "output_type": "display_data"
    },
    {
     "data": {
      "application/vnd.jupyter.widget-view+json": {
       "model_id": "20f344d13af444a49108102a7a56e7b2",
       "version_major": 2,
       "version_minor": 0
      },
      "text/plain": [
       "Handling Negations:   0%|          | 0/97 [00:00<?, ?token/s]"
      ]
     },
     "metadata": {},
     "output_type": "display_data"
    },
    {
     "data": {
      "application/vnd.jupyter.widget-view+json": {
       "model_id": "cc52339ad67742059690dba2744834d6",
       "version_major": 2,
       "version_minor": 0
      },
      "text/plain": [
       "Handling Negations:   0%|          | 0/69 [00:00<?, ?token/s]"
      ]
     },
     "metadata": {},
     "output_type": "display_data"
    },
    {
     "data": {
      "application/vnd.jupyter.widget-view+json": {
       "model_id": "57a140dd8b424f9cafc87e01968ad6cf",
       "version_major": 2,
       "version_minor": 0
      },
      "text/plain": [
       "Handling Negations:   0%|          | 0/83 [00:00<?, ?token/s]"
      ]
     },
     "metadata": {},
     "output_type": "display_data"
    },
    {
     "data": {
      "application/vnd.jupyter.widget-view+json": {
       "model_id": "8c63effd9f324445a7516f33df8352ac",
       "version_major": 2,
       "version_minor": 0
      },
      "text/plain": [
       "Handling Negations:   0%|          | 0/35 [00:00<?, ?token/s]"
      ]
     },
     "metadata": {},
     "output_type": "display_data"
    },
    {
     "data": {
      "application/vnd.jupyter.widget-view+json": {
       "model_id": "78995b6fea3a4ca9b85902ad31652eac",
       "version_major": 2,
       "version_minor": 0
      },
      "text/plain": [
       "Handling Negations:   0%|          | 0/46 [00:00<?, ?token/s]"
      ]
     },
     "metadata": {},
     "output_type": "display_data"
    },
    {
     "data": {
      "application/vnd.jupyter.widget-view+json": {
       "model_id": "badbf5c5cf4247babfbbc2b4a558dda6",
       "version_major": 2,
       "version_minor": 0
      },
      "text/plain": [
       "Handling Negations:   0%|          | 0/65 [00:00<?, ?token/s]"
      ]
     },
     "metadata": {},
     "output_type": "display_data"
    },
    {
     "data": {
      "application/vnd.jupyter.widget-view+json": {
       "model_id": "b5b1fde9dadd4fc6ab201b1fd4c52371",
       "version_major": 2,
       "version_minor": 0
      },
      "text/plain": [
       "Handling Negations:   0%|          | 0/87 [00:00<?, ?token/s]"
      ]
     },
     "metadata": {},
     "output_type": "display_data"
    },
    {
     "data": {
      "application/vnd.jupyter.widget-view+json": {
       "model_id": "e7d13d692c9844a089cdfe08409ccf38",
       "version_major": 2,
       "version_minor": 0
      },
      "text/plain": [
       "Handling Negations:   0%|          | 0/82 [00:00<?, ?token/s]"
      ]
     },
     "metadata": {},
     "output_type": "display_data"
    },
    {
     "data": {
      "application/vnd.jupyter.widget-view+json": {
       "model_id": "ce1d056728ec4209a1a5a12a28ae1240",
       "version_major": 2,
       "version_minor": 0
      },
      "text/plain": [
       "Handling Negations:   0%|          | 0/214 [00:00<?, ?token/s]"
      ]
     },
     "metadata": {},
     "output_type": "display_data"
    },
    {
     "data": {
      "application/vnd.jupyter.widget-view+json": {
       "model_id": "dfb1e6c04d3448b4b702b8a867fa7993",
       "version_major": 2,
       "version_minor": 0
      },
      "text/plain": [
       "Handling Negations:   0%|          | 0/53 [00:00<?, ?token/s]"
      ]
     },
     "metadata": {},
     "output_type": "display_data"
    },
    {
     "data": {
      "application/vnd.jupyter.widget-view+json": {
       "model_id": "74632061229747aea0167fe62d9b5710",
       "version_major": 2,
       "version_minor": 0
      },
      "text/plain": [
       "Handling Negations:   0%|          | 0/85 [00:00<?, ?token/s]"
      ]
     },
     "metadata": {},
     "output_type": "display_data"
    },
    {
     "data": {
      "application/vnd.jupyter.widget-view+json": {
       "model_id": "c2fa4f753fa3401da8f3772d11d34f09",
       "version_major": 2,
       "version_minor": 0
      },
      "text/plain": [
       "Handling Negations:   0%|          | 0/94 [00:00<?, ?token/s]"
      ]
     },
     "metadata": {},
     "output_type": "display_data"
    },
    {
     "data": {
      "application/vnd.jupyter.widget-view+json": {
       "model_id": "277f2184fdc547aab9daeda9a5f36769",
       "version_major": 2,
       "version_minor": 0
      },
      "text/plain": [
       "Handling Negations:   0%|          | 0/134 [00:00<?, ?token/s]"
      ]
     },
     "metadata": {},
     "output_type": "display_data"
    },
    {
     "data": {
      "application/vnd.jupyter.widget-view+json": {
       "model_id": "59eb769c79f74612996e39866e3f3001",
       "version_major": 2,
       "version_minor": 0
      },
      "text/plain": [
       "Handling Negations:   0%|          | 0/95 [00:00<?, ?token/s]"
      ]
     },
     "metadata": {},
     "output_type": "display_data"
    },
    {
     "data": {
      "application/vnd.jupyter.widget-view+json": {
       "model_id": "8c8aae6fb3dd47beaea74b2dc6531013",
       "version_major": 2,
       "version_minor": 0
      },
      "text/plain": [
       "Handling Negations:   0%|          | 0/84 [00:00<?, ?token/s]"
      ]
     },
     "metadata": {},
     "output_type": "display_data"
    },
    {
     "data": {
      "application/vnd.jupyter.widget-view+json": {
       "model_id": "d5da3b0e03404b7caa7c37c3fc407a68",
       "version_major": 2,
       "version_minor": 0
      },
      "text/plain": [
       "Handling Negations:   0%|          | 0/181 [00:00<?, ?token/s]"
      ]
     },
     "metadata": {},
     "output_type": "display_data"
    },
    {
     "data": {
      "application/vnd.jupyter.widget-view+json": {
       "model_id": "4d391ce0bd744521a2400ed917a39715",
       "version_major": 2,
       "version_minor": 0
      },
      "text/plain": [
       "Handling Negations:   0%|          | 0/174 [00:00<?, ?token/s]"
      ]
     },
     "metadata": {},
     "output_type": "display_data"
    },
    {
     "data": {
      "application/vnd.jupyter.widget-view+json": {
       "model_id": "05f9736cbf014f82bfa77628126be927",
       "version_major": 2,
       "version_minor": 0
      },
      "text/plain": [
       "Handling Negations:   0%|          | 0/51 [00:00<?, ?token/s]"
      ]
     },
     "metadata": {},
     "output_type": "display_data"
    },
    {
     "data": {
      "application/vnd.jupyter.widget-view+json": {
       "model_id": "6e8718ab3c094058b5c96a72901f4419",
       "version_major": 2,
       "version_minor": 0
      },
      "text/plain": [
       "Handling Negations:   0%|          | 0/176 [00:00<?, ?token/s]"
      ]
     },
     "metadata": {},
     "output_type": "display_data"
    },
    {
     "data": {
      "application/vnd.jupyter.widget-view+json": {
       "model_id": "6fa5c52eb1a64dc9ad7f8580515b41dc",
       "version_major": 2,
       "version_minor": 0
      },
      "text/plain": [
       "Handling Negations:   0%|          | 0/61 [00:00<?, ?token/s]"
      ]
     },
     "metadata": {},
     "output_type": "display_data"
    },
    {
     "data": {
      "application/vnd.jupyter.widget-view+json": {
       "model_id": "3634790579be410498014b46751d979e",
       "version_major": 2,
       "version_minor": 0
      },
      "text/plain": [
       "Handling Negations:   0%|          | 0/92 [00:00<?, ?token/s]"
      ]
     },
     "metadata": {},
     "output_type": "display_data"
    },
    {
     "data": {
      "application/vnd.jupyter.widget-view+json": {
       "model_id": "4d32d4359d5348eb8a4cebbc039047fb",
       "version_major": 2,
       "version_minor": 0
      },
      "text/plain": [
       "Handling Negations:   0%|          | 0/71 [00:00<?, ?token/s]"
      ]
     },
     "metadata": {},
     "output_type": "display_data"
    },
    {
     "data": {
      "application/vnd.jupyter.widget-view+json": {
       "model_id": "c4718af454f24b3f8b19100e0adf5b2b",
       "version_major": 2,
       "version_minor": 0
      },
      "text/plain": [
       "Handling Negations:   0%|          | 0/69 [00:00<?, ?token/s]"
      ]
     },
     "metadata": {},
     "output_type": "display_data"
    },
    {
     "data": {
      "application/vnd.jupyter.widget-view+json": {
       "model_id": "05308a6557f4403b9834a38ab40c0d1d",
       "version_major": 2,
       "version_minor": 0
      },
      "text/plain": [
       "Handling Negations:   0%|          | 0/60 [00:00<?, ?token/s]"
      ]
     },
     "metadata": {},
     "output_type": "display_data"
    },
    {
     "data": {
      "application/vnd.jupyter.widget-view+json": {
       "model_id": "616da903de624d7aaaf6b0c22c79083a",
       "version_major": 2,
       "version_minor": 0
      },
      "text/plain": [
       "Handling Negations:   0%|          | 0/30 [00:00<?, ?token/s]"
      ]
     },
     "metadata": {},
     "output_type": "display_data"
    },
    {
     "data": {
      "application/vnd.jupyter.widget-view+json": {
       "model_id": "dc7a1993bf40482c935d711844353cf9",
       "version_major": 2,
       "version_minor": 0
      },
      "text/plain": [
       "Handling Negations:   0%|          | 0/28 [00:00<?, ?token/s]"
      ]
     },
     "metadata": {},
     "output_type": "display_data"
    },
    {
     "data": {
      "application/vnd.jupyter.widget-view+json": {
       "model_id": "94fe7b5e743a422d8ca39a5948aa8c8e",
       "version_major": 2,
       "version_minor": 0
      },
      "text/plain": [
       "Handling Negations:   0%|          | 0/92 [00:00<?, ?token/s]"
      ]
     },
     "metadata": {},
     "output_type": "display_data"
    },
    {
     "data": {
      "application/vnd.jupyter.widget-view+json": {
       "model_id": "3e764b2d906a47a5b1323e58c71cc72d",
       "version_major": 2,
       "version_minor": 0
      },
      "text/plain": [
       "Handling Negations:   0%|          | 0/26 [00:00<?, ?token/s]"
      ]
     },
     "metadata": {},
     "output_type": "display_data"
    },
    {
     "data": {
      "application/vnd.jupyter.widget-view+json": {
       "model_id": "2638a02167c5456183f10c8b8a3b56c8",
       "version_major": 2,
       "version_minor": 0
      },
      "text/plain": [
       "Handling Negations:   0%|          | 0/97 [00:00<?, ?token/s]"
      ]
     },
     "metadata": {},
     "output_type": "display_data"
    },
    {
     "data": {
      "application/vnd.jupyter.widget-view+json": {
       "model_id": "3082739c1f2c4831b606651f1595034b",
       "version_major": 2,
       "version_minor": 0
      },
      "text/plain": [
       "Handling Negations:   0%|          | 0/18 [00:00<?, ?token/s]"
      ]
     },
     "metadata": {},
     "output_type": "display_data"
    },
    {
     "data": {
      "application/vnd.jupyter.widget-view+json": {
       "model_id": "e9a69ed287614fc4a002f642743ab24d",
       "version_major": 2,
       "version_minor": 0
      },
      "text/plain": [
       "Handling Negations:   0%|          | 0/54 [00:00<?, ?token/s]"
      ]
     },
     "metadata": {},
     "output_type": "display_data"
    },
    {
     "data": {
      "application/vnd.jupyter.widget-view+json": {
       "model_id": "d1585c412b04459ba995bc2eae8cb0f4",
       "version_major": 2,
       "version_minor": 0
      },
      "text/plain": [
       "Handling Negations:   0%|          | 0/68 [00:00<?, ?token/s]"
      ]
     },
     "metadata": {},
     "output_type": "display_data"
    },
    {
     "data": {
      "application/vnd.jupyter.widget-view+json": {
       "model_id": "7c8abe4cd0fe4a81b40de3e8f8ac8689",
       "version_major": 2,
       "version_minor": 0
      },
      "text/plain": [
       "Handling Negations:   0%|          | 0/72 [00:00<?, ?token/s]"
      ]
     },
     "metadata": {},
     "output_type": "display_data"
    },
    {
     "data": {
      "application/vnd.jupyter.widget-view+json": {
       "model_id": "1914cc51b1b04fc7aabe8030345066e6",
       "version_major": 2,
       "version_minor": 0
      },
      "text/plain": [
       "Handling Negations:   0%|          | 0/122 [00:00<?, ?token/s]"
      ]
     },
     "metadata": {},
     "output_type": "display_data"
    },
    {
     "data": {
      "application/vnd.jupyter.widget-view+json": {
       "model_id": "859e832cfebb48658ebce7c7c85c7f03",
       "version_major": 2,
       "version_minor": 0
      },
      "text/plain": [
       "Handling Negations:   0%|          | 0/38 [00:00<?, ?token/s]"
      ]
     },
     "metadata": {},
     "output_type": "display_data"
    },
    {
     "data": {
      "application/vnd.jupyter.widget-view+json": {
       "model_id": "18d9ff84e6f84766bf1739a325b3bfa4",
       "version_major": 2,
       "version_minor": 0
      },
      "text/plain": [
       "Handling Negations:   0%|          | 0/82 [00:00<?, ?token/s]"
      ]
     },
     "metadata": {},
     "output_type": "display_data"
    },
    {
     "data": {
      "application/vnd.jupyter.widget-view+json": {
       "model_id": "3f143870452644ff977cc35372a3e929",
       "version_major": 2,
       "version_minor": 0
      },
      "text/plain": [
       "Handling Negations:   0%|          | 0/73 [00:00<?, ?token/s]"
      ]
     },
     "metadata": {},
     "output_type": "display_data"
    },
    {
     "data": {
      "application/vnd.jupyter.widget-view+json": {
       "model_id": "96b3d366789842a5b208aafdd0bbe14f",
       "version_major": 2,
       "version_minor": 0
      },
      "text/plain": [
       "Handling Negations:   0%|          | 0/59 [00:00<?, ?token/s]"
      ]
     },
     "metadata": {},
     "output_type": "display_data"
    },
    {
     "data": {
      "application/vnd.jupyter.widget-view+json": {
       "model_id": "f39ad84d880948f885ecfb9dbef4aca2",
       "version_major": 2,
       "version_minor": 0
      },
      "text/plain": [
       "Handling Negations:   0%|          | 0/89 [00:00<?, ?token/s]"
      ]
     },
     "metadata": {},
     "output_type": "display_data"
    },
    {
     "data": {
      "application/vnd.jupyter.widget-view+json": {
       "model_id": "815e6f05b5b3469a8387f5cc4467e576",
       "version_major": 2,
       "version_minor": 0
      },
      "text/plain": [
       "Handling Negations:   0%|          | 0/25 [00:00<?, ?token/s]"
      ]
     },
     "metadata": {},
     "output_type": "display_data"
    },
    {
     "data": {
      "application/vnd.jupyter.widget-view+json": {
       "model_id": "8326ed6e0111472092990f0ff085a9c8",
       "version_major": 2,
       "version_minor": 0
      },
      "text/plain": [
       "Handling Negations:   0%|          | 0/53 [00:00<?, ?token/s]"
      ]
     },
     "metadata": {},
     "output_type": "display_data"
    },
    {
     "data": {
      "application/vnd.jupyter.widget-view+json": {
       "model_id": "9890bbc1b0f546dfbd2c3fd980f46e19",
       "version_major": 2,
       "version_minor": 0
      },
      "text/plain": [
       "Handling Negations:   0%|          | 0/29 [00:00<?, ?token/s]"
      ]
     },
     "metadata": {},
     "output_type": "display_data"
    },
    {
     "data": {
      "application/vnd.jupyter.widget-view+json": {
       "model_id": "ffae6be0473b4531aeafff9e0dcd4f42",
       "version_major": 2,
       "version_minor": 0
      },
      "text/plain": [
       "Handling Negations:   0%|          | 0/49 [00:00<?, ?token/s]"
      ]
     },
     "metadata": {},
     "output_type": "display_data"
    },
    {
     "data": {
      "application/vnd.jupyter.widget-view+json": {
       "model_id": "b9e33468b99547a2a5c8930a8f9df66c",
       "version_major": 2,
       "version_minor": 0
      },
      "text/plain": [
       "Handling Negations:   0%|          | 0/49 [00:00<?, ?token/s]"
      ]
     },
     "metadata": {},
     "output_type": "display_data"
    },
    {
     "data": {
      "application/vnd.jupyter.widget-view+json": {
       "model_id": "95c42e6f738d4a7394ee42294b9e7cc2",
       "version_major": 2,
       "version_minor": 0
      },
      "text/plain": [
       "Handling Negations:   0%|          | 0/42 [00:00<?, ?token/s]"
      ]
     },
     "metadata": {},
     "output_type": "display_data"
    },
    {
     "data": {
      "application/vnd.jupyter.widget-view+json": {
       "model_id": "55edc8336405407a91d01699952dff59",
       "version_major": 2,
       "version_minor": 0
      },
      "text/plain": [
       "Handling Negations:   0%|          | 0/106 [00:00<?, ?token/s]"
      ]
     },
     "metadata": {},
     "output_type": "display_data"
    },
    {
     "data": {
      "application/vnd.jupyter.widget-view+json": {
       "model_id": "79c3e38d234a480d99a026230c7b00fd",
       "version_major": 2,
       "version_minor": 0
      },
      "text/plain": [
       "Handling Negations:   0%|          | 0/43 [00:00<?, ?token/s]"
      ]
     },
     "metadata": {},
     "output_type": "display_data"
    },
    {
     "data": {
      "application/vnd.jupyter.widget-view+json": {
       "model_id": "8e3d4dab35e6478f9f34716e5017bfa3",
       "version_major": 2,
       "version_minor": 0
      },
      "text/plain": [
       "Handling Negations:   0%|          | 0/59 [00:00<?, ?token/s]"
      ]
     },
     "metadata": {},
     "output_type": "display_data"
    },
    {
     "data": {
      "application/vnd.jupyter.widget-view+json": {
       "model_id": "b415c52f3d8e4f82adf7862d67252abc",
       "version_major": 2,
       "version_minor": 0
      },
      "text/plain": [
       "Handling Negations:   0%|          | 0/57 [00:00<?, ?token/s]"
      ]
     },
     "metadata": {},
     "output_type": "display_data"
    },
    {
     "data": {
      "application/vnd.jupyter.widget-view+json": {
       "model_id": "9c83cb9b97684642b650ebf2a4843246",
       "version_major": 2,
       "version_minor": 0
      },
      "text/plain": [
       "Handling Negations:   0%|          | 0/87 [00:00<?, ?token/s]"
      ]
     },
     "metadata": {},
     "output_type": "display_data"
    },
    {
     "data": {
      "application/vnd.jupyter.widget-view+json": {
       "model_id": "290397d860cb4d14ab9564b5c8625d6f",
       "version_major": 2,
       "version_minor": 0
      },
      "text/plain": [
       "Handling Negations:   0%|          | 0/269 [00:00<?, ?token/s]"
      ]
     },
     "metadata": {},
     "output_type": "display_data"
    },
    {
     "data": {
      "application/vnd.jupyter.widget-view+json": {
       "model_id": "a116ff365f4a46f3a2315d86bccebb24",
       "version_major": 2,
       "version_minor": 0
      },
      "text/plain": [
       "Handling Negations:   0%|          | 0/283 [00:00<?, ?token/s]"
      ]
     },
     "metadata": {},
     "output_type": "display_data"
    },
    {
     "data": {
      "application/vnd.jupyter.widget-view+json": {
       "model_id": "dde6e351030d461e848b7e8c954d3984",
       "version_major": 2,
       "version_minor": 0
      },
      "text/plain": [
       "Handling Negations:   0%|          | 0/48 [00:00<?, ?token/s]"
      ]
     },
     "metadata": {},
     "output_type": "display_data"
    },
    {
     "data": {
      "application/vnd.jupyter.widget-view+json": {
       "model_id": "b4c61fcdc2ac46f481b151204d790631",
       "version_major": 2,
       "version_minor": 0
      },
      "text/plain": [
       "Handling Negations:   0%|          | 0/95 [00:00<?, ?token/s]"
      ]
     },
     "metadata": {},
     "output_type": "display_data"
    },
    {
     "data": {
      "application/vnd.jupyter.widget-view+json": {
       "model_id": "ff9b41dc6c2f43b8bbe10877fb56378a",
       "version_major": 2,
       "version_minor": 0
      },
      "text/plain": [
       "Handling Negations:   0%|          | 0/59 [00:00<?, ?token/s]"
      ]
     },
     "metadata": {},
     "output_type": "display_data"
    },
    {
     "data": {
      "application/vnd.jupyter.widget-view+json": {
       "model_id": "6a8cba4d25144a3887d95fce172d9134",
       "version_major": 2,
       "version_minor": 0
      },
      "text/plain": [
       "Handling Negations:   0%|          | 0/44 [00:00<?, ?token/s]"
      ]
     },
     "metadata": {},
     "output_type": "display_data"
    },
    {
     "data": {
      "application/vnd.jupyter.widget-view+json": {
       "model_id": "8a4f5578e8b549b3ad4911045d5a5339",
       "version_major": 2,
       "version_minor": 0
      },
      "text/plain": [
       "Handling Negations:   0%|          | 0/93 [00:00<?, ?token/s]"
      ]
     },
     "metadata": {},
     "output_type": "display_data"
    },
    {
     "data": {
      "application/vnd.jupyter.widget-view+json": {
       "model_id": "b57fd8d23e9c452cbd620f1912e423ff",
       "version_major": 2,
       "version_minor": 0
      },
      "text/plain": [
       "Handling Negations:   0%|          | 0/62 [00:00<?, ?token/s]"
      ]
     },
     "metadata": {},
     "output_type": "display_data"
    },
    {
     "data": {
      "application/vnd.jupyter.widget-view+json": {
       "model_id": "7b48cc1f29f34b3285c43eb02d0a2a24",
       "version_major": 2,
       "version_minor": 0
      },
      "text/plain": [
       "Handling Negations:   0%|          | 0/229 [00:00<?, ?token/s]"
      ]
     },
     "metadata": {},
     "output_type": "display_data"
    },
    {
     "data": {
      "application/vnd.jupyter.widget-view+json": {
       "model_id": "0309431519d24a5d9de4d34e9cfe27c7",
       "version_major": 2,
       "version_minor": 0
      },
      "text/plain": [
       "Handling Negations:   0%|          | 0/51 [00:00<?, ?token/s]"
      ]
     },
     "metadata": {},
     "output_type": "display_data"
    },
    {
     "data": {
      "application/vnd.jupyter.widget-view+json": {
       "model_id": "5452972b1c7442acaa90c40d2ff6edea",
       "version_major": 2,
       "version_minor": 0
      },
      "text/plain": [
       "Handling Negations:   0%|          | 0/37 [00:00<?, ?token/s]"
      ]
     },
     "metadata": {},
     "output_type": "display_data"
    },
    {
     "data": {
      "application/vnd.jupyter.widget-view+json": {
       "model_id": "f3f4516c542f493ebe675fa3745fc866",
       "version_major": 2,
       "version_minor": 0
      },
      "text/plain": [
       "Handling Negations:   0%|          | 0/85 [00:00<?, ?token/s]"
      ]
     },
     "metadata": {},
     "output_type": "display_data"
    },
    {
     "data": {
      "application/vnd.jupyter.widget-view+json": {
       "model_id": "0e97ef2a2557491babeae89572a3f982",
       "version_major": 2,
       "version_minor": 0
      },
      "text/plain": [
       "Handling Negations:   0%|          | 0/79 [00:00<?, ?token/s]"
      ]
     },
     "metadata": {},
     "output_type": "display_data"
    },
    {
     "data": {
      "application/vnd.jupyter.widget-view+json": {
       "model_id": "5e3d5ed702de4b2989a3df0e83f189c3",
       "version_major": 2,
       "version_minor": 0
      },
      "text/plain": [
       "Handling Negations:   0%|          | 0/27 [00:00<?, ?token/s]"
      ]
     },
     "metadata": {},
     "output_type": "display_data"
    },
    {
     "data": {
      "application/vnd.jupyter.widget-view+json": {
       "model_id": "479d4013c847478ca9fa5f5860b80910",
       "version_major": 2,
       "version_minor": 0
      },
      "text/plain": [
       "Handling Negations:   0%|          | 0/106 [00:00<?, ?token/s]"
      ]
     },
     "metadata": {},
     "output_type": "display_data"
    },
    {
     "data": {
      "application/vnd.jupyter.widget-view+json": {
       "model_id": "33793ff68d45491ebb223ce1dafff348",
       "version_major": 2,
       "version_minor": 0
      },
      "text/plain": [
       "Handling Negations:   0%|          | 0/72 [00:00<?, ?token/s]"
      ]
     },
     "metadata": {},
     "output_type": "display_data"
    },
    {
     "data": {
      "application/vnd.jupyter.widget-view+json": {
       "model_id": "1ae60647c1a546e9a475af5db95d0a98",
       "version_major": 2,
       "version_minor": 0
      },
      "text/plain": [
       "Handling Negations:   0%|          | 0/80 [00:00<?, ?token/s]"
      ]
     },
     "metadata": {},
     "output_type": "display_data"
    },
    {
     "data": {
      "application/vnd.jupyter.widget-view+json": {
       "model_id": "121233b7ac674ae5bd4e83737e453d07",
       "version_major": 2,
       "version_minor": 0
      },
      "text/plain": [
       "Handling Negations:   0%|          | 0/57 [00:00<?, ?token/s]"
      ]
     },
     "metadata": {},
     "output_type": "display_data"
    },
    {
     "data": {
      "application/vnd.jupyter.widget-view+json": {
       "model_id": "73c5250eac0b49f7ac1735a8e5322c16",
       "version_major": 2,
       "version_minor": 0
      },
      "text/plain": [
       "Handling Negations:   0%|          | 0/119 [00:00<?, ?token/s]"
      ]
     },
     "metadata": {},
     "output_type": "display_data"
    },
    {
     "data": {
      "application/vnd.jupyter.widget-view+json": {
       "model_id": "66d8c85f09cf426db5314a0a585f51ac",
       "version_major": 2,
       "version_minor": 0
      },
      "text/plain": [
       "Handling Negations:   0%|          | 0/28 [00:00<?, ?token/s]"
      ]
     },
     "metadata": {},
     "output_type": "display_data"
    },
    {
     "data": {
      "application/vnd.jupyter.widget-view+json": {
       "model_id": "71c202cacbac4291b0e8697a060adc0d",
       "version_major": 2,
       "version_minor": 0
      },
      "text/plain": [
       "Handling Negations:   0%|          | 0/18 [00:00<?, ?token/s]"
      ]
     },
     "metadata": {},
     "output_type": "display_data"
    },
    {
     "data": {
      "application/vnd.jupyter.widget-view+json": {
       "model_id": "5f3792e8d40b46b5ad7276b9ecd5a4ed",
       "version_major": 2,
       "version_minor": 0
      },
      "text/plain": [
       "Handling Negations:   0%|          | 0/92 [00:00<?, ?token/s]"
      ]
     },
     "metadata": {},
     "output_type": "display_data"
    },
    {
     "data": {
      "application/vnd.jupyter.widget-view+json": {
       "model_id": "83ebb51c811f4cb89407872362d02ffb",
       "version_major": 2,
       "version_minor": 0
      },
      "text/plain": [
       "Handling Negations:   0%|          | 0/87 [00:00<?, ?token/s]"
      ]
     },
     "metadata": {},
     "output_type": "display_data"
    },
    {
     "data": {
      "application/vnd.jupyter.widget-view+json": {
       "model_id": "bcd2f84b1aa14cd89629826f37e1375d",
       "version_major": 2,
       "version_minor": 0
      },
      "text/plain": [
       "Handling Negations:   0%|          | 0/112 [00:00<?, ?token/s]"
      ]
     },
     "metadata": {},
     "output_type": "display_data"
    },
    {
     "data": {
      "application/vnd.jupyter.widget-view+json": {
       "model_id": "0c346d0b18244b87adaeaa2fe4c5642e",
       "version_major": 2,
       "version_minor": 0
      },
      "text/plain": [
       "Handling Negations:   0%|          | 0/143 [00:00<?, ?token/s]"
      ]
     },
     "metadata": {},
     "output_type": "display_data"
    },
    {
     "data": {
      "application/vnd.jupyter.widget-view+json": {
       "model_id": "a0022f3fce5e43049d6eba9538d68640",
       "version_major": 2,
       "version_minor": 0
      },
      "text/plain": [
       "Handling Negations:   0%|          | 0/21 [00:00<?, ?token/s]"
      ]
     },
     "metadata": {},
     "output_type": "display_data"
    },
    {
     "data": {
      "application/vnd.jupyter.widget-view+json": {
       "model_id": "198dc2e731a74135b9c5e38b20cae594",
       "version_major": 2,
       "version_minor": 0
      },
      "text/plain": [
       "Handling Negations:   0%|          | 0/97 [00:00<?, ?token/s]"
      ]
     },
     "metadata": {},
     "output_type": "display_data"
    },
    {
     "data": {
      "application/vnd.jupyter.widget-view+json": {
       "model_id": "6f03128a25784cbbb57410ac0018efbd",
       "version_major": 2,
       "version_minor": 0
      },
      "text/plain": [
       "Handling Negations:   0%|          | 0/86 [00:00<?, ?token/s]"
      ]
     },
     "metadata": {},
     "output_type": "display_data"
    },
    {
     "data": {
      "application/vnd.jupyter.widget-view+json": {
       "model_id": "26456854ec154673a5adeda29a27ab8f",
       "version_major": 2,
       "version_minor": 0
      },
      "text/plain": [
       "Handling Negations:   0%|          | 0/104 [00:00<?, ?token/s]"
      ]
     },
     "metadata": {},
     "output_type": "display_data"
    },
    {
     "data": {
      "application/vnd.jupyter.widget-view+json": {
       "model_id": "aa26ec3cd42a4180af3353098f24c263",
       "version_major": 2,
       "version_minor": 0
      },
      "text/plain": [
       "Handling Negations:   0%|          | 0/55 [00:00<?, ?token/s]"
      ]
     },
     "metadata": {},
     "output_type": "display_data"
    },
    {
     "data": {
      "application/vnd.jupyter.widget-view+json": {
       "model_id": "02dbeac289c04f978f89b4e8151eb6e7",
       "version_major": 2,
       "version_minor": 0
      },
      "text/plain": [
       "Handling Negations:   0%|          | 0/35 [00:00<?, ?token/s]"
      ]
     },
     "metadata": {},
     "output_type": "display_data"
    },
    {
     "data": {
      "application/vnd.jupyter.widget-view+json": {
       "model_id": "83d2992ad48345c4a6326be8a20f6c24",
       "version_major": 2,
       "version_minor": 0
      },
      "text/plain": [
       "Handling Negations:   0%|          | 0/103 [00:00<?, ?token/s]"
      ]
     },
     "metadata": {},
     "output_type": "display_data"
    },
    {
     "data": {
      "application/vnd.jupyter.widget-view+json": {
       "model_id": "5c38792e46a54d8987f8cae6c90dbf4e",
       "version_major": 2,
       "version_minor": 0
      },
      "text/plain": [
       "Handling Negations:   0%|          | 0/20 [00:00<?, ?token/s]"
      ]
     },
     "metadata": {},
     "output_type": "display_data"
    },
    {
     "data": {
      "application/vnd.jupyter.widget-view+json": {
       "model_id": "c0153bbbe68744a392628942bb6309bc",
       "version_major": 2,
       "version_minor": 0
      },
      "text/plain": [
       "Handling Negations:   0%|          | 0/42 [00:00<?, ?token/s]"
      ]
     },
     "metadata": {},
     "output_type": "display_data"
    },
    {
     "data": {
      "application/vnd.jupyter.widget-view+json": {
       "model_id": "104051cc0dec43cf8e59ffa6ef5ac00e",
       "version_major": 2,
       "version_minor": 0
      },
      "text/plain": [
       "Handling Negations:   0%|          | 0/143 [00:00<?, ?token/s]"
      ]
     },
     "metadata": {},
     "output_type": "display_data"
    },
    {
     "data": {
      "application/vnd.jupyter.widget-view+json": {
       "model_id": "e05f068162cb45939368e38eec8eb17c",
       "version_major": 2,
       "version_minor": 0
      },
      "text/plain": [
       "Handling Negations:   0%|          | 0/37 [00:00<?, ?token/s]"
      ]
     },
     "metadata": {},
     "output_type": "display_data"
    },
    {
     "data": {
      "application/vnd.jupyter.widget-view+json": {
       "model_id": "7c687dfb4c614892991eeb233729dcd2",
       "version_major": 2,
       "version_minor": 0
      },
      "text/plain": [
       "Handling Negations:   0%|          | 0/48 [00:00<?, ?token/s]"
      ]
     },
     "metadata": {},
     "output_type": "display_data"
    },
    {
     "data": {
      "application/vnd.jupyter.widget-view+json": {
       "model_id": "16b3db1c9da54e469ba724cceeea663e",
       "version_major": 2,
       "version_minor": 0
      },
      "text/plain": [
       "Handling Negations:   0%|          | 0/27 [00:00<?, ?token/s]"
      ]
     },
     "metadata": {},
     "output_type": "display_data"
    },
    {
     "data": {
      "application/vnd.jupyter.widget-view+json": {
       "model_id": "4f9851d82a7949bba74ec19f4f1b909a",
       "version_major": 2,
       "version_minor": 0
      },
      "text/plain": [
       "Handling Negations:   0%|          | 0/33 [00:00<?, ?token/s]"
      ]
     },
     "metadata": {},
     "output_type": "display_data"
    },
    {
     "data": {
      "application/vnd.jupyter.widget-view+json": {
       "model_id": "1804515c129047b29d8cd14cb7a98aea",
       "version_major": 2,
       "version_minor": 0
      },
      "text/plain": [
       "Handling Negations:   0%|          | 0/33 [00:00<?, ?token/s]"
      ]
     },
     "metadata": {},
     "output_type": "display_data"
    },
    {
     "data": {
      "application/vnd.jupyter.widget-view+json": {
       "model_id": "b3517ac0dc6649ac8cbdde124e612de7",
       "version_major": 2,
       "version_minor": 0
      },
      "text/plain": [
       "Handling Negations:   0%|          | 0/118 [00:00<?, ?token/s]"
      ]
     },
     "metadata": {},
     "output_type": "display_data"
    },
    {
     "data": {
      "application/vnd.jupyter.widget-view+json": {
       "model_id": "f0cabd7a62294db5988a0e1916e02c32",
       "version_major": 2,
       "version_minor": 0
      },
      "text/plain": [
       "Handling Negations:   0%|          | 0/111 [00:00<?, ?token/s]"
      ]
     },
     "metadata": {},
     "output_type": "display_data"
    },
    {
     "data": {
      "application/vnd.jupyter.widget-view+json": {
       "model_id": "79e1510906a4482eba0376a14240e890",
       "version_major": 2,
       "version_minor": 0
      },
      "text/plain": [
       "Handling Negations:   0%|          | 0/69 [00:00<?, ?token/s]"
      ]
     },
     "metadata": {},
     "output_type": "display_data"
    },
    {
     "data": {
      "application/vnd.jupyter.widget-view+json": {
       "model_id": "6332be1516b04880b59c16e95ea223a6",
       "version_major": 2,
       "version_minor": 0
      },
      "text/plain": [
       "Handling Negations:   0%|          | 0/58 [00:00<?, ?token/s]"
      ]
     },
     "metadata": {},
     "output_type": "display_data"
    },
    {
     "data": {
      "application/vnd.jupyter.widget-view+json": {
       "model_id": "3d94d6189f6842c8a8dec85d1b1de9c5",
       "version_major": 2,
       "version_minor": 0
      },
      "text/plain": [
       "Handling Negations:   0%|          | 0/39 [00:00<?, ?token/s]"
      ]
     },
     "metadata": {},
     "output_type": "display_data"
    },
    {
     "data": {
      "application/vnd.jupyter.widget-view+json": {
       "model_id": "1603e6cb1fa24bd49741b2836872ca4a",
       "version_major": 2,
       "version_minor": 0
      },
      "text/plain": [
       "Handling Negations:   0%|          | 0/23 [00:00<?, ?token/s]"
      ]
     },
     "metadata": {},
     "output_type": "display_data"
    },
    {
     "data": {
      "application/vnd.jupyter.widget-view+json": {
       "model_id": "8e1df21091fe41d8b20dc5a97347b6ef",
       "version_major": 2,
       "version_minor": 0
      },
      "text/plain": [
       "Handling Negations:   0%|          | 0/76 [00:00<?, ?token/s]"
      ]
     },
     "metadata": {},
     "output_type": "display_data"
    },
    {
     "data": {
      "application/vnd.jupyter.widget-view+json": {
       "model_id": "3229a59f4d2c400e8f9b75f4d9b6aef4",
       "version_major": 2,
       "version_minor": 0
      },
      "text/plain": [
       "Handling Negations:   0%|          | 0/31 [00:00<?, ?token/s]"
      ]
     },
     "metadata": {},
     "output_type": "display_data"
    },
    {
     "data": {
      "application/vnd.jupyter.widget-view+json": {
       "model_id": "6484c954b45646beb8b18206aafabbed",
       "version_major": 2,
       "version_minor": 0
      },
      "text/plain": [
       "Handling Negations:   0%|          | 0/89 [00:00<?, ?token/s]"
      ]
     },
     "metadata": {},
     "output_type": "display_data"
    },
    {
     "data": {
      "application/vnd.jupyter.widget-view+json": {
       "model_id": "4e08f7a8d2f04368bc849ae9b87739fa",
       "version_major": 2,
       "version_minor": 0
      },
      "text/plain": [
       "Handling Negations:   0%|          | 0/124 [00:00<?, ?token/s]"
      ]
     },
     "metadata": {},
     "output_type": "display_data"
    },
    {
     "data": {
      "application/vnd.jupyter.widget-view+json": {
       "model_id": "afa6745f15f6446ca722fac72b4dda20",
       "version_major": 2,
       "version_minor": 0
      },
      "text/plain": [
       "Handling Negations:   0%|          | 0/22 [00:00<?, ?token/s]"
      ]
     },
     "metadata": {},
     "output_type": "display_data"
    },
    {
     "data": {
      "application/vnd.jupyter.widget-view+json": {
       "model_id": "bd897f8dbbf440cfac2ca576881055c9",
       "version_major": 2,
       "version_minor": 0
      },
      "text/plain": [
       "Handling Negations:   0%|          | 0/29 [00:00<?, ?token/s]"
      ]
     },
     "metadata": {},
     "output_type": "display_data"
    },
    {
     "data": {
      "application/vnd.jupyter.widget-view+json": {
       "model_id": "135d7e474333447e81bea03b3ef9ca66",
       "version_major": 2,
       "version_minor": 0
      },
      "text/plain": [
       "Handling Negations:   0%|          | 0/101 [00:00<?, ?token/s]"
      ]
     },
     "metadata": {},
     "output_type": "display_data"
    },
    {
     "data": {
      "application/vnd.jupyter.widget-view+json": {
       "model_id": "69d19f3e15a4430dbc72910ebe4610e0",
       "version_major": 2,
       "version_minor": 0
      },
      "text/plain": [
       "Handling Negations:   0%|          | 0/58 [00:00<?, ?token/s]"
      ]
     },
     "metadata": {},
     "output_type": "display_data"
    },
    {
     "data": {
      "application/vnd.jupyter.widget-view+json": {
       "model_id": "3d2b0fe88fcc4be793860945f5ae96f1",
       "version_major": 2,
       "version_minor": 0
      },
      "text/plain": [
       "Handling Negations:   0%|          | 0/29 [00:00<?, ?token/s]"
      ]
     },
     "metadata": {},
     "output_type": "display_data"
    },
    {
     "data": {
      "application/vnd.jupyter.widget-view+json": {
       "model_id": "f648296fd2204b31a16a3d8d8e2c5050",
       "version_major": 2,
       "version_minor": 0
      },
      "text/plain": [
       "Handling Negations:   0%|          | 0/77 [00:00<?, ?token/s]"
      ]
     },
     "metadata": {},
     "output_type": "display_data"
    },
    {
     "data": {
      "application/vnd.jupyter.widget-view+json": {
       "model_id": "5c379a94001b457d8d99fab47da72e46",
       "version_major": 2,
       "version_minor": 0
      },
      "text/plain": [
       "Handling Negations:   0%|          | 0/85 [00:00<?, ?token/s]"
      ]
     },
     "metadata": {},
     "output_type": "display_data"
    },
    {
     "data": {
      "application/vnd.jupyter.widget-view+json": {
       "model_id": "39c0db1762344fc5843e8d57d3540a1c",
       "version_major": 2,
       "version_minor": 0
      },
      "text/plain": [
       "Handling Negations:   0%|          | 0/237 [00:00<?, ?token/s]"
      ]
     },
     "metadata": {},
     "output_type": "display_data"
    },
    {
     "data": {
      "application/vnd.jupyter.widget-view+json": {
       "model_id": "ef9efd4fda9744ff99de9e20ebf3069e",
       "version_major": 2,
       "version_minor": 0
      },
      "text/plain": [
       "Handling Negations:   0%|          | 0/188 [00:00<?, ?token/s]"
      ]
     },
     "metadata": {},
     "output_type": "display_data"
    },
    {
     "data": {
      "application/vnd.jupyter.widget-view+json": {
       "model_id": "1c5ece331a3845d3a6cd6084abea743b",
       "version_major": 2,
       "version_minor": 0
      },
      "text/plain": [
       "Handling Negations:   0%|          | 0/45 [00:00<?, ?token/s]"
      ]
     },
     "metadata": {},
     "output_type": "display_data"
    },
    {
     "data": {
      "application/vnd.jupyter.widget-view+json": {
       "model_id": "0f374f5371c14adf83886e522694f42e",
       "version_major": 2,
       "version_minor": 0
      },
      "text/plain": [
       "Handling Negations:   0%|          | 0/46 [00:00<?, ?token/s]"
      ]
     },
     "metadata": {},
     "output_type": "display_data"
    },
    {
     "data": {
      "application/vnd.jupyter.widget-view+json": {
       "model_id": "74ca3198aaa549ca92820f2c69728516",
       "version_major": 2,
       "version_minor": 0
      },
      "text/plain": [
       "Handling Negations:   0%|          | 0/94 [00:00<?, ?token/s]"
      ]
     },
     "metadata": {},
     "output_type": "display_data"
    },
    {
     "data": {
      "application/vnd.jupyter.widget-view+json": {
       "model_id": "ec5106c575ae45679ba502ecd051a4d2",
       "version_major": 2,
       "version_minor": 0
      },
      "text/plain": [
       "Handling Negations:   0%|          | 0/40 [00:00<?, ?token/s]"
      ]
     },
     "metadata": {},
     "output_type": "display_data"
    },
    {
     "data": {
      "application/vnd.jupyter.widget-view+json": {
       "model_id": "abe21847668b47749b1eba428455127b",
       "version_major": 2,
       "version_minor": 0
      },
      "text/plain": [
       "Handling Negations:   0%|          | 0/61 [00:00<?, ?token/s]"
      ]
     },
     "metadata": {},
     "output_type": "display_data"
    },
    {
     "data": {
      "application/vnd.jupyter.widget-view+json": {
       "model_id": "32f874c9a7eb4222a50605fa8b7c4ae3",
       "version_major": 2,
       "version_minor": 0
      },
      "text/plain": [
       "Handling Negations:   0%|          | 0/42 [00:00<?, ?token/s]"
      ]
     },
     "metadata": {},
     "output_type": "display_data"
    },
    {
     "data": {
      "application/vnd.jupyter.widget-view+json": {
       "model_id": "3fae4c60eb2b40818590083592f8f31b",
       "version_major": 2,
       "version_minor": 0
      },
      "text/plain": [
       "Handling Negations:   0%|          | 0/52 [00:00<?, ?token/s]"
      ]
     },
     "metadata": {},
     "output_type": "display_data"
    },
    {
     "data": {
      "application/vnd.jupyter.widget-view+json": {
       "model_id": "2ceb731122814e3cb53b74a24c335d99",
       "version_major": 2,
       "version_minor": 0
      },
      "text/plain": [
       "Handling Negations:   0%|          | 0/32 [00:00<?, ?token/s]"
      ]
     },
     "metadata": {},
     "output_type": "display_data"
    },
    {
     "data": {
      "application/vnd.jupyter.widget-view+json": {
       "model_id": "61773e8255d147a4a57b98ec6c3fe467",
       "version_major": 2,
       "version_minor": 0
      },
      "text/plain": [
       "Handling Negations:   0%|          | 0/67 [00:00<?, ?token/s]"
      ]
     },
     "metadata": {},
     "output_type": "display_data"
    },
    {
     "data": {
      "application/vnd.jupyter.widget-view+json": {
       "model_id": "a2de9cbab5f84fadae66fa2bcced8caa",
       "version_major": 2,
       "version_minor": 0
      },
      "text/plain": [
       "Handling Negations:   0%|          | 0/33 [00:00<?, ?token/s]"
      ]
     },
     "metadata": {},
     "output_type": "display_data"
    },
    {
     "data": {
      "application/vnd.jupyter.widget-view+json": {
       "model_id": "4972178cdd684446974f5a97b54093a2",
       "version_major": 2,
       "version_minor": 0
      },
      "text/plain": [
       "Handling Negations:   0%|          | 0/56 [00:00<?, ?token/s]"
      ]
     },
     "metadata": {},
     "output_type": "display_data"
    },
    {
     "data": {
      "application/vnd.jupyter.widget-view+json": {
       "model_id": "1cf76cd8415e4ab5a50b042eb9bf47d5",
       "version_major": 2,
       "version_minor": 0
      },
      "text/plain": [
       "Handling Negations:   0%|          | 0/62 [00:00<?, ?token/s]"
      ]
     },
     "metadata": {},
     "output_type": "display_data"
    },
    {
     "data": {
      "application/vnd.jupyter.widget-view+json": {
       "model_id": "f6368d2e89014664b2dcbd6c2fc9047e",
       "version_major": 2,
       "version_minor": 0
      },
      "text/plain": [
       "Handling Negations:   0%|          | 0/25 [00:00<?, ?token/s]"
      ]
     },
     "metadata": {},
     "output_type": "display_data"
    },
    {
     "data": {
      "application/vnd.jupyter.widget-view+json": {
       "model_id": "58cd1e936d97423fa94eda86c400b09f",
       "version_major": 2,
       "version_minor": 0
      },
      "text/plain": [
       "Handling Negations:   0%|          | 0/163 [00:00<?, ?token/s]"
      ]
     },
     "metadata": {},
     "output_type": "display_data"
    },
    {
     "data": {
      "application/vnd.jupyter.widget-view+json": {
       "model_id": "24129690477447f8a65a31a2c9f368df",
       "version_major": 2,
       "version_minor": 0
      },
      "text/plain": [
       "Handling Negations:   0%|          | 0/73 [00:00<?, ?token/s]"
      ]
     },
     "metadata": {},
     "output_type": "display_data"
    },
    {
     "data": {
      "application/vnd.jupyter.widget-view+json": {
       "model_id": "81a23b5a903c4f7a858e06ef7594e102",
       "version_major": 2,
       "version_minor": 0
      },
      "text/plain": [
       "Handling Negations:   0%|          | 0/41 [00:00<?, ?token/s]"
      ]
     },
     "metadata": {},
     "output_type": "display_data"
    },
    {
     "data": {
      "application/vnd.jupyter.widget-view+json": {
       "model_id": "e898dcec638f409d8b16d3d09f408614",
       "version_major": 2,
       "version_minor": 0
      },
      "text/plain": [
       "Handling Negations:   0%|          | 0/25 [00:00<?, ?token/s]"
      ]
     },
     "metadata": {},
     "output_type": "display_data"
    },
    {
     "data": {
      "application/vnd.jupyter.widget-view+json": {
       "model_id": "4b47be7e94904969b170774c7a94b56f",
       "version_major": 2,
       "version_minor": 0
      },
      "text/plain": [
       "Handling Negations:   0%|          | 0/141 [00:00<?, ?token/s]"
      ]
     },
     "metadata": {},
     "output_type": "display_data"
    },
    {
     "data": {
      "application/vnd.jupyter.widget-view+json": {
       "model_id": "ab4525053d974e71bfc27997bf05d3f4",
       "version_major": 2,
       "version_minor": 0
      },
      "text/plain": [
       "Handling Negations:   0%|          | 0/14 [00:00<?, ?token/s]"
      ]
     },
     "metadata": {},
     "output_type": "display_data"
    },
    {
     "data": {
      "application/vnd.jupyter.widget-view+json": {
       "model_id": "f11c086730cd474890d26585e8c44148",
       "version_major": 2,
       "version_minor": 0
      },
      "text/plain": [
       "Handling Negations:   0%|          | 0/33 [00:00<?, ?token/s]"
      ]
     },
     "metadata": {},
     "output_type": "display_data"
    },
    {
     "data": {
      "application/vnd.jupyter.widget-view+json": {
       "model_id": "e52345e8d0f94f90a7b2d5b186184df3",
       "version_major": 2,
       "version_minor": 0
      },
      "text/plain": [
       "Handling Negations:   0%|          | 0/95 [00:00<?, ?token/s]"
      ]
     },
     "metadata": {},
     "output_type": "display_data"
    },
    {
     "data": {
      "application/vnd.jupyter.widget-view+json": {
       "model_id": "7d05513f5c4b4bf983a1a7a090d2c440",
       "version_major": 2,
       "version_minor": 0
      },
      "text/plain": [
       "Handling Negations:   0%|          | 0/57 [00:00<?, ?token/s]"
      ]
     },
     "metadata": {},
     "output_type": "display_data"
    },
    {
     "data": {
      "application/vnd.jupyter.widget-view+json": {
       "model_id": "82552c549f314dfd9269dae31b24eff8",
       "version_major": 2,
       "version_minor": 0
      },
      "text/plain": [
       "Handling Negations:   0%|          | 0/75 [00:00<?, ?token/s]"
      ]
     },
     "metadata": {},
     "output_type": "display_data"
    },
    {
     "data": {
      "application/vnd.jupyter.widget-view+json": {
       "model_id": "5bb96096ecf84c27aa8d90646ffca219",
       "version_major": 2,
       "version_minor": 0
      },
      "text/plain": [
       "Handling Negations:   0%|          | 0/80 [00:00<?, ?token/s]"
      ]
     },
     "metadata": {},
     "output_type": "display_data"
    },
    {
     "data": {
      "application/vnd.jupyter.widget-view+json": {
       "model_id": "5d10df16a4d34c8a86ca6cf2de3049da",
       "version_major": 2,
       "version_minor": 0
      },
      "text/plain": [
       "Handling Negations:   0%|          | 0/184 [00:00<?, ?token/s]"
      ]
     },
     "metadata": {},
     "output_type": "display_data"
    },
    {
     "data": {
      "application/vnd.jupyter.widget-view+json": {
       "model_id": "7a66734890d143379bee4c356ff9fb93",
       "version_major": 2,
       "version_minor": 0
      },
      "text/plain": [
       "Handling Negations:   0%|          | 0/205 [00:00<?, ?token/s]"
      ]
     },
     "metadata": {},
     "output_type": "display_data"
    },
    {
     "data": {
      "application/vnd.jupyter.widget-view+json": {
       "model_id": "704db7cac3da40a3aabbe905e37b3e6c",
       "version_major": 2,
       "version_minor": 0
      },
      "text/plain": [
       "Handling Negations:   0%|          | 0/65 [00:00<?, ?token/s]"
      ]
     },
     "metadata": {},
     "output_type": "display_data"
    },
    {
     "data": {
      "application/vnd.jupyter.widget-view+json": {
       "model_id": "f0e3add7d90b4ceca798f916971d75cf",
       "version_major": 2,
       "version_minor": 0
      },
      "text/plain": [
       "Handling Negations:   0%|          | 0/51 [00:00<?, ?token/s]"
      ]
     },
     "metadata": {},
     "output_type": "display_data"
    },
    {
     "data": {
      "application/vnd.jupyter.widget-view+json": {
       "model_id": "dbcc1209856a4ea0afdf9624336e11df",
       "version_major": 2,
       "version_minor": 0
      },
      "text/plain": [
       "Handling Negations:   0%|          | 0/46 [00:00<?, ?token/s]"
      ]
     },
     "metadata": {},
     "output_type": "display_data"
    },
    {
     "data": {
      "application/vnd.jupyter.widget-view+json": {
       "model_id": "49c00168c05e46be951b269e734a211a",
       "version_major": 2,
       "version_minor": 0
      },
      "text/plain": [
       "Handling Negations:   0%|          | 0/39 [00:00<?, ?token/s]"
      ]
     },
     "metadata": {},
     "output_type": "display_data"
    },
    {
     "data": {
      "application/vnd.jupyter.widget-view+json": {
       "model_id": "1bc09aeaa3a647bb9399d8408e6b042c",
       "version_major": 2,
       "version_minor": 0
      },
      "text/plain": [
       "Handling Negations:   0%|          | 0/47 [00:00<?, ?token/s]"
      ]
     },
     "metadata": {},
     "output_type": "display_data"
    },
    {
     "data": {
      "application/vnd.jupyter.widget-view+json": {
       "model_id": "d928a56745dd4d3abab5d667297aad1f",
       "version_major": 2,
       "version_minor": 0
      },
      "text/plain": [
       "Handling Negations:   0%|          | 0/48 [00:00<?, ?token/s]"
      ]
     },
     "metadata": {},
     "output_type": "display_data"
    },
    {
     "data": {
      "application/vnd.jupyter.widget-view+json": {
       "model_id": "202419b21369418097c24f95e16b2070",
       "version_major": 2,
       "version_minor": 0
      },
      "text/plain": [
       "Handling Negations:   0%|          | 0/46 [00:00<?, ?token/s]"
      ]
     },
     "metadata": {},
     "output_type": "display_data"
    },
    {
     "data": {
      "application/vnd.jupyter.widget-view+json": {
       "model_id": "4c85f85b2476400fbe2ccf7463e3caab",
       "version_major": 2,
       "version_minor": 0
      },
      "text/plain": [
       "Handling Negations:   0%|          | 0/45 [00:00<?, ?token/s]"
      ]
     },
     "metadata": {},
     "output_type": "display_data"
    },
    {
     "data": {
      "application/vnd.jupyter.widget-view+json": {
       "model_id": "6be00f0d52be4c04aaf1ef970be03c31",
       "version_major": 2,
       "version_minor": 0
      },
      "text/plain": [
       "Handling Negations:   0%|          | 0/31 [00:00<?, ?token/s]"
      ]
     },
     "metadata": {},
     "output_type": "display_data"
    },
    {
     "data": {
      "application/vnd.jupyter.widget-view+json": {
       "model_id": "df6a3911a82c466d9b9a3eb96483b179",
       "version_major": 2,
       "version_minor": 0
      },
      "text/plain": [
       "Handling Negations:   0%|          | 0/31 [00:00<?, ?token/s]"
      ]
     },
     "metadata": {},
     "output_type": "display_data"
    },
    {
     "data": {
      "application/vnd.jupyter.widget-view+json": {
       "model_id": "f8cf3f88b5164174bdec769b9dc7a780",
       "version_major": 2,
       "version_minor": 0
      },
      "text/plain": [
       "Handling Negations:   0%|          | 0/46 [00:00<?, ?token/s]"
      ]
     },
     "metadata": {},
     "output_type": "display_data"
    },
    {
     "data": {
      "application/vnd.jupyter.widget-view+json": {
       "model_id": "3aeb1035092b4902b36f537fefe9b527",
       "version_major": 2,
       "version_minor": 0
      },
      "text/plain": [
       "Handling Negations:   0%|          | 0/49 [00:00<?, ?token/s]"
      ]
     },
     "metadata": {},
     "output_type": "display_data"
    },
    {
     "data": {
      "application/vnd.jupyter.widget-view+json": {
       "model_id": "b29f8f42cc1b4498bfee14b47785c1f5",
       "version_major": 2,
       "version_minor": 0
      },
      "text/plain": [
       "Handling Negations:   0%|          | 0/120 [00:00<?, ?token/s]"
      ]
     },
     "metadata": {},
     "output_type": "display_data"
    },
    {
     "data": {
      "application/vnd.jupyter.widget-view+json": {
       "model_id": "ed1cd50c9bb84445a7bef241115d2447",
       "version_major": 2,
       "version_minor": 0
      },
      "text/plain": [
       "Handling Negations:   0%|          | 0/34 [00:00<?, ?token/s]"
      ]
     },
     "metadata": {},
     "output_type": "display_data"
    },
    {
     "data": {
      "application/vnd.jupyter.widget-view+json": {
       "model_id": "2d49417442d94e6eb7efba52a687881e",
       "version_major": 2,
       "version_minor": 0
      },
      "text/plain": [
       "Handling Negations:   0%|          | 0/67 [00:00<?, ?token/s]"
      ]
     },
     "metadata": {},
     "output_type": "display_data"
    },
    {
     "data": {
      "application/vnd.jupyter.widget-view+json": {
       "model_id": "d1b3d844afc949fc90027b8113a9cf9f",
       "version_major": 2,
       "version_minor": 0
      },
      "text/plain": [
       "Handling Negations:   0%|          | 0/131 [00:00<?, ?token/s]"
      ]
     },
     "metadata": {},
     "output_type": "display_data"
    },
    {
     "data": {
      "application/vnd.jupyter.widget-view+json": {
       "model_id": "b9d46d9847a549aea4533158557edcb2",
       "version_major": 2,
       "version_minor": 0
      },
      "text/plain": [
       "Handling Negations:   0%|          | 0/48 [00:00<?, ?token/s]"
      ]
     },
     "metadata": {},
     "output_type": "display_data"
    },
    {
     "data": {
      "application/vnd.jupyter.widget-view+json": {
       "model_id": "0d9b827bbe27460c8fd353bc3ee68e81",
       "version_major": 2,
       "version_minor": 0
      },
      "text/plain": [
       "Handling Negations:   0%|          | 0/119 [00:00<?, ?token/s]"
      ]
     },
     "metadata": {},
     "output_type": "display_data"
    },
    {
     "data": {
      "application/vnd.jupyter.widget-view+json": {
       "model_id": "12e939631c234482b386f571129ae455",
       "version_major": 2,
       "version_minor": 0
      },
      "text/plain": [
       "Handling Negations:   0%|          | 0/26 [00:00<?, ?token/s]"
      ]
     },
     "metadata": {},
     "output_type": "display_data"
    },
    {
     "data": {
      "application/vnd.jupyter.widget-view+json": {
       "model_id": "7f813025f1b040279797a3327b3d8a86",
       "version_major": 2,
       "version_minor": 0
      },
      "text/plain": [
       "Handling Negations:   0%|          | 0/58 [00:00<?, ?token/s]"
      ]
     },
     "metadata": {},
     "output_type": "display_data"
    },
    {
     "data": {
      "application/vnd.jupyter.widget-view+json": {
       "model_id": "2fbf2ed701b94d86862a3a40bd3d06dc",
       "version_major": 2,
       "version_minor": 0
      },
      "text/plain": [
       "Handling Negations:   0%|          | 0/85 [00:00<?, ?token/s]"
      ]
     },
     "metadata": {},
     "output_type": "display_data"
    },
    {
     "data": {
      "application/vnd.jupyter.widget-view+json": {
       "model_id": "76282d7f7d704555a662ddffd5b9c290",
       "version_major": 2,
       "version_minor": 0
      },
      "text/plain": [
       "Handling Negations:   0%|          | 0/98 [00:00<?, ?token/s]"
      ]
     },
     "metadata": {},
     "output_type": "display_data"
    },
    {
     "data": {
      "application/vnd.jupyter.widget-view+json": {
       "model_id": "aba1476382134c359cdcc22676e5f00f",
       "version_major": 2,
       "version_minor": 0
      },
      "text/plain": [
       "Handling Negations:   0%|          | 0/76 [00:00<?, ?token/s]"
      ]
     },
     "metadata": {},
     "output_type": "display_data"
    },
    {
     "data": {
      "application/vnd.jupyter.widget-view+json": {
       "model_id": "1a2064b1c6a14bad9561d07c08af2ada",
       "version_major": 2,
       "version_minor": 0
      },
      "text/plain": [
       "Handling Negations:   0%|          | 0/31 [00:00<?, ?token/s]"
      ]
     },
     "metadata": {},
     "output_type": "display_data"
    },
    {
     "data": {
      "application/vnd.jupyter.widget-view+json": {
       "model_id": "60439d7bd5ac4e2792ecd13f7b041cec",
       "version_major": 2,
       "version_minor": 0
      },
      "text/plain": [
       "Handling Negations:   0%|          | 0/48 [00:00<?, ?token/s]"
      ]
     },
     "metadata": {},
     "output_type": "display_data"
    },
    {
     "data": {
      "application/vnd.jupyter.widget-view+json": {
       "model_id": "48b9407b22a4482bae03b29ceec24e35",
       "version_major": 2,
       "version_minor": 0
      },
      "text/plain": [
       "Handling Negations:   0%|          | 0/25 [00:00<?, ?token/s]"
      ]
     },
     "metadata": {},
     "output_type": "display_data"
    },
    {
     "data": {
      "application/vnd.jupyter.widget-view+json": {
       "model_id": "68d3fab3f78148cdbdda3ac1d71bbbb3",
       "version_major": 2,
       "version_minor": 0
      },
      "text/plain": [
       "Handling Negations:   0%|          | 0/91 [00:00<?, ?token/s]"
      ]
     },
     "metadata": {},
     "output_type": "display_data"
    },
    {
     "data": {
      "application/vnd.jupyter.widget-view+json": {
       "model_id": "31554233ad754e62bf137e552a195d06",
       "version_major": 2,
       "version_minor": 0
      },
      "text/plain": [
       "Handling Negations:   0%|          | 0/130 [00:00<?, ?token/s]"
      ]
     },
     "metadata": {},
     "output_type": "display_data"
    },
    {
     "data": {
      "application/vnd.jupyter.widget-view+json": {
       "model_id": "5b7165eadb57402084bae75e0d96bd0d",
       "version_major": 2,
       "version_minor": 0
      },
      "text/plain": [
       "Handling Negations:   0%|          | 0/22 [00:00<?, ?token/s]"
      ]
     },
     "metadata": {},
     "output_type": "display_data"
    },
    {
     "data": {
      "application/vnd.jupyter.widget-view+json": {
       "model_id": "6f69da173d3643eaaf9e1f02ad0e39a7",
       "version_major": 2,
       "version_minor": 0
      },
      "text/plain": [
       "Handling Negations:   0%|          | 0/73 [00:00<?, ?token/s]"
      ]
     },
     "metadata": {},
     "output_type": "display_data"
    },
    {
     "data": {
      "application/vnd.jupyter.widget-view+json": {
       "model_id": "6a7c7d0dc370416abd6e673be5d64b9d",
       "version_major": 2,
       "version_minor": 0
      },
      "text/plain": [
       "Handling Negations:   0%|          | 0/34 [00:00<?, ?token/s]"
      ]
     },
     "metadata": {},
     "output_type": "display_data"
    },
    {
     "data": {
      "application/vnd.jupyter.widget-view+json": {
       "model_id": "d8d7ed74663c4bb8b5c119cd47671857",
       "version_major": 2,
       "version_minor": 0
      },
      "text/plain": [
       "Handling Negations:   0%|          | 0/32 [00:00<?, ?token/s]"
      ]
     },
     "metadata": {},
     "output_type": "display_data"
    },
    {
     "data": {
      "application/vnd.jupyter.widget-view+json": {
       "model_id": "b62dc95b82924ca2a9394b2e382981fc",
       "version_major": 2,
       "version_minor": 0
      },
      "text/plain": [
       "Handling Negations:   0%|          | 0/56 [00:00<?, ?token/s]"
      ]
     },
     "metadata": {},
     "output_type": "display_data"
    },
    {
     "data": {
      "application/vnd.jupyter.widget-view+json": {
       "model_id": "2adb0e5967e1477ea350e465e9582a1e",
       "version_major": 2,
       "version_minor": 0
      },
      "text/plain": [
       "Handling Negations:   0%|          | 0/88 [00:00<?, ?token/s]"
      ]
     },
     "metadata": {},
     "output_type": "display_data"
    },
    {
     "data": {
      "application/vnd.jupyter.widget-view+json": {
       "model_id": "d93001362d0d4bfdaad5ffd003d09682",
       "version_major": 2,
       "version_minor": 0
      },
      "text/plain": [
       "Handling Negations:   0%|          | 0/44 [00:00<?, ?token/s]"
      ]
     },
     "metadata": {},
     "output_type": "display_data"
    },
    {
     "data": {
      "application/vnd.jupyter.widget-view+json": {
       "model_id": "15f64086b036474a9c29eca5aa55dc3f",
       "version_major": 2,
       "version_minor": 0
      },
      "text/plain": [
       "Handling Negations:   0%|          | 0/60 [00:00<?, ?token/s]"
      ]
     },
     "metadata": {},
     "output_type": "display_data"
    },
    {
     "data": {
      "application/vnd.jupyter.widget-view+json": {
       "model_id": "f777d6e7f3a5431e9d084ab69b0dc520",
       "version_major": 2,
       "version_minor": 0
      },
      "text/plain": [
       "Handling Negations:   0%|          | 0/126 [00:00<?, ?token/s]"
      ]
     },
     "metadata": {},
     "output_type": "display_data"
    },
    {
     "data": {
      "application/vnd.jupyter.widget-view+json": {
       "model_id": "249cc4f8709748a18f3d408f18487477",
       "version_major": 2,
       "version_minor": 0
      },
      "text/plain": [
       "Handling Negations:   0%|          | 0/46 [00:00<?, ?token/s]"
      ]
     },
     "metadata": {},
     "output_type": "display_data"
    },
    {
     "data": {
      "application/vnd.jupyter.widget-view+json": {
       "model_id": "1d9f3804d3914b6fa26cd337143d1ca7",
       "version_major": 2,
       "version_minor": 0
      },
      "text/plain": [
       "Handling Negations:   0%|          | 0/77 [00:00<?, ?token/s]"
      ]
     },
     "metadata": {},
     "output_type": "display_data"
    },
    {
     "data": {
      "application/vnd.jupyter.widget-view+json": {
       "model_id": "cbdccff1fa5b4a25bd02f2ed5fbdac67",
       "version_major": 2,
       "version_minor": 0
      },
      "text/plain": [
       "Handling Negations:   0%|          | 0/50 [00:00<?, ?token/s]"
      ]
     },
     "metadata": {},
     "output_type": "display_data"
    },
    {
     "data": {
      "application/vnd.jupyter.widget-view+json": {
       "model_id": "5f8b720dbf084fceb144ba09c63fffa1",
       "version_major": 2,
       "version_minor": 0
      },
      "text/plain": [
       "Handling Negations:   0%|          | 0/33 [00:00<?, ?token/s]"
      ]
     },
     "metadata": {},
     "output_type": "display_data"
    },
    {
     "data": {
      "application/vnd.jupyter.widget-view+json": {
       "model_id": "83ffb85f5ff94d129b5a04735271a261",
       "version_major": 2,
       "version_minor": 0
      },
      "text/plain": [
       "Handling Negations:   0%|          | 0/138 [00:00<?, ?token/s]"
      ]
     },
     "metadata": {},
     "output_type": "display_data"
    },
    {
     "data": {
      "application/vnd.jupyter.widget-view+json": {
       "model_id": "5a6dc8c874d04f28aa080977f37b5dbe",
       "version_major": 2,
       "version_minor": 0
      },
      "text/plain": [
       "Handling Negations:   0%|          | 0/58 [00:00<?, ?token/s]"
      ]
     },
     "metadata": {},
     "output_type": "display_data"
    },
    {
     "data": {
      "application/vnd.jupyter.widget-view+json": {
       "model_id": "959d27a7c6ab4085929a466116ad6156",
       "version_major": 2,
       "version_minor": 0
      },
      "text/plain": [
       "Handling Negations:   0%|          | 0/84 [00:00<?, ?token/s]"
      ]
     },
     "metadata": {},
     "output_type": "display_data"
    },
    {
     "data": {
      "application/vnd.jupyter.widget-view+json": {
       "model_id": "f158a3767e1442f089ae67c12abf2876",
       "version_major": 2,
       "version_minor": 0
      },
      "text/plain": [
       "Handling Negations:   0%|          | 0/106 [00:00<?, ?token/s]"
      ]
     },
     "metadata": {},
     "output_type": "display_data"
    },
    {
     "data": {
      "application/vnd.jupyter.widget-view+json": {
       "model_id": "85427bb04d3c4a96b59eeec3e7cfce17",
       "version_major": 2,
       "version_minor": 0
      },
      "text/plain": [
       "Handling Negations:   0%|          | 0/86 [00:00<?, ?token/s]"
      ]
     },
     "metadata": {},
     "output_type": "display_data"
    },
    {
     "data": {
      "application/vnd.jupyter.widget-view+json": {
       "model_id": "26cd283b51e442f1b75b5403e229affb",
       "version_major": 2,
       "version_minor": 0
      },
      "text/plain": [
       "Handling Negations:   0%|          | 0/42 [00:00<?, ?token/s]"
      ]
     },
     "metadata": {},
     "output_type": "display_data"
    },
    {
     "data": {
      "application/vnd.jupyter.widget-view+json": {
       "model_id": "d83325e34e244784bdd48879b00ef8b4",
       "version_major": 2,
       "version_minor": 0
      },
      "text/plain": [
       "Handling Negations:   0%|          | 0/174 [00:00<?, ?token/s]"
      ]
     },
     "metadata": {},
     "output_type": "display_data"
    },
    {
     "data": {
      "application/vnd.jupyter.widget-view+json": {
       "model_id": "800c7e17a7224040b24c241ddf4957ce",
       "version_major": 2,
       "version_minor": 0
      },
      "text/plain": [
       "Handling Negations:   0%|          | 0/118 [00:00<?, ?token/s]"
      ]
     },
     "metadata": {},
     "output_type": "display_data"
    },
    {
     "data": {
      "application/vnd.jupyter.widget-view+json": {
       "model_id": "c022de71f0dd45328e1a755363438987",
       "version_major": 2,
       "version_minor": 0
      },
      "text/plain": [
       "Handling Negations:   0%|          | 0/30 [00:00<?, ?token/s]"
      ]
     },
     "metadata": {},
     "output_type": "display_data"
    },
    {
     "data": {
      "application/vnd.jupyter.widget-view+json": {
       "model_id": "e8c39f43c15b4a50b242f114a7205a93",
       "version_major": 2,
       "version_minor": 0
      },
      "text/plain": [
       "Handling Negations:   0%|          | 0/68 [00:00<?, ?token/s]"
      ]
     },
     "metadata": {},
     "output_type": "display_data"
    },
    {
     "data": {
      "application/vnd.jupyter.widget-view+json": {
       "model_id": "5363616dd1224098946cca9cac7209c9",
       "version_major": 2,
       "version_minor": 0
      },
      "text/plain": [
       "Handling Negations:   0%|          | 0/25 [00:00<?, ?token/s]"
      ]
     },
     "metadata": {},
     "output_type": "display_data"
    },
    {
     "data": {
      "application/vnd.jupyter.widget-view+json": {
       "model_id": "e6c56a94159b448a88ac0abf6f08f84f",
       "version_major": 2,
       "version_minor": 0
      },
      "text/plain": [
       "Handling Negations:   0%|          | 0/66 [00:00<?, ?token/s]"
      ]
     },
     "metadata": {},
     "output_type": "display_data"
    },
    {
     "data": {
      "application/vnd.jupyter.widget-view+json": {
       "model_id": "a01749cb275f45d6b83802c55669434d",
       "version_major": 2,
       "version_minor": 0
      },
      "text/plain": [
       "Handling Negations:   0%|          | 0/255 [00:00<?, ?token/s]"
      ]
     },
     "metadata": {},
     "output_type": "display_data"
    },
    {
     "data": {
      "application/vnd.jupyter.widget-view+json": {
       "model_id": "40f99a81313341779b857d2252e955ab",
       "version_major": 2,
       "version_minor": 0
      },
      "text/plain": [
       "Handling Negations:   0%|          | 0/176 [00:00<?, ?token/s]"
      ]
     },
     "metadata": {},
     "output_type": "display_data"
    },
    {
     "data": {
      "application/vnd.jupyter.widget-view+json": {
       "model_id": "762aa219574c4770823a49f4c5e1702d",
       "version_major": 2,
       "version_minor": 0
      },
      "text/plain": [
       "Handling Negations:   0%|          | 0/28 [00:00<?, ?token/s]"
      ]
     },
     "metadata": {},
     "output_type": "display_data"
    },
    {
     "data": {
      "application/vnd.jupyter.widget-view+json": {
       "model_id": "d39bab9828314119b63d7ebe6df4e7c1",
       "version_major": 2,
       "version_minor": 0
      },
      "text/plain": [
       "Handling Negations:   0%|          | 0/102 [00:00<?, ?token/s]"
      ]
     },
     "metadata": {},
     "output_type": "display_data"
    },
    {
     "data": {
      "application/vnd.jupyter.widget-view+json": {
       "model_id": "c21b38ccbff448ae935cd701d993b68e",
       "version_major": 2,
       "version_minor": 0
      },
      "text/plain": [
       "Handling Negations:   0%|          | 0/57 [00:00<?, ?token/s]"
      ]
     },
     "metadata": {},
     "output_type": "display_data"
    },
    {
     "data": {
      "application/vnd.jupyter.widget-view+json": {
       "model_id": "0cfa80876fba43b6b19fe69e38cc910c",
       "version_major": 2,
       "version_minor": 0
      },
      "text/plain": [
       "Handling Negations:   0%|          | 0/86 [00:00<?, ?token/s]"
      ]
     },
     "metadata": {},
     "output_type": "display_data"
    },
    {
     "data": {
      "application/vnd.jupyter.widget-view+json": {
       "model_id": "b8c695bcabe64f0081f6511a55346af5",
       "version_major": 2,
       "version_minor": 0
      },
      "text/plain": [
       "Handling Negations:   0%|          | 0/70 [00:00<?, ?token/s]"
      ]
     },
     "metadata": {},
     "output_type": "display_data"
    },
    {
     "data": {
      "application/vnd.jupyter.widget-view+json": {
       "model_id": "3b6d75583003465a834993317b4dcebb",
       "version_major": 2,
       "version_minor": 0
      },
      "text/plain": [
       "Handling Negations:   0%|          | 0/30 [00:00<?, ?token/s]"
      ]
     },
     "metadata": {},
     "output_type": "display_data"
    },
    {
     "data": {
      "application/vnd.jupyter.widget-view+json": {
       "model_id": "19d07bb1127b45d3a412dc4abe8ec2cb",
       "version_major": 2,
       "version_minor": 0
      },
      "text/plain": [
       "Handling Negations:   0%|          | 0/82 [00:00<?, ?token/s]"
      ]
     },
     "metadata": {},
     "output_type": "display_data"
    },
    {
     "data": {
      "application/vnd.jupyter.widget-view+json": {
       "model_id": "2346ae2e689b44a189b036bc74de84ff",
       "version_major": 2,
       "version_minor": 0
      },
      "text/plain": [
       "Handling Negations:   0%|          | 0/76 [00:00<?, ?token/s]"
      ]
     },
     "metadata": {},
     "output_type": "display_data"
    },
    {
     "data": {
      "application/vnd.jupyter.widget-view+json": {
       "model_id": "2c8e7ff9eb074292981255415864e302",
       "version_major": 2,
       "version_minor": 0
      },
      "text/plain": [
       "Handling Negations:   0%|          | 0/78 [00:00<?, ?token/s]"
      ]
     },
     "metadata": {},
     "output_type": "display_data"
    },
    {
     "data": {
      "application/vnd.jupyter.widget-view+json": {
       "model_id": "34606da71e3f4b2fb7e9bd89335add18",
       "version_major": 2,
       "version_minor": 0
      },
      "text/plain": [
       "Handling Negations:   0%|          | 0/65 [00:00<?, ?token/s]"
      ]
     },
     "metadata": {},
     "output_type": "display_data"
    },
    {
     "data": {
      "application/vnd.jupyter.widget-view+json": {
       "model_id": "3f851218f2024d66a748fbd1df01f867",
       "version_major": 2,
       "version_minor": 0
      },
      "text/plain": [
       "Handling Negations:   0%|          | 0/53 [00:00<?, ?token/s]"
      ]
     },
     "metadata": {},
     "output_type": "display_data"
    },
    {
     "data": {
      "application/vnd.jupyter.widget-view+json": {
       "model_id": "f9d4fe17cc00475cb7f2e5d67ac7e4ae",
       "version_major": 2,
       "version_minor": 0
      },
      "text/plain": [
       "Handling Negations:   0%|          | 0/102 [00:00<?, ?token/s]"
      ]
     },
     "metadata": {},
     "output_type": "display_data"
    },
    {
     "data": {
      "application/vnd.jupyter.widget-view+json": {
       "model_id": "f643d23dfa6b42d09eecdafaee88a7c8",
       "version_major": 2,
       "version_minor": 0
      },
      "text/plain": [
       "Handling Negations:   0%|          | 0/191 [00:00<?, ?token/s]"
      ]
     },
     "metadata": {},
     "output_type": "display_data"
    },
    {
     "data": {
      "application/vnd.jupyter.widget-view+json": {
       "model_id": "48a633efb9334cd4ba3e27719a3809ef",
       "version_major": 2,
       "version_minor": 0
      },
      "text/plain": [
       "Handling Negations:   0%|          | 0/43 [00:00<?, ?token/s]"
      ]
     },
     "metadata": {},
     "output_type": "display_data"
    },
    {
     "data": {
      "application/vnd.jupyter.widget-view+json": {
       "model_id": "0a3706e0c2284aec94be461839618409",
       "version_major": 2,
       "version_minor": 0
      },
      "text/plain": [
       "Handling Negations:   0%|          | 0/105 [00:00<?, ?token/s]"
      ]
     },
     "metadata": {},
     "output_type": "display_data"
    },
    {
     "data": {
      "application/vnd.jupyter.widget-view+json": {
       "model_id": "c51624f797154a57b6eeb873debcfd0a",
       "version_major": 2,
       "version_minor": 0
      },
      "text/plain": [
       "Handling Negations:   0%|          | 0/56 [00:00<?, ?token/s]"
      ]
     },
     "metadata": {},
     "output_type": "display_data"
    },
    {
     "data": {
      "application/vnd.jupyter.widget-view+json": {
       "model_id": "c01d7a8c4128430789ff380c9b58533c",
       "version_major": 2,
       "version_minor": 0
      },
      "text/plain": [
       "Handling Negations:   0%|          | 0/119 [00:00<?, ?token/s]"
      ]
     },
     "metadata": {},
     "output_type": "display_data"
    },
    {
     "data": {
      "application/vnd.jupyter.widget-view+json": {
       "model_id": "4519d3fede9940b69388e94eca2e3da0",
       "version_major": 2,
       "version_minor": 0
      },
      "text/plain": [
       "Handling Negations:   0%|          | 0/87 [00:00<?, ?token/s]"
      ]
     },
     "metadata": {},
     "output_type": "display_data"
    },
    {
     "data": {
      "application/vnd.jupyter.widget-view+json": {
       "model_id": "58e6277e93654751af7899b346f360db",
       "version_major": 2,
       "version_minor": 0
      },
      "text/plain": [
       "Handling Negations:   0%|          | 0/52 [00:00<?, ?token/s]"
      ]
     },
     "metadata": {},
     "output_type": "display_data"
    },
    {
     "data": {
      "application/vnd.jupyter.widget-view+json": {
       "model_id": "e6a5cdae0c194c6f950900d8bf578924",
       "version_major": 2,
       "version_minor": 0
      },
      "text/plain": [
       "Handling Negations:   0%|          | 0/101 [00:00<?, ?token/s]"
      ]
     },
     "metadata": {},
     "output_type": "display_data"
    },
    {
     "data": {
      "application/vnd.jupyter.widget-view+json": {
       "model_id": "ebc66d11caa342208fe4c412354f573e",
       "version_major": 2,
       "version_minor": 0
      },
      "text/plain": [
       "Handling Negations:   0%|          | 0/142 [00:00<?, ?token/s]"
      ]
     },
     "metadata": {},
     "output_type": "display_data"
    },
    {
     "data": {
      "application/vnd.jupyter.widget-view+json": {
       "model_id": "35fb12f9069141a09b549842024b6c0a",
       "version_major": 2,
       "version_minor": 0
      },
      "text/plain": [
       "Handling Negations:   0%|          | 0/74 [00:00<?, ?token/s]"
      ]
     },
     "metadata": {},
     "output_type": "display_data"
    },
    {
     "data": {
      "application/vnd.jupyter.widget-view+json": {
       "model_id": "e12a7c43e18c4d1e91a6155f2e08a1aa",
       "version_major": 2,
       "version_minor": 0
      },
      "text/plain": [
       "Handling Negations:   0%|          | 0/327 [00:00<?, ?token/s]"
      ]
     },
     "metadata": {},
     "output_type": "display_data"
    },
    {
     "data": {
      "application/vnd.jupyter.widget-view+json": {
       "model_id": "af3cc61af12042d1b6b3264e4e848056",
       "version_major": 2,
       "version_minor": 0
      },
      "text/plain": [
       "Handling Negations:   0%|          | 0/96 [00:00<?, ?token/s]"
      ]
     },
     "metadata": {},
     "output_type": "display_data"
    },
    {
     "data": {
      "application/vnd.jupyter.widget-view+json": {
       "model_id": "a1d26656c88a4b6891235185e204e729",
       "version_major": 2,
       "version_minor": 0
      },
      "text/plain": [
       "Handling Negations:   0%|          | 0/60 [00:00<?, ?token/s]"
      ]
     },
     "metadata": {},
     "output_type": "display_data"
    },
    {
     "data": {
      "application/vnd.jupyter.widget-view+json": {
       "model_id": "60eb3ad64432468a9e1d33f8c1a73339",
       "version_major": 2,
       "version_minor": 0
      },
      "text/plain": [
       "Handling Negations:   0%|          | 0/89 [00:00<?, ?token/s]"
      ]
     },
     "metadata": {},
     "output_type": "display_data"
    },
    {
     "data": {
      "application/vnd.jupyter.widget-view+json": {
       "model_id": "e58b1549991e4872a50a10184bf76f8f",
       "version_major": 2,
       "version_minor": 0
      },
      "text/plain": [
       "Handling Negations:   0%|          | 0/67 [00:00<?, ?token/s]"
      ]
     },
     "metadata": {},
     "output_type": "display_data"
    },
    {
     "data": {
      "application/vnd.jupyter.widget-view+json": {
       "model_id": "17010482f9474ab2bdcec4641cafe856",
       "version_major": 2,
       "version_minor": 0
      },
      "text/plain": [
       "Handling Negations:   0%|          | 0/78 [00:00<?, ?token/s]"
      ]
     },
     "metadata": {},
     "output_type": "display_data"
    },
    {
     "data": {
      "application/vnd.jupyter.widget-view+json": {
       "model_id": "e9d4ed3b0ef64354bb990ed7230e302b",
       "version_major": 2,
       "version_minor": 0
      },
      "text/plain": [
       "Handling Negations:   0%|          | 0/35 [00:00<?, ?token/s]"
      ]
     },
     "metadata": {},
     "output_type": "display_data"
    },
    {
     "data": {
      "application/vnd.jupyter.widget-view+json": {
       "model_id": "e45504dcd2454cca9cccf1f3a4dd4087",
       "version_major": 2,
       "version_minor": 0
      },
      "text/plain": [
       "Handling Negations:   0%|          | 0/99 [00:00<?, ?token/s]"
      ]
     },
     "metadata": {},
     "output_type": "display_data"
    },
    {
     "data": {
      "application/vnd.jupyter.widget-view+json": {
       "model_id": "c89beed788de4388bbd519d88166e814",
       "version_major": 2,
       "version_minor": 0
      },
      "text/plain": [
       "Handling Negations:   0%|          | 0/23 [00:00<?, ?token/s]"
      ]
     },
     "metadata": {},
     "output_type": "display_data"
    },
    {
     "data": {
      "application/vnd.jupyter.widget-view+json": {
       "model_id": "8bc36edce10f4f759f49c56c57366d81",
       "version_major": 2,
       "version_minor": 0
      },
      "text/plain": [
       "Handling Negations:   0%|          | 0/30 [00:00<?, ?token/s]"
      ]
     },
     "metadata": {},
     "output_type": "display_data"
    },
    {
     "data": {
      "application/vnd.jupyter.widget-view+json": {
       "model_id": "ec5b927a0ab543c3a02155a1a0bc9c5c",
       "version_major": 2,
       "version_minor": 0
      },
      "text/plain": [
       "Handling Negations:   0%|          | 0/40 [00:00<?, ?token/s]"
      ]
     },
     "metadata": {},
     "output_type": "display_data"
    },
    {
     "data": {
      "application/vnd.jupyter.widget-view+json": {
       "model_id": "af041a9d79234460a5966c48156ff363",
       "version_major": 2,
       "version_minor": 0
      },
      "text/plain": [
       "Handling Negations:   0%|          | 0/44 [00:00<?, ?token/s]"
      ]
     },
     "metadata": {},
     "output_type": "display_data"
    },
    {
     "data": {
      "application/vnd.jupyter.widget-view+json": {
       "model_id": "15814a7859084aa585fb1866b8d5537d",
       "version_major": 2,
       "version_minor": 0
      },
      "text/plain": [
       "Handling Negations:   0%|          | 0/60 [00:00<?, ?token/s]"
      ]
     },
     "metadata": {},
     "output_type": "display_data"
    },
    {
     "data": {
      "application/vnd.jupyter.widget-view+json": {
       "model_id": "b5e183c008a840d19a3670753fa1c89d",
       "version_major": 2,
       "version_minor": 0
      },
      "text/plain": [
       "Handling Negations:   0%|          | 0/46 [00:00<?, ?token/s]"
      ]
     },
     "metadata": {},
     "output_type": "display_data"
    },
    {
     "data": {
      "application/vnd.jupyter.widget-view+json": {
       "model_id": "30bb6375069a45d4826544a32937a25e",
       "version_major": 2,
       "version_minor": 0
      },
      "text/plain": [
       "Handling Negations:   0%|          | 0/125 [00:00<?, ?token/s]"
      ]
     },
     "metadata": {},
     "output_type": "display_data"
    },
    {
     "data": {
      "application/vnd.jupyter.widget-view+json": {
       "model_id": "40458f3144464c5d827d69256d843ade",
       "version_major": 2,
       "version_minor": 0
      },
      "text/plain": [
       "Handling Negations:   0%|          | 0/40 [00:00<?, ?token/s]"
      ]
     },
     "metadata": {},
     "output_type": "display_data"
    },
    {
     "data": {
      "application/vnd.jupyter.widget-view+json": {
       "model_id": "114b060208ef424a8b44f3124dc834f4",
       "version_major": 2,
       "version_minor": 0
      },
      "text/plain": [
       "Handling Negations:   0%|          | 0/200 [00:00<?, ?token/s]"
      ]
     },
     "metadata": {},
     "output_type": "display_data"
    },
    {
     "data": {
      "application/vnd.jupyter.widget-view+json": {
       "model_id": "f13b6c694d9540418eb70e61670d3141",
       "version_major": 2,
       "version_minor": 0
      },
      "text/plain": [
       "Handling Negations:   0%|          | 0/24 [00:00<?, ?token/s]"
      ]
     },
     "metadata": {},
     "output_type": "display_data"
    },
    {
     "data": {
      "application/vnd.jupyter.widget-view+json": {
       "model_id": "2534df5368ca4b5d9ecb5791907875a2",
       "version_major": 2,
       "version_minor": 0
      },
      "text/plain": [
       "Handling Negations:   0%|          | 0/64 [00:00<?, ?token/s]"
      ]
     },
     "metadata": {},
     "output_type": "display_data"
    },
    {
     "data": {
      "application/vnd.jupyter.widget-view+json": {
       "model_id": "bd0fdeef3e33426b8d318c0e40d42556",
       "version_major": 2,
       "version_minor": 0
      },
      "text/plain": [
       "Handling Negations:   0%|          | 0/72 [00:00<?, ?token/s]"
      ]
     },
     "metadata": {},
     "output_type": "display_data"
    },
    {
     "data": {
      "application/vnd.jupyter.widget-view+json": {
       "model_id": "022d5fc157f14579a273e301174e96c9",
       "version_major": 2,
       "version_minor": 0
      },
      "text/plain": [
       "Handling Negations:   0%|          | 0/40 [00:00<?, ?token/s]"
      ]
     },
     "metadata": {},
     "output_type": "display_data"
    },
    {
     "data": {
      "application/vnd.jupyter.widget-view+json": {
       "model_id": "c038d2c55aba4355838e3b2598cebcee",
       "version_major": 2,
       "version_minor": 0
      },
      "text/plain": [
       "Handling Negations:   0%|          | 0/103 [00:00<?, ?token/s]"
      ]
     },
     "metadata": {},
     "output_type": "display_data"
    },
    {
     "data": {
      "application/vnd.jupyter.widget-view+json": {
       "model_id": "14e31481e8964c44b0cad9571c4cde16",
       "version_major": 2,
       "version_minor": 0
      },
      "text/plain": [
       "Handling Negations:   0%|          | 0/39 [00:00<?, ?token/s]"
      ]
     },
     "metadata": {},
     "output_type": "display_data"
    },
    {
     "data": {
      "application/vnd.jupyter.widget-view+json": {
       "model_id": "57da6d3e237e44a09c4f17329f4c3fba",
       "version_major": 2,
       "version_minor": 0
      },
      "text/plain": [
       "Handling Negations:   0%|          | 0/135 [00:00<?, ?token/s]"
      ]
     },
     "metadata": {},
     "output_type": "display_data"
    },
    {
     "data": {
      "application/vnd.jupyter.widget-view+json": {
       "model_id": "55e2cc25f2754dae8dbaf671a20c1b43",
       "version_major": 2,
       "version_minor": 0
      },
      "text/plain": [
       "Handling Negations:   0%|          | 0/74 [00:00<?, ?token/s]"
      ]
     },
     "metadata": {},
     "output_type": "display_data"
    },
    {
     "data": {
      "application/vnd.jupyter.widget-view+json": {
       "model_id": "08cd48605c0b463fba12c8a63aae80d1",
       "version_major": 2,
       "version_minor": 0
      },
      "text/plain": [
       "Handling Negations:   0%|          | 0/57 [00:00<?, ?token/s]"
      ]
     },
     "metadata": {},
     "output_type": "display_data"
    },
    {
     "data": {
      "application/vnd.jupyter.widget-view+json": {
       "model_id": "da8c160bc46a4aeba022b86b366c1da0",
       "version_major": 2,
       "version_minor": 0
      },
      "text/plain": [
       "Handling Negations:   0%|          | 0/45 [00:00<?, ?token/s]"
      ]
     },
     "metadata": {},
     "output_type": "display_data"
    },
    {
     "data": {
      "application/vnd.jupyter.widget-view+json": {
       "model_id": "50d5136b52f9401daa4f62d95cf8c52e",
       "version_major": 2,
       "version_minor": 0
      },
      "text/plain": [
       "Handling Negations:   0%|          | 0/162 [00:00<?, ?token/s]"
      ]
     },
     "metadata": {},
     "output_type": "display_data"
    },
    {
     "data": {
      "application/vnd.jupyter.widget-view+json": {
       "model_id": "dd3134c1a1e64d54bb2f80f46eaf3461",
       "version_major": 2,
       "version_minor": 0
      },
      "text/plain": [
       "Handling Negations:   0%|          | 0/94 [00:00<?, ?token/s]"
      ]
     },
     "metadata": {},
     "output_type": "display_data"
    },
    {
     "data": {
      "application/vnd.jupyter.widget-view+json": {
       "model_id": "d1c881bf5ca04b5c9f58b266266911d8",
       "version_major": 2,
       "version_minor": 0
      },
      "text/plain": [
       "Handling Negations:   0%|          | 0/50 [00:00<?, ?token/s]"
      ]
     },
     "metadata": {},
     "output_type": "display_data"
    },
    {
     "data": {
      "application/vnd.jupyter.widget-view+json": {
       "model_id": "29af37d58d154ddf8e381e69020d382a",
       "version_major": 2,
       "version_minor": 0
      },
      "text/plain": [
       "Handling Negations:   0%|          | 0/94 [00:00<?, ?token/s]"
      ]
     },
     "metadata": {},
     "output_type": "display_data"
    },
    {
     "data": {
      "application/vnd.jupyter.widget-view+json": {
       "model_id": "2bdba143477e4c0e8272a49e83327371",
       "version_major": 2,
       "version_minor": 0
      },
      "text/plain": [
       "Handling Negations:   0%|          | 0/25 [00:00<?, ?token/s]"
      ]
     },
     "metadata": {},
     "output_type": "display_data"
    },
    {
     "data": {
      "application/vnd.jupyter.widget-view+json": {
       "model_id": "b759af9089d342578cff5937ea82be19",
       "version_major": 2,
       "version_minor": 0
      },
      "text/plain": [
       "Handling Negations:   0%|          | 0/33 [00:00<?, ?token/s]"
      ]
     },
     "metadata": {},
     "output_type": "display_data"
    },
    {
     "data": {
      "application/vnd.jupyter.widget-view+json": {
       "model_id": "43a8030274c242049b88652f88add998",
       "version_major": 2,
       "version_minor": 0
      },
      "text/plain": [
       "Handling Negations:   0%|          | 0/274 [00:00<?, ?token/s]"
      ]
     },
     "metadata": {},
     "output_type": "display_data"
    },
    {
     "data": {
      "application/vnd.jupyter.widget-view+json": {
       "model_id": "527b531dd9a54b4da4ac4fe0d8356236",
       "version_major": 2,
       "version_minor": 0
      },
      "text/plain": [
       "Handling Negations:   0%|          | 0/146 [00:00<?, ?token/s]"
      ]
     },
     "metadata": {},
     "output_type": "display_data"
    },
    {
     "data": {
      "application/vnd.jupyter.widget-view+json": {
       "model_id": "e7af282a573741b68874897c3379e57f",
       "version_major": 2,
       "version_minor": 0
      },
      "text/plain": [
       "Handling Negations:   0%|          | 0/30 [00:00<?, ?token/s]"
      ]
     },
     "metadata": {},
     "output_type": "display_data"
    },
    {
     "data": {
      "application/vnd.jupyter.widget-view+json": {
       "model_id": "0b9dbae4445a4ceaa18ea9ede31ceebd",
       "version_major": 2,
       "version_minor": 0
      },
      "text/plain": [
       "Handling Negations:   0%|          | 0/43 [00:00<?, ?token/s]"
      ]
     },
     "metadata": {},
     "output_type": "display_data"
    },
    {
     "data": {
      "application/vnd.jupyter.widget-view+json": {
       "model_id": "716f7583f7e34c2ea1634552dff54e97",
       "version_major": 2,
       "version_minor": 0
      },
      "text/plain": [
       "Handling Negations:   0%|          | 0/74 [00:00<?, ?token/s]"
      ]
     },
     "metadata": {},
     "output_type": "display_data"
    },
    {
     "data": {
      "application/vnd.jupyter.widget-view+json": {
       "model_id": "702b57cb68a24fffbb3f22c477b55826",
       "version_major": 2,
       "version_minor": 0
      },
      "text/plain": [
       "Handling Negations:   0%|          | 0/46 [00:00<?, ?token/s]"
      ]
     },
     "metadata": {},
     "output_type": "display_data"
    },
    {
     "data": {
      "application/vnd.jupyter.widget-view+json": {
       "model_id": "48df380b1a5d46de827a9cba1619eb80",
       "version_major": 2,
       "version_minor": 0
      },
      "text/plain": [
       "Handling Negations:   0%|          | 0/103 [00:00<?, ?token/s]"
      ]
     },
     "metadata": {},
     "output_type": "display_data"
    },
    {
     "data": {
      "application/vnd.jupyter.widget-view+json": {
       "model_id": "4e09c0a0286f43c99b4facdfb9651a92",
       "version_major": 2,
       "version_minor": 0
      },
      "text/plain": [
       "Handling Negations:   0%|          | 0/21 [00:00<?, ?token/s]"
      ]
     },
     "metadata": {},
     "output_type": "display_data"
    },
    {
     "data": {
      "application/vnd.jupyter.widget-view+json": {
       "model_id": "9175ccf0f31b4ba78fd78ac831bf63fe",
       "version_major": 2,
       "version_minor": 0
      },
      "text/plain": [
       "Handling Negations:   0%|          | 0/107 [00:00<?, ?token/s]"
      ]
     },
     "metadata": {},
     "output_type": "display_data"
    },
    {
     "data": {
      "application/vnd.jupyter.widget-view+json": {
       "model_id": "69a6fe8f0f994935b0184ebeedf1facf",
       "version_major": 2,
       "version_minor": 0
      },
      "text/plain": [
       "Handling Negations:   0%|          | 0/158 [00:00<?, ?token/s]"
      ]
     },
     "metadata": {},
     "output_type": "display_data"
    },
    {
     "data": {
      "application/vnd.jupyter.widget-view+json": {
       "model_id": "b20e059a3d944713a1f765ffa38818c9",
       "version_major": 2,
       "version_minor": 0
      },
      "text/plain": [
       "Handling Negations:   0%|          | 0/35 [00:00<?, ?token/s]"
      ]
     },
     "metadata": {},
     "output_type": "display_data"
    },
    {
     "data": {
      "application/vnd.jupyter.widget-view+json": {
       "model_id": "00b8166fa29d4a2a86c23944cfab215c",
       "version_major": 2,
       "version_minor": 0
      },
      "text/plain": [
       "Handling Negations:   0%|          | 0/44 [00:00<?, ?token/s]"
      ]
     },
     "metadata": {},
     "output_type": "display_data"
    },
    {
     "data": {
      "application/vnd.jupyter.widget-view+json": {
       "model_id": "e2c977060c7043d8a21f389925a21ac2",
       "version_major": 2,
       "version_minor": 0
      },
      "text/plain": [
       "Handling Negations:   0%|          | 0/71 [00:00<?, ?token/s]"
      ]
     },
     "metadata": {},
     "output_type": "display_data"
    },
    {
     "data": {
      "application/vnd.jupyter.widget-view+json": {
       "model_id": "4fdd40382d174985bb84f7d184b661b2",
       "version_major": 2,
       "version_minor": 0
      },
      "text/plain": [
       "Handling Negations:   0%|          | 0/48 [00:00<?, ?token/s]"
      ]
     },
     "metadata": {},
     "output_type": "display_data"
    },
    {
     "data": {
      "application/vnd.jupyter.widget-view+json": {
       "model_id": "d17a746d2a3a4f449d418008a4a881ef",
       "version_major": 2,
       "version_minor": 0
      },
      "text/plain": [
       "Handling Negations:   0%|          | 0/47 [00:00<?, ?token/s]"
      ]
     },
     "metadata": {},
     "output_type": "display_data"
    },
    {
     "data": {
      "application/vnd.jupyter.widget-view+json": {
       "model_id": "c9f40f6b6a674062b20e12fe20233db6",
       "version_major": 2,
       "version_minor": 0
      },
      "text/plain": [
       "Handling Negations:   0%|          | 0/91 [00:00<?, ?token/s]"
      ]
     },
     "metadata": {},
     "output_type": "display_data"
    },
    {
     "data": {
      "application/vnd.jupyter.widget-view+json": {
       "model_id": "8bda0492ba7c4432add2271f4737ae52",
       "version_major": 2,
       "version_minor": 0
      },
      "text/plain": [
       "Handling Negations:   0%|          | 0/93 [00:00<?, ?token/s]"
      ]
     },
     "metadata": {},
     "output_type": "display_data"
    },
    {
     "data": {
      "application/vnd.jupyter.widget-view+json": {
       "model_id": "bdf5989ce424430a8ef8463b999edbc7",
       "version_major": 2,
       "version_minor": 0
      },
      "text/plain": [
       "Handling Negations:   0%|          | 0/35 [00:00<?, ?token/s]"
      ]
     },
     "metadata": {},
     "output_type": "display_data"
    },
    {
     "data": {
      "application/vnd.jupyter.widget-view+json": {
       "model_id": "15047e2ef03b42aa88bea68ae55a226f",
       "version_major": 2,
       "version_minor": 0
      },
      "text/plain": [
       "Handling Negations:   0%|          | 0/189 [00:00<?, ?token/s]"
      ]
     },
     "metadata": {},
     "output_type": "display_data"
    },
    {
     "data": {
      "application/vnd.jupyter.widget-view+json": {
       "model_id": "842efbe02203463a87bcd3dc691c4031",
       "version_major": 2,
       "version_minor": 0
      },
      "text/plain": [
       "Handling Negations:   0%|          | 0/46 [00:00<?, ?token/s]"
      ]
     },
     "metadata": {},
     "output_type": "display_data"
    },
    {
     "data": {
      "application/vnd.jupyter.widget-view+json": {
       "model_id": "9c33441f42ca47298c7edfb36806bfc3",
       "version_major": 2,
       "version_minor": 0
      },
      "text/plain": [
       "Handling Negations:   0%|          | 0/74 [00:00<?, ?token/s]"
      ]
     },
     "metadata": {},
     "output_type": "display_data"
    },
    {
     "data": {
      "application/vnd.jupyter.widget-view+json": {
       "model_id": "c377bf4872bf4a13ab97843be64bedfb",
       "version_major": 2,
       "version_minor": 0
      },
      "text/plain": [
       "Handling Negations:   0%|          | 0/52 [00:00<?, ?token/s]"
      ]
     },
     "metadata": {},
     "output_type": "display_data"
    },
    {
     "data": {
      "application/vnd.jupyter.widget-view+json": {
       "model_id": "fc5924a8a84c4f1896b95aaf6132d095",
       "version_major": 2,
       "version_minor": 0
      },
      "text/plain": [
       "Handling Negations:   0%|          | 0/43 [00:00<?, ?token/s]"
      ]
     },
     "metadata": {},
     "output_type": "display_data"
    },
    {
     "data": {
      "application/vnd.jupyter.widget-view+json": {
       "model_id": "13c7e8a2c3934cf68c4883c367c3ac1f",
       "version_major": 2,
       "version_minor": 0
      },
      "text/plain": [
       "Handling Negations:   0%|          | 0/250 [00:00<?, ?token/s]"
      ]
     },
     "metadata": {},
     "output_type": "display_data"
    },
    {
     "data": {
      "application/vnd.jupyter.widget-view+json": {
       "model_id": "229755a5fe8a42fdaa85974c0dee8dc7",
       "version_major": 2,
       "version_minor": 0
      },
      "text/plain": [
       "Handling Negations:   0%|          | 0/94 [00:00<?, ?token/s]"
      ]
     },
     "metadata": {},
     "output_type": "display_data"
    },
    {
     "data": {
      "application/vnd.jupyter.widget-view+json": {
       "model_id": "f2d5c62a18d34e948bc9220ed0d44160",
       "version_major": 2,
       "version_minor": 0
      },
      "text/plain": [
       "Handling Negations:   0%|          | 0/70 [00:00<?, ?token/s]"
      ]
     },
     "metadata": {},
     "output_type": "display_data"
    },
    {
     "data": {
      "application/vnd.jupyter.widget-view+json": {
       "model_id": "1f9da6802c034c878e7504d548b49af2",
       "version_major": 2,
       "version_minor": 0
      },
      "text/plain": [
       "Handling Negations:   0%|          | 0/57 [00:00<?, ?token/s]"
      ]
     },
     "metadata": {},
     "output_type": "display_data"
    },
    {
     "data": {
      "application/vnd.jupyter.widget-view+json": {
       "model_id": "faeaa0fee0aa467785194a723efbb4ce",
       "version_major": 2,
       "version_minor": 0
      },
      "text/plain": [
       "Handling Negations:   0%|          | 0/153 [00:00<?, ?token/s]"
      ]
     },
     "metadata": {},
     "output_type": "display_data"
    },
    {
     "data": {
      "application/vnd.jupyter.widget-view+json": {
       "model_id": "ee649d6c520e448dbfa20d659228d4a4",
       "version_major": 2,
       "version_minor": 0
      },
      "text/plain": [
       "Handling Negations:   0%|          | 0/80 [00:00<?, ?token/s]"
      ]
     },
     "metadata": {},
     "output_type": "display_data"
    },
    {
     "data": {
      "application/vnd.jupyter.widget-view+json": {
       "model_id": "76ece05004f5490fb82c887692119217",
       "version_major": 2,
       "version_minor": 0
      },
      "text/plain": [
       "Handling Negations:   0%|          | 0/22 [00:00<?, ?token/s]"
      ]
     },
     "metadata": {},
     "output_type": "display_data"
    },
    {
     "data": {
      "application/vnd.jupyter.widget-view+json": {
       "model_id": "84fd9efacce04328ac19a2aa133080e3",
       "version_major": 2,
       "version_minor": 0
      },
      "text/plain": [
       "Handling Negations:   0%|          | 0/78 [00:00<?, ?token/s]"
      ]
     },
     "metadata": {},
     "output_type": "display_data"
    },
    {
     "data": {
      "application/vnd.jupyter.widget-view+json": {
       "model_id": "a95d766af2064b50bff42a5a72b4f7ac",
       "version_major": 2,
       "version_minor": 0
      },
      "text/plain": [
       "Handling Negations:   0%|          | 0/54 [00:00<?, ?token/s]"
      ]
     },
     "metadata": {},
     "output_type": "display_data"
    },
    {
     "data": {
      "application/vnd.jupyter.widget-view+json": {
       "model_id": "d0a6cb558f66417baa5ea87e902ac863",
       "version_major": 2,
       "version_minor": 0
      },
      "text/plain": [
       "Handling Negations:   0%|          | 0/161 [00:00<?, ?token/s]"
      ]
     },
     "metadata": {},
     "output_type": "display_data"
    },
    {
     "data": {
      "application/vnd.jupyter.widget-view+json": {
       "model_id": "f9efa072b06b489fa757f393b582ffd0",
       "version_major": 2,
       "version_minor": 0
      },
      "text/plain": [
       "Handling Negations:   0%|          | 0/23 [00:00<?, ?token/s]"
      ]
     },
     "metadata": {},
     "output_type": "display_data"
    },
    {
     "data": {
      "application/vnd.jupyter.widget-view+json": {
       "model_id": "ce2732de5ba74bc58c8faec090650c72",
       "version_major": 2,
       "version_minor": 0
      },
      "text/plain": [
       "Handling Negations:   0%|          | 0/42 [00:00<?, ?token/s]"
      ]
     },
     "metadata": {},
     "output_type": "display_data"
    },
    {
     "data": {
      "application/vnd.jupyter.widget-view+json": {
       "model_id": "72870d69ad2a454bb6b366811dd80707",
       "version_major": 2,
       "version_minor": 0
      },
      "text/plain": [
       "Handling Negations:   0%|          | 0/48 [00:00<?, ?token/s]"
      ]
     },
     "metadata": {},
     "output_type": "display_data"
    },
    {
     "data": {
      "application/vnd.jupyter.widget-view+json": {
       "model_id": "fc77eaeb45784f31b7f0a9775c63269b",
       "version_major": 2,
       "version_minor": 0
      },
      "text/plain": [
       "Handling Negations:   0%|          | 0/97 [00:00<?, ?token/s]"
      ]
     },
     "metadata": {},
     "output_type": "display_data"
    },
    {
     "data": {
      "application/vnd.jupyter.widget-view+json": {
       "model_id": "9a82afdc4a5b49e593c24c43a10ee43c",
       "version_major": 2,
       "version_minor": 0
      },
      "text/plain": [
       "Handling Negations:   0%|          | 0/32 [00:00<?, ?token/s]"
      ]
     },
     "metadata": {},
     "output_type": "display_data"
    },
    {
     "data": {
      "application/vnd.jupyter.widget-view+json": {
       "model_id": "3993f98a1c43438cba7e9bb70aec2f9a",
       "version_major": 2,
       "version_minor": 0
      },
      "text/plain": [
       "Handling Negations:   0%|          | 0/30 [00:00<?, ?token/s]"
      ]
     },
     "metadata": {},
     "output_type": "display_data"
    },
    {
     "data": {
      "application/vnd.jupyter.widget-view+json": {
       "model_id": "804521ec6c814fc2b65f9a44197ff278",
       "version_major": 2,
       "version_minor": 0
      },
      "text/plain": [
       "Handling Negations:   0%|          | 0/37 [00:00<?, ?token/s]"
      ]
     },
     "metadata": {},
     "output_type": "display_data"
    },
    {
     "data": {
      "application/vnd.jupyter.widget-view+json": {
       "model_id": "6761bd4735354aefb6a99900b5ae3ebc",
       "version_major": 2,
       "version_minor": 0
      },
      "text/plain": [
       "Handling Negations:   0%|          | 0/70 [00:00<?, ?token/s]"
      ]
     },
     "metadata": {},
     "output_type": "display_data"
    },
    {
     "data": {
      "application/vnd.jupyter.widget-view+json": {
       "model_id": "240c59e5d8ae4d0caead46a2663551ab",
       "version_major": 2,
       "version_minor": 0
      },
      "text/plain": [
       "Handling Negations:   0%|          | 0/224 [00:00<?, ?token/s]"
      ]
     },
     "metadata": {},
     "output_type": "display_data"
    },
    {
     "data": {
      "application/vnd.jupyter.widget-view+json": {
       "model_id": "efb233e1113a40f092699cbe9bbbe99b",
       "version_major": 2,
       "version_minor": 0
      },
      "text/plain": [
       "Handling Negations:   0%|          | 0/27 [00:00<?, ?token/s]"
      ]
     },
     "metadata": {},
     "output_type": "display_data"
    },
    {
     "data": {
      "application/vnd.jupyter.widget-view+json": {
       "model_id": "ca34a310cae8475ca44ee4b6b95ea699",
       "version_major": 2,
       "version_minor": 0
      },
      "text/plain": [
       "Handling Negations:   0%|          | 0/120 [00:00<?, ?token/s]"
      ]
     },
     "metadata": {},
     "output_type": "display_data"
    },
    {
     "data": {
      "application/vnd.jupyter.widget-view+json": {
       "model_id": "1e243322b00e43a28fba65f18b115fde",
       "version_major": 2,
       "version_minor": 0
      },
      "text/plain": [
       "Handling Negations:   0%|          | 0/30 [00:00<?, ?token/s]"
      ]
     },
     "metadata": {},
     "output_type": "display_data"
    },
    {
     "data": {
      "application/vnd.jupyter.widget-view+json": {
       "model_id": "6418074e51f84478a2d4b1d311dc506a",
       "version_major": 2,
       "version_minor": 0
      },
      "text/plain": [
       "Handling Negations:   0%|          | 0/108 [00:00<?, ?token/s]"
      ]
     },
     "metadata": {},
     "output_type": "display_data"
    },
    {
     "data": {
      "application/vnd.jupyter.widget-view+json": {
       "model_id": "71a566a07e3b4d29af579bc1723a43f5",
       "version_major": 2,
       "version_minor": 0
      },
      "text/plain": [
       "Handling Negations:   0%|          | 0/105 [00:00<?, ?token/s]"
      ]
     },
     "metadata": {},
     "output_type": "display_data"
    },
    {
     "data": {
      "application/vnd.jupyter.widget-view+json": {
       "model_id": "abb5506b6710400fa8cb5a2a6635866c",
       "version_major": 2,
       "version_minor": 0
      },
      "text/plain": [
       "Handling Negations:   0%|          | 0/105 [00:00<?, ?token/s]"
      ]
     },
     "metadata": {},
     "output_type": "display_data"
    },
    {
     "data": {
      "application/vnd.jupyter.widget-view+json": {
       "model_id": "bff2985307ea4aa3a9323eb15fe1cbdd",
       "version_major": 2,
       "version_minor": 0
      },
      "text/plain": [
       "Handling Negations:   0%|          | 0/55 [00:00<?, ?token/s]"
      ]
     },
     "metadata": {},
     "output_type": "display_data"
    },
    {
     "data": {
      "application/vnd.jupyter.widget-view+json": {
       "model_id": "586c7287a05f4d208ae08b5fcb289c07",
       "version_major": 2,
       "version_minor": 0
      },
      "text/plain": [
       "Handling Negations:   0%|          | 0/62 [00:00<?, ?token/s]"
      ]
     },
     "metadata": {},
     "output_type": "display_data"
    },
    {
     "data": {
      "application/vnd.jupyter.widget-view+json": {
       "model_id": "56252ce694754d8ca8d96c3caff8a2d8",
       "version_major": 2,
       "version_minor": 0
      },
      "text/plain": [
       "Handling Negations:   0%|          | 0/51 [00:00<?, ?token/s]"
      ]
     },
     "metadata": {},
     "output_type": "display_data"
    },
    {
     "data": {
      "application/vnd.jupyter.widget-view+json": {
       "model_id": "6440f3fb48fa46b598af035d81713542",
       "version_major": 2,
       "version_minor": 0
      },
      "text/plain": [
       "Handling Negations:   0%|          | 0/92 [00:00<?, ?token/s]"
      ]
     },
     "metadata": {},
     "output_type": "display_data"
    },
    {
     "data": {
      "application/vnd.jupyter.widget-view+json": {
       "model_id": "ef25d2566466478280e675c3253e960f",
       "version_major": 2,
       "version_minor": 0
      },
      "text/plain": [
       "Handling Negations:   0%|          | 0/46 [00:00<?, ?token/s]"
      ]
     },
     "metadata": {},
     "output_type": "display_data"
    },
    {
     "data": {
      "application/vnd.jupyter.widget-view+json": {
       "model_id": "792bab3e8589457a9cfa67f78a36cdda",
       "version_major": 2,
       "version_minor": 0
      },
      "text/plain": [
       "Handling Negations:   0%|          | 0/121 [00:00<?, ?token/s]"
      ]
     },
     "metadata": {},
     "output_type": "display_data"
    },
    {
     "data": {
      "application/vnd.jupyter.widget-view+json": {
       "model_id": "619757c93d8940dbbfa2600ce15150e2",
       "version_major": 2,
       "version_minor": 0
      },
      "text/plain": [
       "Handling Negations:   0%|          | 0/202 [00:00<?, ?token/s]"
      ]
     },
     "metadata": {},
     "output_type": "display_data"
    },
    {
     "data": {
      "application/vnd.jupyter.widget-view+json": {
       "model_id": "0eae693a3bc643cd93cf946de763d874",
       "version_major": 2,
       "version_minor": 0
      },
      "text/plain": [
       "Handling Negations:   0%|          | 0/70 [00:00<?, ?token/s]"
      ]
     },
     "metadata": {},
     "output_type": "display_data"
    },
    {
     "data": {
      "application/vnd.jupyter.widget-view+json": {
       "model_id": "466b86533c314586b4768ad64b63a9c9",
       "version_major": 2,
       "version_minor": 0
      },
      "text/plain": [
       "Handling Negations:   0%|          | 0/113 [00:00<?, ?token/s]"
      ]
     },
     "metadata": {},
     "output_type": "display_data"
    },
    {
     "data": {
      "application/vnd.jupyter.widget-view+json": {
       "model_id": "8342ddbc121f43a8bf1f8e7eccca4dc9",
       "version_major": 2,
       "version_minor": 0
      },
      "text/plain": [
       "Handling Negations:   0%|          | 0/80 [00:00<?, ?token/s]"
      ]
     },
     "metadata": {},
     "output_type": "display_data"
    },
    {
     "data": {
      "application/vnd.jupyter.widget-view+json": {
       "model_id": "d43fbb8d32824ed58183ea89a9e07715",
       "version_major": 2,
       "version_minor": 0
      },
      "text/plain": [
       "Handling Negations:   0%|          | 0/51 [00:00<?, ?token/s]"
      ]
     },
     "metadata": {},
     "output_type": "display_data"
    },
    {
     "data": {
      "application/vnd.jupyter.widget-view+json": {
       "model_id": "5e53a2780a334692b0ccd04bcbcbf981",
       "version_major": 2,
       "version_minor": 0
      },
      "text/plain": [
       "Handling Negations:   0%|          | 0/31 [00:00<?, ?token/s]"
      ]
     },
     "metadata": {},
     "output_type": "display_data"
    },
    {
     "data": {
      "application/vnd.jupyter.widget-view+json": {
       "model_id": "db1546ded55d4ee4bc23c256d0c7e632",
       "version_major": 2,
       "version_minor": 0
      },
      "text/plain": [
       "Handling Negations:   0%|          | 0/173 [00:00<?, ?token/s]"
      ]
     },
     "metadata": {},
     "output_type": "display_data"
    },
    {
     "data": {
      "application/vnd.jupyter.widget-view+json": {
       "model_id": "a35f213deff7492d8be32d0f307f05f9",
       "version_major": 2,
       "version_minor": 0
      },
      "text/plain": [
       "Handling Negations:   0%|          | 0/31 [00:00<?, ?token/s]"
      ]
     },
     "metadata": {},
     "output_type": "display_data"
    },
    {
     "data": {
      "application/vnd.jupyter.widget-view+json": {
       "model_id": "b8cdda651c004c3ca7605ec6bf27cdc9",
       "version_major": 2,
       "version_minor": 0
      },
      "text/plain": [
       "Handling Negations:   0%|          | 0/208 [00:00<?, ?token/s]"
      ]
     },
     "metadata": {},
     "output_type": "display_data"
    },
    {
     "data": {
      "application/vnd.jupyter.widget-view+json": {
       "model_id": "8438c9e55a8c4e74b29a7d011c59548a",
       "version_major": 2,
       "version_minor": 0
      },
      "text/plain": [
       "Handling Negations:   0%|          | 0/62 [00:00<?, ?token/s]"
      ]
     },
     "metadata": {},
     "output_type": "display_data"
    },
    {
     "data": {
      "application/vnd.jupyter.widget-view+json": {
       "model_id": "72b53b82e74b43139eec10b41d0a7cb3",
       "version_major": 2,
       "version_minor": 0
      },
      "text/plain": [
       "Handling Negations:   0%|          | 0/22 [00:00<?, ?token/s]"
      ]
     },
     "metadata": {},
     "output_type": "display_data"
    },
    {
     "data": {
      "application/vnd.jupyter.widget-view+json": {
       "model_id": "0bddf0fe95614380b902150bfa558737",
       "version_major": 2,
       "version_minor": 0
      },
      "text/plain": [
       "Handling Negations:   0%|          | 0/158 [00:00<?, ?token/s]"
      ]
     },
     "metadata": {},
     "output_type": "display_data"
    },
    {
     "data": {
      "application/vnd.jupyter.widget-view+json": {
       "model_id": "2d72f906ebc04ba3aa18e74aafaea23b",
       "version_major": 2,
       "version_minor": 0
      },
      "text/plain": [
       "Handling Negations:   0%|          | 0/114 [00:00<?, ?token/s]"
      ]
     },
     "metadata": {},
     "output_type": "display_data"
    },
    {
     "data": {
      "application/vnd.jupyter.widget-view+json": {
       "model_id": "2d6228fe78e845b18d1ba1ba0c4127d2",
       "version_major": 2,
       "version_minor": 0
      },
      "text/plain": [
       "Handling Negations:   0%|          | 0/113 [00:00<?, ?token/s]"
      ]
     },
     "metadata": {},
     "output_type": "display_data"
    },
    {
     "data": {
      "application/vnd.jupyter.widget-view+json": {
       "model_id": "7074cefc1f164a7582ef605a8d87e309",
       "version_major": 2,
       "version_minor": 0
      },
      "text/plain": [
       "Handling Negations:   0%|          | 0/68 [00:00<?, ?token/s]"
      ]
     },
     "metadata": {},
     "output_type": "display_data"
    },
    {
     "data": {
      "application/vnd.jupyter.widget-view+json": {
       "model_id": "cdc6039f57904fe5b0d2fc1b4823ea5d",
       "version_major": 2,
       "version_minor": 0
      },
      "text/plain": [
       "Handling Negations:   0%|          | 0/47 [00:00<?, ?token/s]"
      ]
     },
     "metadata": {},
     "output_type": "display_data"
    },
    {
     "data": {
      "application/vnd.jupyter.widget-view+json": {
       "model_id": "c36d12ae2d62462eab20a2e37740d40d",
       "version_major": 2,
       "version_minor": 0
      },
      "text/plain": [
       "Handling Negations:   0%|          | 0/34 [00:00<?, ?token/s]"
      ]
     },
     "metadata": {},
     "output_type": "display_data"
    },
    {
     "data": {
      "application/vnd.jupyter.widget-view+json": {
       "model_id": "95ac9832482a4e2fb99d9ab3bead538c",
       "version_major": 2,
       "version_minor": 0
      },
      "text/plain": [
       "Handling Negations:   0%|          | 0/64 [00:00<?, ?token/s]"
      ]
     },
     "metadata": {},
     "output_type": "display_data"
    },
    {
     "data": {
      "application/vnd.jupyter.widget-view+json": {
       "model_id": "9a3bfdeb1357445986d5b476dd4a7c9c",
       "version_major": 2,
       "version_minor": 0
      },
      "text/plain": [
       "Handling Negations:   0%|          | 0/44 [00:00<?, ?token/s]"
      ]
     },
     "metadata": {},
     "output_type": "display_data"
    },
    {
     "data": {
      "application/vnd.jupyter.widget-view+json": {
       "model_id": "b1cbac346c3b403e8b08defcc27ef42c",
       "version_major": 2,
       "version_minor": 0
      },
      "text/plain": [
       "Handling Negations:   0%|          | 0/42 [00:00<?, ?token/s]"
      ]
     },
     "metadata": {},
     "output_type": "display_data"
    },
    {
     "data": {
      "application/vnd.jupyter.widget-view+json": {
       "model_id": "855e85e9feb64e62b0372343c457a389",
       "version_major": 2,
       "version_minor": 0
      },
      "text/plain": [
       "Handling Negations:   0%|          | 0/56 [00:00<?, ?token/s]"
      ]
     },
     "metadata": {},
     "output_type": "display_data"
    },
    {
     "data": {
      "application/vnd.jupyter.widget-view+json": {
       "model_id": "bd87289f69b14e408c0edb9505d1cc8e",
       "version_major": 2,
       "version_minor": 0
      },
      "text/plain": [
       "Handling Negations:   0%|          | 0/123 [00:00<?, ?token/s]"
      ]
     },
     "metadata": {},
     "output_type": "display_data"
    },
    {
     "data": {
      "application/vnd.jupyter.widget-view+json": {
       "model_id": "28b06c57c2014faea0bc35dde5c82be0",
       "version_major": 2,
       "version_minor": 0
      },
      "text/plain": [
       "Handling Negations:   0%|          | 0/39 [00:00<?, ?token/s]"
      ]
     },
     "metadata": {},
     "output_type": "display_data"
    },
    {
     "data": {
      "application/vnd.jupyter.widget-view+json": {
       "model_id": "337f26c38c504f21846658de3bda4f22",
       "version_major": 2,
       "version_minor": 0
      },
      "text/plain": [
       "Handling Negations:   0%|          | 0/108 [00:00<?, ?token/s]"
      ]
     },
     "metadata": {},
     "output_type": "display_data"
    },
    {
     "data": {
      "application/vnd.jupyter.widget-view+json": {
       "model_id": "b5570456a0714115b7a2c2f857fb7964",
       "version_major": 2,
       "version_minor": 0
      },
      "text/plain": [
       "Handling Negations:   0%|          | 0/85 [00:00<?, ?token/s]"
      ]
     },
     "metadata": {},
     "output_type": "display_data"
    },
    {
     "data": {
      "application/vnd.jupyter.widget-view+json": {
       "model_id": "3be15949007148098204115b780989a2",
       "version_major": 2,
       "version_minor": 0
      },
      "text/plain": [
       "Handling Negations:   0%|          | 0/48 [00:00<?, ?token/s]"
      ]
     },
     "metadata": {},
     "output_type": "display_data"
    },
    {
     "data": {
      "application/vnd.jupyter.widget-view+json": {
       "model_id": "6bbdeed183d84b85a1b4dfe7b277d886",
       "version_major": 2,
       "version_minor": 0
      },
      "text/plain": [
       "Handling Negations:   0%|          | 0/47 [00:00<?, ?token/s]"
      ]
     },
     "metadata": {},
     "output_type": "display_data"
    },
    {
     "data": {
      "application/vnd.jupyter.widget-view+json": {
       "model_id": "3418df051a89417dac60779e93dd5f04",
       "version_major": 2,
       "version_minor": 0
      },
      "text/plain": [
       "Handling Negations:   0%|          | 0/22 [00:00<?, ?token/s]"
      ]
     },
     "metadata": {},
     "output_type": "display_data"
    },
    {
     "data": {
      "application/vnd.jupyter.widget-view+json": {
       "model_id": "6e26ecc5e1344e47a34598fc410a98ce",
       "version_major": 2,
       "version_minor": 0
      },
      "text/plain": [
       "Handling Negations:   0%|          | 0/18 [00:00<?, ?token/s]"
      ]
     },
     "metadata": {},
     "output_type": "display_data"
    },
    {
     "data": {
      "application/vnd.jupyter.widget-view+json": {
       "model_id": "cf07b94d55884f2dba00794b3f87c1a3",
       "version_major": 2,
       "version_minor": 0
      },
      "text/plain": [
       "Handling Negations:   0%|          | 0/36 [00:00<?, ?token/s]"
      ]
     },
     "metadata": {},
     "output_type": "display_data"
    },
    {
     "data": {
      "application/vnd.jupyter.widget-view+json": {
       "model_id": "c8108ad8a2c748f1ae4803cdd5508306",
       "version_major": 2,
       "version_minor": 0
      },
      "text/plain": [
       "Handling Negations:   0%|          | 0/67 [00:00<?, ?token/s]"
      ]
     },
     "metadata": {},
     "output_type": "display_data"
    },
    {
     "data": {
      "application/vnd.jupyter.widget-view+json": {
       "model_id": "58fac62cc2ba463298cbc4ac9eea90e2",
       "version_major": 2,
       "version_minor": 0
      },
      "text/plain": [
       "Handling Negations:   0%|          | 0/92 [00:00<?, ?token/s]"
      ]
     },
     "metadata": {},
     "output_type": "display_data"
    },
    {
     "data": {
      "application/vnd.jupyter.widget-view+json": {
       "model_id": "d14233bba1d247278440e571b1eea4cf",
       "version_major": 2,
       "version_minor": 0
      },
      "text/plain": [
       "Handling Negations:   0%|          | 0/119 [00:00<?, ?token/s]"
      ]
     },
     "metadata": {},
     "output_type": "display_data"
    },
    {
     "data": {
      "application/vnd.jupyter.widget-view+json": {
       "model_id": "6898bafcc82949e188493371f228e919",
       "version_major": 2,
       "version_minor": 0
      },
      "text/plain": [
       "Handling Negations:   0%|          | 0/36 [00:00<?, ?token/s]"
      ]
     },
     "metadata": {},
     "output_type": "display_data"
    },
    {
     "data": {
      "application/vnd.jupyter.widget-view+json": {
       "model_id": "d5ca48e1839a4c2e85e40034556a21eb",
       "version_major": 2,
       "version_minor": 0
      },
      "text/plain": [
       "Handling Negations:   0%|          | 0/123 [00:00<?, ?token/s]"
      ]
     },
     "metadata": {},
     "output_type": "display_data"
    },
    {
     "data": {
      "application/vnd.jupyter.widget-view+json": {
       "model_id": "d6ba0049d05441ce8b741bd595e4a830",
       "version_major": 2,
       "version_minor": 0
      },
      "text/plain": [
       "Handling Negations:   0%|          | 0/85 [00:00<?, ?token/s]"
      ]
     },
     "metadata": {},
     "output_type": "display_data"
    },
    {
     "data": {
      "application/vnd.jupyter.widget-view+json": {
       "model_id": "ee84ba0a1d664d8c9772974d97d5ee81",
       "version_major": 2,
       "version_minor": 0
      },
      "text/plain": [
       "Handling Negations:   0%|          | 0/76 [00:00<?, ?token/s]"
      ]
     },
     "metadata": {},
     "output_type": "display_data"
    },
    {
     "data": {
      "application/vnd.jupyter.widget-view+json": {
       "model_id": "0d0370867b0748c7943432718c6dfa70",
       "version_major": 2,
       "version_minor": 0
      },
      "text/plain": [
       "Handling Negations:   0%|          | 0/25 [00:00<?, ?token/s]"
      ]
     },
     "metadata": {},
     "output_type": "display_data"
    },
    {
     "data": {
      "application/vnd.jupyter.widget-view+json": {
       "model_id": "545e46440e5b4e1c944e770468c658fc",
       "version_major": 2,
       "version_minor": 0
      },
      "text/plain": [
       "Handling Negations:   0%|          | 0/27 [00:00<?, ?token/s]"
      ]
     },
     "metadata": {},
     "output_type": "display_data"
    },
    {
     "data": {
      "application/vnd.jupyter.widget-view+json": {
       "model_id": "2192384fd98a463fa8e4d7e5dd32e8c6",
       "version_major": 2,
       "version_minor": 0
      },
      "text/plain": [
       "Handling Negations:   0%|          | 0/52 [00:00<?, ?token/s]"
      ]
     },
     "metadata": {},
     "output_type": "display_data"
    },
    {
     "data": {
      "application/vnd.jupyter.widget-view+json": {
       "model_id": "d8c434645e0f41668a99dcbc0e5f26a4",
       "version_major": 2,
       "version_minor": 0
      },
      "text/plain": [
       "Handling Negations:   0%|          | 0/87 [00:00<?, ?token/s]"
      ]
     },
     "metadata": {},
     "output_type": "display_data"
    },
    {
     "data": {
      "application/vnd.jupyter.widget-view+json": {
       "model_id": "98988498c23c40fe905b6fdbcde6b300",
       "version_major": 2,
       "version_minor": 0
      },
      "text/plain": [
       "Handling Negations:   0%|          | 0/55 [00:00<?, ?token/s]"
      ]
     },
     "metadata": {},
     "output_type": "display_data"
    },
    {
     "data": {
      "application/vnd.jupyter.widget-view+json": {
       "model_id": "c85e959ad6704c5db6b326fa64a7bc4e",
       "version_major": 2,
       "version_minor": 0
      },
      "text/plain": [
       "Handling Negations:   0%|          | 0/121 [00:00<?, ?token/s]"
      ]
     },
     "metadata": {},
     "output_type": "display_data"
    },
    {
     "data": {
      "application/vnd.jupyter.widget-view+json": {
       "model_id": "511066f7d37e46d99cc5e91e46e1954c",
       "version_major": 2,
       "version_minor": 0
      },
      "text/plain": [
       "Handling Negations:   0%|          | 0/70 [00:00<?, ?token/s]"
      ]
     },
     "metadata": {},
     "output_type": "display_data"
    },
    {
     "data": {
      "application/vnd.jupyter.widget-view+json": {
       "model_id": "4d4daffaee4041a3b5ccf835adfe4fe2",
       "version_major": 2,
       "version_minor": 0
      },
      "text/plain": [
       "Handling Negations:   0%|          | 0/26 [00:00<?, ?token/s]"
      ]
     },
     "metadata": {},
     "output_type": "display_data"
    },
    {
     "data": {
      "application/vnd.jupyter.widget-view+json": {
       "model_id": "0d286679cd704ed3ac4768e7414f3277",
       "version_major": 2,
       "version_minor": 0
      },
      "text/plain": [
       "Handling Negations:   0%|          | 0/86 [00:00<?, ?token/s]"
      ]
     },
     "metadata": {},
     "output_type": "display_data"
    },
    {
     "data": {
      "application/vnd.jupyter.widget-view+json": {
       "model_id": "4caf69eef77844b8adf12fc7b4627abf",
       "version_major": 2,
       "version_minor": 0
      },
      "text/plain": [
       "Handling Negations:   0%|          | 0/228 [00:00<?, ?token/s]"
      ]
     },
     "metadata": {},
     "output_type": "display_data"
    },
    {
     "data": {
      "application/vnd.jupyter.widget-view+json": {
       "model_id": "b36a491a11b84a8aa4348fd2172044b3",
       "version_major": 2,
       "version_minor": 0
      },
      "text/plain": [
       "Handling Negations:   0%|          | 0/64 [00:00<?, ?token/s]"
      ]
     },
     "metadata": {},
     "output_type": "display_data"
    },
    {
     "data": {
      "application/vnd.jupyter.widget-view+json": {
       "model_id": "df56ae46b7854532b06fd83df7bc1bab",
       "version_major": 2,
       "version_minor": 0
      },
      "text/plain": [
       "Handling Negations:   0%|          | 0/35 [00:00<?, ?token/s]"
      ]
     },
     "metadata": {},
     "output_type": "display_data"
    },
    {
     "data": {
      "application/vnd.jupyter.widget-view+json": {
       "model_id": "e2e26b1d4381425dac97fbf95032731a",
       "version_major": 2,
       "version_minor": 0
      },
      "text/plain": [
       "Handling Negations:   0%|          | 0/91 [00:00<?, ?token/s]"
      ]
     },
     "metadata": {},
     "output_type": "display_data"
    },
    {
     "data": {
      "application/vnd.jupyter.widget-view+json": {
       "model_id": "81c63e96207741e395e2272f442af608",
       "version_major": 2,
       "version_minor": 0
      },
      "text/plain": [
       "Handling Negations:   0%|          | 0/49 [00:00<?, ?token/s]"
      ]
     },
     "metadata": {},
     "output_type": "display_data"
    },
    {
     "data": {
      "application/vnd.jupyter.widget-view+json": {
       "model_id": "0fccea58dcdf417795f32801a6de7d17",
       "version_major": 2,
       "version_minor": 0
      },
      "text/plain": [
       "Handling Negations:   0%|          | 0/77 [00:00<?, ?token/s]"
      ]
     },
     "metadata": {},
     "output_type": "display_data"
    },
    {
     "data": {
      "application/vnd.jupyter.widget-view+json": {
       "model_id": "81c8698dbd824f60b71a194be551ef63",
       "version_major": 2,
       "version_minor": 0
      },
      "text/plain": [
       "Handling Negations:   0%|          | 0/43 [00:00<?, ?token/s]"
      ]
     },
     "metadata": {},
     "output_type": "display_data"
    },
    {
     "data": {
      "application/vnd.jupyter.widget-view+json": {
       "model_id": "42cb2641c2b74ca7a5e5156be21040f9",
       "version_major": 2,
       "version_minor": 0
      },
      "text/plain": [
       "Handling Negations:   0%|          | 0/38 [00:00<?, ?token/s]"
      ]
     },
     "metadata": {},
     "output_type": "display_data"
    },
    {
     "data": {
      "application/vnd.jupyter.widget-view+json": {
       "model_id": "fe16ca58dfef43f8a3a0f909b3da36bc",
       "version_major": 2,
       "version_minor": 0
      },
      "text/plain": [
       "Handling Negations:   0%|          | 0/54 [00:00<?, ?token/s]"
      ]
     },
     "metadata": {},
     "output_type": "display_data"
    },
    {
     "data": {
      "application/vnd.jupyter.widget-view+json": {
       "model_id": "4c5139155be043d7b394aa9d2b1556f3",
       "version_major": 2,
       "version_minor": 0
      },
      "text/plain": [
       "Handling Negations:   0%|          | 0/53 [00:00<?, ?token/s]"
      ]
     },
     "metadata": {},
     "output_type": "display_data"
    },
    {
     "data": {
      "application/vnd.jupyter.widget-view+json": {
       "model_id": "f74df8ab83b24512b3124ee581d917ad",
       "version_major": 2,
       "version_minor": 0
      },
      "text/plain": [
       "Handling Negations:   0%|          | 0/67 [00:00<?, ?token/s]"
      ]
     },
     "metadata": {},
     "output_type": "display_data"
    },
    {
     "data": {
      "application/vnd.jupyter.widget-view+json": {
       "model_id": "c7923e6f058b4ad0a3a5ff1cd0701fcb",
       "version_major": 2,
       "version_minor": 0
      },
      "text/plain": [
       "Handling Negations:   0%|          | 0/83 [00:00<?, ?token/s]"
      ]
     },
     "metadata": {},
     "output_type": "display_data"
    },
    {
     "data": {
      "application/vnd.jupyter.widget-view+json": {
       "model_id": "2d424948c5f143a783d931944f767cba",
       "version_major": 2,
       "version_minor": 0
      },
      "text/plain": [
       "Handling Negations:   0%|          | 0/64 [00:00<?, ?token/s]"
      ]
     },
     "metadata": {},
     "output_type": "display_data"
    },
    {
     "data": {
      "application/vnd.jupyter.widget-view+json": {
       "model_id": "5a33297068114ba484098df3eeb664a4",
       "version_major": 2,
       "version_minor": 0
      },
      "text/plain": [
       "Handling Negations:   0%|          | 0/132 [00:00<?, ?token/s]"
      ]
     },
     "metadata": {},
     "output_type": "display_data"
    },
    {
     "data": {
      "application/vnd.jupyter.widget-view+json": {
       "model_id": "e76215a69eb94ee48d10f098201dbab0",
       "version_major": 2,
       "version_minor": 0
      },
      "text/plain": [
       "Handling Negations:   0%|          | 0/130 [00:00<?, ?token/s]"
      ]
     },
     "metadata": {},
     "output_type": "display_data"
    },
    {
     "data": {
      "application/vnd.jupyter.widget-view+json": {
       "model_id": "c95ec3c48062413cb0dca23b28981edf",
       "version_major": 2,
       "version_minor": 0
      },
      "text/plain": [
       "Handling Negations:   0%|          | 0/107 [00:00<?, ?token/s]"
      ]
     },
     "metadata": {},
     "output_type": "display_data"
    },
    {
     "data": {
      "application/vnd.jupyter.widget-view+json": {
       "model_id": "af4d9ab7cdc44f0a99aad73d7f395a5f",
       "version_major": 2,
       "version_minor": 0
      },
      "text/plain": [
       "Handling Negations:   0%|          | 0/128 [00:00<?, ?token/s]"
      ]
     },
     "metadata": {},
     "output_type": "display_data"
    },
    {
     "data": {
      "application/vnd.jupyter.widget-view+json": {
       "model_id": "59cd01d153794b728d799b401020e2ac",
       "version_major": 2,
       "version_minor": 0
      },
      "text/plain": [
       "Handling Negations:   0%|          | 0/22 [00:00<?, ?token/s]"
      ]
     },
     "metadata": {},
     "output_type": "display_data"
    },
    {
     "data": {
      "application/vnd.jupyter.widget-view+json": {
       "model_id": "26cfb7fb5a914e9c95a92b53b66f81c0",
       "version_major": 2,
       "version_minor": 0
      },
      "text/plain": [
       "Handling Negations:   0%|          | 0/42 [00:00<?, ?token/s]"
      ]
     },
     "metadata": {},
     "output_type": "display_data"
    },
    {
     "data": {
      "application/vnd.jupyter.widget-view+json": {
       "model_id": "ed41c1888b4346839ba0eb210101455a",
       "version_major": 2,
       "version_minor": 0
      },
      "text/plain": [
       "Handling Negations:   0%|          | 0/56 [00:00<?, ?token/s]"
      ]
     },
     "metadata": {},
     "output_type": "display_data"
    },
    {
     "data": {
      "application/vnd.jupyter.widget-view+json": {
       "model_id": "57ef119b2ee443f7be92390df35d1b51",
       "version_major": 2,
       "version_minor": 0
      },
      "text/plain": [
       "Handling Negations:   0%|          | 0/48 [00:00<?, ?token/s]"
      ]
     },
     "metadata": {},
     "output_type": "display_data"
    },
    {
     "data": {
      "application/vnd.jupyter.widget-view+json": {
       "model_id": "3e1f1f09e4314e92b7ff3666eed4a4fa",
       "version_major": 2,
       "version_minor": 0
      },
      "text/plain": [
       "Handling Negations:   0%|          | 0/69 [00:00<?, ?token/s]"
      ]
     },
     "metadata": {},
     "output_type": "display_data"
    },
    {
     "data": {
      "application/vnd.jupyter.widget-view+json": {
       "model_id": "74179a8148864d7aab0be4ba39c93347",
       "version_major": 2,
       "version_minor": 0
      },
      "text/plain": [
       "Handling Negations:   0%|          | 0/164 [00:00<?, ?token/s]"
      ]
     },
     "metadata": {},
     "output_type": "display_data"
    },
    {
     "data": {
      "application/vnd.jupyter.widget-view+json": {
       "model_id": "43af6356b3114f049764014410127f72",
       "version_major": 2,
       "version_minor": 0
      },
      "text/plain": [
       "Handling Negations:   0%|          | 0/136 [00:00<?, ?token/s]"
      ]
     },
     "metadata": {},
     "output_type": "display_data"
    },
    {
     "data": {
      "application/vnd.jupyter.widget-view+json": {
       "model_id": "911cec038e254266a0ac9acd59529816",
       "version_major": 2,
       "version_minor": 0
      },
      "text/plain": [
       "Handling Negations:   0%|          | 0/292 [00:00<?, ?token/s]"
      ]
     },
     "metadata": {},
     "output_type": "display_data"
    },
    {
     "data": {
      "application/vnd.jupyter.widget-view+json": {
       "model_id": "e118f05ac33f4b5f9830c15be8762ebe",
       "version_major": 2,
       "version_minor": 0
      },
      "text/plain": [
       "Handling Negations:   0%|          | 0/121 [00:00<?, ?token/s]"
      ]
     },
     "metadata": {},
     "output_type": "display_data"
    },
    {
     "data": {
      "application/vnd.jupyter.widget-view+json": {
       "model_id": "638d4d85583942d8bccef9b65da0906f",
       "version_major": 2,
       "version_minor": 0
      },
      "text/plain": [
       "Handling Negations:   0%|          | 0/109 [00:00<?, ?token/s]"
      ]
     },
     "metadata": {},
     "output_type": "display_data"
    },
    {
     "data": {
      "application/vnd.jupyter.widget-view+json": {
       "model_id": "062a807ab3c84ede85f9f51e4a8657b2",
       "version_major": 2,
       "version_minor": 0
      },
      "text/plain": [
       "Handling Negations:   0%|          | 0/41 [00:00<?, ?token/s]"
      ]
     },
     "metadata": {},
     "output_type": "display_data"
    },
    {
     "data": {
      "application/vnd.jupyter.widget-view+json": {
       "model_id": "57c63ef209894895a8170b5884635b66",
       "version_major": 2,
       "version_minor": 0
      },
      "text/plain": [
       "Handling Negations:   0%|          | 0/89 [00:00<?, ?token/s]"
      ]
     },
     "metadata": {},
     "output_type": "display_data"
    },
    {
     "data": {
      "application/vnd.jupyter.widget-view+json": {
       "model_id": "a133f97291464a1b95572ce1ef845eba",
       "version_major": 2,
       "version_minor": 0
      },
      "text/plain": [
       "Handling Negations:   0%|          | 0/94 [00:00<?, ?token/s]"
      ]
     },
     "metadata": {},
     "output_type": "display_data"
    },
    {
     "data": {
      "application/vnd.jupyter.widget-view+json": {
       "model_id": "627dbfc92ecd41d1a425280764013966",
       "version_major": 2,
       "version_minor": 0
      },
      "text/plain": [
       "Handling Negations:   0%|          | 0/100 [00:00<?, ?token/s]"
      ]
     },
     "metadata": {},
     "output_type": "display_data"
    },
    {
     "data": {
      "application/vnd.jupyter.widget-view+json": {
       "model_id": "6a7ddc1e805746d5be8adde625c24c5e",
       "version_major": 2,
       "version_minor": 0
      },
      "text/plain": [
       "Handling Negations:   0%|          | 0/94 [00:00<?, ?token/s]"
      ]
     },
     "metadata": {},
     "output_type": "display_data"
    },
    {
     "data": {
      "application/vnd.jupyter.widget-view+json": {
       "model_id": "83338d3634594907b2b1886522ac6828",
       "version_major": 2,
       "version_minor": 0
      },
      "text/plain": [
       "Handling Negations:   0%|          | 0/37 [00:00<?, ?token/s]"
      ]
     },
     "metadata": {},
     "output_type": "display_data"
    },
    {
     "data": {
      "application/vnd.jupyter.widget-view+json": {
       "model_id": "a65b524b11b14383a46052977abaf418",
       "version_major": 2,
       "version_minor": 0
      },
      "text/plain": [
       "Handling Negations:   0%|          | 0/51 [00:00<?, ?token/s]"
      ]
     },
     "metadata": {},
     "output_type": "display_data"
    },
    {
     "data": {
      "application/vnd.jupyter.widget-view+json": {
       "model_id": "2927112b009b4d339c4eba658dfa3fbd",
       "version_major": 2,
       "version_minor": 0
      },
      "text/plain": [
       "Handling Negations:   0%|          | 0/86 [00:00<?, ?token/s]"
      ]
     },
     "metadata": {},
     "output_type": "display_data"
    },
    {
     "data": {
      "application/vnd.jupyter.widget-view+json": {
       "model_id": "80fea23969284e8ea083adbebcf2b9ad",
       "version_major": 2,
       "version_minor": 0
      },
      "text/plain": [
       "Handling Negations:   0%|          | 0/83 [00:00<?, ?token/s]"
      ]
     },
     "metadata": {},
     "output_type": "display_data"
    },
    {
     "data": {
      "application/vnd.jupyter.widget-view+json": {
       "model_id": "a560e8ae9098455faeec1bf3ff33a69f",
       "version_major": 2,
       "version_minor": 0
      },
      "text/plain": [
       "Handling Negations:   0%|          | 0/42 [00:00<?, ?token/s]"
      ]
     },
     "metadata": {},
     "output_type": "display_data"
    },
    {
     "data": {
      "application/vnd.jupyter.widget-view+json": {
       "model_id": "3dbdf6e8fb8940c3bf901570a6da0954",
       "version_major": 2,
       "version_minor": 0
      },
      "text/plain": [
       "Handling Negations:   0%|          | 0/98 [00:00<?, ?token/s]"
      ]
     },
     "metadata": {},
     "output_type": "display_data"
    },
    {
     "data": {
      "application/vnd.jupyter.widget-view+json": {
       "model_id": "2a1f2669df3b4543905b4babb21d6b89",
       "version_major": 2,
       "version_minor": 0
      },
      "text/plain": [
       "Handling Negations:   0%|          | 0/60 [00:00<?, ?token/s]"
      ]
     },
     "metadata": {},
     "output_type": "display_data"
    },
    {
     "data": {
      "application/vnd.jupyter.widget-view+json": {
       "model_id": "596c60b5835c44a09bb4fb8fa60e4c95",
       "version_major": 2,
       "version_minor": 0
      },
      "text/plain": [
       "Handling Negations:   0%|          | 0/75 [00:00<?, ?token/s]"
      ]
     },
     "metadata": {},
     "output_type": "display_data"
    },
    {
     "data": {
      "application/vnd.jupyter.widget-view+json": {
       "model_id": "39051e3895ea45399eeb7f794f7585b9",
       "version_major": 2,
       "version_minor": 0
      },
      "text/plain": [
       "Handling Negations:   0%|          | 0/56 [00:00<?, ?token/s]"
      ]
     },
     "metadata": {},
     "output_type": "display_data"
    },
    {
     "data": {
      "application/vnd.jupyter.widget-view+json": {
       "model_id": "2cd08993f42b46059a76b1f08f901925",
       "version_major": 2,
       "version_minor": 0
      },
      "text/plain": [
       "Handling Negations:   0%|          | 0/19 [00:00<?, ?token/s]"
      ]
     },
     "metadata": {},
     "output_type": "display_data"
    },
    {
     "data": {
      "application/vnd.jupyter.widget-view+json": {
       "model_id": "06e5f10002d84e72a1b399f6f675c3fc",
       "version_major": 2,
       "version_minor": 0
      },
      "text/plain": [
       "Handling Negations:   0%|          | 0/72 [00:00<?, ?token/s]"
      ]
     },
     "metadata": {},
     "output_type": "display_data"
    },
    {
     "data": {
      "application/vnd.jupyter.widget-view+json": {
       "model_id": "56fb765a4af34a3d8d8c1b8bc50ba376",
       "version_major": 2,
       "version_minor": 0
      },
      "text/plain": [
       "Handling Negations:   0%|          | 0/180 [00:00<?, ?token/s]"
      ]
     },
     "metadata": {},
     "output_type": "display_data"
    },
    {
     "data": {
      "application/vnd.jupyter.widget-view+json": {
       "model_id": "66ba4f5ae6a6403c9778a0dd39c43f3a",
       "version_major": 2,
       "version_minor": 0
      },
      "text/plain": [
       "Handling Negations:   0%|          | 0/64 [00:00<?, ?token/s]"
      ]
     },
     "metadata": {},
     "output_type": "display_data"
    },
    {
     "data": {
      "application/vnd.jupyter.widget-view+json": {
       "model_id": "897954451b1d4b018d8f93e1bf95f251",
       "version_major": 2,
       "version_minor": 0
      },
      "text/plain": [
       "Handling Negations:   0%|          | 0/71 [00:00<?, ?token/s]"
      ]
     },
     "metadata": {},
     "output_type": "display_data"
    },
    {
     "data": {
      "application/vnd.jupyter.widget-view+json": {
       "model_id": "de0cab2ec6d3483f9c73f079a873060a",
       "version_major": 2,
       "version_minor": 0
      },
      "text/plain": [
       "Handling Negations:   0%|          | 0/164 [00:00<?, ?token/s]"
      ]
     },
     "metadata": {},
     "output_type": "display_data"
    }
   ],
   "source": [
    "df['cleaned_reviews'] = df['reviews'].apply(clean_review)"
   ]
  },
  {
   "cell_type": "code",
   "execution_count": 44,
   "metadata": {},
   "outputs": [],
   "source": [
    "df[['cleaned_reviews']].to_csv(\"BA_reviews_cleaned.csv\", index=False)"
   ]
  },
  {
   "cell_type": "code",
   "execution_count": 15,
   "metadata": {},
   "outputs": [
    {
     "data": {
      "text/html": [
       "<div>\n",
       "<style scoped>\n",
       "    .dataframe tbody tr th:only-of-type {\n",
       "        vertical-align: middle;\n",
       "    }\n",
       "\n",
       "    .dataframe tbody tr th {\n",
       "        vertical-align: top;\n",
       "    }\n",
       "\n",
       "    .dataframe thead th {\n",
       "        text-align: right;\n",
       "    }\n",
       "</style>\n",
       "<table border=\"1\" class=\"dataframe\">\n",
       "  <thead>\n",
       "    <tr style=\"text-align: right;\">\n",
       "      <th></th>\n",
       "      <th>reviews</th>\n",
       "      <th>cleaned_reviews</th>\n",
       "    </tr>\n",
       "  </thead>\n",
       "  <tbody>\n",
       "    <tr>\n",
       "      <th>0</th>\n",
       "      <td>Not Verified | Overall journey wasn’t bad howe...</td>\n",
       "      <td>not_verified overall journey want bad however ...</td>\n",
       "    </tr>\n",
       "    <tr>\n",
       "      <th>1</th>\n",
       "      <td>✅ Trip Verified |  Overall very satisfied. Gro...</td>\n",
       "      <td>overall satisfied round staff member yvr extre...</td>\n",
       "    </tr>\n",
       "    <tr>\n",
       "      <th>2</th>\n",
       "      <td>✅ Trip Verified |  As always when I fly BA it ...</td>\n",
       "      <td>is always i fly of total shame i booked manche...</td>\n",
       "    </tr>\n",
       "    <tr>\n",
       "      <th>3</th>\n",
       "      <td>✅ Trip Verified |  First time using BA busines...</td>\n",
       "      <td>first time using of business class pleased ser...</td>\n",
       "    </tr>\n",
       "    <tr>\n",
       "      <th>4</th>\n",
       "      <td>Not Verified |  Extremely rude ground service....</td>\n",
       "      <td>not_verified extremely rude ground service he ...</td>\n",
       "    </tr>\n",
       "  </tbody>\n",
       "</table>\n",
       "</div>"
      ],
      "text/plain": [
       "                                             reviews  \\\n",
       "0  Not Verified | Overall journey wasn’t bad howe...   \n",
       "1  ✅ Trip Verified |  Overall very satisfied. Gro...   \n",
       "2  ✅ Trip Verified |  As always when I fly BA it ...   \n",
       "3  ✅ Trip Verified |  First time using BA busines...   \n",
       "4  Not Verified |  Extremely rude ground service....   \n",
       "\n",
       "                                     cleaned_reviews  \n",
       "0  not_verified overall journey want bad however ...  \n",
       "1  overall satisfied round staff member yvr extre...  \n",
       "2  is always i fly of total shame i booked manche...  \n",
       "3  first time using of business class pleased ser...  \n",
       "4  not_verified extremely rude ground service he ...  "
      ]
     },
     "execution_count": 15,
     "metadata": {},
     "output_type": "execute_result"
    }
   ],
   "source": [
    "df[['reviews', 'cleaned_reviews']].head()"
   ]
  },
  {
   "cell_type": "code",
   "execution_count": 18,
   "metadata": {},
   "outputs": [],
   "source": [
    "from textblob import TextBlob\n",
    "\n",
    "def analyze_sentiment(review):\n",
    "    blob = TextBlob(review)\n",
    "    sentiment_score = blob.sentiment.polarity\n",
    "    return sentiment_score\n"
   ]
  },
  {
   "cell_type": "code",
   "execution_count": 19,
   "metadata": {},
   "outputs": [],
   "source": [
    "# Assuming df is your DataFrame with cleaned reviews\n",
    "df['sentiment_score'] = df['cleaned_reviews'].apply(analyze_sentiment)"
   ]
  },
  {
   "cell_type": "code",
   "execution_count": 20,
   "metadata": {},
   "outputs": [
    {
     "data": {
      "text/plain": [
       "0   -0.150000\n",
       "1    0.101984\n",
       "2    0.065556\n",
       "3    0.249320\n",
       "4    0.139103\n",
       "Name: sentiment_score, dtype: float64"
      ]
     },
     "execution_count": 20,
     "metadata": {},
     "output_type": "execute_result"
    }
   ],
   "source": [
    "df['sentiment_score'].head()"
   ]
  },
  {
   "cell_type": "code",
   "execution_count": 22,
   "metadata": {},
   "outputs": [],
   "source": [
    "import pandas as pd\n",
    "\n",
    "# Assuming df is your DataFrame with sentiment scores\n",
    "# df = pd.read_csv(\"your_data_with_sentiment.csv\")\n",
    "\n",
    "# Set a threshold for positive/negative classification (you can adjust this threshold)\n",
    "threshold = 0.1\n",
    "\n",
    "# Create a new column 'sentiment_label' based on the threshold\n",
    "df['sentiment_label'] = df['sentiment_score'].apply(lambda score: 'positive' if score > threshold else 'negative' if score < -threshold else 'neutral')\n"
   ]
  },
  {
   "cell_type": "code",
   "execution_count": 24,
   "metadata": {},
   "outputs": [
    {
     "data": {
      "text/html": [
       "<div>\n",
       "<style scoped>\n",
       "    .dataframe tbody tr th:only-of-type {\n",
       "        vertical-align: middle;\n",
       "    }\n",
       "\n",
       "    .dataframe tbody tr th {\n",
       "        vertical-align: top;\n",
       "    }\n",
       "\n",
       "    .dataframe thead th {\n",
       "        text-align: right;\n",
       "    }\n",
       "</style>\n",
       "<table border=\"1\" class=\"dataframe\">\n",
       "  <thead>\n",
       "    <tr style=\"text-align: right;\">\n",
       "      <th></th>\n",
       "      <th>reviews</th>\n",
       "      <th>sentiment_score</th>\n",
       "      <th>sentiment_label</th>\n",
       "    </tr>\n",
       "  </thead>\n",
       "  <tbody>\n",
       "    <tr>\n",
       "      <th>0</th>\n",
       "      <td>Not Verified | Overall journey wasn’t bad howe...</td>\n",
       "      <td>-0.150000</td>\n",
       "      <td>negative</td>\n",
       "    </tr>\n",
       "    <tr>\n",
       "      <th>1</th>\n",
       "      <td>✅ Trip Verified |  Overall very satisfied. Gro...</td>\n",
       "      <td>0.101984</td>\n",
       "      <td>positive</td>\n",
       "    </tr>\n",
       "    <tr>\n",
       "      <th>2</th>\n",
       "      <td>✅ Trip Verified |  As always when I fly BA it ...</td>\n",
       "      <td>0.065556</td>\n",
       "      <td>neutral</td>\n",
       "    </tr>\n",
       "    <tr>\n",
       "      <th>3</th>\n",
       "      <td>✅ Trip Verified |  First time using BA busines...</td>\n",
       "      <td>0.249320</td>\n",
       "      <td>positive</td>\n",
       "    </tr>\n",
       "    <tr>\n",
       "      <th>4</th>\n",
       "      <td>Not Verified |  Extremely rude ground service....</td>\n",
       "      <td>0.139103</td>\n",
       "      <td>positive</td>\n",
       "    </tr>\n",
       "  </tbody>\n",
       "</table>\n",
       "</div>"
      ],
      "text/plain": [
       "                                             reviews  sentiment_score  \\\n",
       "0  Not Verified | Overall journey wasn’t bad howe...        -0.150000   \n",
       "1  ✅ Trip Verified |  Overall very satisfied. Gro...         0.101984   \n",
       "2  ✅ Trip Verified |  As always when I fly BA it ...         0.065556   \n",
       "3  ✅ Trip Verified |  First time using BA busines...         0.249320   \n",
       "4  Not Verified |  Extremely rude ground service....         0.139103   \n",
       "\n",
       "  sentiment_label  \n",
       "0        negative  \n",
       "1        positive  \n",
       "2         neutral  \n",
       "3        positive  \n",
       "4        positive  "
      ]
     },
     "execution_count": 24,
     "metadata": {},
     "output_type": "execute_result"
    }
   ],
   "source": [
    "# Display the DataFrame with sentiment labels\n",
    "df[['reviews', 'sentiment_score', 'sentiment_label']].head()"
   ]
  },
  {
   "cell_type": "code",
   "execution_count": 26,
   "metadata": {},
   "outputs": [
    {
     "name": "stdout",
     "output_type": "stream",
     "text": [
      "<class 'pandas.core.frame.DataFrame'>\n",
      "RangeIndex: 1000 entries, 0 to 999\n",
      "Data columns (total 4 columns):\n",
      " #   Column           Non-Null Count  Dtype  \n",
      "---  ------           --------------  -----  \n",
      " 0   reviews          1000 non-null   object \n",
      " 1   cleaned_reviews  1000 non-null   object \n",
      " 2   sentiment_score  1000 non-null   float64\n",
      " 3   sentiment_label  1000 non-null   object \n",
      "dtypes: float64(1), object(3)\n",
      "memory usage: 31.4+ KB\n"
     ]
    }
   ],
   "source": [
    "# Display basic information about the datase\n",
    "df.info()"
   ]
  },
  {
   "cell_type": "code",
   "execution_count": 27,
   "metadata": {},
   "outputs": [
    {
     "data": {
      "text/html": [
       "<div>\n",
       "<style scoped>\n",
       "    .dataframe tbody tr th:only-of-type {\n",
       "        vertical-align: middle;\n",
       "    }\n",
       "\n",
       "    .dataframe tbody tr th {\n",
       "        vertical-align: top;\n",
       "    }\n",
       "\n",
       "    .dataframe thead th {\n",
       "        text-align: right;\n",
       "    }\n",
       "</style>\n",
       "<table border=\"1\" class=\"dataframe\">\n",
       "  <thead>\n",
       "    <tr style=\"text-align: right;\">\n",
       "      <th></th>\n",
       "      <th>reviews</th>\n",
       "      <th>cleaned_reviews</th>\n",
       "      <th>sentiment_score</th>\n",
       "      <th>sentiment_label</th>\n",
       "    </tr>\n",
       "  </thead>\n",
       "  <tbody>\n",
       "    <tr>\n",
       "      <th>0</th>\n",
       "      <td>Not Verified | Overall journey wasn’t bad howe...</td>\n",
       "      <td>not_verified overall journey want bad however ...</td>\n",
       "      <td>-0.150000</td>\n",
       "      <td>negative</td>\n",
       "    </tr>\n",
       "    <tr>\n",
       "      <th>1</th>\n",
       "      <td>✅ Trip Verified |  Overall very satisfied. Gro...</td>\n",
       "      <td>overall satisfied round staff member yvr extre...</td>\n",
       "      <td>0.101984</td>\n",
       "      <td>positive</td>\n",
       "    </tr>\n",
       "    <tr>\n",
       "      <th>2</th>\n",
       "      <td>✅ Trip Verified |  As always when I fly BA it ...</td>\n",
       "      <td>is always i fly of total shame i booked manche...</td>\n",
       "      <td>0.065556</td>\n",
       "      <td>neutral</td>\n",
       "    </tr>\n",
       "    <tr>\n",
       "      <th>3</th>\n",
       "      <td>✅ Trip Verified |  First time using BA busines...</td>\n",
       "      <td>first time using of business class pleased ser...</td>\n",
       "      <td>0.249320</td>\n",
       "      <td>positive</td>\n",
       "    </tr>\n",
       "    <tr>\n",
       "      <th>4</th>\n",
       "      <td>Not Verified |  Extremely rude ground service....</td>\n",
       "      <td>not_verified extremely rude ground service he ...</td>\n",
       "      <td>0.139103</td>\n",
       "      <td>positive</td>\n",
       "    </tr>\n",
       "  </tbody>\n",
       "</table>\n",
       "</div>"
      ],
      "text/plain": [
       "                                             reviews  \\\n",
       "0  Not Verified | Overall journey wasn’t bad howe...   \n",
       "1  ✅ Trip Verified |  Overall very satisfied. Gro...   \n",
       "2  ✅ Trip Verified |  As always when I fly BA it ...   \n",
       "3  ✅ Trip Verified |  First time using BA busines...   \n",
       "4  Not Verified |  Extremely rude ground service....   \n",
       "\n",
       "                                     cleaned_reviews  sentiment_score  \\\n",
       "0  not_verified overall journey want bad however ...        -0.150000   \n",
       "1  overall satisfied round staff member yvr extre...         0.101984   \n",
       "2  is always i fly of total shame i booked manche...         0.065556   \n",
       "3  first time using of business class pleased ser...         0.249320   \n",
       "4  not_verified extremely rude ground service he ...         0.139103   \n",
       "\n",
       "  sentiment_label  \n",
       "0        negative  \n",
       "1        positive  \n",
       "2         neutral  \n",
       "3        positive  \n",
       "4        positive  "
      ]
     },
     "execution_count": 27,
     "metadata": {},
     "output_type": "execute_result"
    }
   ],
   "source": [
    "# Display the first few rows of the dataset\n",
    "df.head()"
   ]
  },
  {
   "cell_type": "code",
   "execution_count": 28,
   "metadata": {},
   "outputs": [
    {
     "data": {
      "text/html": [
       "<div>\n",
       "<style scoped>\n",
       "    .dataframe tbody tr th:only-of-type {\n",
       "        vertical-align: middle;\n",
       "    }\n",
       "\n",
       "    .dataframe tbody tr th {\n",
       "        vertical-align: top;\n",
       "    }\n",
       "\n",
       "    .dataframe thead th {\n",
       "        text-align: right;\n",
       "    }\n",
       "</style>\n",
       "<table border=\"1\" class=\"dataframe\">\n",
       "  <thead>\n",
       "    <tr style=\"text-align: right;\">\n",
       "      <th></th>\n",
       "      <th>sentiment_score</th>\n",
       "    </tr>\n",
       "  </thead>\n",
       "  <tbody>\n",
       "    <tr>\n",
       "      <th>count</th>\n",
       "      <td>1000.000000</td>\n",
       "    </tr>\n",
       "    <tr>\n",
       "      <th>mean</th>\n",
       "      <td>0.078539</td>\n",
       "    </tr>\n",
       "    <tr>\n",
       "      <th>std</th>\n",
       "      <td>0.203835</td>\n",
       "    </tr>\n",
       "    <tr>\n",
       "      <th>min</th>\n",
       "      <td>-0.850000</td>\n",
       "    </tr>\n",
       "    <tr>\n",
       "      <th>25%</th>\n",
       "      <td>-0.041392</td>\n",
       "    </tr>\n",
       "    <tr>\n",
       "      <th>50%</th>\n",
       "      <td>0.063639</td>\n",
       "    </tr>\n",
       "    <tr>\n",
       "      <th>75%</th>\n",
       "      <td>0.195549</td>\n",
       "    </tr>\n",
       "    <tr>\n",
       "      <th>max</th>\n",
       "      <td>0.875000</td>\n",
       "    </tr>\n",
       "  </tbody>\n",
       "</table>\n",
       "</div>"
      ],
      "text/plain": [
       "       sentiment_score\n",
       "count      1000.000000\n",
       "mean          0.078539\n",
       "std           0.203835\n",
       "min          -0.850000\n",
       "25%          -0.041392\n",
       "50%           0.063639\n",
       "75%           0.195549\n",
       "max           0.875000"
      ]
     },
     "execution_count": 28,
     "metadata": {},
     "output_type": "execute_result"
    }
   ],
   "source": [
    "# Display summary statistics\n",
    "df.describe()"
   ]
  },
  {
   "cell_type": "code",
   "execution_count": 31,
   "metadata": {},
   "outputs": [
    {
     "data": {
      "image/png": "[encoded data removed]",
      "text/plain": [
       "<Figure size 800x600 with 1 Axes>"
      ]
     },
     "metadata": {},
     "output_type": "display_data"
    },
    {
     "name": "stderr",
     "output_type": "stream",
     "text": [
      "C:\\ProgramData\\anaconda3\\Lib\\site-packages\\seaborn\\_oldcore.py:1498: FutureWarning: is_categorical_dtype is deprecated and will be removed in a future version. Use isinstance(dtype, CategoricalDtype) instead\n",
      "  if pd.api.types.is_categorical_dtype(vector):\n",
      "C:\\ProgramData\\anaconda3\\Lib\\site-packages\\seaborn\\_oldcore.py:1119: FutureWarning: use_inf_as_na option is deprecated and will be removed in a future version. Convert inf values to NaN before operating instead.\n",
      "  with pd.option_context('mode.use_inf_as_na', True):\n"
     ]
    },
    {
     "data": {
      "image/png": "[encoded data removed]",
      "text/plain": [
       "<Figure size 1000x600 with 1 Axes>"
      ]
     },
     "metadata": {},
     "output_type": "display_data"
    }
   ],
   "source": [
    "import matplotlib.pyplot as plt\n",
    "import seaborn as sns\n",
    "\n",
    "# Assuming df is your DataFrame with sentiment labels\n",
    "# df = pd.read_csv(\"your_data_with_sentiment.csv\")\n",
    "\n",
    "# Display a pie chart for sentiment distribution\n",
    "plt.figure(figsize=(8, 6))\n",
    "df['sentiment_label'].value_counts().plot.pie(autopct='%1.1f%%', colors=['lightgreen', 'lightcoral', 'lightblue'])\n",
    "plt.title('Sentiment Distribution')\n",
    "plt.show()\n",
    "\n",
    "# Display a bar chart for sentiment scores\n",
    "plt.figure(figsize=(10, 6))\n",
    "sns.histplot(df['sentiment_score'], bins=20, kde=True, color='skyblue')\n",
    "plt.title('Distribution of Sentiment Scores')\n",
    "plt.xlabel('Sentiment Score')\n",
    "plt.ylabel('Frequency')\n",
    "plt.show()"
   ]
  },
  {
   "cell_type": "code",
   "execution_count": 33,
   "metadata": {},
   "outputs": [
    {
     "data": {
      "text/plain": [
       "count    1000.000000\n",
       "mean        0.078539\n",
       "std         0.203835\n",
       "min        -0.850000\n",
       "25%        -0.041392\n",
       "50%         0.063639\n",
       "75%         0.195549\n",
       "max         0.875000\n",
       "Name: sentiment_score, dtype: float64"
      ]
     },
     "execution_count": 33,
     "metadata": {},
     "output_type": "execute_result"
    }
   ],
   "source": [
    "# Display descriptive statistics\n",
    "df['sentiment_score'].describe()"
   ]
  },
  {
   "cell_type": "code",
   "execution_count": 34,
   "metadata": {},
   "outputs": [
    {
     "data": {
      "text/plain": [
       "sentiment_label\n",
       "positive    425\n",
       "neutral     422\n",
       "negative    153\n",
       "Name: count, dtype: int64"
      ]
     },
     "execution_count": 34,
     "metadata": {},
     "output_type": "execute_result"
    }
   ],
   "source": [
    "# Display count of each sentiment label\n",
    "df['sentiment_label'].value_counts()"
   ]
  },
  {
   "cell_type": "code",
   "execution_count": 41,
   "metadata": {},
   "outputs": [
    {
     "data": {
      "text/html": [
       "<div>\n",
       "<style scoped>\n",
       "    .dataframe tbody tr th:only-of-type {\n",
       "        vertical-align: middle;\n",
       "    }\n",
       "\n",
       "    .dataframe tbody tr th {\n",
       "        vertical-align: top;\n",
       "    }\n",
       "\n",
       "    .dataframe thead th {\n",
       "        text-align: right;\n",
       "    }\n",
       "</style>\n",
       "<table border=\"1\" class=\"dataframe\">\n",
       "  <thead>\n",
       "    <tr style=\"text-align: right;\">\n",
       "      <th></th>\n",
       "      <th>reviews</th>\n",
       "      <th>sentiment_score</th>\n",
       "      <th>fine_tuned_label</th>\n",
       "    </tr>\n",
       "  </thead>\n",
       "  <tbody>\n",
       "    <tr>\n",
       "      <th>0</th>\n",
       "      <td>Not Verified | Overall journey wasn’t bad howe...</td>\n",
       "      <td>-0.150000</td>\n",
       "      <td>negative</td>\n",
       "    </tr>\n",
       "    <tr>\n",
       "      <th>1</th>\n",
       "      <td>✅ Trip Verified |  Overall very satisfied. Gro...</td>\n",
       "      <td>0.101984</td>\n",
       "      <td>positive</td>\n",
       "    </tr>\n",
       "    <tr>\n",
       "      <th>2</th>\n",
       "      <td>✅ Trip Verified |  As always when I fly BA it ...</td>\n",
       "      <td>0.065556</td>\n",
       "      <td>positive</td>\n",
       "    </tr>\n",
       "    <tr>\n",
       "      <th>3</th>\n",
       "      <td>✅ Trip Verified |  First time using BA busines...</td>\n",
       "      <td>0.249320</td>\n",
       "      <td>positive</td>\n",
       "    </tr>\n",
       "    <tr>\n",
       "      <th>4</th>\n",
       "      <td>Not Verified |  Extremely rude ground service....</td>\n",
       "      <td>0.139103</td>\n",
       "      <td>positive</td>\n",
       "    </tr>\n",
       "  </tbody>\n",
       "</table>\n",
       "</div>"
      ],
      "text/plain": [
       "                                             reviews  sentiment_score  \\\n",
       "0  Not Verified | Overall journey wasn’t bad howe...        -0.150000   \n",
       "1  ✅ Trip Verified |  Overall very satisfied. Gro...         0.101984   \n",
       "2  ✅ Trip Verified |  As always when I fly BA it ...         0.065556   \n",
       "3  ✅ Trip Verified |  First time using BA busines...         0.249320   \n",
       "4  Not Verified |  Extremely rude ground service....         0.139103   \n",
       "\n",
       "  fine_tuned_label  \n",
       "0         negative  \n",
       "1         positive  \n",
       "2         positive  \n",
       "3         positive  \n",
       "4         positive  "
      ]
     },
     "execution_count": 41,
     "metadata": {},
     "output_type": "execute_result"
    }
   ],
   "source": [
    "# Fine-tune the threshold\n",
    "new_threshold = 0.05\n",
    "\n",
    "# Create a new column 'fine_tuned_label' based on the new threshold\n",
    "df['fine_tuned_label'] = df['sentiment_score'].apply(lambda score: 'positive' if score > new_threshold else 'negative' if score < -new_threshold else 'neutral')\n",
    "\n",
    "# Display the DataFrame with the fine-tuned labels\n",
    "df[['reviews', 'sentiment_score', 'fine_tuned_label']].head()\n"
   ]
  },
  {
   "cell_type": "code",
   "execution_count": 43,
   "metadata": {},
   "outputs": [
    {
     "name": "stderr",
     "output_type": "stream",
     "text": [
      "C:\\ProgramData\\anaconda3\\Lib\\site-packages\\seaborn\\_oldcore.py:1498: FutureWarning: is_categorical_dtype is deprecated and will be removed in a future version. Use isinstance(dtype, CategoricalDtype) instead\n",
      "  if pd.api.types.is_categorical_dtype(vector):\n",
      "C:\\ProgramData\\anaconda3\\Lib\\site-packages\\seaborn\\_oldcore.py:1119: FutureWarning: use_inf_as_na option is deprecated and will be removed in a future version. Convert inf values to NaN before operating instead.\n",
      "  with pd.option_context('mode.use_inf_as_na', True):\n"
     ]
    },
    {
     "data": {
      "image/png": "[encoded data removed]",
      "text/plain": [
       "<Figure size 640x480 with 1 Axes>"
      ]
     },
     "metadata": {},
     "output_type": "display_data"
    },
    {
     "name": "stdout",
     "output_type": "stream",
     "text": [
      "Sentiment Label Counts:\n",
      "sentiment_label\n",
      "positive    425\n",
      "neutral     422\n",
      "negative    153\n",
      "Name: count, dtype: int64\n",
      "\n",
      "Example Positive Review:\n",
      "✅ Trip Verified |  Overall very satisfied. Ground staff member at YVR was extremely helpful & courteous. A350 was only a few months old, so seats were in good order & comfortable by the standards of a modern day Y class seat, although the very small washroom was already starting to look a bit shabby. Cabin crew very friendly & professional, & meal service carried out at reasonable time in the flight. Choice of 2 options for the main meal which was the same for both legs of my journey 1 month apart. Flight departed on time but unfortunately upon landing at LHR we were unable to deplane for quite some time due to a staffing issue at LHR which so not the fault of the airline, and we were given frequent updates on the situation from the flight manager & the flight deck.\n",
      "\n",
      "Example Negative Review:\n",
      "Not Verified | Overall journey wasn’t bad however at the end, the baggage arrival nearly took 1.5 hours (more than actual flight time). Baggage of other flights arriving after had been delivered whereas the baggage staff on airport had no clue and information as to why baggage of this flight hasn’t arrived. They raised their hands saying they can’t do anything further. Poor communication and no customer facing skills.\n"
     ]
    }
   ],
   "source": [
    "import seaborn as sns\n",
    "import matplotlib.pyplot as plt\n",
    "\n",
    "# Assuming df is your DataFrame with sentiment scores\n",
    "# df = pd.read_csv(\"your_data_with_sentiment.csv\")\n",
    "\n",
    "# Visualize the distribution of sentiment scores\n",
    "sns.histplot(df['sentiment_score'], bins=20, kde=True, color='skyblue')\n",
    "plt.title('Distribution of Sentiment Scores')\n",
    "plt.xlabel('Sentiment Score')\n",
    "plt.ylabel('Frequency')\n",
    "plt.show()\n",
    "\n",
    "# Display the count of each sentiment label\n",
    "sentiment_counts = df['sentiment_label'].value_counts()\n",
    "print('Sentiment Label Counts:')\n",
    "print(sentiment_counts)\n",
    "\n",
    "# Explore patterns or trends in the data\n",
    "positive_reviews = df[df['sentiment_label'] == 'positive']['reviews']\n",
    "negative_reviews = df[df['sentiment_label'] == 'negative']['reviews']\n",
    "\n",
    "# Display example positive and negative reviews\n",
    "print('\\nExample Positive Review:')\n",
    "print(positive_reviews.iloc[0])\n",
    "\n",
    "print('\\nExample Negative Review:')\n",
    "print(negative_reviews.iloc[0])\n"
   ]
  },
  {
   "cell_type": "code",
   "execution_count": 49,
   "metadata": {},
   "outputs": [
    {
     "name": "stdout",
     "output_type": "stream",
     "text": [
      "Top words in positive reviews: [('flight', 1756), ('ba', 551), ('verified', 4345), ('trip', 4183), ('good', 1904), ('service', 3626), ('crew', 1173), ('food', 1780), ('time', 4104), ('london', 2465)]\n",
      "\n",
      "Top words in negative reviews: [('flight', 867), ('verified', 2192), ('ba', 258), ('trip', 2119), ('service', 1832), ('london', 1231), ('british', 341), ('airways', 156), ('airline', 149), ('hours', 1035)]\n"
     ]
    }
   ],
   "source": [
    "from sklearn.feature_extraction.text import CountVectorizer\n",
    "\n",
    "def get_top_words(reviews, n_top_words=10):\n",
    "    vectorizer = CountVectorizer(stop_words='english')\n",
    "    reviews_matrix = vectorizer.fit_transform(reviews)\n",
    "    \n",
    "    # Access feature names directly from the vocabulary\n",
    "    feature_names = vectorizer.vocabulary_\n",
    "\n",
    "    # Sort the feature names based on their frequencies\n",
    "    sorted_feature_names = sorted(feature_names.items(), key=lambda x: x[1])\n",
    "    \n",
    "    # Extract the top N words and their frequencies\n",
    "    top_words = sorted(sorted_feature_names, key=lambda x: reviews_matrix.sum(axis=0)[0, x[1]], reverse=True)[:n_top_words]\n",
    "\n",
    "    return top_words\n",
    "\n",
    "# Replace positive_reviews and negative_reviews with your actual data\n",
    "top_positive_words = get_top_words(positive_reviews)\n",
    "top_negative_words = get_top_words(negative_reviews)\n",
    "\n",
    "print('Top words in positive reviews:', top_positive_words)\n",
    "print('\\nTop words in negative reviews:', top_negative_words)\n"
   ]
  },
  {
   "cell_type": "code",
   "execution_count": 53,
   "metadata": {},
   "outputs": [
    {
     "name": "stdout",
     "output_type": "stream",
     "text": [
      "Accuracy: 1.0\n",
      "Classification Report:\n",
      "               precision    recall  f1-score   support\n",
      "\n",
      "    negative       1.00      1.00      1.00       153\n",
      "     neutral       1.00      1.00      1.00       422\n",
      "    positive       1.00      1.00      1.00       425\n",
      "\n",
      "    accuracy                           1.00      1000\n",
      "   macro avg       1.00      1.00      1.00      1000\n",
      "weighted avg       1.00      1.00      1.00      1000\n",
      "\n"
     ]
    }
   ],
   "source": [
    "# Assuming 'threshold' is the threshold for positive/negative classification\n",
    "def classify_sentiment(score, threshold):\n",
    "    if score is None:\n",
    "        return 'unknown'  # Handle None values\n",
    "    elif score > threshold:\n",
    "        return 'positive'\n",
    "    elif score < -threshold:\n",
    "        return 'negative'\n",
    "    else:\n",
    "        return 'neutral'\n",
    "\n",
    "# Apply sentiment classification to the updated model\n",
    "df['updated_sentiment_label'] = df['sentiment_score'].apply(lambda score: classify_sentiment(score, threshold))\n",
    "\n",
    "# Evaluate performance metrics for the updated model\n",
    "from sklearn.metrics import accuracy_score, classification_report\n",
    "\n",
    "# Filter out rows with 'unknown' sentiment labels\n",
    "filtered_df = df[df['updated_sentiment_label'] != 'unknown']\n",
    "\n",
    "accuracy = accuracy_score(filtered_df['sentiment_label'], filtered_df['updated_sentiment_label'])\n",
    "classification_rep = classification_report(filtered_df['sentiment_label'], filtered_df['updated_sentiment_label'])\n",
    "\n",
    "print(f\"Accuracy: {accuracy}\")\n",
    "print(\"Classification Report:\\n\", classification_rep)\n"
   ]
  },
  {
   "cell_type": "code",
   "execution_count": null,
   "metadata": {},
   "outputs": [],
   "source": []
  }
 ],
 "metadata": {
  "kernelspec": {
   "display_name": "Python 3 (ipykernel)",
   "language": "python",
   "name": "python3"
  },
  "language_info": {
   "codemirror_mode": {
    "name": "ipython",
    "version": 3
   },
   "file_extension": ".py",
   "mimetype": "text/x-python",
   "name": "python",
   "nbconvert_exporter": "python",
   "pygments_lexer": "ipython3",
   "version": "3.11.7"
  },
  "vscode": {
   "interpreter": {
    "hash": "4f7924c4c56b083e0e50eadfe7ef592a7a8ef70df33a0047f82280e6be1afe15"
   }
  }
 },
 "nbformat": 4,
 "nbformat_minor": 4
}
